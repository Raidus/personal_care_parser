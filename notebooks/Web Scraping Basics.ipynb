{
 "cells": [
  {
   "cell_type": "markdown",
   "metadata": {},
   "source": [
    "# Let's remind ourselves how web scraping works.\n",
    "\n",
    "## This series looks like a decent resource:\n",
    "https://www.scrapehero.com/a-beginners-guide-to-web-scraping-part-1-the-basics/\n",
    "The content isn't until part 2 though\n",
    "\n",
    "### Except I'm going to use [requests](https://3.python-requests.org/) library instead of urllib.\n",
    "So maybe this series is a better resource: https://www.digitalocean.com/community/tutorials/how-to-work-with-web-data-using-requests-and-beautiful-soup-with-python-3\n"
   ]
  },
  {
   "cell_type": "markdown",
   "metadata": {},
   "source": [
    "Let's start simple, with a single long-ass page of ingredients:\n",
    "https://www.vrg.org/ingredients/index.php\n",
    "\n",
    "This looks short enough that we can write these data into a csv or json file directly.\n",
    "Then we can import that into a database at a later time."
   ]
  },
  {
   "cell_type": "code",
   "execution_count": null,
   "metadata": {},
   "outputs": [],
   "source": [
    "import requests"
   ]
  },
  {
   "cell_type": "code",
   "execution_count": 1,
   "metadata": {},
   "outputs": [],
   "source": [
    "from bs4 import BeautifulSoup"
   ]
  },
  {
   "cell_type": "code",
   "execution_count": 2,
   "metadata": {},
   "outputs": [],
   "source": [
    "import re\n",
    "import pandas as pd"
   ]
  },
  {
   "cell_type": "code",
   "execution_count": 202,
   "metadata": {},
   "outputs": [],
   "source": [
    "from typing import List, Dict"
   ]
  },
  {
   "cell_type": "code",
   "execution_count": 20,
   "metadata": {},
   "outputs": [],
   "source": [
    "url = 'http://www.vrg.org/ingredients'"
   ]
  },
  {
   "cell_type": "code",
   "execution_count": 21,
   "metadata": {},
   "outputs": [],
   "source": [
    "r = requests.get(url)"
   ]
  },
  {
   "cell_type": "code",
   "execution_count": 22,
   "metadata": {},
   "outputs": [
    {
     "data": {
      "text/plain": [
       "406"
      ]
     },
     "execution_count": 22,
     "metadata": {},
     "output_type": "execute_result"
    }
   ],
   "source": [
    "r.status_code"
   ]
  },
  {
   "cell_type": "code",
   "execution_count": 11,
   "metadata": {},
   "outputs": [
    {
     "data": {
      "text/plain": [
       "<Response [406]>"
      ]
     },
     "execution_count": 11,
     "metadata": {},
     "output_type": "execute_result"
    }
   ],
   "source": [
    "r"
   ]
  },
  {
   "cell_type": "code",
   "execution_count": 12,
   "metadata": {},
   "outputs": [
    {
     "data": {
      "text/plain": [
       "'The server has found a resource matching the Request-URI, but not one that satisfies the conditions identified by the Accept and Accept-Encoding request headers. Unless it was a HEAD request, the response should include an entity containing a list of resource characteristics and locations from which the user or user agent can choose the one most appropriate. The entity format is specified by the media type given in the Content-Type header field. Depending upon the format and the capabilities of the user agent, selection of the most appropriate choice may be performed automatically.'"
      ]
     },
     "execution_count": 12,
     "metadata": {},
     "output_type": "execute_result"
    }
   ],
   "source": [
    "# Oh. Umm... let's look that up\n",
    "\"The server has found a resource matching the Request-URI, but not one that satisfies the conditions identified by the Accept and Accept-Encoding request headers. Unless it was a HEAD request, the response should include an entity containing a list of resource characteristics and locations from which the user or user agent can choose the one most appropriate. The entity format is specified by the media type given in the Content-Type header field. Depending upon the format and the capabilities of the user agent, selection of the most appropriate choice may be performed automatically.\"\n"
   ]
  },
  {
   "cell_type": "markdown",
   "metadata": {},
   "source": [
    "Found [this stack overflow post](https://stackoverflow.com/questions/38624561/error-in-open-connectionx-rb-http-error-406)\n",
    "\n",
    "If we use curl and specify the user-agent, we should be able to move forward"
   ]
  },
  {
   "cell_type": "code",
   "execution_count": 40,
   "metadata": {},
   "outputs": [],
   "source": [
    "# Okay, this is an issue with the user-agent.\n",
    "# I'll copy the info from my web browser and see if that works."
   ]
  },
  {
   "cell_type": "code",
   "execution_count": 31,
   "metadata": {},
   "outputs": [],
   "source": [
    "r = requests.get('https://www.vrg.org/ingredients/index.php', \n",
    "                 headers={'user-agent': \"Mozilla/5.0 (Macintosh; Intel Mac OS X 10_14_6) AppleWebKit/537.36 (KHTML, like Gecko) Chrome/77.0.3865.120 Safari/537.36\"})\n"
   ]
  },
  {
   "cell_type": "code",
   "execution_count": 32,
   "metadata": {},
   "outputs": [
    {
     "data": {
      "text/plain": [
       "<Response [200]>"
      ]
     },
     "execution_count": 32,
     "metadata": {},
     "output_type": "execute_result"
    }
   ],
   "source": [
    "r"
   ]
  },
  {
   "cell_type": "code",
   "execution_count": 33,
   "metadata": {},
   "outputs": [
    {
     "data": {
      "text/plain": [
       "200"
      ]
     },
     "execution_count": 33,
     "metadata": {},
     "output_type": "execute_result"
    }
   ],
   "source": [
    "r.status_code"
   ]
  },
  {
   "cell_type": "code",
   "execution_count": null,
   "metadata": {},
   "outputs": [],
   "source": [
    "# 200 means we have some data."
   ]
  },
  {
   "cell_type": "code",
   "execution_count": 35,
   "metadata": {},
   "outputs": [
    {
     "data": {
      "text/plain": [
       "348291"
      ]
     },
     "execution_count": 35,
     "metadata": {},
     "output_type": "execute_result"
    }
   ],
   "source": [
    "len(r.text)"
   ]
  },
  {
   "cell_type": "code",
   "execution_count": 41,
   "metadata": {},
   "outputs": [
    {
     "data": {
      "text/plain": [
       "'p>\\n\\n<p><b><i>More on Definitions</i></b><br />\\nIt is a tedious undertaking to classify the sources of food ingredients for these five reasons:</p>\\n<ol>\\n\\n<li>Ingredients can be composed of multiple parts where each part may be derived from a different source. The common preservative, sodium benzoate, is an example. It contains both mineral (sodium) and synthetic (benzoate) parts. In these cases, both (or all, if more than two are present) sources are listed.</li>\\n\\n<li>Processing aids, used during the commercial processing of an ingredient, may be unknown or vary from manufacturer to manufacturer. A common example is cattle bone char used to decolorize cane sugar. Consumers can inquire about processing aids when in doubt. In many cases, manufacturers do not have to list processing aids on food labels. Only careful research may reveal their presence. Manufacturers may call them &quot;proprietary.&quot;</li>\\n\\n<li>&quot;<i>Synthetic</i>&quot; ingredients may contain components derived from several different sources such as animal, plant, microbial, or mineral sources. In all cases, the word refers to something that has been created in a laboratory by a chemical process. Since most synthetic ingredients today derive ultimately from petrochemicals, which consist of both decayed plant and animal matter, all synthetics are technically of plant and animal origin. For the purposes of this <i>Guide</i>, synthetic ingredients, except those known to contain non-vegetarian substances as defined in the section above, are classified as vegan.</li>\\n\\n<li>Non-vegetarian or non-vegan aspects of vegetarian food production exist at the agricultural or transportation level, such as insects inadvertently killed during harvesting    or the use of manure or other animal-derived substances as fertilizer on fruit or vegetable crops. Now it is economically unfeasible given current agricultural practices for most companies to ensure that their foods were produced in a completely vegetarian manner'"
      ]
     },
     "execution_count": 41,
     "metadata": {},
     "output_type": "execute_result"
    }
   ],
   "source": [
    "# Let's look at a snippet of the full text\n",
    "r.text[10000:12000]"
   ]
  },
  {
   "cell_type": "code",
   "execution_count": 38,
   "metadata": {},
   "outputs": [],
   "source": [
    "# Now let's read this into Beautiful Soup"
   ]
  },
  {
   "cell_type": "code",
   "execution_count": 39,
   "metadata": {},
   "outputs": [],
   "source": [
    "soup = BeautifulSoup(r.text, 'html.parser')"
   ]
  },
  {
   "cell_type": "markdown",
   "metadata": {},
   "source": [
    "### Now let's go to the webpage and poke at the formatting and what tags we need to mark.\n",
    "Looking at the source, looks like the ingredients are stored under h2 tags.\n",
    "And sub-categories are stored in strong tags, with text for the ingredient following.\n",
    "Then finally in <em> tags, the vegan/vegetarian/not-vegetarian sourcing."
   ]
  },
  {
   "cell_type": "markdown",
   "metadata": {},
   "source": [
    "## Looking at this formatting, it actually makes more sense to write a manual parser for the text we're interested in!\n",
    "Because the data is all jumbled into one big page, it will be easier to parse just the ingredients section.\n",
    "Then we can read the data into a pandas dataframe, which we can use to output to a csv, or json, or whatever."
   ]
  },
  {
   "cell_type": "code",
   "execution_count": 55,
   "metadata": {},
   "outputs": [
    {
     "data": {
      "text/plain": [
       "{<strong>Additional Information:</strong>,\n",
       " <strong>Additional Information</strong>,\n",
       " <strong>Additional information:</strong>,\n",
       " <strong>Also known as:</strong>,\n",
       " <strong>Also known as</strong>,\n",
       " <strong>Also known</strong>,\n",
       " <strong>Alternate Names</strong>,\n",
       " <strong>Alternate names for dicalcium phosphate</strong>,\n",
       " <strong>Alternate names for monocalcium phosphate</strong>,\n",
       " <strong>Alternate names for tricalcium phosphate</strong>,\n",
       " <strong>Alternate names:</strong>,\n",
       " <strong>Alternate names</strong>,\n",
       " <strong>Alternative name</strong>,\n",
       " <strong>Alternative names</strong>,\n",
       " <strong>Commercial Source</strong>,\n",
       " <strong>Commercial Sources</strong>,\n",
       " <strong>Commercial source</strong>,\n",
       " <strong>Common Examples</strong>,\n",
       " <strong>Definition added:</strong>,\n",
       " <strong>Definition</strong>,\n",
       " <strong>Entry Added Updated</strong>,\n",
       " <strong>Entry Updated</strong>,\n",
       " <strong>Entry added</strong>,\n",
       " <strong>Entry updated</strong>,\n",
       " <strong>Example</strong>,\n",
       " <strong>Examples:</strong>,\n",
       " <strong>Examples</strong>,\n",
       " <strong>Exists in</strong>,\n",
       " <strong>Exists</strong>,\n",
       " <strong>Found in</strong>,\n",
       " <strong>Further information</strong>,\n",
       " <strong>Ingredients:</strong>,\n",
       " <strong>Major Manufacturer</strong>,\n",
       " <strong>Major Manufacturers</strong>,\n",
       " <strong>Manufacturers:</strong>,\n",
       " <strong>Manufacturers</strong>,\n",
       " <strong>More information:</strong>,\n",
       " <strong>Naturally present in</strong>,\n",
       " <strong>Naturally present</strong>,\n",
       " <strong>Related Articles</strong>,\n",
       " <strong>Summary by Category</strong>,\n",
       " <strong>Used as a</strong>,\n",
       " <strong>Used as</strong>,\n",
       " <strong>Used for</strong>,\n",
       " <strong>Used in</strong>,\n",
       " <strong>Used on</strong>}"
      ]
     },
     "execution_count": 55,
     "metadata": {},
     "output_type": "execute_result"
    }
   ],
   "source": [
    "# Let's use the strong tag to find all the sub-categories on the page\n",
    "set(soup.find_all('strong'))"
   ]
  },
  {
   "cell_type": "markdown",
   "metadata": {},
   "source": [
    "Oh...there are inconsistencies. That's to be expected of what appears to be an ongoing manual update process done by a poor non-profit. (Thank you interns!)\n",
    "There are few enough categories that we can classify these manually."
   ]
  },
  {
   "cell_type": "code",
   "execution_count": 269,
   "metadata": {},
   "outputs": [],
   "source": [
    "# Store both the column name we'll use, and the possible tags that will map to that column.\n",
    "\n",
    "strong_categories = {'additional_information': ['Additional Information:',\n",
    "                                                    'Additional Information',\n",
    "                                                    'Additional information:'],\n",
    "                  'also_known_as': ['Also known as:',\n",
    "                                                 'Also known as',\n",
    "                                                 'Also known'],\n",
    "                  'alternate_name': ['Alternate Names',\n",
    "                                                 'Alternate names for dicalcium phosphate',\n",
    "                                                 'Alternate names for tricalcium phosphate',\n",
    "                                                 'Alternate names:',\n",
    "                                                 'Alternate names',\n",
    "                                                 'Alternative name',\n",
    "                                                 'Alternative names'],\n",
    "                  'commercial_source': ['Commercial Source',\n",
    "                                                    'Commercial Sources',\n",
    "                                                    'Commercial source'],\n",
    "                  'common_example': ['Common Examples'],\n",
    "                  'definition': ['Definition'],\n",
    "                  'entry_updated': ['Definition added:',\n",
    "                                                'Entry Added Updated',\n",
    "                                                'Entry Updated',\n",
    "                                                'Entry added',\n",
    "                                                'Entry updated'],\n",
    "                  'example': ['Example',\n",
    "                                         'Examples:',\n",
    "                                         'Examples'],\n",
    "                  'exists_in': ['Exists in', 'Exists',\n",
    "                                           'Found in'],\n",
    "                  'manufacturer': ['Major Manufacturer', 'Major Manufacturers',\n",
    "                                              'Manufacturers:', 'Manufacturers'],\n",
    "                  'naturally_present_in': ['Naturally present in',\n",
    "                                                      'Naturally present'],\n",
    "                  'use': ['Used as a', 'Used as', 'Used for', 'Used in', 'Used on'],\n",
    "                  'more_information': ['More information:']\n",
    "                  }\n",
    "\n",
    "\n",
    " \n",
    "# \"<strong>Ingredients:</strong>\" & \"Further information\" was left out because it's not part of the run-down of ingredients\n",
    "# \"More information:\" links to other entries.\n",
    "\n",
    "                  \n",
    "# This may be better as a class than a dict...but now I'm committed.\n"
   ]
  },
  {
   "cell_type": "code",
   "execution_count": 270,
   "metadata": {},
   "outputs": [],
   "source": [
    "# And I totally read it into the wrong order\n",
    "\n",
    "strong_cat_inv ={}\n",
    "\n",
    "for k,v in strong_categories.items():\n",
    "    for list_item in v:\n",
    "        strong_cat_inv[list_item]=k\n",
    "\n"
   ]
  },
  {
   "cell_type": "code",
   "execution_count": 265,
   "metadata": {
    "scrolled": true
   },
   "outputs": [
    {
     "data": {
      "text/plain": [
       "{'Additional Information:': 'additional_information',\n",
       " 'Additional Information': 'additional_information',\n",
       " 'Additional information:': 'additional_information',\n",
       " 'Also known as:': 'also_known_as',\n",
       " 'Also known as': 'also_known_as',\n",
       " 'Also known': 'also_known_as',\n",
       " 'Alternate Names': 'alternate_name',\n",
       " 'Alternate names for dicalcium phosphate': 'alternate_name',\n",
       " 'Alternate names for tricalcium phosphate': 'alternate_name',\n",
       " 'Alternate names:': 'alternate_name',\n",
       " 'Alternate names': 'alternate_name',\n",
       " 'Alternative name': 'alternate_name',\n",
       " 'Alternative names': 'alternate_name',\n",
       " 'Commercial Source': 'commercial_source',\n",
       " 'Commercial Sources': 'commercial_source',\n",
       " 'Commercial source': 'commercial_source',\n",
       " 'Common Examples': 'common_example',\n",
       " 'Definition': 'definition',\n",
       " 'Definition added:': 'entry_updated',\n",
       " 'Entry Added Updated': 'entry_updated',\n",
       " 'Entry Updated': 'entry_updated',\n",
       " 'Entry added': 'entry_updated',\n",
       " 'Entry updated': 'entry_updated',\n",
       " 'Example': 'example',\n",
       " 'Examples:': 'example',\n",
       " 'Examples': 'example',\n",
       " 'Exists in': 'exists_in',\n",
       " 'Exists': 'exists_in',\n",
       " 'Found in': 'exists_in',\n",
       " 'Major Manufacturer': 'manufacturer',\n",
       " 'Major Manufacturers': 'manufacturer',\n",
       " 'Manufacturers:': 'manufacturer',\n",
       " 'Manufacturers': 'manufacturer',\n",
       " 'Naturally present in': 'naturally_present_in',\n",
       " 'Naturally present': 'naturally_present_in',\n",
       " 'Used as a': 'use',\n",
       " 'Used as': 'use',\n",
       " 'Used for': 'use',\n",
       " 'Used in': 'use',\n",
       " 'Used on': 'use',\n",
       " 'More information': 'more_information'}"
      ]
     },
     "execution_count": 265,
     "metadata": {},
     "output_type": "execute_result"
    }
   ],
   "source": [
    "strong_cat_inv"
   ]
  },
  {
   "cell_type": "code",
   "execution_count": null,
   "metadata": {},
   "outputs": [],
   "source": []
  },
  {
   "cell_type": "code",
   "execution_count": 56,
   "metadata": {
    "scrolled": false
   },
   "outputs": [
    {
     "data": {
      "text/plain": [
       "[<h2 id=\"acesulfamek\">acesulfame K</h2>,\n",
       " <h2 id=\"acetic_acid\">acetic acid</h2>,\n",
       " <h2 id=\"acidcasein\">acid casein</h2>,\n",
       " <h2 id=\"acidulant\">acidulant</h2>,\n",
       " <h2 id=\"acrylicacid\">acrylic acid</h2>,\n",
       " <h2 id=\"activatedcarbon\">activated carbon</h2>,\n",
       " <h2 id=\"adipicacid\">adipic acid</h2>,\n",
       " <h2 id=\"agar\">agar</h2>,\n",
       " <h2 id=\"agaragar\">agar-agar</h2>,\n",
       " <h2 id=\"alanine\">alanine</h2>]"
      ]
     },
     "execution_count": 56,
     "metadata": {},
     "output_type": "execute_result"
    }
   ],
   "source": [
    "soup.find_all('h2')[:10]"
   ]
  },
  {
   "cell_type": "code",
   "execution_count": 57,
   "metadata": {},
   "outputs": [
    {
     "data": {
      "text/plain": [
       "[<strong>Also known as</strong>,\n",
       " <strong>Commercial source</strong>,\n",
       " <strong>Used in</strong>,\n",
       " <strong>Definition</strong>,\n",
       " <strong>Commercial source</strong>,\n",
       " <strong>Exists in</strong>,\n",
       " <strong>Used in</strong>,\n",
       " <strong>Definition</strong>,\n",
       " <strong>Commercial source</strong>,\n",
       " <strong>Used in</strong>]"
      ]
     },
     "execution_count": 57,
     "metadata": {},
     "output_type": "execute_result"
    }
   ],
   "source": [
    "soup.find_all('strong')[:10]"
   ]
  },
  {
   "cell_type": "code",
   "execution_count": 58,
   "metadata": {},
   "outputs": [
    {
     "data": {
      "text/plain": [
       "[<em>Vegan</em>,\n",
       " <em>Vegan</em>,\n",
       " <em>Vegetarian</em>,\n",
       " <em>Typically Vegetarian</em>,\n",
       " <em>Vegan</em>,\n",
       " <em>May be Non-Vegetarian</em>,\n",
       " <em>May be Non-Vegetarian</em>,\n",
       " <em>Vegan</em>,\n",
       " <em>Typically Vegetarian</em>,\n",
       " <em>Vegetarian</em>]"
      ]
     },
     "execution_count": 58,
     "metadata": {},
     "output_type": "execute_result"
    }
   ],
   "source": [
    "soup.find_all('em')[:10]"
   ]
  },
  {
   "cell_type": "code",
   "execution_count": null,
   "metadata": {},
   "outputs": [],
   "source": [
    "# Categories, from the source of the webpage\n",
    "<li><a href=\"#vegetarian\">Vegetarian</a></li>\n",
    "<li><a href=\"#vegan\"><span class=\"ingredient\">Vegan</span></a></li>\n",
    "<li><a href=\"#non_vegetarian\"><span class=\"ingredient\">Non-Vegetarian</span></a></li>\n",
    "<li><a href=\"#typically_vegetarian\"><span class=\"ingredient\">Typically Vegetarian</span></a></li>\n",
    "<li><a href=\"#typically_vegan\"><span class=\"ingredient\">Typically Vegan</span></a></li>\n",
    "<li><a href=\"#maybe_non_vegetarian\"><span class=\"ingredient\">May be Non-Vegetarian</span></a></li>\n",
    "<li><a href=\"#typically_non_vegetarian\"><span class=\"ingredient\">Typically Non-Vegetarian</span></a></li>\n",
    "</ul>"
   ]
  },
  {
   "cell_type": "code",
   "execution_count": null,
   "metadata": {},
   "outputs": [],
   "source": []
  },
  {
   "cell_type": "code",
   "execution_count": 59,
   "metadata": {},
   "outputs": [
    {
     "data": {
      "text/plain": [
       "20607"
      ]
     },
     "execution_count": 59,
     "metadata": {},
     "output_type": "execute_result"
    }
   ],
   "source": [
    "# Okay, so we need to pull out just the text we're interested in.\n",
    "r.text.find('<h2 id=\"acesulfamek\"')"
   ]
  },
  {
   "cell_type": "code",
   "execution_count": 71,
   "metadata": {},
   "outputs": [
    {
     "data": {
      "text/plain": [
       "250240"
      ]
     },
     "execution_count": 71,
     "metadata": {},
     "output_type": "execute_result"
    }
   ],
   "source": [
    "r.text.find('Additional information about zein:')"
   ]
  },
  {
   "cell_type": "code",
   "execution_count": 130,
   "metadata": {},
   "outputs": [
    {
     "data": {
      "text/plain": [
       "'\\n\\n\\n\\n\\t\\t\\t<h2 id=\"acesulfamek\">acesulfame&nbsp;K</h2>\\n\\t\\t\\t<strong>Also known as</strong>: acesulfame pot'"
      ]
     },
     "execution_count": 130,
     "metadata": {},
     "output_type": "execute_result"
    }
   ],
   "source": [
    "r.text[20600:20700]"
   ]
  },
  {
   "cell_type": "code",
   "execution_count": 73,
   "metadata": {},
   "outputs": [
    {
     "data": {
      "text/plain": [
       "'Additional information about z'"
      ]
     },
     "execution_count": 73,
     "metadata": {},
     "output_type": "execute_result"
    }
   ],
   "source": [
    "r.text[250240:250270]"
   ]
  },
  {
   "cell_type": "code",
   "execution_count": 137,
   "metadata": {},
   "outputs": [],
   "source": [
    "raw_html = r.text[20607:250241]"
   ]
  },
  {
   "cell_type": "code",
   "execution_count": 140,
   "metadata": {},
   "outputs": [
    {
     "data": {
      "text/plain": [
       "'\\n<!--<em>Typically Vegan</em>-->\\n<br />\\n\\t\\t\\t<em>Typically Vegan</em>\\n<br />\\n\\t\\t\\t<strong>Entry added</strong>: August 2014<br />\\n<p class=\"smaller\">\\n<a href=\"#copyright\">Copyright Information</a></p>\\n<p><a href=\"#top\">top</a></p>\\n\\n\\t\\t\\t<h2 id=\"zein\">zein</h2>\\n\\t\\t\\t<strong>Commercial source</strong>: vegetable.<br />\\n\\t\\t\\t<strong>Used in</strong>: nuts, grain products, confections.<br />\\n\\t\\t\\t<strong>Definition</strong>: A corn protein which functions as a coating or glaze.<br />\\n\\t\\t\\t<em>Vegan</em>\\n\\n<br />\\nA'"
      ]
     },
     "execution_count": 140,
     "metadata": {},
     "output_type": "execute_result"
    }
   ],
   "source": [
    "raw_html[-500:]"
   ]
  },
  {
   "cell_type": "code",
   "execution_count": 160,
   "metadata": {},
   "outputs": [
    {
     "data": {
      "text/plain": [
       "229634"
      ]
     },
     "execution_count": 160,
     "metadata": {},
     "output_type": "execute_result"
    }
   ],
   "source": [
    "len(raw_html)"
   ]
  },
  {
   "cell_type": "markdown",
   "metadata": {},
   "source": [
    "### We'll now start to parse through the raw_html."
   ]
  },
  {
   "cell_type": "code",
   "execution_count": 169,
   "metadata": {},
   "outputs": [],
   "source": [
    "# Replace \\t with ''\n",
    "raw_html_2 = raw_html.replace('\\t', '')\n",
    "\n",
    "# Split on \\n into list\n",
    "text_list_1 = raw_html_2.split('\\n')"
   ]
  },
  {
   "cell_type": "code",
   "execution_count": 170,
   "metadata": {},
   "outputs": [
    {
     "data": {
      "text/plain": [
       "3681"
      ]
     },
     "execution_count": 170,
     "metadata": {},
     "output_type": "execute_result"
    }
   ],
   "source": [
    "len(text_list_1)"
   ]
  },
  {
   "cell_type": "code",
   "execution_count": 211,
   "metadata": {},
   "outputs": [
    {
     "data": {
      "text/plain": [
       "['<h2 id=\"acesulfamek\">acesulfame&nbsp;K</h2>',\n",
       " '<strong>Also known as</strong>: acesulfame potassium, Sunette.<br />',\n",
       " '<strong>Commercial source</strong>: synthetic<br />',\n",
       " '<strong>Used in</strong>: dry beverage mixes, canned fruit, chewing gum.<br />',\n",
       " '<strong>Definition</strong>: A low-calorie sweetener.<br />',\n",
       " '<em>Vegan</em>',\n",
       " '',\n",
       " '<p class=\"smaller\">',\n",
       " '<a href=\"#copyright\">Copyright Information</a></p>',\n",
       " '<p><a href=\"#top\">top</a></p>',\n",
       " '',\n",
       " '<h2 id=\"acetic_acid\">acetic&nbsp;acid</h2>',\n",
       " '<strong>Commercial source</strong>: vegetable<br />',\n",
       " '<strong>Exists in</strong>: many fruits and plants, in milk, and in synthetic form.<br />',\n",
       " '<strong>Used in</strong>: catsup, mayonnaise, and pickles.<br />',\n",
       " '<strong>Definition</strong>: Common preservative and flavoring agent which is the principal ingredient of vinegar.<br />',\n",
       " '<em>Vegan</em>',\n",
       " '',\n",
       " '<!--<p class=\"smaller\"><a href=\"#copyright\">Copyright Information</a></p>-->',\n",
       " '<p class=\"smaller\">',\n",
       " '<a href=\"#copyright\">Copyright Information</a></p>',\n",
       " '<p><a href=\"#top\">top</a></p>',\n",
       " '',\n",
       " '<h2 id=\"acidcasein\">acid&nbsp;casein</h2>',\n",
       " '<strong>Commercial source</strong>: animal (milk-derived).<br />',\n",
       " '<strong>Used in</strong>: cereal and bread fortification.<br />',\n",
       " '<strong>Definition</strong>: Principal protein in milk which has been treated with an acid.<br />',\n",
       " '<em>Vegetarian</em>',\n",
       " '',\n",
       " '<!--<p class=\"smaller\"><a href=\"#copyright\">Copyright Information</a></p>-->',\n",
       " '<p class=\"smaller\">',\n",
       " '<a href=\"#copyright\">Copyright Information</a></p>',\n",
       " '<p><a href=\"#top\">top</a></p>',\n",
       " '<h2 id=\"acidulant\">acidulant</h2>',\n",
       " '<strong>Commercial source</strong>: vegetable, mineral, or synthetic.<br />',\n",
       " '<strong>Examples</strong>: citric acid, lactic acid.<br />',\n",
       " '<strong>Used in</strong>: baked goods, beverages, dry mixes.<br />',\n",
       " '<strong>Definition</strong>: Acids used in processed foods as flavor enhancers or acidity regulators.<br />',\n",
       " '<em>Typically Vegetarian</em>',\n",
       " '',\n",
       " '<!--<p class=\"smaller\"><a href=\"#copyright\">Copyright Information</a></p>-->',\n",
       " '<p class=\"smaller\">',\n",
       " '<a href=\"#copyright\">Copyright Information</a></p>',\n",
       " '<p><a href=\"#top\">top</a></p>',\n",
       " '<h2 id=\"acrylicacid\">acrylic&nbsp;acid</h2>',\n",
       " '<strong>Also known as</strong>: acrylate-acrylamide resin.<br />',\n",
       " '<strong>Commercial source</strong>: synthetic.<br />',\n",
       " '<strong>Used in</strong>: produce coatings (such as waxes).<br />',\n",
       " '<strong>Definition</strong>: A petroleum-derived chemical used mainly to make plastics.<br />',\n",
       " '<em>Vegan</em>',\n",
       " '',\n",
       " '<!--<p class=\"smaller\"><a href=\"#copyright\">Copyright Information</a></p>-->',\n",
       " '<p class=\"smaller\">',\n",
       " '<a href=\"#copyright\">Copyright Information</a></p>',\n",
       " '<p><a href=\"#top\">top</a></p>',\n",
       " '',\n",
       " '<div class=\"buy2\">',\n",
       " '<!--',\n",
       " '<p class=\"center\"><b>Like it online?  <a href=\"/catalog/index.php?main_page=product_info&cPath=1&products_id=8\">Get it in print</a> for just $6!</b><br />  ',\n",
       " '-->',\n",
       " '<p class=\"center\">Your support allows us to continue this ingredient research and make updates as new information arises.  Please consider making a <a href=\"https://www.givedirect.org/give/givefrm.asp?CID=1565\">donation</a>.</p>',\n",
       " '</div><!-- end: buy -->',\n",
       " '',\n",
       " '',\n",
       " '<h2 id=\"activatedcarbon\">activated&nbsp;carbon</h2>',\n",
       " '<strong>Commercial source</strong>: vegetable (domestic production) or animal (cow bone-derived, foreign production).<br />',\n",
       " '<strong>Used in</strong>: sugar processing, water purification.<br />',\n",
       " '<strong>Definition</strong>: Carbon which can decolorize sugar and absorb impurities from the air and water.<br />',\n",
       " '<em>May be Non-Vegetarian</em>',\n",
       " '',\n",
       " '',\n",
       " '<!--<p class=\"smaller\"><a href=\"#copyright\">Copyright Information</a></p>-->',\n",
       " '<p class=\"smaller\">',\n",
       " '<a href=\"#copyright\">Copyright Information</a></p>',\n",
       " '<p><a href=\"#top\">top</a></p>',\n",
       " '',\n",
       " '<h2 id=\"adipicacid\">adipic&nbsp;acid</h2>',\n",
       " '<strong>Also known as</strong>: hexanedioic acid.<br />',\n",
       " '<strong>Commercial source</strong>: synthetic.<br />',\n",
       " '<strong>Exists in</strong>: some vegetables, such as beets.<br />',\n",
       " '<strong>Used in</strong>: artificial flavorings in baked goods, baking powder, condiments, dairy products, meat products, oils, margarine, relishes, snack foods, canned vegetables, beverages, gelatin desserts, confections.<br />',\n",
       " '<strong>Definition</strong>: An additive used in foods to impart a tart taste.<br />',\n",
       " '<em>May be Non-Vegetarian</em>',\n",
       " '<br /><br /><u>Product information</u>: DuPont Chemicals, a manufacturer of adipic acid, reports that oleic acid derived from animal fat is used as a defoaming agent in the production of adipic acid. The oleic acid is present in the final product at a few parts per million. An alternative to this part of the process is thought to be possible but there are no plans to use it.',\n",
       " '',\n",
       " '<!--<p class=\"smaller\"><a href=\"#copyright\">Copyright Information</a></p>-->',\n",
       " '<p class=\"smaller\">',\n",
       " '<a href=\"#copyright\">Copyright Information</a></p>',\n",
       " '<p><a href=\"#top\">top</a></p>',\n",
       " '',\n",
       " '<h2 id=\"agar\">agar</h2>',\n",
       " '<strong>Also known as</strong>: Japanese isinglass.<br />',\n",
       " '<strong>Commercial source</strong>: vegetable.<br />',\n",
       " '<strong>Used in</strong>: baked goods, ice cream, custard, meringue, and confections.<br />',\n",
       " '<strong>Definition</strong>: A vegetable gum obtained from seaweeds and used to thicken foods.<br />',\n",
       " '<em>Vegan</em>',\n",
       " '',\n",
       " '<!--<p class=\"smaller\"><a href=\"#copyright\">Copyright Information</a></p>-->',\n",
       " '<p class=\"smaller\">',\n",
       " '<a href=\"#copyright\">Copyright Information</a></p>',\n",
       " '<p><a href=\"#top\">top</a></p>',\n",
       " '',\n",
       " '<h2 id=\"agaragar\">agar-agar</h2> ',\n",
       " 'See <a href=\"#agar\">agar</a>.',\n",
       " '',\n",
       " '<h2 id=\"alanine\">alanine</h2>',\n",
       " '<strong>Commercial source</strong>: bacterial, fungal, or synthetic.<br />',\n",
       " '<strong>Exists in</strong>: living organisms.<br />',\n",
       " '<strong>Used in</strong>: seasonings, dietary supplements.<br />',\n",
       " '<strong>Definition</strong>: An amino acid needed by humans which can be produced by the body.<br />',\n",
       " '<em>Typically Vegetarian</em>',\n",
       " '',\n",
       " '',\n",
       " '<!--<p class=\"smaller\"><a href=\"#copyright\">Copyright Information</a></p>-->',\n",
       " '<p class=\"smaller\">',\n",
       " '<a href=\"#copyright\">Copyright Information</a></p>',\n",
       " '<p><a href=\"#top\">top</a></p>',\n",
       " '',\n",
       " '<h2 id=\"albumen\">albumen</h2>',\n",
       " '<strong>Commercial source</strong>: animal (egg-derived).<br />',\n",
       " '<strong>Used in</strong>: pastries, baked goods.<br />',\n",
       " '<strong>Definition</strong>: The spelling for the form of albumin (a protein) which is present in commercial egg white.<br />',\n",
       " '<em>Vegetarian</em>',\n",
       " '',\n",
       " '<!--<p class=\"smaller\"><a href=\"#copyright\">Copyright Information</a></p>-->',\n",
       " '<p class=\"smaller\">',\n",
       " '<a href=\"#copyright\">Copyright Information</a></p>',\n",
       " '<p><a href=\"#top\">top</a></p>',\n",
       " '',\n",
       " '<div class=\"buy2\">',\n",
       " '<p class=\"center\"><b>Like it online?  <a href=\"/catalog/index.php?main_page=product_info&cPath=1&products_id=8\">Get it in print</a> for just $6!</b><br />  Your support allows us to continue this ingredient research and make updates as new information arises.  Please consider making a <a href=\"https://www.givedirect.org/give/givefrm.asp?CID=1565\">donation</a>.</p>',\n",
       " '</div><!-- end: buy -->',\n",
       " '',\n",
       " '',\n",
       " '',\n",
       " '<h2 id=\"albumin\">albumin</h2>',\n",
       " '<strong>Commercial source</strong>: animal (egg-, milk-, or blood-derived) or vegetable.<br />',\n",
       " '<strong>Examples</strong>: lactalbumin (milk); legumelin (peas).<br />',\n",
       " '<strong>Used in</strong>: pastries, baked goods, imitation sausage, soups, stews.<br />',\n",
       " '<strong>Definition</strong>: General term for a group of proteins which acts as binders in foods.<br />',\n",
       " '<em>Typically Vegetarian</em>',\n",
       " '<p class=\"smaller\">',\n",
       " '<a href=\"#copyright\">Copyright Information</a></p>',\n",
       " '<p><a href=\"#top\">top</a></p><h2 id=\"algin\">algin</h2>',\n",
       " '<strong>Commercial source</strong>: vegetable-mineral.<br />',\n",
       " '<strong>Used in</strong>: ice cream, icings, puddings, dessert gels, cheeses, soda water, and preserves.<br />',\n",
       " '<strong>Definition</strong>: The name for a class of vegetable gums obtained from seaweed and used to provide thickening in foods. Sodium alginate is the most common.<br />',\n",
       " '<em>Vegan</em>',\n",
       " '',\n",
       " '<p class=\"smaller\">',\n",
       " '<a href=\"#copyright\">Copyright Information</a></p>',\n",
       " '<p><a href=\"#top\">top</a></p>',\n",
       " '<h2 id=\"alginate\">alginate</h2> ',\n",
       " 'See <a href=\"#algin\">algin</a>.',\n",
       " '',\n",
       " '<h2 id=\"alginicacid\">alginic&nbsp;acid</h2>',\n",
       " '<strong>Commercial source</strong>: vegetable.<br />',\n",
       " '<strong>Used in</strong>: ice cream, beverages, salad dressing, cheese, cheese products, processed foods.<br />',\n",
       " '<strong>Definition</strong>: A derivative of seaweed used in many foods for its jelling and thickening properties.<br />',\n",
       " '<em>Vegan</em>',\n",
       " '',\n",
       " '<p class=\"smaller\">',\n",
       " '<a href=\"#copyright\">Copyright Information</a></p>',\n",
       " '<p><a href=\"#top\">top</a></p>',\n",
       " '<h2 id=\"alphatocopherol\">alpha tocopherol</h2> ',\n",
       " 'See <a href=\"#vitamin_e\">vitamin E</a>.',\n",
       " '',\n",
       " '<h2 id=\"alum\">alum</h2>',\n",
       " '<strong>Also known as</strong>: potash alum, aluminum ammonium, potassium sulfate.<br />',\n",
       " '<strong>Commercial source</strong>: mineral.<br />',\n",
       " '<strong>Definition</strong>: A general term for ingredients which contain aluminum.<br />',\n",
       " '<em>Vegan</em>',\n",
       " '',\n",
       " '<p class=\"smaller\">',\n",
       " '<a href=\"#copyright\">Copyright Information</a></p>',\n",
       " '<p><a href=\"#top\">top</a></p>',\n",
       " '<div class=\"buy2\">',\n",
       " '<p class=\"center\"><b>Like it online?  <a href=\"/catalog/index.php?main_page=product_info&cPath=1&products_id=8\">Get it in print</a> for just $6!</b><br />  Your support allows us to continue this ingredient research and make updates as new information arises.  Please consider making a <a href=\"https://www.givedirect.org/give/givefrm.asp?CID=1565\">donation</a>.</p>',\n",
       " '</div><!-- end: buy -->',\n",
       " '',\n",
       " '<h2 id=\"aminoacid\">amino&nbsp;acid</h2>',\n",
       " '<strong>Commercial source</strong>: animal (usually derived from domestic mammals and birds), vegetable, bacterial, fungal, synthetic. Certain amino acids have a typical source.  See individual amino acids for more information.<br />',\n",
       " '<strong>Examples</strong>: alanine, arginine, aspartic acid, cysteine, cystine, tyrosine.<br />',\n",
       " '<strong>Used in</strong>: baked goods, nutrient supplements.<br />',\n",
       " '<strong>Definition</strong>: The building blocks of proteins.<br />',\n",
       " '<em>Typically Vegetarian</em>',\n",
       " '',\n",
       " '<p class=\"smaller\">',\n",
       " '<a href=\"#copyright\">Copyright Information</a></p>',\n",
       " '<p><a href=\"#top\">top</a></p>',\n",
       " '',\n",
       " '<h2 id=\"amylase\">amylase</h2>',\n",
       " '<strong>Commercial source</strong>: bacterial, fungal, animal (pig-derived).<br />',\n",
       " '<strong>Used in</strong>: products containing sugars derived from corn, baked goods.<br />',\n",
       " '<strong>Definition</strong>: An enzyme which breaks down starch into a simpler form.<br />',\n",
       " '<em>Typically Vegan</em>',\n",
       " '',\n",
       " '<p class=\"smaller\">',\n",
       " '<a href=\"#copyright\">Copyright Information</a></p>',\n",
       " '<p><a href=\"#top\">top</a></p>',\n",
       " '',\n",
       " '<h2 id=\"annatto\">annatto</h2>',\n",
       " '<strong>Also known as</strong>: annatto extract, annatto seed, norbixin.<br />',\n",
       " '<strong>Commercial source</strong>: vegetable.<br />',\n",
       " '<strong>Used in</strong>: margarine, shortening, cheese, seasonings, sausage casings.<br />',\n",
       " '<strong>Definition</strong>: A natural yellow-orange food coloring derived from a tree seed.<br />',\n",
       " '<em>Vegan</em>',\n",
       " '',\n",
       " '<p class=\"smaller\">',\n",
       " '<a href=\"#copyright\">Copyright Information</a></p>',\n",
       " '<p><a href=\"#top\">top</a></p><h2 id=\"anticakingagent\">anticaking&nbsp;agent</h2>',\n",
       " '<strong>Also known as</strong>: free-flow agent, flow aid<br />',\n",
       " '<strong>Commercial source</strong>: mineral, synthetic, vegetable (cellulose, rice)<br />',\n",
       " '<strong>Examples</strong>: silicon dioxide, dimethylpolysiloxane, sodium aluminosilicate, tri-calcium phosphate, calcium stearate, magnesium stearate, cellulose, rice concentrate/extract, sodium ferrocyanide, propylene glycol<br />',\n",
       " '<strong>Used in</strong>: dry mixes (soup, seasoning, cake, pizza, bread and beverage), spices, salt, flour, sugar, shredded cheese, powdered egg, yeast production.<br />',\n",
       " '<strong>Used for</strong>: preventing ingredients from clumping together by absorbing moisture or oils/fats or by sealing ingredients against either water or oil<br />',\n",
       " '<strong>Definition</strong>: As a general class of ingredients, there are many anti-caking agents mostly of mineral or synthetic (i.e., petrochemical) origin. They keep food ingredients free-flowing.<br />',\n",
       " '<em>Vegan</em>',\n",
       " '',\n",
       " '<br /><b>Manufacturers</b>',\n",
       " '<ul class=\"mfg-links\">',\n",
       " '<li><a href=\"http://www.acme-hardesty.com/product/calcium-stearate/\">http://www.acme-hardesty.com/product/calcium-stearate/</a></li>',\n",
       " '',\n",
       " '<li><a href=\"http://www.brenntagnortheast.com/en/pages/Products/Complete_List/index.html#C\">http://www.brenntagnortheast.com/en/pages/Products/Complete_List/index.html#C</a></li>',\n",
       " '',\n",
       " '<li><a href=\"http://www.brenntagspecialties.com/en/pages/Markets_IndustriesServed/Food/Stearates/index.html\">http://www.brenntagspecialties.com/en/pages/Markets_IndustriesServed/Food/Stearates/index.html</a></li>',\n",
       " '',\n",
       " '<li><a href=\"http://www.hubermaterials.com/products/silica-and-silicates/carriers-and-flow-aids.aspx\">http://www.hubermaterials.com/products/silica-and-silicates/carriers-and-flow-aids.aspx</a></li>',\n",
       " '',\n",
       " '<li><a href=\"http://www.ribus.com/nu-flow\">http://www.ribus.com/nu-flow</a></li>',\n",
       " '',\n",
       " '<li><a href=\"http://www.ribus.com/nu-flow\">http://www.peter-greven.de/en/food-additives/</a> &ldquo;OurLIGAFOOD&reg; [stearate] ',\n",
       " 'products are produced on the basis of purely vegetable raw materials.&rdquo;</li>',\n",
       " '</ul>',\n",
       " '',\n",
       " '<p>For a discussion on stearates in dry yeast production (starting with ',\n",
       " 'Example 1 in &ldquo;Materials and Methods&rdquo;):</p>',\n",
       " '',\n",
       " '<p><a href=\"https://www.google.com/patents/EP1499197A2?cl=en\">http://www.google.com/patents/EP1499197A2?cl=en</a></p>',\n",
       " '<br /><b>Entry updated</b>: April 2015',\n",
       " '<br /><i>Vegan</i>',\n",
       " '',\n",
       " '',\n",
       " '<p class=\"smaller\">',\n",
       " '<a href=\"#copyright\">Copyright Information</a></p>',\n",
       " '<p><a href=\"#top\">top</a></p>',\n",
       " '<div class=\"buy2\">',\n",
       " '<p class=\"center\"><b>Like it online?  <a href=\"/catalog/index.php?main_page=product_info&cPath=1&products_id=8\">Get it in print</a> for just $6!</b><br />  Your support allows us to continue this ingredient research and make updates as new information arises.  Please consider making a <a href=\"https://www.givedirect.org/give/givefrm.asp?CID=1565\">donation</a>.</p>',\n",
       " '</div><!-- end: buy -->',\n",
       " '',\n",
       " '<h2 id=\"antioxidant\">antioxidant</h2>',\n",
       " '<strong>Commercial source</strong>: Typically vegetable or synthetic.<br />',\n",
       " '<strong>Exists in</strong>: foods containing vitamin C and vitamin E<br />',\n",
       " '<strong>Examples</strong>: BHA, BHT, vitamin E, vitamin C.<br />',\n",
       " '<strong>Used in</strong>: vegetable oils, potato chips, cereals, dehydrated potatoes.<br />',\n",
       " '<strong>Definition</strong>: A class of additives which prevents fats and oils from going bad. A second class of antioxidants prevents cut fruit and vegetables from turning brown.<br />',\n",
       " '<em>Typically Vegetarian</em>',\n",
       " '',\n",
       " '<p class=\"smaller\">',\n",
       " '<a href=\"#copyright\">Copyright Information</a></p>',\n",
       " '<p><a href=\"#top\">top</a></p>',\n",
       " '<h2 id=\"arabic\">arabic</h2>',\n",
       " '<strong>Also known as</strong>: acacia, acacia vera, gum arabic, catechu, Egyptian thorn.<br />',\n",
       " '<strong>Commercial source</strong>: vegetable.<br />',\n",
       " '<strong>Used in</strong>: confections and beverages.<br />',\n",
       " '<strong>Definition</strong>: A vegetable gum with many functions such as thickening foods.<br />',\n",
       " '<em>Vegan</em>',\n",
       " '',\n",
       " '<p class=\"smaller\">',\n",
       " '<a href=\"#copyright\">Copyright Information</a></p>',\n",
       " '<p><a href=\"#top\">top</a></p>',\n",
       " '<h2 id=\"arginine\">arginine</h2>',\n",
       " '<strong>Commercial source</strong>: Typically vegetable.<br />',\n",
       " '<strong>Exists in</strong>: living organisms.<br />',\n",
       " '<strong>Used in</strong>: nutritional supplements.<br />',\n",
       " '<strong>Definition</strong>: An amino acid needed by humans which can be produced by the body.<br />',\n",
       " '<em>Typically Vegetarian</em>',\n",
       " '',\n",
       " '<p class=\"smaller\">',\n",
       " '<a href=\"#copyright\">Copyright Information</a></p>',\n",
       " '<p><a href=\"#top\">top</a></p>',\n",
       " '<h2 id=\"artificialcoloring\">artificial&nbsp;coloring</h2>',\n",
       " '<strong>Commercial source</strong>: Typically synthetic. Artificial coloring may be derived from vegetable or animal (insect) sources.<br />',\n",
       " '<strong>Examples</strong>: FD&C Blue #2, FD&C Red #40.<br />',\n",
       " '<strong>Used in</strong>: dry mixes, confections, beverages, candy, ice cream, margarine, meat, meat products, butter, cheese, baked goods, gelatin desserts, cereal, pasta.<br />',\n",
       " '<strong>Definition</strong>: An additive, not duplicated in nature, which gives color to foods.<br />',\n",
       " '<em>Typically Vegan</em>',\n",
       " '',\n",
       " '<p class=\"smaller\">',\n",
       " '<a href=\"#copyright\">Copyright Information</a></p>',\n",
       " '<p><a href=\"#top\">top</a></p>',\n",
       " '<div class=\"buy2\">',\n",
       " '<p class=\"center\"><b>Like it online?  <a href=\"/catalog/index.php?main_page=product_info&cPath=1&products_id=8\">Get it in print</a> for just $6!</b><br />  Your support allows us to continue this ingredient research and make updates as new information arises.  Please consider making a <a href=\"https://www.givedirect.org/give/givefrm.asp?CID=1565\">donation</a>.</p>',\n",
       " '</div><!-- end: buy -->',\n",
       " '',\n",
       " '<h2 id=\"artificialflavor\">artificial&nbsp;flavor</h2>',\n",
       " '<strong>Commercial source</strong>: Typically synthetic. Artificial flavor may be derived from vegetable or animal sources.<br />',\n",
       " '<strong>Example</strong>: vanillin.<br />',\n",
       " '<strong>Used in</strong>: processed foods, beverages, cereal, salad dressing, baked goods.<br />',\n",
       " '<strong>Definition</strong>: The most common type of food additive which is used to replace or supplement real, more expensive flavors.  They contain all or some substances which are not found naturally in the food or beverage to which it is added.<br />',\n",
       " '<em>Typically Vegetarian</em>',\n",
       " '',\n",
       " '<p class=\"smaller\">',\n",
       " '<a href=\"#copyright\">Copyright Information</a></p>',\n",
       " '<p><a href=\"#top\">top</a></p>',\n",
       " '<h2 id=\"ascorbicacid\">ascorbic acid</h2> ',\n",
       " 'See <a href=\"#vitamin_c\">vitamin C</a>.',\n",
       " '',\n",
       " '<h2 id=\"aspartame\"><a href=\"/blog/2013/12/11/%E2%80%9Cno-pig-kidney-enzyme-in-aspartame%E2%80%9D-state-major-manufacturers/\">aspartame</a></h2> ',\n",
       " '<strong>Also known as</strong>: Nutrasweet, Equal.<br />',\n",
       " '<strong>Commercial source</strong>: synthetic.<br />',\n",
       " '<strong>Used in</strong>: soft drinks, breakfast cereals, desserts, chewing gum.<br />',\n",
       " '<strong>Definition</strong>: An artificial sweetener.<br />',\n",
       " '<em>Vegan</em>',\n",
       " '',\n",
       " '<p class=\"smaller\">',\n",
       " '<a href=\"#copyright\">Copyright Information</a></p>',\n",
       " '<p><a href=\"#top\">top</a></p>',\n",
       " '<h2 id=\"asparticacid\">aspartic&nbsp;acid</h2>',\n",
       " '<strong>Commercial source</strong>: TTypically bacterial or fungal.<br />',\n",
       " '<strong>Exists in</strong>: living organisms.<br />',\n",
       " '<strong>Used in</strong>: aspartame, the synthetic sweetener.<br />',\n",
       " '<strong>Definition</strong>: An amino acid needed by humans which can be produced by the body.<br />',\n",
       " '<em>Typically Vegetarian</em>',\n",
       " '',\n",
       " '<p class=\"smaller\">',\n",
       " '<a href=\"#copyright\">Copyright Information</a></p>',\n",
       " '<p><a href=\"#top\">top</a></p>',\n",
       " '<h2 id=\"autolyzed_yeast\">autolyzed&nbsp;yeast&nbsp;extract</h2>',\n",
       " '<strong>Also known as</strong>: yeast autolyzates.<br />',\n",
       " '<strong>Commercial source</strong>: fungal.<br />',\n",
       " '<strong>Used in</strong>: flavor enhancer, nutrient.<br />',\n",
       " '<strong>Definition</strong>: An extract from yeast which provides a &ldquo;meaty&rdquo; flavor to foods.<br />',\n",
       " '<em>Vegan</em>',\n",
       " '',\n",
       " '<br /><br /><u>Product information</u>: There are no aspects of the manufacturing process in which substances of animal or animal-derived origin are used, according to FIDCO Inc., a manufacturer of this ingredient.',\n",
       " '<!--<p class=\"smaller\"><a href=\"#copyright\">Copyright Information</a></p>-->',\n",
       " '<p class=\"smaller\">',\n",
       " '<a href=\"#copyright\">Copyright Information</a></p>',\n",
       " '<p><a href=\"#top\">top</a></p>',\n",
       " '<div class=\"buy2\">',\n",
       " '<p class=\"center\"><b>Like it online?  <a href=\"/catalog/index.php?main_page=product_info&cPath=1&products_id=8\">Get it in print</a> for just $6!</b><br />  Your support allows us to continue this ingredient research and make updates as new information arises.  Please consider making a <a href=\"https://www.givedirect.org/give/givefrm.asp?CID=1565\">donation</a>.</p>',\n",
       " '</div><!-- end: buy -->',\n",
       " '',\n",
       " '<h2 id=\"bakingpowder\">baking powder</h2>',\n",
       " '<strong>Commercial source</strong>: mineral-vegetable.<br />',\n",
       " '<strong>Used in</strong>: baked goods.<br />',\n",
       " '<strong>Definition</strong>: A powder used as a yeast substitute in baking.<br />',\n",
       " '<em>Vegan</em>',\n",
       " '',\n",
       " '<p class=\"smaller\">',\n",
       " '<a href=\"#copyright\">Copyright Information</a></p>',\n",
       " '<p><a href=\"#top\">top</a></p>',\n",
       " '<h2 id=\"bakingsoda\">baking soda</h2> ',\n",
       " 'See <a href=\"#sodium_bicarbonate\">sodium bicarbonate</a>.',\n",
       " '',\n",
       " '',\n",
       " '<h2 id=\"beeswax\">beeswax</h2>',\n",
       " '<strong>Commercial source</strong>: animal (insect).<br />',\n",
       " '<strong>Used in</strong>: confections, chewing gum, fruit and honey flavorings for beverages, ice cream, baked goods, and honey.<br />',\n",
       " '<strong>Definition</strong>: A bee secretion used to form the beehive and used as a sweetener.<br />',\n",
       " '<em>Vegetarian</em>',\n",
       " '',\n",
       " '<p class=\"smaller\">',\n",
       " '<a href=\"#copyright\">Copyright Information</a></p>',\n",
       " '<p><a href=\"#top\">top</a></p>',\n",
       " '<h2 id=\"beetsugar\">beet sugar</h2>',\n",
       " 'See <a href=\"#refined_beet_sugar\">refined beet sugar</a>',\n",
       " '',\n",
       " '<h2 id=\"bentonite\">bentonite</h2>',\n",
       " '<strong>Commercial source</strong>: mineral.<br />',\n",
       " '<strong>Used in</strong>: wine, vinegar.<br />',\n",
       " '<strong>Definition</strong>: A type of clay used as a filter to make liquids clear.<br />',\n",
       " '<em>Vegan</em>',\n",
       " '',\n",
       " '<p class=\"smaller\">',\n",
       " '<a href=\"#copyright\">Copyright Information</a></p>',\n",
       " '<p><a href=\"#top\">top</a></p>',\n",
       " '<h2 id=\"benzoylperoxide\">benzoyl peroxide</h2>',\n",
       " '<strong>Commercial source</strong>: synthetic-mineral.<br />',\n",
       " '<strong>Used in</strong>: flour, blue cheese, Gorgonzola cheese, oil, fat, milk, styrofoam cups.<br />',\n",
       " '<strong>Definition</strong>: A food additive with several non-food uses as well (in fiberglass, cosmetics).<br />',\n",
       " '<em>Vegan</em>',\n",
       " '',\n",
       " '<p class=\"smaller\">',\n",
       " '<a href=\"#copyright\">Copyright Information</a></p>',\n",
       " '<p><a href=\"#top\">top</a></p>',\n",
       " '',\n",
       " '<div class=\"buy2\">',\n",
       " '<p class=\"center\"><b>Like it online?  <a href=\"/catalog/index.php?main_page=product_info&cPath=1&products_id=8\">Get it in print</a> for just $6!</b><br />  Your support allows us to continue this ingredient research and make updates as new information arises.  Please consider making a <a href=\"https://www.givedirect.org/give/givefrm.asp?CID=1565\">donation</a>.</p>',\n",
       " '</div><!-- end: buy -->',\n",
       " '',\n",
       " '',\n",
       " '<h2 id=\"beta-carotene\">beta-carotene</h2>',\n",
       " '<strong>Also known as</strong>: Provitamin A.<br />',\n",
       " '<strong>Commercial source</strong>: primarily vegetable or synthetic.<br />',\n",
       " '<strong>Exists in</strong>: many animals, in egg yolk, in many fruits and vegetables, especially orange and yellow ones.<br />',\n",
       " '<strong>Used in</strong>: ice cream, cheese, other dairy products, beverages, cereals, vegetable oils, confections, rice.<br />',\n",
       " '<strong>Definition</strong>: A common food colorant which prevents oxygen from changing a food&apos;s color or flavor.<br />',\n",
       " '<em>Typically Vegetarian</em>',\n",
       " '',\n",
       " '<p class=\"smaller\">',\n",
       " '<a href=\"#copyright\">Copyright Information</a></p>',\n",
       " '<p><a href=\"#top\">top</a></p>',\n",
       " '<h2 id=\"BHA\">BHA</h2> ',\n",
       " 'See <a href=\"#butylated_hydroxyanisole\">butylated hydroxyanisole</a>.',\n",
       " '',\n",
       " '<h2 id=\"BHT\">BHT</h2> ',\n",
       " 'See <a href=\"#butylated_hydroxytoluene\">butylated hydroxytoluene</a>.',\n",
       " '',\n",
       " '<h2 id=\"bioflavinoids\">bioflavinoids</h2>',\n",
       " '<strong>Also known as</strong>: hesperidin, rutin, vitamin P complex.<br />',\n",
       " '<strong>Commercial source</strong>: vegetable.<br />',\n",
       " '<strong>Definition</strong>: Natural substances which help maintain cardiovascular health and are commonly found in citrus fruits.<br />',\n",
       " '<em>Vegan</em>',\n",
       " '',\n",
       " '<p class=\"smaller\">',\n",
       " '<a href=\"#copyright\">Copyright Information</a></p>',\n",
       " '<p><a href=\"#top\">top</a></p>',\n",
       " '<h2 id=\"biotin\">biotin</h2>',\n",
       " '<strong>Also known as</strong>: vitamin B factor.<br />',\n",
       " '<strong>Commercial source</strong>: Typically bacterial.<br />',\n",
       " '<strong>Exists in</strong>: liver, kidney, molasses, yeast, milk, egg yolk, nuts, vegetables, grains.<br />',\n",
       " '<strong>Used as</strong>: food fortifier, dietary supplement.<br />',\n",
       " '<strong>Definition</strong>: B vitamin which is necessary for human health.<br />',\n",
       " '<em>Typically Vegetarian</em>',\n",
       " '',\n",
       " '<p class=\"smaller\">',\n",
       " '<a href=\"#copyright\">Copyright Information</a></p>',\n",
       " '<p><a href=\"#top\">top</a></p>',\n",
       " '',\n",
       " '<div class=\"buy2\">',\n",
       " '<p class=\"center\"><b>Like it online?  <a href=\"/catalog/index.php?main_page=product_info&cPath=1&products_id=8\">Get it in print</a> for just $6!</b><br />  Your support allows us to continue this ingredient research and make updates as new information arises.  Please consider making a <a href=\"https://www.givedirect.org/give/givefrm.asp?CID=1565\">donation</a>.</p>',\n",
       " '</div><!-- end: buy -->',\n",
       " '',\n",
       " '',\n",
       " '<h2 id=\"brewers-yeast\">Brewer\\'s yeast</h2>',\n",
       " '<strong>Commercial source</strong>: fungal.<br />',\n",
       " '<strong>Used in</strong>: nutritional supplements.<br />',\n",
       " '<strong>Definition</strong>: A yeast product which is rich in vitamins, especially B vitamins.<br />',\n",
       " '<em>Vegan</em>',\n",
       " '',\n",
       " '<p class=\"smaller\">',\n",
       " '<a href=\"#copyright\">Copyright Information</a></p>',\n",
       " '<p><a href=\"#top\">top</a></p>',\n",
       " '<h2 id=\"bromelain\">bromelain</h2>',\n",
       " '<strong>Also known as</strong>: bromelin.<br />',\n",
       " '<strong>Commercial source</strong>: vegetable.<br />',\n",
       " '<strong>Used as</strong>: tenderizer.<br />',\n",
       " '<strong>Definition</strong>: An enzyme extracted from pineapple.<br />',\n",
       " '<em>Vegan</em>',\n",
       " '',\n",
       " '<p class=\"smaller\">',\n",
       " '<a href=\"#copyright\">Copyright Information</a></p>',\n",
       " '<p><a href=\"#top\">top</a></p>',\n",
       " '<h2 id=\"butylated_hydroxyanisole\">butylated&nbsp;hydroxyanisole</h2>',\n",
       " '<strong>Also known as</strong>: BHA.<br />',\n",
       " '<strong>Commercial source</strong>: synthetic.<br />',\n",
       " '<strong>Used in</strong>: cereals, vegetable oil, confectionary products, rice, beverages, ice cream, baked goods, chewing gum, gelatin desserts, potato flakes, dry yeast, dry mixes, lard, shortening, unsmoked dry sausage.<br />',\n",
       " '<strong>Definition</strong>: A common food additive which prevents foods from changing their color or flavor.<br />',\n",
       " '<em>Vegan</em>',\n",
       " '',\n",
       " '<p class=\"smaller\">',\n",
       " '<a href=\"#copyright\">Copyright Information</a></p>',\n",
       " '<p><a href=\"#top\">top</a></p>',\n",
       " '<h2 id=\"butylated_hydroxytoluene\">butylated&nbsp;hydroxytoluene</h2>',\n",
       " '<strong>Also known as</strong>: BHT.<br />',\n",
       " '<strong>Commercial source</strong>: synthetic.<br />',\n",
       " '<strong>Used in</strong>: chewing gum base, potato flakes, dry breakfast cereals, shortenings, enriched rice.<br />',\n",
       " '<strong>Definition</strong>: A common food additive which keeps food from changing their color or flavor.<br />',\n",
       " '<em>Vegan</em>',\n",
       " '',\n",
       " '<p class=\"smaller\">',\n",
       " '<a href=\"#copyright\">Copyright Information</a></p>',\n",
       " '<p><a href=\"#top\">top</a></p>',\n",
       " '',\n",
       " '<div class=\"buy2\">',\n",
       " '<p class=\"center\"><b>Like it online?  <a href=\"/catalog/index.php?main_page=product_info&cPath=1&products_id=8\">Get it in print</a> for just $6!</b><br />  Your support allows us to continue this ingredient research and make updates as new information arises.  Please consider making a <a href=\"https://www.givedirect.org/give/givefrm.asp?CID=1565\">donation</a>.</p>',\n",
       " '</div><!-- end: buy -->',\n",
       " '',\n",
       " '',\n",
       " '<h2 id=\"butyric_acid\">butyric&nbsp;acid</h2>',\n",
       " '<strong>Also known as</strong>: <i>n</i>-butyric acid, butanoic acid.<br />',\n",
       " '<strong>Commercial source</strong>: synthetic or vegetable.<br />',\n",
       " '<strong>Exists in</strong>: several fruits and vegetables such as apples and strawberries, butter.<br />',\n",
       " '<strong>Used in</strong>: artificial flavorings (including butter, butterscotch, caramel, fruit, cheese, and nut flavorings), ice cream, candy, baked goods, puddings, chewing gum, margarine, soy-milk type drinks.<br />',\n",
       " '<strong>Definition</strong>: A preservative which is commonly used as a starting material in the manufacture of other food ingredients.<br />',\n",
       " '<em>Vegan</em>',\n",
       " '<br /><br /><u>Product information</u>: Penta Manufacturing Co., a manufacturer of this ingredient, reports that butyric acid is produced through a fermentation process.  Hoechst Celanese Chemical Group, another manufacturer, reports that their method of producing butyric acid is synthetic, starting with petrochemicals.',\n",
       " '<!--<p class=\"smaller\"><a href=\"#copyright\">Copyright Information</a></p>-->',\n",
       " '<p class=\"smaller\">',\n",
       " '<a href=\"#copyright\">Copyright Information</a></p>',\n",
       " '<p><a href=\"#top\">top</a></p>',\n",
       " '',\n",
       " '<h2 id=\"calcium_carbonate\">calcium&nbsp;carbonate</h2>',\n",
       " '<strong>Commercial source</strong>: mineral.<br />',\n",
       " '<strong>Used in</strong>: antacid tablets, vitamin supplements, toothpaste, confections, wine.<br />',\n",
       " '<strong>Definition</strong>: A substance which is used to make acidic foods less acidic. May be used as a source of calcium or a mild abrasive.<br />',\n",
       " '<em>Vegan</em>',\n",
       " '']"
      ]
     },
     "execution_count": 211,
     "metadata": {},
     "output_type": "execute_result"
    }
   ],
   "source": [
    "text_list_1[:500]"
   ]
  },
  {
   "cell_type": "code",
   "execution_count": 165,
   "metadata": {},
   "outputs": [
    {
     "data": {
      "text/plain": [
       "acesulfame K"
      ]
     },
     "execution_count": 165,
     "metadata": {},
     "output_type": "execute_result"
    }
   ],
   "source": [
    "BeautifulSoup('acesulfame&nbsp;K', 'html.parser')"
   ]
  },
  {
   "cell_type": "code",
   "execution_count": null,
   "metadata": {},
   "outputs": [],
   "source": [
    "# Let's write a quick function to parse this list, and we'll iterate through.\n",
    "# Let's write this out into a csv file.\n",
    "# USe strong_cat_inv to map the <strong> entries\n",
    "\n",
    "# Hmm, there's a \"Production Infomration\" section as well.\n",
    "\n",
    "def parse_line(s: str):\n",
    "    if s.startswith('<h2'):\n",
    "        # READ BETWEEN > and <\n",
    "        # grabs all between and including > & < in the string\n",
    "        # Use group(0) since each line should only have one group\n",
    "        # Use [1:-1] to get rid of the > & <\n",
    "        ingredient = re.search('>.+<', s).group(0)[1:-1]\n",
    "        \n",
    "    elif s.startswith('<strong>'):\n",
    "        # REad between > and <\n",
    "        strong_category = re.search('strong>.+</strong', s).group(0)[1:-1]\n",
    "        strong_value = re.search('>:.+<', s).group(0)[2:-1]\n",
    "        # Look up the category name to assign to column\n",
    "        strong_cat_name = strong_cat_inv['strong_category']\n",
    "\n",
    "    elif s.startswith('<em>'):\n",
    "        v_category = re.search('>.+<', s).group(0)[1:-1]"
   ]
  },
  {
   "cell_type": "code",
   "execution_count": null,
   "metadata": {},
   "outputs": [],
   "source": []
  },
  {
   "cell_type": "code",
   "execution_count": null,
   "metadata": {},
   "outputs": [],
   "source": [
    "# Hmm... we don't just want to go line by line. \n",
    "# We want to go from the <h2> line with the ingredient\n",
    "# Then read in the other things\n",
    "# And stop when we see <p class=\"smaller\">\n",
    "\n",
    "# We could try... building up a dictionary?\n",
    "# key = h2 ingredient name, values are the different categories?\n",
    "# Or...one dictionary, with name as \n",
    "# \n",
    "# Keep track of ingredient name as we go."
   ]
  },
  {
   "cell_type": "code",
   "execution_count": 233,
   "metadata": {},
   "outputs": [],
   "source": [
    "# def parse_text(text_list: List):\n",
    "#     d = {}\n",
    "#     for line in text_list:\n",
    "#         if line.startswith('<h2'):\n",
    "#             ingredient = re.search('>.+<', line).group(0)[1:-1]\n",
    "            \n",
    "#         elif line.startswith('<strong>'):\n",
    "#             # REad between > and <\n",
    "#             strong_category = re.search('>.+</', line).group(0)[1:-2]\n",
    "#             print(f\"{strong_category}\")\n",
    "#             strong_value = re.search('>:.+<', line).group(0)[2:-1]\n",
    "#             # Look up the category name to assign to column\n",
    "#             strong_cat_name = strong_cat_inv[strong_category]\n",
    "            \n",
    "#             d[ingredient] = {strong_cat_name: strong_value}\n",
    "\n",
    "#         elif line.startswith('<em>'):\n",
    "#             v_category = re.search('>.+<', line).group(0)[1:-1]\n",
    "#             d[ingredient] = {'veg_category': v_category}\n",
    "            \n",
    "#         elif line.startswith('<br /><br /><u>Product information'):\n",
    "#             d[ingredient] = {'product_information': line.split('</u>: ')[1]}\n",
    "            \n",
    "#     return d"
   ]
  },
  {
   "cell_type": "code",
   "execution_count": 234,
   "metadata": {
    "collapsed": true
   },
   "outputs": [
    {
     "name": "stdout",
     "output_type": "stream",
     "text": [
      "Also known as\n",
      "Commercial source\n",
      "Used in\n",
      "Definition\n",
      "Commercial source\n",
      "Exists in\n",
      "Used in\n",
      "Definition\n",
      "Commercial source\n",
      "Used in\n",
      "Definition\n",
      "Commercial source\n",
      "Examples\n",
      "Used in\n",
      "Definition\n",
      "Also known as\n",
      "Commercial source\n",
      "Used in\n",
      "Definition\n",
      "Commercial source\n",
      "Used in\n",
      "Definition\n",
      "Also known as\n",
      "Commercial source\n",
      "Exists in\n",
      "Used in\n",
      "Definition\n",
      "Also known as\n",
      "Commercial source\n",
      "Used in\n",
      "Definition\n",
      "Commercial source\n",
      "Exists in\n",
      "Used in\n",
      "Definition\n",
      "Commercial source\n",
      "Used in\n",
      "Definition\n",
      "Commercial source\n",
      "Examples\n",
      "Used in\n",
      "Definition\n",
      "Commercial source\n",
      "Used in\n",
      "Definition\n",
      "Commercial source\n",
      "Used in\n",
      "Definition\n",
      "Also known as\n",
      "Commercial source\n",
      "Definition\n",
      "Commercial source\n",
      "Examples\n",
      "Used in\n",
      "Definition\n",
      "Commercial source\n",
      "Used in\n",
      "Definition\n",
      "Also known as\n",
      "Commercial source\n",
      "Used in\n",
      "Definition\n",
      "Also known as\n",
      "Commercial source\n",
      "Examples\n",
      "Used in\n",
      "Used for\n",
      "Definition\n",
      "Commercial source\n",
      "Exists in\n",
      "Examples\n",
      "Used in\n",
      "Definition\n",
      "Also known as\n",
      "Commercial source\n",
      "Used in\n",
      "Definition\n",
      "Commercial source\n",
      "Exists in\n",
      "Used in\n",
      "Definition\n",
      "Commercial source\n",
      "Examples\n",
      "Used in\n",
      "Definition\n",
      "Commercial source\n",
      "Example\n",
      "Used in\n",
      "Definition\n",
      "Also known as\n",
      "Commercial source\n",
      "Used in\n",
      "Definition\n",
      "Commercial source\n",
      "Exists in\n",
      "Used in\n",
      "Definition\n",
      "Also known as\n",
      "Commercial source\n",
      "Used in\n",
      "Definition\n",
      "Commercial source\n",
      "Used in\n",
      "Definition\n",
      "Commercial source\n",
      "Used in\n",
      "Definition\n",
      "Commercial source\n",
      "Used in\n",
      "Definition\n",
      "Commercial source\n",
      "Used in\n",
      "Definition\n",
      "Also known as\n",
      "Commercial source\n",
      "Exists in\n",
      "Used in\n",
      "Definition\n",
      "Also known as\n",
      "Commercial source\n",
      "Definition\n",
      "Also known as\n",
      "Commercial source\n",
      "Exists in\n",
      "Used as\n",
      "Definition\n",
      "Commercial source\n",
      "Used in\n",
      "Definition\n",
      "Also known as\n",
      "Commercial source\n",
      "Used as\n",
      "Definition\n",
      "Also known as\n",
      "Commercial source\n",
      "Used in\n",
      "Definition\n",
      "Also known as\n",
      "Commercial source\n",
      "Used in\n",
      "Definition\n",
      "Also known as</strong>: <i>n\n"
     ]
    },
    {
     "ename": "KeyError",
     "evalue": "'Also known as</strong>: <i>n'",
     "output_type": "error",
     "traceback": [
      "\u001b[0;31m---------------------------------------------------------------------------\u001b[0m",
      "\u001b[0;31mKeyError\u001b[0m                                  Traceback (most recent call last)",
      "\u001b[0;32m<ipython-input-234-e3f81349188d>\u001b[0m in \u001b[0;36m<module>\u001b[0;34m\u001b[0m\n\u001b[1;32m      1\u001b[0m \u001b[0;31m# Dictionary of INGredients\u001b[0m\u001b[0;34m\u001b[0m\u001b[0;34m\u001b[0m\u001b[0;34m\u001b[0m\u001b[0m\n\u001b[0;32m----> 2\u001b[0;31m \u001b[0mding\u001b[0m \u001b[0;34m=\u001b[0m \u001b[0mparse_text\u001b[0m\u001b[0;34m(\u001b[0m\u001b[0mtext_list_1\u001b[0m\u001b[0;34m)\u001b[0m\u001b[0;34m\u001b[0m\u001b[0;34m\u001b[0m\u001b[0m\n\u001b[0m",
      "\u001b[0;32m<ipython-input-233-6c4fb1ed51ec>\u001b[0m in \u001b[0;36mparse_text\u001b[0;34m(text_list)\u001b[0m\n\u001b[1;32m     11\u001b[0m             \u001b[0mstrong_value\u001b[0m \u001b[0;34m=\u001b[0m \u001b[0mre\u001b[0m\u001b[0;34m.\u001b[0m\u001b[0msearch\u001b[0m\u001b[0;34m(\u001b[0m\u001b[0;34m'>:.+<'\u001b[0m\u001b[0;34m,\u001b[0m \u001b[0mline\u001b[0m\u001b[0;34m)\u001b[0m\u001b[0;34m.\u001b[0m\u001b[0mgroup\u001b[0m\u001b[0;34m(\u001b[0m\u001b[0;36m0\u001b[0m\u001b[0;34m)\u001b[0m\u001b[0;34m[\u001b[0m\u001b[0;36m2\u001b[0m\u001b[0;34m:\u001b[0m\u001b[0;34m-\u001b[0m\u001b[0;36m1\u001b[0m\u001b[0;34m]\u001b[0m\u001b[0;34m\u001b[0m\u001b[0;34m\u001b[0m\u001b[0m\n\u001b[1;32m     12\u001b[0m             \u001b[0;31m# Look up the category name to assign to column\u001b[0m\u001b[0;34m\u001b[0m\u001b[0;34m\u001b[0m\u001b[0;34m\u001b[0m\u001b[0m\n\u001b[0;32m---> 13\u001b[0;31m             \u001b[0mstrong_cat_name\u001b[0m \u001b[0;34m=\u001b[0m \u001b[0mstrong_cat_inv\u001b[0m\u001b[0;34m[\u001b[0m\u001b[0mstrong_category\u001b[0m\u001b[0;34m]\u001b[0m\u001b[0;34m\u001b[0m\u001b[0;34m\u001b[0m\u001b[0m\n\u001b[0m\u001b[1;32m     14\u001b[0m \u001b[0;34m\u001b[0m\u001b[0m\n\u001b[1;32m     15\u001b[0m             \u001b[0md\u001b[0m\u001b[0;34m[\u001b[0m\u001b[0mingredient\u001b[0m\u001b[0;34m]\u001b[0m \u001b[0;34m=\u001b[0m \u001b[0;34m{\u001b[0m\u001b[0mstrong_cat_name\u001b[0m\u001b[0;34m:\u001b[0m \u001b[0mstrong_value\u001b[0m\u001b[0;34m}\u001b[0m\u001b[0;34m\u001b[0m\u001b[0;34m\u001b[0m\u001b[0m\n",
      "\u001b[0;31mKeyError\u001b[0m: 'Also known as</strong>: <i>n'"
     ]
    }
   ],
   "source": [
    "# Dictionary of INGredients\n",
    "ding = parse_text(text_list_1)"
   ]
  },
  {
   "cell_type": "code",
   "execution_count": 283,
   "metadata": {},
   "outputs": [],
   "source": [
    "text_list = text_list_1"
   ]
  },
  {
   "cell_type": "code",
   "execution_count": 284,
   "metadata": {},
   "outputs": [
    {
     "data": {
      "text/plain": [
       "3681"
      ]
     },
     "execution_count": 284,
     "metadata": {},
     "output_type": "execute_result"
    }
   ],
   "source": [
    "len(text_list)"
   ]
  },
  {
   "cell_type": "code",
   "execution_count": 314,
   "metadata": {
    "scrolled": true
   },
   "outputs": [
    {
     "name": "stdout",
     "output_type": "stream",
     "text": [
      "Skipping category for row 524\n",
      "Skipping category for row 567\n",
      "Skipping product info for entry 729\n",
      "Skipping category for row 1665\n",
      "Skipping category for row 2048\n",
      "Skipping category for row 2574\n"
     ]
    }
   ],
   "source": [
    "d = {}\n",
    "dd={}\n",
    "for i, line in enumerate(text_list):\n",
    "    if line.startswith('<h2'):\n",
    "        ing = re.search('>.+<', line).group(0)[1:-1]\n",
    "        ingredient = BeautifulSoup(ing, 'html.parser')\n",
    "        \n",
    "    elif line.startswith('<strong>'):\n",
    "        # Hmm, this doesn't seem to be working...I think it might be writing the dictionary?\n",
    "        try:\n",
    "            # REad between > and <\n",
    "            strong_category = re.search('strong>.+</strong', line).group(0)[7:-8]\n",
    "            # read the value of the category\n",
    "            strong_value = re.search('/strong>:.+<', line).group(0)[10:-1]\n",
    "            # Look up the category name to assign to column\n",
    "            strong_cat_name = strong_cat_inv[strong_category]\n",
    "#             print(strong_cat_name)\n",
    "            \n",
    "            # I thought this would work...?\n",
    "            d[ingredient] = {strong_cat_name: strong_value}\n",
    "        except:\n",
    "            print(f\"Skipping category for row {i}\")\n",
    "\n",
    "    elif line.startswith('<em>'):\n",
    "        v_category = re.search('>.+</', line).group(0)[1:-2]\n",
    "        d[ingredient] = {'veg_category': v_category}\n",
    "\n",
    "    elif line.startswith('<br /><br /><u>Product information'):\n",
    "        try:\n",
    "            d[ingredient] = {'product_information': line.split('</u>: ')[1]}\n",
    "        except:\n",
    "            print(f\"Skipping product info for entry {i}\")\n",
    "\n",
    "#     print(i)"
   ]
  },
  {
   "cell_type": "code",
   "execution_count": 313,
   "metadata": {},
   "outputs": [
    {
     "data": {
      "text/plain": [
       "{acesulfame K: {'veg_category': 'Vegan'},\n",
       " acetic acid: {'veg_category': 'Vegan'},\n",
       " acid casein: {'veg_category': 'Vegetarian'},\n",
       " acidulant: {'veg_category': 'Typically Vegetarian'},\n",
       " acrylic acid: {'veg_category': 'Vegan'},\n",
       " activated carbon: {'veg_category': 'May be Non-Vegetarian'},\n",
       " adipic acid: {'product_information': 'DuPont Chemicals, a manufacturer of adipic acid, reports that oleic acid derived from animal fat is used as a defoaming agent in the production of adipic acid. The oleic acid is present in the final product at a few parts per million. An alternative to this part of the process is thought to be possible but there are no plans to use it.'},\n",
       " agar: {'veg_category': 'Vegan'},\n",
       " alanine: {'veg_category': 'Typically Vegetarian'},\n",
       " albumen: {'veg_category': 'Vegetarian'},\n",
       " albumin: {'veg_category': 'Vegan'},\n",
       " alginic acid: {'veg_category': 'Vegan'},\n",
       " alum: {'veg_category': 'Vegan'},\n",
       " amino acid: {'veg_category': 'Typically Vegetarian'},\n",
       " amylase: {'veg_category': 'Typically Vegan'},\n",
       " annatto: {'veg_category': 'Vegan'},\n",
       " antioxidant: {'veg_category': 'Typically Vegetarian'},\n",
       " arabic: {'veg_category': 'Vegan'},\n",
       " arginine: {'veg_category': 'Typically Vegetarian'},\n",
       " artificial coloring: {'veg_category': 'Typically Vegan'},\n",
       " artificial flavor: {'veg_category': 'Typically Vegetarian'},\n",
       " <a href=\"/blog/2013/12/11/%E2%80%9Cno-pig-kidney-enzyme-in-aspartame%E2%80%9D-state-major-manufacturers/\">aspartame</a>: {'veg_category': 'Vegan'},\n",
       " aspartic acid: {'veg_category': 'Typically Vegetarian'},\n",
       " autolyzed yeast extract: {'product_information': 'There are no aspects of the manufacturing process in which substances of animal or animal-derived origin are used, according to FIDCO Inc., a manufacturer of this ingredient.'},\n",
       " baking powder: {'veg_category': 'Vegan'},\n",
       " beeswax: {'veg_category': 'Vegetarian'},\n",
       " bentonite: {'veg_category': 'Vegan'},\n",
       " benzoyl peroxide: {'veg_category': 'Vegan'},\n",
       " beta-carotene: {'veg_category': 'Typically Vegetarian'},\n",
       " bioflavinoids: {'veg_category': 'Vegan'},\n",
       " biotin: {'veg_category': 'Typically Vegetarian'},\n",
       " Brewer's yeast: {'veg_category': 'Vegan'},\n",
       " bromelain: {'veg_category': 'Vegan'},\n",
       " butylated hydroxyanisole: {'veg_category': 'Vegan'},\n",
       " butylated hydroxytoluene: {'veg_category': 'Vegan'},\n",
       " butyric acid: {'product_information': 'Penta Manufacturing Co., a manufacturer of this ingredient, reports that butyric acid is produced through a fermentation process.  Hoechst Celanese Chemical Group, another manufacturer, reports that their method of producing butyric acid is synthetic, starting with petrochemicals.'},\n",
       " calcium carbonate: {'veg_category': 'Vegan'},\n",
       " calcium caseinate: {'veg_category': 'Vegetarian'},\n",
       " calcium chloride: {'veg_category': 'Vegan'},\n",
       " calcium phosphates: {'veg_category': 'Vegan'},\n",
       " calcium propionate: {'veg_category': 'Vegan'},\n",
       " calcium stearate: {'veg_category': 'Typically Vegan'},\n",
       " calcium sulfate: {'veg_category': 'Vegan'},\n",
       " candelilla wax: {'veg_category': 'Vegan'},\n",
       " cane sugar: {'veg_category': 'May be Non-Vegetarian'},\n",
       " capric acid: {'veg_category': 'May be Non-Vegetarian'},\n",
       " caproic acid: {'veg_category': 'Typically Vegetarian'},\n",
       " caprylic acid: {'veg_category': 'Typically Vegetarian'},\n",
       " caramel color: {'product_information': 'Sethness Products Co., the world&apos;s largest caramel color producer, uses no animal-derived components in its manufacture of caramel color. Universal Flavors, another caramel color company, also said that they use no animal-derived ingredients in their product.'},\n",
       " carbohydrate: {'veg_category': 'Vegetarian'},\n",
       " carmine: {'veg_category': 'Non-Vegetarian'},\n",
       " carnauba wax: {'veg_category': 'Vegan'},\n",
       " carotenoid: {'product_information': 'Henkel Corp., a large manufacturer of carotenoids, uses the algae <i>D. selina</i> as its source.'},\n",
       " carrageenan: {'veg_category': 'Vegan'},\n",
       " casein: {'product_information': 'Because of its cost-prohibitive nature, casein is not produced in the United States.  Most of the U.S. supply comes from New Zealand, Ireland, and European countries.'},\n",
       " cellulose gum: {'veg_category': 'Vegan'},\n",
       " charcoal: {'veg_category': 'Vegan'},\n",
       " citric acid: {'product_information': 'Archer Daniels Midland Co., a manufacturer of citric acid, reports that they use hydrolyzed cornstarch and molasses as the carbohydrate sources to produce citric acid by microbial fermentation. Cargill, Inc., another manufacturer, reports using corn-derived dextrose.'},\n",
       " clarifying agent: {'veg_category': 'May be Non-Vegetarian'},\n",
       " cochineal: {'veg_category': 'Non-Vegetarian'},\n",
       " cocoa butter: {'veg_category': 'Vegan'},\n",
       " coenzyme: {'veg_category': 'Typically Vegetarian'},\n",
       " color: {'veg_category': 'Typically Vegetarian'},\n",
       " corn gluten: {'veg_category': 'Vegan'},\n",
       " cream of tartar: {'veg_category': 'Vegan'},\n",
       " cultured dextrose: {'veg_category': 'Typically Vegan'},\n",
       " curing agent: {'veg_category': 'Typically Vegetarian'},\n",
       " Defoaming agent: {'veg_category': '<strong>Definition added:'},\n",
       " DevanSweet: {'veg_category': 'Vegan'},\n",
       " dextrose: {'veg_category': 'Vegan'},\n",
       " diatomaceous earth: {'veg_category': 'Vegan'},\n",
       " diglyceride: {'veg_category': 'Typically Vegan'},\n",
       " disodium inosinate: {'veg_category': 'Typically Vegan'},\n",
       " distillation: {'veg_category': 'Vegan'},\n",
       " distilled vinegar: {'veg_category': 'Vegan'},\n",
       " dough conditioner: {'veg_category': 'Typically Vegetarian'},\n",
       " drying agent: {'veg_category': 'Typically Vegetarian'},\n",
       " EDTA: {'veg_category': 'Vegan'},\n",
       " emulsifier: {'veg_category': 'Typically Vegetarian'},\n",
       " enzyme: {'product_information': 'Most companies today, including Chr. Hansen, Cargill, and Danisco, told us that they produce enzymes from microbial fermentation using bacteria or fungi growing on all-vegetable based media. Employees of the companies state that the microbial product can be more easily purified and its quality as well as quantity more readily assured, unlike the supply of animal enzymes. One exception is a class of enzymes called lipases (used in some cheese production) which remains largely animal- (hog) derived. An employee from AB Enzymes told us that most enzymes used in baked goods are all-vegetable based produced from microbial fermentation. Most microbially-produced enzymes are certified kosher and halal. In some cases, enzymes do not have to be labeled as ingredients.'},\n",
       " essential oil: {'veg_category': 'Vegan'},\n",
       " ethyl alcohol: {'product_information': 'Archer Daniels Midland Co., one of the world&apos;s leading producers of this substance, derives it from corn.'},\n",
       " fat: {'veg_category': 'May be Non-Vegetarian'},\n",
       " fatty acid: {'veg_category': 'May be Non-Vegetarian'},\n",
       " fermentation: {'veg_category': 'unspecified'},\n",
       " fermentation aid: {'veg_category': 'Typically Vegetarian'},\n",
       " firming agent: {'veg_category': 'Typically Vegan'},\n",
       " flavor enhancer: {'veg_category': 'Typically Vegetarian'},\n",
       " foaming agent: {'veg_category': 'Typically Vegetarian'},\n",
       " folic acid: {'veg_category': 'May be Non-Vegetarian'},\n",
       " fructose: {'veg_category': 'Typically Vegetarian'},\n",
       " fumaric acid: {'veg_category': 'Vegan'},\n",
       " gelatin: {'product_information': '&quot;Vegetable gelatins,&quot; which are not gelatin at all, are vegetable or synthetic substances that mimic some of the properties of gelatin. According to an employee at Vyse Gelatin Co., soft gel capsules usually contain a mixture of pig- and beef-derived gelatin. Pig-derived gelatin is certified kosher by some kosher agencies.'},\n",
       " gellan gum: {'product_information': ''},\n",
       " glutamic acid: {'veg_category': 'Typically Vegetarian'},\n",
       " glyceride: {'product_information': 'Employees of Riken Vitamin (in 2007) and Caravan Ingredients (in 2009) told us that almost all glycerides today (both mono- and diglycerides) are produced from vegetable sources although some are sourced from animal fats. The most common sources are soybean oil and palm oil. Most companies surveyed use vegetable sources to manufacture the majority (over 80%) of glycerides in human foods. Animal sources are often used for industrial and pet food applications but some may be used to make human foods. Employees at Caravan Ingredients told us that their kosher-certified glycerides are all-vegetable. In the case of synthetic glycerides, glycerin (often from vegetable sources) is a common starting material. '},\n",
       " glycerol: {'product_information': 'The Director of Sales in glycerol at Cargill, a major manufacturer of glycerol, told us that they use only soybean oil. Dow Chemical Co. reports that its synthetic glycerol has propylene (a petrochemical) as one of its starting materials.'},\n",
       " glycine: {'veg_category': 'Typically Vegetarian'},\n",
       " guar gum: {'veg_category': 'Vegan'},\n",
       " high fructose corn syrup: {'veg_category': 'Vegan'},\n",
       " honey: {'veg_category': 'Vegetarian'},\n",
       " humectant: {'veg_category': 'Typically Vegetarian'},\n",
       " hydrogenation: {'veg_category': 'Vegan'},\n",
       " hydrogen peroxide: {'veg_category': 'May be Non-Vegetarian'},\n",
       " invert sugar syrup: {'veg_category': 'May be Non-Vegetarian'},\n",
       " isinglass: {'veg_category': 'Non-Vegetarian'},\n",
       " keratin: {'veg_category': 'Non-Vegetarian'},\n",
       " L-cysteine/L-cystine: {'product_information': 'A small quantity of L-cysteine is used as a dough conditioner in most bread products. Approximately 80% of all L-cysteine used today is duck feather-derived. More expensive synthetic (Ajinomoto) or bacterial (Wacker biochem Corp) forms are commercially available. L-cysteine does not have to be labeled as an ingredient in all cases.</a> '},\n",
       " lac-resin: {'veg_category': 'Vegetarian'},\n",
       " lactase: {'veg_category': 'Typically Vegetarian'},\n",
       " lactic acid: {'product_information': 'Archer Daniels Midland Co., a manufacturer of lactic acid, reports that they use hydrolyzed cornstarch only. Purac America, Inc. says that they use beet sugar as the fermentation medium.'},\n",
       " lard: {'veg_category': 'Non-Vegetarian'},\n",
       " leavening agent: {'veg_category': 'Typically Vegan'},\n",
       " lime: {'veg_category': 'Vegan'},\n",
       " lipase: {'veg_category': 'Typically Non-Vegetarian'},\n",
       " locust bean gum: {'veg_category': 'Vegan'},\n",
       " Lutein: {'veg_category': 'Typically Vegan'},\n",
       " magnesium stearate: {'veg_category': 'Typically Vegan'},\n",
       " maleic acid: {'veg_category': 'Vegan'},\n",
       " malic acid: {'veg_category': 'Vegan'},\n",
       " malt: {'veg_category': 'Vegan'},\n",
       " malt extract: {'veg_category': 'Vegan'},\n",
       " maltodextrins: {'veg_category': 'Vegan'},\n",
       " maltol: {'veg_category': 'Vegan'},\n",
       " maltose: {'veg_category': 'Vegan'},\n",
       " mannitol: {'veg_category': 'Vegan'},\n",
       " maple sugar: {'veg_category': 'Typically Vegan'},\n",
       " maple syrup: {'product_information': 'Spring Tree, Maple Groves, and Holsum Foods brands of pancake syrups do not use an animal-derived defoaming agent during their production.'},\n",
       " methyl paraben: {'veg_category': 'Vegan'},\n",
       " mineral oil: {'veg_category': 'Vegan'},\n",
       " modified starch: {'veg_category': 'May be Non-Vegetarian'},\n",
       " molasses: {'veg_category': 'Vegan'},\n",
       " monoglyceride: {'veg_category': 'Typically Vegan'},\n",
       " monosodium glutamate: {'veg_category': 'Vegan'},\n",
       " myristic acid: {'veg_category': 'Typically Non-Vegetarian'},\n",
       " natural coloring: {'veg_category': 'Typically Vegan'},\n",
       " natural flavor: {'veg_category': 'May be Non-Vegetarian'},\n",
       " niacin: {'veg_category': 'Typically Vegan'},\n",
       " nonnutritive sweetener: {'veg_category': 'Vegan'},\n",
       " nutritional yeast: {'veg_category': 'Vegan'},\n",
       " nutritive sweetener: {'veg_category': 'Typically Vegan'},\n",
       " oleic acid: {'veg_category': 'Typically Non-Vegetarian'},\n",
       " oleoresin: {'veg_category': 'Vegan'},\n",
       " Olestra: {'veg_category': 'May be Non-Vegetarian'},\n",
       " oxidizing agent: {'veg_category': 'unspecified'},\n",
       " palmitic acid: {'veg_category': 'Typically Non-Vegetarian'},\n",
       " pancreatin: {'veg_category': 'Non-Vegetarian'},\n",
       " pantothenic acid: {'veg_category': 'Typically Vegan'},\n",
       " papain: {'veg_category': 'Vegan'},\n",
       " paprika: {'veg_category': 'Vegan'},\n",
       " paraffin: {'veg_category': 'Vegan'},\n",
       " pepsin: {'veg_category': 'Non-Vegetarian'},\n",
       " phenylalanine: {'veg_category': 'Typically Vegan'},\n",
       " polyacrylomite: {'veg_category': 'Vegan'},\n",
       " polydextrose: {'veg_category': 'Vegan'},\n",
       " polyethylene: {'veg_category': 'Vegan'},\n",
       " polysorbate: {'veg_category': 'May be Non-Vegetarian'},\n",
       " polysorbate 60: {'veg_category': 'May be Non-Vegetarian'},\n",
       " polysorbate 80: {'veg_category': 'May be Non-Vegetarian'},\n",
       " potassium sorbate: {'veg_category': 'Vegan'},\n",
       " pregelatinized starch: {'veg_category': 'Vegan'},\n",
       " preservative: {'veg_category': 'Typically Vegan'},\n",
       " processing aid: {'veg_category': 'May be Non-Vegetarian'},\n",
       " propionic acid: {'veg_category': 'Vegan'},\n",
       " propylene glycol: {'veg_category': 'Vegan'},\n",
       " protease: {'veg_category': 'Typically Vegetarian'},\n",
       " protein: {'veg_category': 'May be Non-Vegetarian'},\n",
       " pyridoxine: {'veg_category': 'Typically Vegan'},\n",
       " reducing agent: {'veg_category': 'Typically Vegan'},\n",
       " refined beet sugar: {'veg_category': 'Vegan'},\n",
       " rennet: {'veg_category': 'May be Non-Vegetarian'},\n",
       " rennin: {'veg_category': 'May be Non-Vegetarian'},\n",
       " resin: {'veg_category': 'Vegan'},\n",
       " riboflavin: {'veg_category': 'Typically Vegan'},\n",
       " rice syrup: {'veg_category': 'Vegan'},\n",
       " rosin: {'veg_category': 'Vegan'},\n",
       " royal jelly: {'veg_category': 'Vegetarian'},\n",
       " saccharin: {'veg_category': 'Vegan'},\n",
       " sequestering agent: {'veg_category': 'Typically Vegan'},\n",
       " silicon dioxide: {'veg_category': 'Vegan'},\n",
       " Simplesse: {'veg_category': 'Vegetarian'},\n",
       " sodium benzoate: {'veg_category': 'Vegan'},\n",
       " sodium bicarboante: {'veg_category': 'Vegan'},\n",
       " sodium carbonate: {'veg_category': 'Vegan'},\n",
       " sodium caseinate: {'veg_category': 'Vegetarian'},\n",
       " sodium hydroxide: {'veg_category': 'Vegan'},\n",
       " sodium nitrate: {'veg_category': 'Vegan'},\n",
       " sodium stearoyl lactylate: {'veg_category': 'Typically Vegan'},\n",
       " sorbic acid: {'veg_category': 'Vegan'},\n",
       " sorbitan: {'veg_category': 'Vegan'},\n",
       " sorbitol: {'veg_category': 'Typically Vegan'},\n",
       " stabilizer: {'veg_category': 'Typically Vegan'},\n",
       " stearic acid: {'veg_category': 'May be Non-Vegetarian'},\n",
       " Sucanat: {'veg_category': 'Vegan'},\n",
       " succinic acid: {'veg_category': 'Vegan'},\n",
       " sucrose: {'veg_category': 'May be Non-Vegetarian'},\n",
       " surface-active agents: {'veg_category': 'Typically Vegan'},\n",
       " surface-finishing agents: {'veg_category': 'Typically Vegetarian'},\n",
       " tallow: {'veg_category': 'Non-Vegetarian'},\n",
       " tartaric acid: {'veg_category': 'Vegan'},\n",
       " texturized vegetable protein: {'veg_category': 'Vegan'},\n",
       " texturizer: {'veg_category': 'Typically Vegan'},\n",
       " thiamin: {'veg_category': 'Typically Vegan'},\n",
       " trypsin: {'veg_category': 'Non-Vegetarian'},\n",
       " turbinado sugar: {'veg_category': 'Vegan'},\n",
       " turmeric: {'veg_category': 'Vegan'},\n",
       " tyrosine: {'veg_category': 'unspecified'},\n",
       " unmodified starch: {'veg_category': 'Vegan'},\n",
       " vanilla: {'veg_category': 'Vegan'},\n",
       " vanilla extract: {'veg_category': 'Vegan'},\n",
       " vanillin: {'veg_category': 'Vegan'},\n",
       " vinegar: {'product_information': 'The Vinegar Institute, an association of vinegar manufacturers, reports that sugar vinegar is not derived from refined sugar. They also say that only mineral or synthetic filters are used in the vinegar industry.'},\n",
       " vitamin: {'veg_category': 'Typically Vegan'},\n",
       " vitamin A: {'veg_category': 'May be Non-Vegetarian'},\n",
       " vitamin B-12: {'veg_category': 'Vegan'},\n",
       " vitamin C: {'veg_category': 'Vegan'},\n",
       " vitamin D<sub>2</sub>: {'veg_category': 'Vegan'},\n",
       " vitamin D<sub>3</sub>: {'veg_category': 'Vegetarian'},\n",
       " vitamin E: {'veg_category': 'Vegan'},\n",
       " wax: {'veg_category': 'Typically Vegetarian'},\n",
       " wheat gluten: {'veg_category': 'Vegan'},\n",
       " whey: {'veg_category': 'Typically Vegetarian'},\n",
       " wine: {'veg_category': 'May be Non-Vegetarian'},\n",
       " xanthan gum: {'veg_category': 'Vegan'},\n",
       " yeast food: {'veg_category': 'Typically Vegan'},\n",
       " Zeaxanthin: {'veg_category': 'Typically Vegan'},\n",
       " zein: {'veg_category': 'Vegan'}}"
      ]
     },
     "execution_count": 313,
     "metadata": {},
     "output_type": "execute_result"
    }
   ],
   "source": [
    "d"
   ]
  },
  {
   "cell_type": "code",
   "execution_count": 304,
   "metadata": {},
   "outputs": [],
   "source": [
    "line = '<strong>Also known as</strong>: acesulfame potassium, Sunette.<br />'\n",
    "# REad between > and <\n",
    "strong_category = re.search('strong>.+</strong', line).group(0)[7:-8]\n",
    "strong_value = re.search('/strong>:.+<', line).group(0)[10:-1]\n",
    "# Look up the category name to assign to column\n",
    "strong_cat_name = strong_cat_inv[strong_category]\n",
    "\n"
   ]
  },
  {
   "cell_type": "code",
   "execution_count": 305,
   "metadata": {},
   "outputs": [
    {
     "data": {
      "text/plain": [
       "'Also known as'"
      ]
     },
     "execution_count": 305,
     "metadata": {},
     "output_type": "execute_result"
    }
   ],
   "source": [
    "strong_category"
   ]
  },
  {
   "cell_type": "code",
   "execution_count": 306,
   "metadata": {},
   "outputs": [
    {
     "data": {
      "text/plain": [
       "'acesulfame potassium, Sunette.'"
      ]
     },
     "execution_count": 306,
     "metadata": {},
     "output_type": "execute_result"
    }
   ],
   "source": [
    "strong_value"
   ]
  },
  {
   "cell_type": "code",
   "execution_count": 300,
   "metadata": {},
   "outputs": [
    {
     "data": {
      "text/plain": [
       "'also_known_as'"
      ]
     },
     "execution_count": 300,
     "metadata": {},
     "output_type": "execute_result"
    }
   ],
   "source": [
    "strong_cat_name"
   ]
  },
  {
   "cell_type": "code",
   "execution_count": 249,
   "metadata": {},
   "outputs": [
    {
     "data": {
      "text/plain": [
       "<re.Match object; span=(22, 70), match='/strong>: <i>n</i>-butyric acid, butanoic acid.<'>"
      ]
     },
     "execution_count": 249,
     "metadata": {},
     "output_type": "execute_result"
    }
   ],
   "source": [
    "# re.search('/strong>:.+<', '<strong>Also known as</strong>: <i>n</i>-butyric acid, butanoic acid.<br />')"
   ]
  },
  {
   "cell_type": "code",
   "execution_count": null,
   "metadata": {},
   "outputs": [],
   "source": []
  },
  {
   "cell_type": "code",
   "execution_count": null,
   "metadata": {},
   "outputs": [],
   "source": []
  },
  {
   "cell_type": "code",
   "execution_count": 299,
   "metadata": {},
   "outputs": [
    {
     "data": {
      "text/plain": [
       "{acesulfame K: {'veg_category': 'Vegan'},\n",
       " acetic acid: {'veg_category': 'Vegan'},\n",
       " acid casein: {'veg_category': 'Vegetarian'},\n",
       " acidulant: {'veg_category': 'Typically Vegetarian'},\n",
       " acrylic acid: {'veg_category': 'Vegan'},\n",
       " activated carbon: {'veg_category': 'May be Non-Vegetarian'},\n",
       " adipic acid: {'product_information': 'DuPont Chemicals, a manufacturer of adipic acid, reports that oleic acid derived from animal fat is used as a defoaming agent in the production of adipic acid. The oleic acid is present in the final product at a few parts per million. An alternative to this part of the process is thought to be possible but there are no plans to use it.'},\n",
       " agar: {'veg_category': 'Vegan'},\n",
       " alanine: {'veg_category': 'Typically Vegetarian'},\n",
       " albumen: {'veg_category': 'Vegetarian'},\n",
       " albumin: {'veg_category': 'Vegan'},\n",
       " alginic acid: {'veg_category': 'Vegan'},\n",
       " alum: {'veg_category': 'Vegan'},\n",
       " amino acid: {'veg_category': 'Typically Vegetarian'},\n",
       " amylase: {'veg_category': 'Typically Vegan'},\n",
       " annatto: {'veg_category': 'Vegan'},\n",
       " antioxidant: {'veg_category': 'Typically Vegetarian'},\n",
       " arabic: {'veg_category': 'Vegan'},\n",
       " arginine: {'veg_category': 'Typically Vegetarian'},\n",
       " artificial coloring: {'veg_category': 'Typically Vegan'},\n",
       " artificial flavor: {'veg_category': 'Typically Vegetarian'},\n",
       " <a href=\"/blog/2013/12/11/%E2%80%9Cno-pig-kidney-enzyme-in-aspartame%E2%80%9D-state-major-manufacturers/\">aspartame</a>: {'veg_category': 'Vegan'},\n",
       " aspartic acid: {'veg_category': 'Typically Vegetarian'},\n",
       " autolyzed yeast extract: {'product_information': 'There are no aspects of the manufacturing process in which substances of animal or animal-derived origin are used, according to FIDCO Inc., a manufacturer of this ingredient.'},\n",
       " baking powder: {'veg_category': 'Vegan'},\n",
       " beeswax: {'veg_category': 'Vegetarian'},\n",
       " bentonite: {'veg_category': 'Vegan'},\n",
       " benzoyl peroxide: {'veg_category': 'Vegan'},\n",
       " beta-carotene: {'veg_category': 'Typically Vegetarian'},\n",
       " bioflavinoids: {'veg_category': 'Vegan'},\n",
       " biotin: {'veg_category': 'Typically Vegetarian'},\n",
       " Brewer's yeast: {'veg_category': 'Vegan'},\n",
       " bromelain: {'veg_category': 'Vegan'},\n",
       " butylated hydroxyanisole: {'veg_category': 'Vegan'},\n",
       " butylated hydroxytoluene: {'veg_category': 'Vegan'},\n",
       " butyric acid: {'product_information': 'Penta Manufacturing Co., a manufacturer of this ingredient, reports that butyric acid is produced through a fermentation process.  Hoechst Celanese Chemical Group, another manufacturer, reports that their method of producing butyric acid is synthetic, starting with petrochemicals.'},\n",
       " calcium carbonate: {'veg_category': 'Vegan'},\n",
       " calcium caseinate: {'veg_category': 'Vegetarian'},\n",
       " calcium chloride: {'use': ' firming, coagulating, sequestering (in foods); replacing electrolytes (in beverages)'}}"
      ]
     },
     "execution_count": 299,
     "metadata": {},
     "output_type": "execute_result"
    }
   ],
   "source": [
    "d"
   ]
  },
  {
   "cell_type": "code",
   "execution_count": null,
   "metadata": {},
   "outputs": [],
   "source": []
  },
  {
   "cell_type": "code",
   "execution_count": 281,
   "metadata": {},
   "outputs": [],
   "source": [
    "df = pd.DataFrame(d)"
   ]
  },
  {
   "cell_type": "code",
   "execution_count": 282,
   "metadata": {},
   "outputs": [
    {
     "data": {
      "text/html": [
       "<div>\n",
       "<style scoped>\n",
       "    .dataframe tbody tr th:only-of-type {\n",
       "        vertical-align: middle;\n",
       "    }\n",
       "\n",
       "    .dataframe tbody tr th {\n",
       "        vertical-align: top;\n",
       "    }\n",
       "\n",
       "    .dataframe thead th {\n",
       "        text-align: right;\n",
       "    }\n",
       "</style>\n",
       "<table border=\"1\" class=\"dataframe\">\n",
       "  <thead>\n",
       "    <tr style=\"text-align: right;\">\n",
       "      <th></th>\n",
       "      <th>[acesulfame K]</th>\n",
       "      <th>[acetic acid]</th>\n",
       "      <th>[acid casein]</th>\n",
       "      <th>[acidulant]</th>\n",
       "      <th>[acrylic acid]</th>\n",
       "      <th>[activated carbon]</th>\n",
       "      <th>[adipic acid]</th>\n",
       "      <th>[agar]</th>\n",
       "      <th>[alanine]</th>\n",
       "      <th>[albumen]</th>\n",
       "      <th>...</th>\n",
       "      <th>[vitamin D, [3]]</th>\n",
       "      <th>[vitamin E]</th>\n",
       "      <th>[wax]</th>\n",
       "      <th>[wheat gluten]</th>\n",
       "      <th>[whey]</th>\n",
       "      <th>[wine]</th>\n",
       "      <th>[xanthan gum]</th>\n",
       "      <th>[yeast food]</th>\n",
       "      <th>[Zeaxanthin]</th>\n",
       "      <th>[zein]</th>\n",
       "    </tr>\n",
       "  </thead>\n",
       "  <tbody>\n",
       "    <tr>\n",
       "      <th>veg_category</th>\n",
       "      <td>Vegan</td>\n",
       "      <td>Vegan</td>\n",
       "      <td>Vegetarian</td>\n",
       "      <td>Typically Vegetarian</td>\n",
       "      <td>Vegan</td>\n",
       "      <td>May be Non-Vegetarian</td>\n",
       "      <td>NaN</td>\n",
       "      <td>Vegan</td>\n",
       "      <td>Typically Vegetarian</td>\n",
       "      <td>Vegetarian</td>\n",
       "      <td>...</td>\n",
       "      <td>NaN</td>\n",
       "      <td>Vegan</td>\n",
       "      <td>Typically Vegetarian</td>\n",
       "      <td>Vegan</td>\n",
       "      <td>Typically Vegetarian</td>\n",
       "      <td>May be Non-Vegetarian</td>\n",
       "      <td>Vegan</td>\n",
       "      <td>Typically Vegan</td>\n",
       "      <td>NaN</td>\n",
       "      <td>Vegan</td>\n",
       "    </tr>\n",
       "    <tr>\n",
       "      <th>product_information</th>\n",
       "      <td>NaN</td>\n",
       "      <td>NaN</td>\n",
       "      <td>NaN</td>\n",
       "      <td>NaN</td>\n",
       "      <td>NaN</td>\n",
       "      <td>NaN</td>\n",
       "      <td>DuPont Chemicals, a manufacturer of adipic aci...</td>\n",
       "      <td>NaN</td>\n",
       "      <td>NaN</td>\n",
       "      <td>NaN</td>\n",
       "      <td>...</td>\n",
       "      <td>NaN</td>\n",
       "      <td>NaN</td>\n",
       "      <td>NaN</td>\n",
       "      <td>NaN</td>\n",
       "      <td>NaN</td>\n",
       "      <td>NaN</td>\n",
       "      <td>NaN</td>\n",
       "      <td>NaN</td>\n",
       "      <td>NaN</td>\n",
       "      <td>NaN</td>\n",
       "    </tr>\n",
       "    <tr>\n",
       "      <th>entry_updated</th>\n",
       "      <td>NaN</td>\n",
       "      <td>NaN</td>\n",
       "      <td>NaN</td>\n",
       "      <td>NaN</td>\n",
       "      <td>NaN</td>\n",
       "      <td>NaN</td>\n",
       "      <td>NaN</td>\n",
       "      <td>NaN</td>\n",
       "      <td>NaN</td>\n",
       "      <td>NaN</td>\n",
       "      <td>...</td>\n",
       "      <td>March 2014</td>\n",
       "      <td>NaN</td>\n",
       "      <td>NaN</td>\n",
       "      <td>NaN</td>\n",
       "      <td>NaN</td>\n",
       "      <td>NaN</td>\n",
       "      <td>NaN</td>\n",
       "      <td>NaN</td>\n",
       "      <td>August 2014</td>\n",
       "      <td>NaN</td>\n",
       "    </tr>\n",
       "    <tr>\n",
       "      <th>definition</th>\n",
       "      <td>NaN</td>\n",
       "      <td>NaN</td>\n",
       "      <td>NaN</td>\n",
       "      <td>NaN</td>\n",
       "      <td>NaN</td>\n",
       "      <td>NaN</td>\n",
       "      <td>NaN</td>\n",
       "      <td>NaN</td>\n",
       "      <td>NaN</td>\n",
       "      <td>NaN</td>\n",
       "      <td>...</td>\n",
       "      <td>NaN</td>\n",
       "      <td>NaN</td>\n",
       "      <td>NaN</td>\n",
       "      <td>NaN</td>\n",
       "      <td>NaN</td>\n",
       "      <td>NaN</td>\n",
       "      <td>NaN</td>\n",
       "      <td>NaN</td>\n",
       "      <td>NaN</td>\n",
       "      <td>NaN</td>\n",
       "    </tr>\n",
       "  </tbody>\n",
       "</table>\n",
       "<p>4 rows × 228 columns</p>\n",
       "</div>"
      ],
      "text/plain": [
       "                    [acesulfame K] [acetic acid] [acid casein]  \\\n",
       "veg_category                 Vegan         Vegan    Vegetarian   \n",
       "product_information            NaN           NaN           NaN   \n",
       "entry_updated                  NaN           NaN           NaN   \n",
       "definition                     NaN           NaN           NaN   \n",
       "\n",
       "                              [acidulant] [acrylic acid]  \\\n",
       "veg_category         Typically Vegetarian          Vegan   \n",
       "product_information                   NaN            NaN   \n",
       "entry_updated                         NaN            NaN   \n",
       "definition                            NaN            NaN   \n",
       "\n",
       "                        [activated carbon]  \\\n",
       "veg_category         May be Non-Vegetarian   \n",
       "product_information                    NaN   \n",
       "entry_updated                          NaN   \n",
       "definition                             NaN   \n",
       "\n",
       "                                                         [adipic acid] [agar]  \\\n",
       "veg_category                                                       NaN  Vegan   \n",
       "product_information  DuPont Chemicals, a manufacturer of adipic aci...    NaN   \n",
       "entry_updated                                                      NaN    NaN   \n",
       "definition                                                         NaN    NaN   \n",
       "\n",
       "                                [alanine]   [albumen]  ... [vitamin D, [3]]  \\\n",
       "veg_category         Typically Vegetarian  Vegetarian  ...              NaN   \n",
       "product_information                   NaN         NaN  ...              NaN   \n",
       "entry_updated                         NaN         NaN  ...       March 2014   \n",
       "definition                            NaN         NaN  ...              NaN   \n",
       "\n",
       "                    [vitamin E]                 [wax] [wheat gluten]  \\\n",
       "veg_category              Vegan  Typically Vegetarian          Vegan   \n",
       "product_information         NaN                   NaN            NaN   \n",
       "entry_updated               NaN                   NaN            NaN   \n",
       "definition                  NaN                   NaN            NaN   \n",
       "\n",
       "                                   [whey]                 [wine]  \\\n",
       "veg_category         Typically Vegetarian  May be Non-Vegetarian   \n",
       "product_information                   NaN                    NaN   \n",
       "entry_updated                         NaN                    NaN   \n",
       "definition                            NaN                    NaN   \n",
       "\n",
       "                    [xanthan gum]     [yeast food]  [Zeaxanthin] [zein]  \n",
       "veg_category                Vegan  Typically Vegan           NaN  Vegan  \n",
       "product_information           NaN              NaN           NaN    NaN  \n",
       "entry_updated                 NaN              NaN   August 2014    NaN  \n",
       "definition                    NaN              NaN           NaN    NaN  \n",
       "\n",
       "[4 rows x 228 columns]"
      ]
     },
     "execution_count": 282,
     "metadata": {},
     "output_type": "execute_result"
    }
   ],
   "source": [
    "df.head()"
   ]
  },
  {
   "cell_type": "code",
   "execution_count": null,
   "metadata": {},
   "outputs": [],
   "source": []
  },
  {
   "cell_type": "code",
   "execution_count": 204,
   "metadata": {},
   "outputs": [],
   "source": [
    "import pandas as pd"
   ]
  },
  {
   "cell_type": "code",
   "execution_count": 207,
   "metadata": {},
   "outputs": [
    {
     "data": {
      "text/html": [
       "<div>\n",
       "<style scoped>\n",
       "    .dataframe tbody tr th:only-of-type {\n",
       "        vertical-align: middle;\n",
       "    }\n",
       "\n",
       "    .dataframe tbody tr th {\n",
       "        vertical-align: top;\n",
       "    }\n",
       "\n",
       "    .dataframe thead th {\n",
       "        text-align: right;\n",
       "    }\n",
       "</style>\n",
       "<table border=\"1\" class=\"dataframe\">\n",
       "  <thead>\n",
       "    <tr style=\"text-align: right;\">\n",
       "      <th></th>\n",
       "      <th>acetic_acid</th>\n",
       "      <th>another_acid</th>\n",
       "    </tr>\n",
       "  </thead>\n",
       "  <tbody>\n",
       "    <tr>\n",
       "      <th>commercial</th>\n",
       "      <td>vegetale</td>\n",
       "      <td>XX</td>\n",
       "    </tr>\n",
       "    <tr>\n",
       "      <th>exists_in</th>\n",
       "      <td>many...</td>\n",
       "      <td>Y</td>\n",
       "    </tr>\n",
       "    <tr>\n",
       "      <th>veg_cat</th>\n",
       "      <td>Vegan</td>\n",
       "      <td>Vegn</td>\n",
       "    </tr>\n",
       "  </tbody>\n",
       "</table>\n",
       "</div>"
      ],
      "text/plain": [
       "           acetic_acid another_acid\n",
       "commercial    vegetale           XX\n",
       "exists_in      many...            Y\n",
       "veg_cat          Vegan         Vegn"
      ]
     },
     "execution_count": 207,
     "metadata": {},
     "output_type": "execute_result"
    }
   ],
   "source": [
    "pd.DataFrame(data)"
   ]
  },
  {
   "cell_type": "code",
   "execution_count": null,
   "metadata": {},
   "outputs": [],
   "source": []
  },
  {
   "cell_type": "code",
   "execution_count": null,
   "metadata": {},
   "outputs": [],
   "source": [
    "'<h2 id=\"acetic_acid\">acetic&nbsp;acid</h2>',\n",
    " '<strong>Commercial source</strong>: vegetable<br />',\n",
    " '<strong>Exists in</strong>: many fruits and plants, in milk, and in synthetic form.<br />',\n",
    " '<strong>Used in</strong>: catsup, mayonnaise, and pickles.<br />',\n",
    " '<strong>Definition</strong>: Common preservative and flavoring agent which is the principal ingredient of vinegar.<br />',\n",
    " '<em>Vegan</em>',"
   ]
  },
  {
   "cell_type": "code",
   "execution_count": null,
   "metadata": {},
   "outputs": [],
   "source": []
  },
  {
   "cell_type": "code",
   "execution_count": null,
   "metadata": {},
   "outputs": [],
   "source": [
    "strong_categories"
   ]
  },
  {
   "cell_type": "code",
   "execution_count": 177,
   "metadata": {},
   "outputs": [
    {
     "data": {
      "text/plain": [
       "False"
      ]
     },
     "execution_count": 177,
     "metadata": {},
     "output_type": "execute_result"
    }
   ],
   "source": [
    "'asdfs'.startswith('s')"
   ]
  },
  {
   "cell_type": "code",
   "execution_count": 189,
   "metadata": {},
   "outputs": [],
   "source": [
    "m = re.search('>.+<', '<h2 id=\"acidulant\">acidulant</h2>')"
   ]
  },
  {
   "cell_type": "code",
   "execution_count": 200,
   "metadata": {},
   "outputs": [
    {
     "data": {
      "text/plain": [
       "'acidulant'"
      ]
     },
     "execution_count": 200,
     "metadata": {},
     "output_type": "execute_result"
    }
   ],
   "source": [
    "m.group(0)[1:-1]"
   ]
  },
  {
   "cell_type": "code",
   "execution_count": 195,
   "metadata": {},
   "outputs": [
    {
     "data": {
      "text/plain": [
       "<function Match.expand(template)>"
      ]
     },
     "execution_count": 195,
     "metadata": {},
     "output_type": "execute_result"
    }
   ],
   "source": [
    "m.string"
   ]
  },
  {
   "cell_type": "code",
   "execution_count": 201,
   "metadata": {},
   "outputs": [
    {
     "data": {
      "text/plain": [
       "'acidulant'"
      ]
     },
     "execution_count": 201,
     "metadata": {},
     "output_type": "execute_result"
    }
   ],
   "source": [
    "re.search('>.+<', '<h2 id=\"acidulant\">acidulant</h2>').group(0)[1:-1]"
   ]
  },
  {
   "cell_type": "code",
   "execution_count": null,
   "metadata": {},
   "outputs": [],
   "source": []
  },
  {
   "cell_type": "code",
   "execution_count": null,
   "metadata": {},
   "outputs": [],
   "source": []
  },
  {
   "cell_type": "code",
   "execution_count": 4,
   "metadata": {},
   "outputs": [],
   "source": [
    "# Sample file for determining formatting\n",
    "test_file = '/Volumes/ja2/vegan/vegan_parser/test_data/tocopherol.html'"
   ]
  },
  {
   "cell_type": "code",
   "execution_count": 7,
   "metadata": {},
   "outputs": [],
   "source": [
    "# read in the text file\n",
    "with open('/Volumes/ja2/vegan/vegan_parser/test_data/tocopherol.html', 'r') as f:\n",
    "    toco_text = f.read()\n",
    "    "
   ]
  },
  {
   "cell_type": "code",
   "execution_count": 21,
   "metadata": {
    "scrolled": true
   },
   "outputs": [
    {
     "data": {
      "text/plain": [
       "'static.zdassets.com/ekr/snippet.js?key=ddae71b0-53e4-4646-9859-d51edea50265\"> </script>\\n<script type=\"text/javascript\">\\n  zE(\\'webWidget\\', \\'hide\\');\\n</script>\\n<script type=\"text/javascript\" src=\"https://s7.addthis.com/js/300/addthis_widget.js#pubid=ra-4e31767a3587c42e\" async></script>\\n</body>\\n</html>\\n'"
      ]
     },
     "execution_count": 21,
     "metadata": {},
     "output_type": "execute_result"
    }
   ],
   "source": [
    "toco_text[-300:]"
   ]
  },
  {
   "cell_type": "code",
   "execution_count": 46,
   "metadata": {},
   "outputs": [],
   "source": [
    "test_soup = BeautifulSoup(toco_text, 'html.parser')"
   ]
  },
  {
   "cell_type": "code",
   "execution_count": 24,
   "metadata": {},
   "outputs": [],
   "source": [
    "ptag = test_soup.p"
   ]
  },
  {
   "cell_type": "code",
   "execution_count": 25,
   "metadata": {},
   "outputs": [
    {
     "data": {
      "text/plain": [
       "<p class=\"searches hidden\"><span>16,031,296</span> searches since Oct. 27, 2014</p>"
      ]
     },
     "execution_count": 25,
     "metadata": {},
     "output_type": "execute_result"
    }
   ],
   "source": [
    "ptag"
   ]
  },
  {
   "cell_type": "code",
   "execution_count": null,
   "metadata": {},
   "outputs": [],
   "source": []
  },
  {
   "cell_type": "code",
   "execution_count": 49,
   "metadata": {},
   "outputs": [
    {
     "data": {
      "text/plain": [
       "'TOCOPHEROL'"
      ]
     },
     "execution_count": 49,
     "metadata": {},
     "output_type": "execute_result"
    }
   ],
   "source": [
    "# Get the name of the chemical\n",
    "test_soup.find('h2', attrs={'class': 'chemical-name text-block'}).text"
   ]
  },
  {
   "cell_type": "code",
   "execution_count": 36,
   "metadata": {},
   "outputs": [
    {
     "data": {
      "text/plain": [
       "'Contamination concerns (high)'"
      ]
     },
     "execution_count": 36,
     "metadata": {},
     "output_type": "execute_result"
    }
   ],
   "source": [
    "# Okay, so this is the beautiful soup call to the ingredients list.\n",
    "test_soup.find('p', attrs={'class': \"chemical-info chemical-concerns-text\"}).text"
   ]
  },
  {
   "cell_type": "code",
   "execution_count": 44,
   "metadata": {},
   "outputs": [
    {
     "data": {
      "text/plain": [
       "<img class=\"squircle\" src=\"/skindeep/squircle/show.svg?score=1&amp;score_min=1\"/>"
      ]
     },
     "execution_count": 44,
     "metadata": {},
     "output_type": "execute_result"
    }
   ],
   "source": [
    "# And to find the data score URL\n",
    "test_soup.find('div', attrs={'class': \"chemical-score float-r\"}).find('img')"
   ]
  },
  {
   "cell_type": "code",
   "execution_count": 42,
   "metadata": {},
   "outputs": [
    {
     "data": {
      "text/plain": [
       "'\\nScore:\\n\\nData: Fair\\n'"
      ]
     },
     "execution_count": 42,
     "metadata": {},
     "output_type": "execute_result"
    }
   ],
   "source": [
    "# And to find data availablity\n",
    "test_soup.find('div', attrs={'class': \"chemical-score float-r\"}).text  # Hmm...we could just parse ths out by hand."
   ]
  },
  {
   "cell_type": "code",
   "execution_count": null,
   "metadata": {},
   "outputs": [],
   "source": []
  },
  {
   "cell_type": "code",
   "execution_count": null,
   "metadata": {},
   "outputs": [],
   "source": []
  },
  {
   "cell_type": "code",
   "execution_count": 26,
   "metadata": {
    "scrolled": false
   },
   "outputs": [],
   "source": [
    "p_list = test_soup.find_all('p')  # class=\"chemical-score float-r\"')"
   ]
  },
  {
   "cell_type": "code",
   "execution_count": 27,
   "metadata": {
    "scrolled": true
   },
   "outputs": [
    {
     "data": {
      "text/plain": [
       "[<p class=\"searches hidden\"><span>16,031,296</span> searches since Oct. 27, 2014</p>,\n",
       " <p>Menu</p>,\n",
       " <p class=\"links\">\n",
       " <a href=\"/skindeep/contents/about-page\">About SkinDeep<sup>®</sup>/Methodology</a>\n",
       " | <a href=\"https://www.ewg.org/disclaimer\">Legal Disclaimer</a><br/>\n",
       " <a href=\"https://www.ewg.org/skindeep/build_your_own_report\">Build Your Own Report</a>\n",
       " | <a href=\"/skindeep/contents/faq\">FAQ</a>\n",
       " </p>,\n",
       " <p class=\"has_elements\">Sun</p>,\n",
       " <p class=\"has_elements\">Skin</p>,\n",
       " <p class=\"has_elements\">Hair</p>,\n",
       " <p class=\"has_elements\">Nails</p>,\n",
       " <p class=\"has_elements\">Makeup</p>,\n",
       " <p class=\"has_elements\">Fragrance</p>,\n",
       " <p class=\"has_elements\">Babies</p>,\n",
       " <p class=\"has_elements\">Oral Care</p>,\n",
       " <p class=\"has_elements\">Men</p>,\n",
       " <p>\n",
       " <a href=\"/skindeep/browse/ewg_verified\">EWG VERIFIED™</a>\n",
       " </p>,\n",
       " <p>image source: <a href=\"https://pubchem.ncbi.nlm.nih.gov/compound/14985\">PubChem</a></p>,\n",
       " <p>Score:</p>,\n",
       " <p>Data: <span>Fair</span></p>,\n",
       " <p class=\"chemical-info chemical-concerns-text\">Contamination concerns (high)</p>,\n",
       " <p class=\"chemical-info chemical-functions-text hidden\">antioxidant, fragrance ingredient, skin-conditioning agent - miscellaneous;skin-conditioning agent - occlusive, and skin conditioning</p>,\n",
       " <p class=\"chemical-info chemical-about-text hidden\">Tocopherols are a class of naturally occurring chemical compounds related to Vitamin E</p>,\n",
       " <p class=\"chemical-info chemical-synonyms-text hidden\">2H-1-BENZOPYRAN-6-OL, 3,4-DIHYDRO-2,5,7,8-TETRAMETHYL-2-(4,8,12-TRIMETHYLTRIDECYL)-, 2H1BENZOPYRAN6OL, 3,4DIHYDRO2,5,7,8TETRAMETHYL2(4,8,12TRIMETHYLTRIDECYL), 3,4-DIHYDRO-2,5,7,8-TETRAMETHYL-2-(4,8,12-TRIMETHYLTRIDECYL)- 2H-1-BENZOPYRAN-6-OL, 3,4-DIHYDRO-2,5,7,8-TETRAMETHYL-2-(4,8,12-TRIMETHYLTRIDECYL)-2H-1-BENZOPYRAN-6-OL, 3,4-DIHYDRO-2,5,7,8-TETRAMETHYL-2-(4,8,12-TRIMETHYLTRIDECYL)-2H-BENZOPYRAN-6-OL, D-ALPHA-TOCOPHEROL, DL-A -TOCOP HEROL, DL-ALPHA-TOCOPHEROL, MIXED TOCOPHEROLS, NATURAL VITAMIN E, TOCOPHEROL, TOCOPHERYL, VITAMIN E, and VITAMIN E OIL</p>,\n",
       " <p>Cancer: Ingredients linked to cancer in government, industry or academic studies or assessments.</p>,\n",
       " <p>Developmental and reproductive toxicity: Ingredients linked to developmental and reproductive toxicity, a broad class of health effects that range from infertility and reproductive organ cancers to birth defects and developmental delays in children.</p>,\n",
       " <p>Allergies and immunotoxicity: Ingredients linked to harm to the immune system, a class of health problems that manifest as allergic reactions or an impaired capacity to fight disease and repair damaged tissue in the body.</p>,\n",
       " <p>EWG provides information on personal care product ingredients from the published scientific literature, to supplement incomplete data available from companies and the government. The ratings below indicate the relative level of concern posed by exposure to the ingredients in this product - not the product itself - compared to other product formulations. The ratings reflect potential health hazards but do not account for the level of exposure or individual susceptibility, factors which determine actual health risks, if any. <a href=\"../contents/about-page#about-dual-rating\">Learn more</a> | <a href=\"https://www.ewg.org/disclaimer\" target=\"_blank\">Legal Disclaimer</a></p>,\n",
       " <p>Beyond providing Skin Deep® as an educational tool for consumers, EWG offers its EWG VERIFIED™ mark as a quick and easily identifiable way of conveying personal care products that meet EWG's strict health criteria. Before a company can use EWG VERIFIED™ on such products, the company must show that it fully discloses the products' ingredients on their labels or packaging, they do not contain EWG ingredients of concern, and are made with good manufacturing practices, among other criteria. Note that EWG receives licensing fees from all EWG VERIFIED™ member companies that help to support the important work we do. <a href=\"https://www.ewg.org/ewgverified/\">Learn more</a> | <a href=\"https://www.ewg.org/disclaimer\" target=\"_blank\">Legal Disclaimer</a></p>,\n",
       " <p>See that long list of ingredients on the back of the bottle? Some probably aren't as safe as you'd hope.</p>,\n",
       " <p>EWG's Food Scores</p>,\n",
       " <p>EWG's Cleaners Guide</p>,\n",
       " <p>EWG's Sunscreen Guide</p>,\n",
       " <p>EWG VERIFIED™</p>,\n",
       " <p>EWG’s Healthy Living Tips</p>,\n",
       " <p>Shopper’s Guide to Pesticides in Produce™</p>,\n",
       " <p class=\"noshow\">Download EWG's Healthy Living App</p>,\n",
       " <p>WHERE EWG WORKS FOR YOU:</p>,\n",
       " <p>Environmental Working Group is a 501(c)(3) nonprofit corporation, EIN 52-2148600.<br/>\n",
       " Copyright © 2019. Environmental Working Group. All Rights Reserved.<br/><br/>\n",
       " <a href=\"https://www.ewg.org/support-our-work/ways-to-donate/stay-touch\" onclick=\"zE.activate({hideOnClose: true}); return false;\" target=\"_blank\">Contact Us</a> |\n",
       " <a href=\"https://www.ewg.org/about/privacy\" target=\"_blank\">Privacy Policy</a> |\n",
       " <a href=\"https://www.ewg.org/disclaimer\" target=\"_blank\">Legal Disclaimer</a> |\n",
       " <a href=\"https://www.ewg.org/reprintpermission\" target=\"_blank\">Reprint Permission Information</a>\n",
       " </p>]"
      ]
     },
     "execution_count": 27,
     "metadata": {},
     "output_type": "execute_result"
    }
   ],
   "source": [
    "p_list"
   ]
  },
  {
   "cell_type": "code",
   "execution_count": 29,
   "metadata": {},
   "outputs": [
    {
     "name": "stdout",
     "output_type": "stream",
     "text": [
      "None\n"
     ]
    }
   ],
   "source": [
    "for i, elem in enumerate(p_list):\n",
    "    if i==1:\n",
    "#         name=a.find('p', attrs={'class':'_3wU53n'})\n",
    "        print(elem.find('class'))\n"
   ]
  },
  {
   "cell_type": "code",
   "execution_count": null,
   "metadata": {},
   "outputs": [],
   "source": []
  }
 ],
 "metadata": {
  "kernelspec": {
   "display_name": "vegan_parser",
   "language": "python",
   "name": "vegan_parser"
  },
  "language_info": {
   "codemirror_mode": {
    "name": "ipython",
    "version": 3
   },
   "file_extension": ".py",
   "mimetype": "text/x-python",
   "name": "python",
   "nbconvert_exporter": "python",
   "pygments_lexer": "ipython3",
   "version": "3.7.4"
  }
 },
 "nbformat": 4,
 "nbformat_minor": 2
}
