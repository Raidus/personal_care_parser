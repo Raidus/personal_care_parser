{
 "cells": [
  {
   "cell_type": "code",
   "execution_count": 2,
   "metadata": {},
   "outputs": [],
   "source": [
    "import wikipedia"
   ]
  },
  {
   "cell_type": "code",
   "execution_count": 2,
   "metadata": {},
   "outputs": [],
   "source": [
    "ing = 'glycerin'"
   ]
  },
  {
   "cell_type": "code",
   "execution_count": 3,
   "metadata": {},
   "outputs": [
    {
     "data": {
      "text/plain": [
       "['Glycerol',\n",
       " 'Glycerin soap',\n",
       " 'Nitroglycerin',\n",
       " 'Glycerite',\n",
       " 'Dry enema',\n",
       " 'Glycerol and potassium permanganate',\n",
       " 'Guaifenesin',\n",
       " 'Soap',\n",
       " 'Triformin',\n",
       " 'K-Y Jelly']"
      ]
     },
     "execution_count": 3,
     "metadata": {},
     "output_type": "execute_result"
    }
   ],
   "source": [
    "wikipedia.search(ing)"
   ]
  },
  {
   "cell_type": "code",
   "execution_count": 4,
   "metadata": {},
   "outputs": [
    {
     "data": {
      "text/plain": [
       "'glycerol'"
      ]
     },
     "execution_count": 4,
     "metadata": {},
     "output_type": "execute_result"
    }
   ],
   "source": [
    "wikipedia.suggest(ing)"
   ]
  },
  {
   "cell_type": "code",
   "execution_count": 6,
   "metadata": {},
   "outputs": [],
   "source": [
    "wiki_ing = wikipedia.suggest(ing)"
   ]
  },
  {
   "cell_type": "code",
   "execution_count": 7,
   "metadata": {},
   "outputs": [
    {
     "data": {
      "text/plain": [
       "'Glycerol (; also called glycerine or glycerin) is a simple polyol compound. It is a colorless, odorless, viscous liquid that is sweet-tasting and non-toxic. The glycerol backbone is found in those lipids known as glycerides. Due to having antimicrobial and antiviral properties it is widely used in FDA approved wound and burn treatments. It can also be used as an effective marker to measure liver disease. It is also widely used as a sweetener in the food industry and as a humectant in pharmaceutical formulations. Owing to the presence of three hydroxyl groups, glycerol is miscible with water and is hygroscopic in nature.'"
      ]
     },
     "execution_count": 7,
     "metadata": {},
     "output_type": "execute_result"
    }
   ],
   "source": [
    "wikipedia.summary(wikipedia.suggest(ing))"
   ]
  },
  {
   "cell_type": "code",
   "execution_count": 15,
   "metadata": {},
   "outputs": [],
   "source": [
    "wp = wikipedia.page(wiki_ing)"
   ]
  },
  {
   "cell_type": "code",
   "execution_count": 19,
   "metadata": {},
   "outputs": [
    {
     "data": {
      "text/plain": [
       "[]"
      ]
     },
     "execution_count": 19,
     "metadata": {},
     "output_type": "execute_result"
    }
   ],
   "source": [
    "wp.sections  # boooo. Because Production isn't in Table Of Contents?"
   ]
  },
  {
   "cell_type": "code",
   "execution_count": 24,
   "metadata": {},
   "outputs": [
    {
     "data": {
      "text/plain": [
       "'Glycerol is generally obtained from plant and animal sources where it occurs in triglycerides, esters of glycerol with long-chain carboxylic acids. The hydrolysis, saponification, or transesterification of these triglycerides produces glycerol as well as the fatty acid derivative:\\n\\nTriglycerides can be saponified with sodium hydroxide to give glycerol and fatty sodium salt or soap.\\nTypical plant sources include soybeans or palm. Animal-derived tallow is another source. Approximately 950,000 tons per year are produced in the United States and Europe; 350,000 tons of glycerol were produced per year in the United States alone from 2000 to 2004. The EU directive 2003/30/EC set a requirement that 5.75% of petroleum fuels are to be replaced with biofuel sources across all member states by 2010. It was projected in 2006 that by the year 2020, production would be six times more than demand, creating an excess of glycerol.Glycerol from triglycerides is produced on a large scale, but the crude product is of variable quality, with a low selling price of as low as 2-5 U.S. cents per kilogram in 2011. It can be purified, but the process is expensive. Some glycerol is burned for energy, but its heat value is low.Crude glycerol from the hydrolysis of triglycerides can be purified by treatment with activated carbon to remove organic impurities, alkali to remove unreacted glycerol esters, and ion exchange to remove salts. High purity glycerol (> 99.5%) is obtained by multi-step distillation; vacuum is necessary due to its high boiling point (290 °C).'"
      ]
     },
     "execution_count": 24,
     "metadata": {},
     "output_type": "execute_result"
    }
   ],
   "source": [
    "wp.section('Production')  # oh but it shows up here."
   ]
  },
  {
   "cell_type": "code",
   "execution_count": null,
   "metadata": {},
   "outputs": [],
   "source": [
    "# test with an ing without a Production section."
   ]
  },
  {
   "cell_type": "code",
   "execution_count": null,
   "metadata": {},
   "outputs": [],
   "source": []
  },
  {
   "cell_type": "code",
   "execution_count": 25,
   "metadata": {},
   "outputs": [],
   "source": [
    "def get_wiki_suggested_ing(ing):\n",
    "    ing = lower(ing)\n",
    "    \n",
    "    try:\n",
    "        return wikipedia.suggest(ing)\n",
    "\n",
    "    except:\n",
    "        return None\n",
    "\n",
    "    \n",
    "def get_wiki_summary(wiki_ing):\n",
    "    # TODO deal with exceptions\n",
    "    \n",
    "    try:\n",
    "        return wikipedia.summary(wiki_ing)\n",
    "    except:\n",
    "        return None\n",
    "    \n",
    "    \n",
    "def get_wiki_production(wp_ing):\n",
    "    \n",
    "    wp = wikipedia.page(wiki_ing)\n",
    "    \n",
    "    try:\n",
    "        return wp.section('Production')\n",
    "    \n",
    "    except:\n",
    "        return None\n",
    "    \n",
    "    "
   ]
  },
  {
   "cell_type": "code",
   "execution_count": 26,
   "metadata": {},
   "outputs": [],
   "source": [
    "# well that's stupid easy so far..."
   ]
  },
  {
   "cell_type": "code",
   "execution_count": null,
   "metadata": {},
   "outputs": [],
   "source": []
  },
  {
   "cell_type": "code",
   "execution_count": 17,
   "metadata": {},
   "outputs": [],
   "source": [
    "def get_wiki_summary(wiki_ing):\n",
    "    if wikipedia.summary(wiki_ing) is not None:\n",
    "        return wikipedia.summary(wiki_ing)\n",
    "    else:\n",
    "        return ''\n",
    "\n",
    "\n",
    "def get_wiki_production(wiki_ing):\n",
    "    wp = wikipedia.page(wiki_ing)\n",
    "    if wp.section('Production') is not None:\n",
    "        return wp.section('Production')\n",
    "    else:\n",
    "        return ''\n"
   ]
  },
  {
   "cell_type": "code",
   "execution_count": null,
   "metadata": {},
   "outputs": [],
   "source": []
  },
  {
   "cell_type": "code",
   "execution_count": null,
   "metadata": {},
   "outputs": [],
   "source": []
  },
  {
   "cell_type": "code",
   "execution_count": 22,
   "metadata": {},
   "outputs": [],
   "source": [
    "ing = 'potassium sorbate'"
   ]
  },
  {
   "cell_type": "code",
   "execution_count": 23,
   "metadata": {},
   "outputs": [],
   "source": [
    "wikipedia.suggest(ing)"
   ]
  },
  {
   "cell_type": "code",
   "execution_count": 24,
   "metadata": {},
   "outputs": [],
   "source": [
    "wiki_ing = wikipedia.search(ing)[0]"
   ]
  },
  {
   "cell_type": "code",
   "execution_count": 25,
   "metadata": {},
   "outputs": [
    {
     "data": {
      "text/plain": [
       "'Potassium sorbate'"
      ]
     },
     "execution_count": 25,
     "metadata": {},
     "output_type": "execute_result"
    }
   ],
   "source": [
    "wiki_ing"
   ]
  },
  {
   "cell_type": "code",
   "execution_count": 27,
   "metadata": {},
   "outputs": [
    {
     "data": {
      "text/plain": [
       "\"Potassium sorbate is the potassium salt of sorbic acid, chemical formula CH3CH=CH−CH=CH−CO2K.  It is a white salt that is very soluble in water (58.2% at 20 °C).  It is primarily used as a food preservative (E number 202). Potassium sorbate is effective in a variety of applications including food, wine, and personal-care products. While sorbic acid occurs naturally in some berries, virtually all of the world's production of sorbic acid, from which potassium sorbate is derived, is manufactured synthetically.\""
      ]
     },
     "execution_count": 27,
     "metadata": {},
     "output_type": "execute_result"
    }
   ],
   "source": [
    "wikipedia.summary(wiki_ing)"
   ]
  },
  {
   "cell_type": "code",
   "execution_count": 28,
   "metadata": {},
   "outputs": [],
   "source": [
    "wp = wikipedia.page(wiki_ing)"
   ]
  },
  {
   "cell_type": "code",
   "execution_count": 29,
   "metadata": {},
   "outputs": [
    {
     "data": {
      "text/plain": [
       "'Potassium sorbate is produced industrially by neutralizing sorbic acid with potassium hydroxide.  The precursor sorbic acid is produced in a two-step process via the condensation of crotonaldehyde and ketene.'"
      ]
     },
     "execution_count": 29,
     "metadata": {},
     "output_type": "execute_result"
    }
   ],
   "source": [
    "wp.section(\"Production\")"
   ]
  },
  {
   "cell_type": "code",
   "execution_count": null,
   "metadata": {},
   "outputs": [],
   "source": []
  },
  {
   "cell_type": "code",
   "execution_count": 30,
   "metadata": {},
   "outputs": [
    {
     "data": {
      "text/plain": [
       "\"Potassium sorbate is the potassium salt of sorbic acid, chemical formula CH3CH=CH−CH=CH−CO2K.  It is a white salt that is very soluble in water (58.2% at 20 °C).  It is primarily used as a food preservative (E number 202). Potassium sorbate is effective in a variety of applications including food, wine, and personal-care products. While sorbic acid occurs naturally in some berries, virtually all of the world's production of sorbic acid, from which potassium sorbate is derived, is manufactured synthetically.\""
      ]
     },
     "execution_count": 30,
     "metadata": {},
     "output_type": "execute_result"
    }
   ],
   "source": [
    "get_wiki_summary(wiki_ing)"
   ]
  },
  {
   "cell_type": "code",
   "execution_count": 19,
   "metadata": {},
   "outputs": [
    {
     "data": {
      "text/plain": [
       "''"
      ]
     },
     "execution_count": 19,
     "metadata": {},
     "output_type": "execute_result"
    }
   ],
   "source": [
    "get_wiki_production(wiki_ing)"
   ]
  },
  {
   "cell_type": "code",
   "execution_count": 31,
   "metadata": {},
   "outputs": [],
   "source": [
    "wiki_phrase = get_wiki_summary(wiki_ing) + ' ' + get_wiki_production(wiki_ing)"
   ]
  },
  {
   "cell_type": "code",
   "execution_count": 32,
   "metadata": {},
   "outputs": [
    {
     "data": {
      "text/plain": [
       "\"Potassium sorbate is the potassium salt of sorbic acid, chemical formula CH3CH=CH−CH=CH−CO2K.  It is a white salt that is very soluble in water (58.2% at 20 °C).  It is primarily used as a food preservative (E number 202). Potassium sorbate is effective in a variety of applications including food, wine, and personal-care products. While sorbic acid occurs naturally in some berries, virtually all of the world's production of sorbic acid, from which potassium sorbate is derived, is manufactured synthetically. Potassium sorbate is produced industrially by neutralizing sorbic acid with potassium hydroxide.  The precursor sorbic acid is produced in a two-step process via the condensation of crotonaldehyde and ketene.\""
      ]
     },
     "execution_count": 32,
     "metadata": {},
     "output_type": "execute_result"
    }
   ],
   "source": [
    "wiki_phrase"
   ]
  },
  {
   "cell_type": "code",
   "execution_count": null,
   "metadata": {},
   "outputs": [],
   "source": []
  }
 ],
 "metadata": {
  "kernelspec": {
   "display_name": "vegan_parser",
   "language": "python",
   "name": "vegan_parser"
  },
  "language_info": {
   "codemirror_mode": {
    "name": "ipython",
    "version": 3
   },
   "file_extension": ".py",
   "mimetype": "text/x-python",
   "name": "python",
   "nbconvert_exporter": "python",
   "pygments_lexer": "ipython3",
   "version": "3.7.4"
  }
 },
 "nbformat": 4,
 "nbformat_minor": 4
}
