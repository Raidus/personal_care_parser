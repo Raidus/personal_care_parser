{
 "cells": [
  {
   "cell_type": "code",
   "execution_count": 1,
   "metadata": {},
   "outputs": [
    {
     "data": {
      "text/plain": [
       "'/Volumes/ja2/vegan/vegan_parser/notebooks'"
      ]
     },
     "execution_count": 1,
     "metadata": {},
     "output_type": "execute_result"
    }
   ],
   "source": [
    "pwd"
   ]
  },
  {
   "cell_type": "code",
   "execution_count": 2,
   "metadata": {},
   "outputs": [
    {
     "name": "stdout",
     "output_type": "stream",
     "text": [
      "/Volumes/ja2/vegan/vegan_parser\n"
     ]
    }
   ],
   "source": [
    "cd .."
   ]
  },
  {
   "cell_type": "code",
   "execution_count": 113,
   "metadata": {},
   "outputs": [],
   "source": [
    "import pickle"
   ]
  },
  {
   "cell_type": "code",
   "execution_count": 117,
   "metadata": {},
   "outputs": [],
   "source": [
    "from parsing import *  # only importing all for testing!  # text_only"
   ]
  },
  {
   "cell_type": "code",
   "execution_count": 118,
   "metadata": {},
   "outputs": [],
   "source": [
    "from flair.embeddings import BertEmbeddings\n",
    "from flair.embeddings import DocumentPoolEmbeddings\n",
    "\n",
    "# load embedding frameworks\n",
    "bert_embedding = BertEmbeddings(\"bert-base-uncased\")  # takes a long time to import!\n",
    "doc_embedding = DocumentPoolEmbeddings([bert_embedding], fine_tune_mode='nonlinear')\n",
    "\n"
   ]
  },
  {
   "cell_type": "code",
   "execution_count": 116,
   "metadata": {},
   "outputs": [],
   "source": [
    "# define ingredient embedddings file\n",
    "ings_dict_fp = '/Volumes/ja2/vegan/vegan_parser/data_source/ingredient_dictionary.p'\n",
    "\n",
    "try:\n",
    "    ings_dict = pickle.load(open(ings_dict_fp, \"rb\"))\n",
    "except FileNotFoundError:\n",
    "    \"Ingredients data not found!\"\n"
   ]
  },
  {
   "cell_type": "code",
   "execution_count": null,
   "metadata": {},
   "outputs": [],
   "source": []
  },
  {
   "cell_type": "code",
   "execution_count": null,
   "metadata": {},
   "outputs": [],
   "source": []
  },
  {
   "cell_type": "code",
   "execution_count": 13,
   "metadata": {},
   "outputs": [],
   "source": [
    "test_str = ' water/aqua, aloe vera barbadensis leaf juice, cetearyl olivate, sorbitan olivate, \\\n",
    "glycerin, helianthus annuus (sunflower) seed oil, carthamus tinctorius (safflower) seed oil, \\\n",
    "glyceryl laurate, cocoglycerides, glyceryl stearate se, colloidal oatmeal,\\\n",
    "limnanthes alba (meadowfoam) seed oil. theobroma cacao (cocoa) seed butter, \\\n",
    "hippophae rhamnoides (seabuckthorn) seed oil, olea europaea  (olive) fruit oil, \\\n",
    "squalane, xanthan gum, tocopherol  sodium levulinate, potassium sorbate. 7 a sa'"
   ]
  },
  {
   "cell_type": "code",
   "execution_count": 14,
   "metadata": {},
   "outputs": [
    {
     "data": {
      "text/plain": [
       "' water/aqua, aloe vera barbadensis leaf juice, cetearyl olivate, sorbitan olivate, glycerin, helianthus annuus (sunflower) seed oil, carthamus tinctorius (safflower) seed oil, glyceryl laurate, cocoglycerides, glyceryl stearate se, colloidal oatmeal,limnanthes alba (meadowfoam) seed oil. theobroma cacao (cocoa) seed butter, hippophae rhamnoides (seabuckthorn) seed oil, olea europaea  (olive) fruit oil, squalane, xanthan gum, tocopherol  sodium levulinate, potassium sorbate. 7 a sa'"
      ]
     },
     "execution_count": 14,
     "metadata": {},
     "output_type": "execute_result"
    }
   ],
   "source": [
    "test_str"
   ]
  },
  {
   "cell_type": "code",
   "execution_count": 15,
   "metadata": {},
   "outputs": [
    {
     "name": "stdout",
     "output_type": "stream",
     "text": [
      "cleaned_ings_list: ['aloe vera barbadensis leaf juice', 'cetearyl olivate', 'sorbitan olivate', 'glycerin', 'helianthus annuus (sunflower) seed oil', 'carthamus tinctorius (safflower) seed oil', 'glyceryl laurate', 'cocoglycerides', 'glyceryl stearate se', 'colloidal oatmeal', 'limnanthes alba (meadowfoam) seed oil', 'theobroma cacao (cocoa) seed butter', 'hippophae rhamnoides (seabuckthorn) seed oil', 'olea europaea (olive) fruit oil', 'squalane', 'xanthan gum', 'tocopherol sodium levulinate', 'potassium sorbate', '7 a sa']\n",
      "ings_dict_list: [None, {'data_availability': 'Limited', 'chemical_concerns': 'Use restrictions (low)', 'chemical_functions': 'hair conditioning agent and hair conditioning', 'chemical_about': 'cetearyl olivate is composed of cetearyl alcohol and fatty acids derived from olive oil.', 'min_score': 1, 'max_score': 1, 'mean_score': 1.0}, {'data_availability': 'None', 'chemical_concerns': nan, 'chemical_functions': 'surfactant - emulsifying agent and emulsifying', 'chemical_about': 'sorbitan olivate is a surfactant based on olive oil and sorbitol.', 'min_score': 1, 'max_score': 1, 'mean_score': 1.0}, {'data_availability': 'Good', 'chemical_concerns': 'Use restrictions (moderate)', 'chemical_functions': 'denaturant, fragrance ingredient, hair conditioning agent, humectant, oral care agent;oral health care drug, skin-conditioning agent - humectant, skin protectant, viscosity decreasing agent, perfuming, and solvent', 'chemical_about': \"glycerin (also called glycerol) is a naturally occurring alcohol compound and a component of many lipids. glycerin may be of animal or vegetable origin. this ingredient is listed in the peta's caring consumer guide as a byproduct of soap manufacture which typically uses animal fat.\", 'min_score': 1, 'max_score': 2, 'mean_score': 1.5}, {'data_availability': 'Fair', 'chemical_concerns': nan, 'chemical_functions': 'skin-conditioning agent - miscellaneous, skin-conditioning agent - occlusive, and emollient', 'chemical_about': 'sunflower oil is extracted from the seeds of the sunflower, helianthus annuus.', 'min_score': 1, 'max_score': 1, 'mean_score': 1.0}, {'data_availability': 'Fair', 'chemical_concerns': nan, 'chemical_functions': 'fragrance ingredient, skin-conditioning agent - occlusive, masking, and skin conditioning', 'chemical_about': 'safflower seed oil is obtained from the plant carthamus tinctorius; this ingredietn consists primarily of the triglycerides of linoleic acid.', 'min_score': 1, 'max_score': 1, 'mean_score': 1.0}, {'data_availability': 'Limited', 'chemical_concerns': 'Enhanced skin absorption, Use restrictions (moderate), and Contamination concerns (high)', 'chemical_functions': 'skin-conditioning agent - emollient, surfactant - emulsifying agent, emollient, and emulsifying', 'chemical_about': 'glyceryl laurate is a monoester of glycerin and lauric acid.', 'min_score': 1, 'max_score': 3, 'mean_score': 2.0}, {'data_availability': 'None', 'chemical_concerns': nan, 'chemical_functions': 'skin-conditioning agent - emollient, emollient, emulsifying, and skin conditioning', 'chemical_about': 'cocoglycerides is a mixture of mono, di and triglycerides derived from coconut oil.', 'min_score': 1, 'max_score': 1, 'mean_score': 1.0}, {'data_availability': 'Limited', 'chemical_concerns': nan, 'chemical_functions': 'surfactant - emulsifying agent and emulsifying', 'chemical_about': 'glyceryl stearate se (self-emulsifying) is a lipid used as surfactant and emulsifying agent.', 'min_score': 1, 'max_score': 1, 'mean_score': 1.0}, {'data_availability': 'Robust', 'chemical_concerns': nan, 'chemical_functions': 'abrasive, absorbent, bulking agent, skin protectant, bulking, and skin protecting', 'chemical_about': 'colloidal oatmeal is finely ground oatmeal.', 'min_score': 1, 'max_score': 1, 'mean_score': 1.0}, {'data_availability': 'Limited', 'chemical_concerns': nan, 'chemical_functions': 'skin-conditioning agent - occlusive, deodorant, and emollient', 'chemical_about': 'oil extracted from the seeds of the meadowfoam plant, limnanthes alba.', 'min_score': 1, 'max_score': 1, 'mean_score': 1.0}, {'data_availability': 'Limited', 'chemical_concerns': nan, 'chemical_functions': 'fragrance ingredient, skin-conditioning agent - occlusive, skin protectant, emollient, masking, skin conditioning, and skin protecting', 'chemical_about': 'cocoa butter is extracted from the roasted seeds of theobroma cacao, a tree native to the americas.', 'min_score': 1, 'max_score': 1, 'mean_score': 1.0}, None, {'data_availability': 'Fair', 'chemical_concerns': nan, 'chemical_functions': 'fragrance ingredient, skin-conditioning agent - occlusive, and perfuming', 'chemical_about': 'olive oil is extracted from the reipe fruit of olive tree, olea europaea.', 'min_score': 1, 'max_score': 1, 'mean_score': 1.0}, {'data_availability': 'Limited', 'chemical_concerns': nan, 'chemical_functions': 'hair conditioning agent, skin-conditioning agent - occlusive, emollient, hair conditioning, refatting, and skin conditioning', 'chemical_about': \"squalane is a naturally occuring lipid in both plants and animals. this ingredient is listed in the peta's caring consumer guide as primarily derived from animals, especially shark liver oil.\", 'min_score': 1, 'max_score': 1, 'mean_score': 1.0}, {'data_availability': 'Fair', 'chemical_concerns': nan, 'chemical_functions': 'binder, emulsion stabilizer, skin-conditioning agent - miscellaneous, surfactant -emulsifying agent, viscosity increasing agent - aqueous, binding, emulsifying, emulsion stabilising, gel forming, skin conditioning, surfactant, and viscosity controlling', 'chemical_about': 'xanthan gum is a polysaccharide, a sugar-based polymer produced by bacteria; it is used as a viscosity agent in personal care products and foods.', 'min_score': 1, 'max_score': 1, 'mean_score': 1.0}, None, {'data_availability': 'Limited', 'chemical_concerns': 'Non-reproductive organ system toxicity (low)', 'chemical_functions': 'fragrance ingredient and preservative', 'chemical_about': 'potassium sorbate is a potassium salt of sorbic acid, a naturally occuringantimicrobial compound; used as a preservative', 'min_score': 3, 'max_score': 3, 'mean_score': 3.0}, None]\n"
     ]
    }
   ],
   "source": [
    "# cleaned_ings_list, ings_dict_list = text_only(test_str, ings_dict)"
   ]
  },
  {
   "cell_type": "code",
   "execution_count": 18,
   "metadata": {},
   "outputs": [
    {
     "data": {
      "text/plain": [
       "[('aloe vera barbadensis leaf juice', None),\n",
       " ('hippophae rhamnoides (seabuckthorn) seed oil', None),\n",
       " ('tocopherol sodium levulinate', None),\n",
       " ('7 a sa', None)]"
      ]
     },
     "execution_count": 18,
     "metadata": {},
     "output_type": "execute_result"
    }
   ],
   "source": [
    "# look at the entries which were not found.\n",
    "\n",
    "[n for n in list(zip(cleaned_ings_list, ings_dict_list)) if not n[1]]"
   ]
  },
  {
   "cell_type": "code",
   "execution_count": null,
   "metadata": {},
   "outputs": [],
   "source": []
  },
  {
   "cell_type": "code",
   "execution_count": null,
   "metadata": {},
   "outputs": [],
   "source": [
    "# it looks like the auto-calculate and append the word vectors didn't quite work.\n",
    "# stepping through"
   ]
  },
  {
   "cell_type": "code",
   "execution_count": 20,
   "metadata": {},
   "outputs": [],
   "source": [
    "cleaned_ings_list = create_ingredients_list(test_str)\n",
    "ings_dict_list = []"
   ]
  },
  {
   "cell_type": "code",
   "execution_count": 21,
   "metadata": {},
   "outputs": [
    {
     "data": {
      "text/plain": [
       "['aloe vera barbadensis leaf juice',\n",
       " 'cetearyl olivate',\n",
       " 'sorbitan olivate',\n",
       " 'glycerin',\n",
       " 'helianthus annuus (sunflower) seed oil',\n",
       " 'carthamus tinctorius (safflower) seed oil',\n",
       " 'glyceryl laurate',\n",
       " 'cocoglycerides',\n",
       " 'glyceryl stearate se',\n",
       " 'colloidal oatmeal',\n",
       " 'limnanthes alba (meadowfoam) seed oil',\n",
       " 'theobroma cacao (cocoa) seed butter',\n",
       " 'hippophae rhamnoides (seabuckthorn) seed oil',\n",
       " 'olea europaea (olive) fruit oil',\n",
       " 'squalane',\n",
       " 'xanthan gum',\n",
       " 'tocopherol sodium levulinate',\n",
       " 'potassium sorbate',\n",
       " '7 a sa']"
      ]
     },
     "execution_count": 21,
     "metadata": {},
     "output_type": "execute_result"
    }
   ],
   "source": [
    "cleaned_ings_list"
   ]
  },
  {
   "cell_type": "code",
   "execution_count": 55,
   "metadata": {},
   "outputs": [],
   "source": [
    "# use one we know:  glycerin\n",
    "ing = 'glycerin'"
   ]
  },
  {
   "cell_type": "code",
   "execution_count": 56,
   "metadata": {},
   "outputs": [
    {
     "data": {
      "text/plain": [
       "True"
      ]
     },
     "execution_count": 56,
     "metadata": {},
     "output_type": "execute_result"
    }
   ],
   "source": [
    "not ings_dict[ing].get('vectors')"
   ]
  },
  {
   "cell_type": "code",
   "execution_count": null,
   "metadata": {},
   "outputs": [],
   "source": []
  },
  {
   "cell_type": "code",
   "execution_count": 57,
   "metadata": {},
   "outputs": [
    {
     "data": {
      "text/plain": [
       "{'data_availability': 'Good',\n",
       " 'chemical_concerns': 'Use restrictions (moderate)',\n",
       " 'chemical_functions': 'denaturant, fragrance ingredient, hair conditioning agent, humectant, oral care agent;oral health care drug, skin-conditioning agent - humectant, skin protectant, viscosity decreasing agent, perfuming, and solvent',\n",
       " 'chemical_about': \"glycerin (also called glycerol) is a naturally occurring alcohol compound and a component of many lipids. glycerin may be of animal or vegetable origin. this ingredient is listed in the peta's caring consumer guide as a byproduct of soap manufacture which typically uses animal fat.\",\n",
       " 'min_score': 1,\n",
       " 'max_score': 2,\n",
       " 'mean_score': 1.5}"
      ]
     },
     "execution_count": 57,
     "metadata": {},
     "output_type": "execute_result"
    }
   ],
   "source": [
    "ings_dict[ing]"
   ]
  },
  {
   "cell_type": "code",
   "execution_count": 58,
   "metadata": {},
   "outputs": [],
   "source": [
    "ing_entry: Dict = ings_dict.get(ing)"
   ]
  },
  {
   "cell_type": "code",
   "execution_count": 59,
   "metadata": {},
   "outputs": [
    {
     "data": {
      "text/plain": [
       "{'data_availability': 'Good',\n",
       " 'chemical_concerns': 'Use restrictions (moderate)',\n",
       " 'chemical_functions': 'denaturant, fragrance ingredient, hair conditioning agent, humectant, oral care agent;oral health care drug, skin-conditioning agent - humectant, skin protectant, viscosity decreasing agent, perfuming, and solvent',\n",
       " 'chemical_about': \"glycerin (also called glycerol) is a naturally occurring alcohol compound and a component of many lipids. glycerin may be of animal or vegetable origin. this ingredient is listed in the peta's caring consumer guide as a byproduct of soap manufacture which typically uses animal fat.\",\n",
       " 'min_score': 1,\n",
       " 'max_score': 2,\n",
       " 'mean_score': 1.5}"
      ]
     },
     "execution_count": 59,
     "metadata": {},
     "output_type": "execute_result"
    }
   ],
   "source": [
    "ing_entry"
   ]
  },
  {
   "cell_type": "code",
   "execution_count": 37,
   "metadata": {},
   "outputs": [
    {
     "name": "stdout",
     "output_type": "stream",
     "text": [
      "hi\n"
     ]
    }
   ],
   "source": [
    "if not ings_dict[ing].get('vectors'):\n",
    "    print('hi')"
   ]
  },
  {
   "cell_type": "code",
   "execution_count": 60,
   "metadata": {},
   "outputs": [
    {
     "data": {
      "text/plain": [
       "\"glycerin (also called glycerol) is a naturally occurring alcohol compound and a component of many lipids. glycerin may be of animal or vegetable origin. this ingredient is listed in the peta's caring consumer guide as a byproduct of soap manufacture which typically uses animal fat.\""
      ]
     },
     "execution_count": 60,
     "metadata": {},
     "output_type": "execute_result"
    }
   ],
   "source": [
    "ings_dict[ing].get('chemical_about')"
   ]
  },
  {
   "cell_type": "code",
   "execution_count": 66,
   "metadata": {},
   "outputs": [],
   "source": [
    "if not ings_dict[ing].get('ewg_vector'):\n",
    "    \n",
    "    phrase = ings_dict[ing].get('chemical_about')\n",
    "    if phrase:\n",
    "        ewg_docvec = phrase_to_docvec(phrase, doc_embedding)\n",
    "    else:\n",
    "        ewg_docvec = None\n",
    "\n",
    "    ings_dict = add_to_embedding_dict(ing, ings_dict, 'ewg', ewg_docvec)\n",
    "    ings_dict[ing]['ewg_vector'] = ewg_docvec\n",
    "\n",
    "else:\n",
    "    \n",
    "    ewg_docvec: Union[None, np.array] = ings_dict[ing]['vectors'].get(['ewg'])\n",
    "        \n",
    "ing_entry['ewg_vector'] = ewg_docvec"
   ]
  },
  {
   "cell_type": "code",
   "execution_count": 67,
   "metadata": {},
   "outputs": [
    {
     "data": {
      "text/plain": [
       "array([ 0.11312754, -0.04119314, -0.00609429, ..., -0.02175807,\n",
       "       -0.31495023,  0.17520998], dtype=float32)"
      ]
     },
     "execution_count": 67,
     "metadata": {},
     "output_type": "execute_result"
    }
   ],
   "source": [
    "ings_dict[ing].get('ewg_vector')"
   ]
  },
  {
   "cell_type": "code",
   "execution_count": 68,
   "metadata": {},
   "outputs": [],
   "source": [
    "phrase = ings_dict[ing].get('chemical_about')"
   ]
  },
  {
   "cell_type": "code",
   "execution_count": 69,
   "metadata": {},
   "outputs": [
    {
     "data": {
      "text/plain": [
       "\"glycerin (also called glycerol) is a naturally occurring alcohol compound and a component of many lipids. glycerin may be of animal or vegetable origin. this ingredient is listed in the peta's caring consumer guide as a byproduct of soap manufacture which typically uses animal fat.\""
      ]
     },
     "execution_count": 69,
     "metadata": {},
     "output_type": "execute_result"
    }
   ],
   "source": [
    "phrase"
   ]
  },
  {
   "cell_type": "code",
   "execution_count": 70,
   "metadata": {},
   "outputs": [],
   "source": [
    "ewg_docvec = phrase_to_docvec(phrase, doc_embedding)"
   ]
  },
  {
   "cell_type": "code",
   "execution_count": 71,
   "metadata": {},
   "outputs": [
    {
     "data": {
      "text/plain": [
       "array([ 0.11312754, -0.04119314, -0.00609429, ..., -0.02175807,\n",
       "       -0.31495023,  0.17520998], dtype=float32)"
      ]
     },
     "execution_count": 71,
     "metadata": {},
     "output_type": "execute_result"
    }
   ],
   "source": [
    "ewg_docvec"
   ]
  },
  {
   "cell_type": "code",
   "execution_count": 72,
   "metadata": {},
   "outputs": [
    {
     "data": {
      "text/plain": [
       "{'data_availability': 'Good',\n",
       " 'chemical_concerns': 'Use restrictions (moderate)',\n",
       " 'chemical_functions': 'denaturant, fragrance ingredient, hair conditioning agent, humectant, oral care agent;oral health care drug, skin-conditioning agent - humectant, skin protectant, viscosity decreasing agent, perfuming, and solvent',\n",
       " 'chemical_about': \"glycerin (also called glycerol) is a naturally occurring alcohol compound and a component of many lipids. glycerin may be of animal or vegetable origin. this ingredient is listed in the peta's caring consumer guide as a byproduct of soap manufacture which typically uses animal fat.\",\n",
       " 'min_score': 1,\n",
       " 'max_score': 2,\n",
       " 'mean_score': 1.5,\n",
       " 'ewg_vector': array([ 0.11312754, -0.04119314, -0.00609429, ..., -0.02175807,\n",
       "        -0.31495023,  0.17520998], dtype=float32)}"
      ]
     },
     "execution_count": 72,
     "metadata": {},
     "output_type": "execute_result"
    }
   ],
   "source": [
    "ing_entry"
   ]
  },
  {
   "cell_type": "code",
   "execution_count": 91,
   "metadata": {},
   "outputs": [
    {
     "data": {
      "text/plain": [
       "'Glycerol (; also called glycerine or glycerin) is a simple polyol compound. It is a colorless, odorless, viscous liquid that is sweet-tasting and non-toxic. The glycerol backbone is found in those lipids known as glycerides. Due to having antimicrobial and antiviral properties it is widely used in FDA approved wound and burn treatments. It can also be used as an effective marker to measure liver disease. It is also widely used as a sweetener in the food industry and as a humectant in pharmaceutical formulations. Owing to the presence of three hydroxyl groups, glycerol is miscible with water and is hygroscopic in nature. Glycerol is generally obtained from plant and animal sources where it occurs in triglycerides, esters of glycerol with long-chain carboxylic acids. The hydrolysis, saponification, or transesterification of these triglycerides produces glycerol as well as the fatty acid derivative:\\n\\nTriglycerides can be saponified with sodium hydroxide to give glycerol and fatty sodium salt or soap.\\nTypical plant sources include soybeans or palm. Animal-derived tallow is another source. Approximately 950,000 tons per year are produced in the United States and Europe; 350,000 tons of glycerol were produced per year in the United States alone from 2000 to 2004. The EU directive 2003/30/EC set a requirement that 5.75% of petroleum fuels are to be replaced with biofuel sources across all member states by 2010. It was projected in 2006 that by the year 2020, production would be six times more than demand, creating an excess of glycerol.Glycerol from triglycerides is produced on a large scale, but the crude product is of variable quality, with a low selling price of as low as 2-5 U.S. cents per kilogram in 2011. It can be purified, but the process is expensive. Some glycerol is burned for energy, but its heat value is low.Crude glycerol from the hydrolysis of triglycerides can be purified by treatment with activated carbon to remove organic impurities, alkali to remove unreacted glycerol esters, and ion exchange to remove salts. High purity glycerol (> 99.5%) is obtained by multi-step distillation; vacuum is necessary due to its high boiling point (290 °C).'"
      ]
     },
     "execution_count": 91,
     "metadata": {},
     "output_type": "execute_result"
    }
   ],
   "source": [
    "phrase"
   ]
  },
  {
   "cell_type": "code",
   "execution_count": 110,
   "metadata": {},
   "outputs": [],
   "source": [
    "# phrase to docvec again\n",
    "phrase_s = Sentence(phrase[:2000].lower(), use_tokenizer=True)\n"
   ]
  },
  {
   "cell_type": "code",
   "execution_count": null,
   "metadata": {},
   "outputs": [],
   "source": []
  },
  {
   "cell_type": "code",
   "execution_count": 90,
   "metadata": {
    "collapsed": true,
    "jupyter": {
     "outputs_hidden": true,
     "source_hidden": true
    }
   },
   "outputs": [
    {
     "ename": "AttributeError",
     "evalue": "'Token' object has no attribute 'tokens'",
     "output_type": "error",
     "traceback": [
      "\u001b[0;31m---------------------------------------------------------------------------\u001b[0m",
      "\u001b[0;31mAttributeError\u001b[0m                            Traceback (most recent call last)",
      "\u001b[0;32m<ipython-input-90-6fd75d76be81>\u001b[0m in \u001b[0;36m<module>\u001b[0;34m\u001b[0m\n\u001b[1;32m      3\u001b[0m     \u001b[0mphrase\u001b[0m \u001b[0;34m=\u001b[0m \u001b[0mget_wiki_phrase\u001b[0m\u001b[0;34m(\u001b[0m\u001b[0ming\u001b[0m\u001b[0;34m)\u001b[0m\u001b[0;34m\u001b[0m\u001b[0;34m\u001b[0m\u001b[0m\n\u001b[1;32m      4\u001b[0m     \u001b[0;32mif\u001b[0m \u001b[0mphrase\u001b[0m\u001b[0;34m:\u001b[0m\u001b[0;34m\u001b[0m\u001b[0;34m\u001b[0m\u001b[0m\n\u001b[0;32m----> 5\u001b[0;31m         \u001b[0mwiki_docvec\u001b[0m \u001b[0;34m=\u001b[0m \u001b[0mphrase_to_docvec\u001b[0m\u001b[0;34m(\u001b[0m\u001b[0mphrase\u001b[0m\u001b[0;34m,\u001b[0m \u001b[0mdoc_embedding\u001b[0m\u001b[0;34m)\u001b[0m\u001b[0;34m\u001b[0m\u001b[0;34m\u001b[0m\u001b[0m\n\u001b[0m\u001b[1;32m      6\u001b[0m     \u001b[0;32melse\u001b[0m\u001b[0;34m:\u001b[0m\u001b[0;34m\u001b[0m\u001b[0;34m\u001b[0m\u001b[0m\n\u001b[1;32m      7\u001b[0m         \u001b[0mwiki_docvec\u001b[0m \u001b[0;34m=\u001b[0m \u001b[0;32mNone\u001b[0m\u001b[0;34m\u001b[0m\u001b[0;34m\u001b[0m\u001b[0m\n",
      "\u001b[0;32m/Volumes/ja2/vegan/vegan_parser/parsing.py\u001b[0m in \u001b[0;36mphrase_to_docvec\u001b[0;34m(phrase, doc_embedding)\u001b[0m\n\u001b[1;32m    116\u001b[0m     \u001b[0mphrase_s\u001b[0m \u001b[0;34m=\u001b[0m \u001b[0mSentence\u001b[0m\u001b[0;34m(\u001b[0m\u001b[0mphrase\u001b[0m\u001b[0;34m.\u001b[0m\u001b[0mlower\u001b[0m\u001b[0;34m(\u001b[0m\u001b[0;34m)\u001b[0m\u001b[0;34m,\u001b[0m \u001b[0muse_tokenizer\u001b[0m\u001b[0;34m=\u001b[0m\u001b[0;32mTrue\u001b[0m\u001b[0;34m)\u001b[0m  \u001b[0;31m# need to lower, since we're using the uncased version\u001b[0m\u001b[0;34m\u001b[0m\u001b[0;34m\u001b[0m\u001b[0m\n\u001b[1;32m    117\u001b[0m     \u001b[0mphrase_s\u001b[0m \u001b[0;34m=\u001b[0m \u001b[0mphrase_s\u001b[0m\u001b[0;34m[\u001b[0m\u001b[0;34m:\u001b[0m\u001b[0;36m512\u001b[0m\u001b[0;34m]\u001b[0m  \u001b[0;31m# to verify we won't go beyond size limit, truncate\u001b[0m\u001b[0;34m\u001b[0m\u001b[0;34m\u001b[0m\u001b[0m\n\u001b[0;32m--> 118\u001b[0;31m     \u001b[0mdoc_embedding\u001b[0m\u001b[0;34m.\u001b[0m\u001b[0membed\u001b[0m\u001b[0;34m(\u001b[0m\u001b[0mphrase_s\u001b[0m\u001b[0;34m)\u001b[0m\u001b[0;34m\u001b[0m\u001b[0;34m\u001b[0m\u001b[0m\n\u001b[0m\u001b[1;32m    119\u001b[0m     \u001b[0mphrase_emb_tensor\u001b[0m \u001b[0;34m=\u001b[0m \u001b[0mphrase_s\u001b[0m\u001b[0;34m.\u001b[0m\u001b[0mget_embedding\u001b[0m\u001b[0;34m(\u001b[0m\u001b[0;34m)\u001b[0m  \u001b[0;31m# get_embedding() returns a torch.FloatTensor\u001b[0m\u001b[0;34m\u001b[0m\u001b[0;34m\u001b[0m\u001b[0m\n\u001b[1;32m    120\u001b[0m \u001b[0;34m\u001b[0m\u001b[0m\n",
      "\u001b[0;32m~/.local/share/virtualenvs/vegan_parser-ujjCMVkc/lib/python3.7/site-packages/flair/embeddings.py\u001b[0m in \u001b[0;36membed\u001b[0;34m(self, sentences)\u001b[0m\n\u001b[1;32m   2558\u001b[0m             \u001b[0msentences\u001b[0m \u001b[0;34m=\u001b[0m \u001b[0;34m[\u001b[0m\u001b[0msentences\u001b[0m\u001b[0;34m]\u001b[0m\u001b[0;34m\u001b[0m\u001b[0;34m\u001b[0m\u001b[0m\n\u001b[1;32m   2559\u001b[0m \u001b[0;34m\u001b[0m\u001b[0m\n\u001b[0;32m-> 2560\u001b[0;31m         \u001b[0mself\u001b[0m\u001b[0;34m.\u001b[0m\u001b[0membeddings\u001b[0m\u001b[0;34m.\u001b[0m\u001b[0membed\u001b[0m\u001b[0;34m(\u001b[0m\u001b[0msentences\u001b[0m\u001b[0;34m)\u001b[0m\u001b[0;34m\u001b[0m\u001b[0;34m\u001b[0m\u001b[0m\n\u001b[0m\u001b[1;32m   2561\u001b[0m \u001b[0;34m\u001b[0m\u001b[0m\n\u001b[1;32m   2562\u001b[0m         \u001b[0;32mfor\u001b[0m \u001b[0msentence\u001b[0m \u001b[0;32min\u001b[0m \u001b[0msentences\u001b[0m\u001b[0;34m:\u001b[0m\u001b[0;34m\u001b[0m\u001b[0;34m\u001b[0m\u001b[0m\n",
      "\u001b[0;32m~/.local/share/virtualenvs/vegan_parser-ujjCMVkc/lib/python3.7/site-packages/flair/embeddings.py\u001b[0m in \u001b[0;36membed\u001b[0;34m(self, sentences, static_embeddings)\u001b[0m\n\u001b[1;32m    147\u001b[0m \u001b[0;34m\u001b[0m\u001b[0m\n\u001b[1;32m    148\u001b[0m         \u001b[0;32mfor\u001b[0m \u001b[0membedding\u001b[0m \u001b[0;32min\u001b[0m \u001b[0mself\u001b[0m\u001b[0;34m.\u001b[0m\u001b[0membeddings\u001b[0m\u001b[0;34m:\u001b[0m\u001b[0;34m\u001b[0m\u001b[0;34m\u001b[0m\u001b[0m\n\u001b[0;32m--> 149\u001b[0;31m             \u001b[0membedding\u001b[0m\u001b[0;34m.\u001b[0m\u001b[0membed\u001b[0m\u001b[0;34m(\u001b[0m\u001b[0msentences\u001b[0m\u001b[0;34m)\u001b[0m\u001b[0;34m\u001b[0m\u001b[0;34m\u001b[0m\u001b[0m\n\u001b[0m\u001b[1;32m    150\u001b[0m \u001b[0;34m\u001b[0m\u001b[0m\n\u001b[1;32m    151\u001b[0m     \u001b[0;34m@\u001b[0m\u001b[0mproperty\u001b[0m\u001b[0;34m\u001b[0m\u001b[0;34m\u001b[0m\u001b[0m\n",
      "\u001b[0;32m~/.local/share/virtualenvs/vegan_parser-ujjCMVkc/lib/python3.7/site-packages/flair/embeddings.py\u001b[0m in \u001b[0;36membed\u001b[0;34m(self, sentences)\u001b[0m\n\u001b[1;32m     70\u001b[0m         \u001b[0;32mif\u001b[0m \u001b[0mself\u001b[0m\u001b[0;34m.\u001b[0m\u001b[0membedding_type\u001b[0m \u001b[0;34m==\u001b[0m \u001b[0;34m\"word-level\"\u001b[0m\u001b[0;34m:\u001b[0m\u001b[0;34m\u001b[0m\u001b[0;34m\u001b[0m\u001b[0m\n\u001b[1;32m     71\u001b[0m             \u001b[0;32mfor\u001b[0m \u001b[0msentence\u001b[0m \u001b[0;32min\u001b[0m \u001b[0msentences\u001b[0m\u001b[0;34m:\u001b[0m\u001b[0;34m\u001b[0m\u001b[0;34m\u001b[0m\u001b[0m\n\u001b[0;32m---> 72\u001b[0;31m                 \u001b[0;32mfor\u001b[0m \u001b[0mtoken\u001b[0m \u001b[0;32min\u001b[0m \u001b[0msentence\u001b[0m\u001b[0;34m.\u001b[0m\u001b[0mtokens\u001b[0m\u001b[0;34m:\u001b[0m\u001b[0;34m\u001b[0m\u001b[0;34m\u001b[0m\u001b[0m\n\u001b[0m\u001b[1;32m     73\u001b[0m                     \u001b[0;32mif\u001b[0m \u001b[0mself\u001b[0m\u001b[0;34m.\u001b[0m\u001b[0mname\u001b[0m \u001b[0;32mnot\u001b[0m \u001b[0;32min\u001b[0m \u001b[0mtoken\u001b[0m\u001b[0;34m.\u001b[0m\u001b[0m_embeddings\u001b[0m\u001b[0;34m.\u001b[0m\u001b[0mkeys\u001b[0m\u001b[0;34m(\u001b[0m\u001b[0;34m)\u001b[0m\u001b[0;34m:\u001b[0m\u001b[0;34m\u001b[0m\u001b[0;34m\u001b[0m\u001b[0m\n\u001b[1;32m     74\u001b[0m                         \u001b[0meverything_embedded\u001b[0m \u001b[0;34m=\u001b[0m \u001b[0;32mFalse\u001b[0m\u001b[0;34m\u001b[0m\u001b[0;34m\u001b[0m\u001b[0m\n",
      "\u001b[0;31mAttributeError\u001b[0m: 'Token' object has no attribute 'tokens'"
     ]
    }
   ],
   "source": [
    "if not ings_dict[ing].get('wiki_vector'):\n",
    "    # use the wikipedia entry to create a document vector\n",
    "    phrase = get_wiki_phrase(ing)\n",
    "    if phrase:\n",
    "        wiki_docvec = phrase_to_docvec(phrase, doc_embedding)\n",
    "    else:\n",
    "        wiki_docvec = None\n",
    "    ings_dict = add_to_embedding_dict(ing, ings_dict, 'wiki', wiki_docvec)\n",
    "    ings_dict[ing]['wiki_vector'] = wiki_docvec\n",
    "else:\n",
    "    wiki_docvec: Union[None, np.array] = ings_dict.get('wiki_vector')\n",
    "\n",
    "ing_entry['wiki_vector'] = wiki_docvec\n"
   ]
  },
  {
   "cell_type": "code",
   "execution_count": 78,
   "metadata": {},
   "outputs": [
    {
     "data": {
      "text/plain": [
       "'glycerin'"
      ]
     },
     "execution_count": 78,
     "metadata": {},
     "output_type": "execute_result"
    }
   ],
   "source": [
    "ing"
   ]
  },
  {
   "cell_type": "code",
   "execution_count": null,
   "metadata": {},
   "outputs": [],
   "source": [
    "# BOOOO.... getting misatched sequence things. I need to cut off the tokens."
   ]
  },
  {
   "cell_type": "code",
   "execution_count": 81,
   "metadata": {},
   "outputs": [
    {
     "data": {
      "text/plain": [
       "(3072,)"
      ]
     },
     "execution_count": 81,
     "metadata": {},
     "output_type": "execute_result"
    }
   ],
   "source": [
    "# What's the shapeof the ewg vector?  # (3072,)\n",
    "\n",
    "ing_entry['ewg_vector'].shape"
   ]
  },
  {
   "cell_type": "code",
   "execution_count": null,
   "metadata": {},
   "outputs": [],
   "source": []
  },
  {
   "cell_type": "code",
   "execution_count": 82,
   "metadata": {},
   "outputs": [
    {
     "data": {
      "text/plain": [
       "'Glycerol (; also called glycerine or glycerin) is a simple polyol compound. It is a colorless, odorless, viscous liquid that is sweet-tasting and non-toxic. The glycerol backbone is found in those lipids known as glycerides. Due to having antimicrobial and antiviral properties it is widely used in FDA approved wound and burn treatments. It can also be used as an effective marker to measure liver disease. It is also widely used as a sweetener in the food industry and as a humectant in pharmaceutical formulations. Owing to the presence of three hydroxyl groups, glycerol is miscible with water and is hygroscopic in nature. Glycerol is generally obtained from plant and animal sources where it occurs in triglycerides, esters of glycerol with long-chain carboxylic acids. The hydrolysis, saponification, or transesterification of these triglycerides produces glycerol as well as the fatty acid derivative:\\n\\nTriglycerides can be saponified with sodium hydroxide to give glycerol and fatty sodium salt or soap.\\nTypical plant sources include soybeans or palm. Animal-derived tallow is another source. Approximately 950,000 tons per year are produced in the United States and Europe; 350,000 tons of glycerol were produced per year in the United States alone from 2000 to 2004. The EU directive 2003/30/EC set a requirement that 5.75% of petroleum fuels are to be replaced with biofuel sources across all member states by 2010. It was projected in 2006 that by the year 2020, production would be six times more than demand, creating an excess of glycerol.Glycerol from triglycerides is produced on a large scale, but the crude product is of variable quality, with a low selling price of as low as 2-5 U.S. cents per kilogram in 2011. It can be purified, but the process is expensive. Some glycerol is burned for energy, but its heat value is low.Crude glycerol from the hydrolysis of triglycerides can be purified by treatment with activated carbon to remove organic impurities, alkali to remove unreacted glycerol esters, and ion exchange to remove salts. High purity glycerol (> 99.5%) is obtained by multi-step distillation; vacuum is necessary due to its high boiling point (290 °C).'"
      ]
     },
     "execution_count": 82,
     "metadata": {},
     "output_type": "execute_result"
    }
   ],
   "source": [
    "# stepping into phrase_to_docvec\n",
    "phrase"
   ]
  },
  {
   "cell_type": "code",
   "execution_count": 83,
   "metadata": {},
   "outputs": [],
   "source": [
    "phrase_s = Sentence(phrase.lower(), use_tokenizer=True)"
   ]
  },
  {
   "cell_type": "code",
   "execution_count": 85,
   "metadata": {
    "collapsed": true,
    "jupyter": {
     "outputs_hidden": true
    }
   },
   "outputs": [
    {
     "data": {
      "text/plain": [
       "[Token: 1 glycerol,\n",
       " Token: 2 (,\n",
       " Token: 3 ;,\n",
       " Token: 4 also,\n",
       " Token: 5 called,\n",
       " Token: 6 glycerine,\n",
       " Token: 7 or,\n",
       " Token: 8 glycerin,\n",
       " Token: 9 ),\n",
       " Token: 10 is,\n",
       " Token: 11 a,\n",
       " Token: 12 simple,\n",
       " Token: 13 polyol,\n",
       " Token: 14 compound,\n",
       " Token: 15 .,\n",
       " Token: 16 it,\n",
       " Token: 17 is,\n",
       " Token: 18 a,\n",
       " Token: 19 colorless,\n",
       " Token: 20 ,,\n",
       " Token: 21 odorless,\n",
       " Token: 22 ,,\n",
       " Token: 23 viscous,\n",
       " Token: 24 liquid,\n",
       " Token: 25 that,\n",
       " Token: 26 is,\n",
       " Token: 27 sweet-tasting,\n",
       " Token: 28 and,\n",
       " Token: 29 non-toxic,\n",
       " Token: 30 .,\n",
       " Token: 31 the,\n",
       " Token: 32 glycerol,\n",
       " Token: 33 backbone,\n",
       " Token: 34 is,\n",
       " Token: 35 found,\n",
       " Token: 36 in,\n",
       " Token: 37 those,\n",
       " Token: 38 lipids,\n",
       " Token: 39 known,\n",
       " Token: 40 as,\n",
       " Token: 41 glycerides,\n",
       " Token: 42 .,\n",
       " Token: 43 due,\n",
       " Token: 44 to,\n",
       " Token: 45 having,\n",
       " Token: 46 antimicrobial,\n",
       " Token: 47 and,\n",
       " Token: 48 antiviral,\n",
       " Token: 49 properties,\n",
       " Token: 50 it,\n",
       " Token: 51 is,\n",
       " Token: 52 widely,\n",
       " Token: 53 used,\n",
       " Token: 54 in,\n",
       " Token: 55 fda,\n",
       " Token: 56 approved,\n",
       " Token: 57 wound,\n",
       " Token: 58 and,\n",
       " Token: 59 burn,\n",
       " Token: 60 treatments,\n",
       " Token: 61 .,\n",
       " Token: 62 it,\n",
       " Token: 63 can,\n",
       " Token: 64 also,\n",
       " Token: 65 be,\n",
       " Token: 66 used,\n",
       " Token: 67 as,\n",
       " Token: 68 an,\n",
       " Token: 69 effective,\n",
       " Token: 70 marker,\n",
       " Token: 71 to,\n",
       " Token: 72 measure,\n",
       " Token: 73 liver,\n",
       " Token: 74 disease,\n",
       " Token: 75 .,\n",
       " Token: 76 it,\n",
       " Token: 77 is,\n",
       " Token: 78 also,\n",
       " Token: 79 widely,\n",
       " Token: 80 used,\n",
       " Token: 81 as,\n",
       " Token: 82 a,\n",
       " Token: 83 sweetener,\n",
       " Token: 84 in,\n",
       " Token: 85 the,\n",
       " Token: 86 food,\n",
       " Token: 87 industry,\n",
       " Token: 88 and,\n",
       " Token: 89 as,\n",
       " Token: 90 a,\n",
       " Token: 91 humectant,\n",
       " Token: 92 in,\n",
       " Token: 93 pharmaceutical,\n",
       " Token: 94 formulations,\n",
       " Token: 95 .,\n",
       " Token: 96 owing,\n",
       " Token: 97 to,\n",
       " Token: 98 the,\n",
       " Token: 99 presence,\n",
       " Token: 100 of,\n",
       " Token: 101 three,\n",
       " Token: 102 hydroxyl,\n",
       " Token: 103 groups,\n",
       " Token: 104 ,,\n",
       " Token: 105 glycerol,\n",
       " Token: 106 is,\n",
       " Token: 107 miscible,\n",
       " Token: 108 with,\n",
       " Token: 109 water,\n",
       " Token: 110 and,\n",
       " Token: 111 is,\n",
       " Token: 112 hygroscopic,\n",
       " Token: 113 in,\n",
       " Token: 114 nature,\n",
       " Token: 115 .,\n",
       " Token: 116 glycerol,\n",
       " Token: 117 is,\n",
       " Token: 118 generally,\n",
       " Token: 119 obtained,\n",
       " Token: 120 from,\n",
       " Token: 121 plant,\n",
       " Token: 122 and,\n",
       " Token: 123 animal,\n",
       " Token: 124 sources,\n",
       " Token: 125 where,\n",
       " Token: 126 it,\n",
       " Token: 127 occurs,\n",
       " Token: 128 in,\n",
       " Token: 129 triglycerides,\n",
       " Token: 130 ,,\n",
       " Token: 131 esters,\n",
       " Token: 132 of,\n",
       " Token: 133 glycerol,\n",
       " Token: 134 with,\n",
       " Token: 135 long-chain,\n",
       " Token: 136 carboxylic,\n",
       " Token: 137 acids,\n",
       " Token: 138 .,\n",
       " Token: 139 the,\n",
       " Token: 140 hydrolysis,\n",
       " Token: 141 ,,\n",
       " Token: 142 saponification,\n",
       " Token: 143 ,,\n",
       " Token: 144 or,\n",
       " Token: 145 transesterification,\n",
       " Token: 146 of,\n",
       " Token: 147 these,\n",
       " Token: 148 triglycerides,\n",
       " Token: 149 produces,\n",
       " Token: 150 glycerol,\n",
       " Token: 151 as,\n",
       " Token: 152 well,\n",
       " Token: 153 as,\n",
       " Token: 154 the,\n",
       " Token: 155 fatty,\n",
       " Token: 156 acid,\n",
       " Token: 157 derivative,\n",
       " Token: 158 :,\n",
       " Token: 159 triglycerides,\n",
       " Token: 160 can,\n",
       " Token: 161 be,\n",
       " Token: 162 saponified,\n",
       " Token: 163 with,\n",
       " Token: 164 sodium,\n",
       " Token: 165 hydroxide,\n",
       " Token: 166 to,\n",
       " Token: 167 give,\n",
       " Token: 168 glycerol,\n",
       " Token: 169 and,\n",
       " Token: 170 fatty,\n",
       " Token: 171 sodium,\n",
       " Token: 172 salt,\n",
       " Token: 173 or,\n",
       " Token: 174 soap,\n",
       " Token: 175 .,\n",
       " Token: 176 typical,\n",
       " Token: 177 plant,\n",
       " Token: 178 sources,\n",
       " Token: 179 include,\n",
       " Token: 180 soybeans,\n",
       " Token: 181 or,\n",
       " Token: 182 palm,\n",
       " Token: 183 .,\n",
       " Token: 184 animal-derived,\n",
       " Token: 185 tallow,\n",
       " Token: 186 is,\n",
       " Token: 187 another,\n",
       " Token: 188 source,\n",
       " Token: 189 .,\n",
       " Token: 190 approximately,\n",
       " Token: 191 950,000,\n",
       " Token: 192 tons,\n",
       " Token: 193 per,\n",
       " Token: 194 year,\n",
       " Token: 195 are,\n",
       " Token: 196 produced,\n",
       " Token: 197 in,\n",
       " Token: 198 the,\n",
       " Token: 199 united,\n",
       " Token: 200 states,\n",
       " Token: 201 and,\n",
       " Token: 202 europe,\n",
       " Token: 203 ;,\n",
       " Token: 204 350,000,\n",
       " Token: 205 tons,\n",
       " Token: 206 of,\n",
       " Token: 207 glycerol,\n",
       " Token: 208 were,\n",
       " Token: 209 produced,\n",
       " Token: 210 per,\n",
       " Token: 211 year,\n",
       " Token: 212 in,\n",
       " Token: 213 the,\n",
       " Token: 214 united,\n",
       " Token: 215 states,\n",
       " Token: 216 alone,\n",
       " Token: 217 from,\n",
       " Token: 218 2000,\n",
       " Token: 219 to,\n",
       " Token: 220 2004,\n",
       " Token: 221 .,\n",
       " Token: 222 the,\n",
       " Token: 223 eu,\n",
       " Token: 224 directive,\n",
       " Token: 225 2003,\n",
       " Token: 226 /,\n",
       " Token: 227 30,\n",
       " Token: 228 /,\n",
       " Token: 229 ec,\n",
       " Token: 230 set,\n",
       " Token: 231 a,\n",
       " Token: 232 requirement,\n",
       " Token: 233 that,\n",
       " Token: 234 5.75,\n",
       " Token: 235 %,\n",
       " Token: 236 of,\n",
       " Token: 237 petroleum,\n",
       " Token: 238 fuels,\n",
       " Token: 239 are,\n",
       " Token: 240 to,\n",
       " Token: 241 be,\n",
       " Token: 242 replaced,\n",
       " Token: 243 with,\n",
       " Token: 244 biofuel,\n",
       " Token: 245 sources,\n",
       " Token: 246 across,\n",
       " Token: 247 all,\n",
       " Token: 248 member,\n",
       " Token: 249 states,\n",
       " Token: 250 by,\n",
       " Token: 251 2010,\n",
       " Token: 252 .,\n",
       " Token: 253 it,\n",
       " Token: 254 was,\n",
       " Token: 255 projected,\n",
       " Token: 256 in,\n",
       " Token: 257 2006,\n",
       " Token: 258 that,\n",
       " Token: 259 by,\n",
       " Token: 260 the,\n",
       " Token: 261 year,\n",
       " Token: 262 2020,\n",
       " Token: 263 ,,\n",
       " Token: 264 production,\n",
       " Token: 265 would,\n",
       " Token: 266 be,\n",
       " Token: 267 six,\n",
       " Token: 268 times,\n",
       " Token: 269 more,\n",
       " Token: 270 than,\n",
       " Token: 271 demand,\n",
       " Token: 272 ,,\n",
       " Token: 273 creating,\n",
       " Token: 274 an,\n",
       " Token: 275 excess,\n",
       " Token: 276 of,\n",
       " Token: 277 glycerol.glycerol,\n",
       " Token: 278 from,\n",
       " Token: 279 triglycerides,\n",
       " Token: 280 is,\n",
       " Token: 281 produced,\n",
       " Token: 282 on,\n",
       " Token: 283 a,\n",
       " Token: 284 large,\n",
       " Token: 285 scale,\n",
       " Token: 286 ,,\n",
       " Token: 287 but,\n",
       " Token: 288 the,\n",
       " Token: 289 crude,\n",
       " Token: 290 product,\n",
       " Token: 291 is,\n",
       " Token: 292 of,\n",
       " Token: 293 variable,\n",
       " Token: 294 quality,\n",
       " Token: 295 ,,\n",
       " Token: 296 with,\n",
       " Token: 297 a,\n",
       " Token: 298 low,\n",
       " Token: 299 selling,\n",
       " Token: 300 price,\n",
       " Token: 301 of,\n",
       " Token: 302 as,\n",
       " Token: 303 low,\n",
       " Token: 304 as,\n",
       " Token: 305 2-5,\n",
       " Token: 306 u.s.,\n",
       " Token: 307 cents,\n",
       " Token: 308 per,\n",
       " Token: 309 kilogram,\n",
       " Token: 310 in,\n",
       " Token: 311 2011,\n",
       " Token: 312 .,\n",
       " Token: 313 it,\n",
       " Token: 314 can,\n",
       " Token: 315 be,\n",
       " Token: 316 purified,\n",
       " Token: 317 ,,\n",
       " Token: 318 but,\n",
       " Token: 319 the,\n",
       " Token: 320 process,\n",
       " Token: 321 is,\n",
       " Token: 322 expensive,\n",
       " Token: 323 .,\n",
       " Token: 324 some,\n",
       " Token: 325 glycerol,\n",
       " Token: 326 is,\n",
       " Token: 327 burned,\n",
       " Token: 328 for,\n",
       " Token: 329 energy,\n",
       " Token: 330 ,,\n",
       " Token: 331 but,\n",
       " Token: 332 its,\n",
       " Token: 333 heat,\n",
       " Token: 334 value,\n",
       " Token: 335 is,\n",
       " Token: 336 low.crude,\n",
       " Token: 337 glycerol,\n",
       " Token: 338 from,\n",
       " Token: 339 the,\n",
       " Token: 340 hydrolysis,\n",
       " Token: 341 of,\n",
       " Token: 342 triglycerides,\n",
       " Token: 343 can,\n",
       " Token: 344 be,\n",
       " Token: 345 purified,\n",
       " Token: 346 by,\n",
       " Token: 347 treatment,\n",
       " Token: 348 with,\n",
       " Token: 349 activated,\n",
       " Token: 350 carbon,\n",
       " Token: 351 to,\n",
       " Token: 352 remove,\n",
       " Token: 353 organic,\n",
       " Token: 354 impurities,\n",
       " Token: 355 ,,\n",
       " Token: 356 alkali,\n",
       " Token: 357 to,\n",
       " Token: 358 remove,\n",
       " Token: 359 unreacted,\n",
       " Token: 360 glycerol,\n",
       " Token: 361 esters,\n",
       " Token: 362 ,,\n",
       " Token: 363 and,\n",
       " Token: 364 ion,\n",
       " Token: 365 exchange,\n",
       " Token: 366 to,\n",
       " Token: 367 remove,\n",
       " Token: 368 salts,\n",
       " Token: 369 .,\n",
       " Token: 370 high,\n",
       " Token: 371 purity,\n",
       " Token: 372 glycerol,\n",
       " Token: 373 (>,\n",
       " Token: 374 99.5,\n",
       " Token: 375 %),\n",
       " Token: 376 is,\n",
       " Token: 377 obtained,\n",
       " Token: 378 by,\n",
       " Token: 379 multi-step,\n",
       " Token: 380 distillation,\n",
       " Token: 381 ;,\n",
       " Token: 382 vacuum,\n",
       " Token: 383 is,\n",
       " Token: 384 necessary,\n",
       " Token: 385 due,\n",
       " Token: 386 to,\n",
       " Token: 387 its,\n",
       " Token: 388 high,\n",
       " Token: 389 boiling,\n",
       " Token: 390 point,\n",
       " Token: 391 (,\n",
       " Token: 392 290,\n",
       " Token: 393 °,\n",
       " Token: 394 c,\n",
       " Token: 395 ),\n",
       " Token: 396 .]"
      ]
     },
     "execution_count": 85,
     "metadata": {},
     "output_type": "execute_result"
    }
   ],
   "source": [
    "phrase_s[:512]"
   ]
  },
  {
   "cell_type": "code",
   "execution_count": 86,
   "metadata": {},
   "outputs": [],
   "source": [
    "send = 'sdfgszfgrskdgjfhklvjdnx'\n",
    "\n",
    "send1 = send[:500]\n"
   ]
  },
  {
   "cell_type": "code",
   "execution_count": 87,
   "metadata": {},
   "outputs": [
    {
     "data": {
      "text/plain": [
       "'sdfgszfgrskdgjfhklvjdnx'"
      ]
     },
     "execution_count": 87,
     "metadata": {},
     "output_type": "execute_result"
    }
   ],
   "source": [
    "send1"
   ]
  },
  {
   "cell_type": "code",
   "execution_count": 53,
   "metadata": {},
   "outputs": [],
   "source": [
    "# ings_dict[ing_name].update({'wiki_vector': doc_vector})\n",
    "\n",
    "# ings_dict[ing_name].update({'ewg_vector': doc_vector})\n"
   ]
  },
  {
   "cell_type": "code",
   "execution_count": null,
   "metadata": {},
   "outputs": [],
   "source": []
  },
  {
   "cell_type": "markdown",
   "metadata": {},
   "source": [
    "# Let's build up document strings for plant, mineral, vegetable"
   ]
  },
  {
   "cell_type": "code",
   "execution_count": 121,
   "metadata": {},
   "outputs": [],
   "source": [
    "def get_wiki_summary(wiki_ing):\n",
    "    try:\n",
    "        return wikipedia.summary(wiki_ing)\n",
    "    except:\n",
    "        return ''\n",
    "\n",
    "\n",
    "def get_wiki_production(wiki_ing):\n",
    "    wp = wikipedia.page(wiki_ing)\n",
    "    try:\n",
    "        return wp.section('Production')\n",
    "    except:\n",
    "        return ''\n",
    "\n",
    "\n",
    "def get_wiki_phrase(ing: str):\n",
    "    '''Get the wikipedia string that concats the summary and if it exists, Production sections'''\n",
    "    wiki_ing = get_wiki_suggested_ing(ing)\n",
    "    wiki_phrase = get_wiki_summary(wiki_ing) + ' ' + get_wiki_production(wiki_ing)\n",
    "\n",
    "    if wiki_phrase == ' ':\n",
    "        print(f'WARNING: {ing} has no summary or production sections, or was not detected in wikipedia!')\n",
    "\n",
    "    return wiki_phrase\n",
    "\n"
   ]
  },
  {
   "cell_type": "code",
   "execution_count": 123,
   "metadata": {},
   "outputs": [],
   "source": [
    "def phrase_to_docvec(phrase: str, doc_embedding=doc_embedding):\n",
    "    # need to crop the phrase to the first 2000 characters unless I want to look up more things. Should be good enough.\n",
    "    phrase_s = Sentence(phrase[:2000].lower(), use_tokenizer=True)  # need to lower, since we're using the uncased version\n",
    "    doc_embedding.embed(phrase_s)\n",
    "    phrase_emb_tensor = phrase_s.get_embedding()  # get_embedding() returns a torch.FloatTensor\n",
    "\n",
    "    return np.array(phrase_emb_tensor.data)\n"
   ]
  },
  {
   "cell_type": "markdown",
   "metadata": {},
   "source": [
    "# plant"
   ]
  },
  {
   "cell_type": "code",
   "execution_count": 124,
   "metadata": {},
   "outputs": [],
   "source": [
    "plant = get_wiki_summary('plant')"
   ]
  },
  {
   "cell_type": "code",
   "execution_count": 125,
   "metadata": {},
   "outputs": [],
   "source": [
    "plant = plant[:2000]"
   ]
  },
  {
   "cell_type": "code",
   "execution_count": 126,
   "metadata": {},
   "outputs": [
    {
     "data": {
      "text/plain": [
       "'Plants are mainly multicellular, predominantly photosynthetic eukaryotes of the kingdom Plantae. Historically, plants were treated as one of two kingdoms including all living things that were not animals, and all algae and fungi were treated as plants. However, all current definitions of Plantae exclude the fungi and some algae, as well as the prokaryotes (the archaea and bacteria). By one definition, plants form the clade Viridiplantae (Latin name for \"green plants\"), a group that includes the flowering plants, conifers and other gymnosperms, ferns and their allies, hornworts, liverworts, mosses and the green algae, but excludes the red and brown algae.\\nGreen plants obtain most of their energy from sunlight via photosynthesis by primary chloroplasts that are derived from endosymbiosis with cyanobacteria. Their chloroplasts contain chlorophylls a and b, which gives them their green color. Some plants are parasitic or mycotrophic and have lost the ability to produce normal amounts of chlorophyll or to photosynthesize. Plants are characterized by sexual reproduction and alternation of generations, although asexual reproduction is also common.\\nThere are about 320,000 species of plants, of which the great majority, some 260–290 thousand, produce seeds. Green plants provide a substantial proportion of the world\\'s molecular oxygen, and are the basis of most of Earth\\'s ecosystems. Plants that produce grain, fruit and vegetables also form basic human foods and have been domesticated for millennia. Plants have many cultural and other uses, as ornaments, building materials, writing material and, in great variety, they have been the source of medicines and psychoactive drugs. The scientific study of plants is known as botany, a branch of biology.'"
      ]
     },
     "execution_count": 126,
     "metadata": {},
     "output_type": "execute_result"
    }
   ],
   "source": [
    "plant"
   ]
  },
  {
   "cell_type": "code",
   "execution_count": 134,
   "metadata": {},
   "outputs": [],
   "source": [
    "plant_doc_vec = phrase_to_docvec(plant, doc_embedding) # took a little while...\n",
    "\n"
   ]
  },
  {
   "cell_type": "code",
   "execution_count": 135,
   "metadata": {},
   "outputs": [],
   "source": [
    "plant_vec = phrase_to_docvec('plant', doc_embedding)"
   ]
  },
  {
   "cell_type": "code",
   "execution_count": 136,
   "metadata": {},
   "outputs": [],
   "source": [
    "from scipy.spatial.distance import cosine as cosine_distance"
   ]
  },
  {
   "cell_type": "code",
   "execution_count": 137,
   "metadata": {},
   "outputs": [],
   "source": [
    "# if this worked, plant and plant_doc vectors should be similar..."
   ]
  },
  {
   "cell_type": "code",
   "execution_count": 140,
   "metadata": {},
   "outputs": [
    {
     "data": {
      "text/plain": [
       "0.0"
      ]
     },
     "execution_count": 140,
     "metadata": {},
     "output_type": "execute_result"
    }
   ],
   "source": [
    "# identical vectors\n",
    "cosine_distance([1, 1],[1, 1])"
   ]
  },
  {
   "cell_type": "code",
   "execution_count": 139,
   "metadata": {},
   "outputs": [
    {
     "data": {
      "text/plain": [
       "1.0995037190209989"
      ]
     },
     "execution_count": 139,
     "metadata": {},
     "output_type": "execute_result"
    }
   ],
   "source": [
    "# far apart vectors\n",
    "cosine_distance([0, 2], [40, -4])"
   ]
  },
  {
   "cell_type": "code",
   "execution_count": 141,
   "metadata": {},
   "outputs": [
    {
     "data": {
      "text/plain": [
       "0.48332643508911133"
      ]
     },
     "execution_count": 141,
     "metadata": {},
     "output_type": "execute_result"
    }
   ],
   "source": [
    "cosine_distance(plant_vec, plant_doc_vec)  # hmmm"
   ]
  },
  {
   "cell_type": "code",
   "execution_count": null,
   "metadata": {},
   "outputs": [],
   "source": []
  },
  {
   "cell_type": "code",
   "execution_count": null,
   "metadata": {},
   "outputs": [],
   "source": []
  },
  {
   "cell_type": "code",
   "execution_count": null,
   "metadata": {},
   "outputs": [],
   "source": []
  },
  {
   "cell_type": "code",
   "execution_count": 130,
   "metadata": {},
   "outputs": [],
   "source": [
    "animal = get_wiki_summary('animal')"
   ]
  },
  {
   "cell_type": "code",
   "execution_count": 131,
   "metadata": {},
   "outputs": [
    {
     "data": {
      "text/plain": [
       "'Animals are multicellular eukaryotic organisms that form the biological kingdom Animalia. With few exceptions, animals consume organic material, breathe oxygen, are able to move, can reproduce sexually, and grow from a hollow sphere of cells, the blastula, during embryonic development. Over 1.5 million living animal species have been described—of which around 1 million are insects—but it has been estimated there are over 7 million animal species in total. Animals range in length from 8.5 millionths of a metre to 33.6 metres (110 ft). They have complex interactions with each other and their environments, forming intricate food webs. The kingdom Animalia includes humans, but in colloquial use the term animal often refers only to non-human animals. The study of non-human animals is known as zoology.\\nMost living animal species are in the Bilateria, a clade whose members have a bilaterally symmetric body plan. The Bilateria include the protostomes—in which many groups of invertebrates are found, such as nematodes, arthropods, and molluscs—and the deuterostomes, containing both the echinoderms as well as the chordates, the latter containing the vertebrates. Life forms interpreted as early animals were present in the Ediacaran biota of the late Precambrian. Many modern animal phyla became clearly established in the fossil record as marine species during the Cambrian explosion, which began around 542 million years ago. 6,331 groups of genes common to all living animals have been identified; these may have arisen from a single common ancestor that lived 650 million years ago.\\nHistorically, Aristotle divided animals into those with blood and those without. Carl Linnaeus created the first hierarchical biological classification for animals in 1758 with his Systema Naturae, which Jean-Baptiste Lamarck expanded into 14 phyla by 1809. In 1874, Ernst Haeckel divided the animal kingdom into the multicellular Metazoa (synonymous for Animalia) and the Protozoa, single-celled organisms no longer considered animals. In modern times, the biological classification of animals relies on advanced techniques, such as molecular phylogenetics, which are effective at demonstrating the evolutionary relationships between animal taxa.\\nHumans make use of many other animal species, such as for food (including meat, milk, and eggs), for materials (such as leather and wool), and also as pets, and for transports, as working animals. Dogs have been used in hunting, while many terrestrial and aquatic animals were hunted for sports. Non-human animals have appeared in art from the earliest times and are featured in mythology and religion.'"
      ]
     },
     "execution_count": 131,
     "metadata": {},
     "output_type": "execute_result"
    }
   ],
   "source": [
    "animal"
   ]
  },
  {
   "cell_type": "code",
   "execution_count": 132,
   "metadata": {},
   "outputs": [],
   "source": [
    "animal = animal[:2000]"
   ]
  },
  {
   "cell_type": "code",
   "execution_count": 133,
   "metadata": {},
   "outputs": [
    {
     "data": {
      "text/plain": [
       "'Animals are multicellular eukaryotic organisms that form the biological kingdom Animalia. With few exceptions, animals consume organic material, breathe oxygen, are able to move, can reproduce sexually, and grow from a hollow sphere of cells, the blastula, during embryonic development. Over 1.5 million living animal species have been described—of which around 1 million are insects—but it has been estimated there are over 7 million animal species in total. Animals range in length from 8.5 millionths of a metre to 33.6 metres (110 ft). They have complex interactions with each other and their environments, forming intricate food webs. The kingdom Animalia includes humans, but in colloquial use the term animal often refers only to non-human animals. The study of non-human animals is known as zoology.\\nMost living animal species are in the Bilateria, a clade whose members have a bilaterally symmetric body plan. The Bilateria include the protostomes—in which many groups of invertebrates are found, such as nematodes, arthropods, and molluscs—and the deuterostomes, containing both the echinoderms as well as the chordates, the latter containing the vertebrates. Life forms interpreted as early animals were present in the Ediacaran biota of the late Precambrian. Many modern animal phyla became clearly established in the fossil record as marine species during the Cambrian explosion, which began around 542 million years ago. 6,331 groups of genes common to all living animals have been identified; these may have arisen from a single common ancestor that lived 650 million years ago.\\nHistorically, Aristotle divided animals into those with blood and those without. Carl Linnaeus created the first hierarchical biological classification for animals in 1758 with his Systema Naturae, which Jean-Baptiste Lamarck expanded into 14 phyla by 1809. In 1874, Ernst Haeckel divided the animal kingdom into the multicellular Metazoa (synonymous for Animalia) and the Protozoa, single-celled organisms'"
      ]
     },
     "execution_count": 133,
     "metadata": {},
     "output_type": "execute_result"
    }
   ],
   "source": [
    "animal"
   ]
  },
  {
   "cell_type": "code",
   "execution_count": 142,
   "metadata": {},
   "outputs": [],
   "source": [
    "animal_doc_vec = phrase_to_docvec(animal, doc_embedding) # took a little while...\n"
   ]
  },
  {
   "cell_type": "code",
   "execution_count": 143,
   "metadata": {},
   "outputs": [],
   "source": [
    "animal_vec = phrase_to_docvec('animal', doc_embedding)"
   ]
  },
  {
   "cell_type": "code",
   "execution_count": 144,
   "metadata": {},
   "outputs": [
    {
     "data": {
      "text/plain": [
       "0.4930190443992615"
      ]
     },
     "execution_count": 144,
     "metadata": {},
     "output_type": "execute_result"
    }
   ],
   "source": [
    "cosine_distance(animal_vec, animal_doc_vec)  # hmmm"
   ]
  },
  {
   "cell_type": "code",
   "execution_count": null,
   "metadata": {},
   "outputs": [],
   "source": []
  },
  {
   "cell_type": "code",
   "execution_count": 145,
   "metadata": {},
   "outputs": [
    {
     "data": {
      "text/plain": [
       "0.029354989528656006"
      ]
     },
     "execution_count": 145,
     "metadata": {},
     "output_type": "execute_result"
    }
   ],
   "source": [
    "# now let's see how far apart these are from plant.\n",
    "cosine_distance(animal_doc_vec, plant_doc_vec)"
   ]
  },
  {
   "cell_type": "code",
   "execution_count": 146,
   "metadata": {},
   "outputs": [],
   "source": [
    "# oh geez, that...didn't work at all?"
   ]
  },
  {
   "cell_type": "code",
   "execution_count": 147,
   "metadata": {},
   "outputs": [
    {
     "data": {
      "text/plain": [
       "0.3510635495185852"
      ]
     },
     "execution_count": 147,
     "metadata": {},
     "output_type": "execute_result"
    }
   ],
   "source": [
    "cosine_distance(animal_vec, plant_vec) "
   ]
  },
  {
   "cell_type": "code",
   "execution_count": null,
   "metadata": {},
   "outputs": [],
   "source": []
  },
  {
   "cell_type": "code",
   "execution_count": 149,
   "metadata": {},
   "outputs": [],
   "source": [
    "mineral = get_wiki_summary('mineral')"
   ]
  },
  {
   "cell_type": "code",
   "execution_count": 150,
   "metadata": {},
   "outputs": [
    {
     "data": {
      "text/plain": [
       "'A mineral is, broadly speaking, a solid chemical compound that occurs naturally in pure form.  Minerals are most commonly associated with rocks due to the presence of minerals within rocks.  These rocks may consist of one type of mineral, or may be an aggregate of two or more different types of minerals, spacially segregated into distinct phases. Compounds that occur only in living beings are usually excluded, but some minerals are often biogenic (such as calcite) or are organic compounds in the sense of chemistry (such as mellite). Moreover, living beings often synthesize inorganic minerals (such as hydroxylapatite) that also occur in rocks.\\nIn geology and mineralogy, the term \"mineral\" is usually reserved for mineral species: crystalline compounds with a fairly well-defined chemical composition and a specific crystal structure. Minerals without a definite crystalline structure, such as opal or obsidian, are then more properly called mineraloids.  If a chemical compound may occur naturally with different crystal structures, each structure is considered different mineral species.  Thus, for example, quartz and stishovite are two different minerals consisting of the same compound, silicon dioxide.\\nThe International Mineralogical Association (IMA) is the world\\'s premier standard body for the definition and nomenclature of mineral species. As of November 2018, the IMA recognizes 5,413 official mineral species. out of more than 5,500 proposed or traditional ones.The chemical composition of a named mineral species may vary somewhat by the inclusion of small amounts of impurities.  Specific varieties of a species sometimes have conventional or official names of their own. For example, amethyst is a purple variety of the mineral species quartz.  Some mineral species can have variable proportions of two or more chemical elements that occupy equivalent positions in the mineral\\'s structure; for example, the formula of mackinawite is given as (Fe,Ni)9S8, meaning FexNi9-xS8, where x is a variable number between 0 and 9.  Sometimes a mineral with variable composition is split into separate species, more or less arbitrarily, forming a mineral group; that is the case of the silicates CaxMgyFe2-x-ySiO4, the olivine group.\\nBesides the essential chemical composition and crystal structure, the description of a mineral species usually includes its common physical properties such as  habit, hardness, lustre, diaphaneity, colour, streak, tenacity, cleavage, fracture, parting, specific gravity, magnetism, fluorescence, radioactivity, as well as its taste or smell and its reaction to acid.\\nMinerals are classified by key chemical constituents; the two dominant systems are the Dana classification and the Strunz classification. Silicate minerals comprise approximately 90% of the Earth\\'s crust. Other important mineral groups include the native elements, sulfides, oxides, halides, carbonates, sulfates, and phosphates.\\n\\n'"
      ]
     },
     "execution_count": 150,
     "metadata": {},
     "output_type": "execute_result"
    }
   ],
   "source": [
    "mineral"
   ]
  },
  {
   "cell_type": "code",
   "execution_count": 151,
   "metadata": {},
   "outputs": [],
   "source": [
    "mineral = mineral[:2000]"
   ]
  },
  {
   "cell_type": "code",
   "execution_count": 152,
   "metadata": {},
   "outputs": [
    {
     "data": {
      "text/plain": [
       "'A mineral is, broadly speaking, a solid chemical compound that occurs naturally in pure form.  Minerals are most commonly associated with rocks due to the presence of minerals within rocks.  These rocks may consist of one type of mineral, or may be an aggregate of two or more different types of minerals, spacially segregated into distinct phases. Compounds that occur only in living beings are usually excluded, but some minerals are often biogenic (such as calcite) or are organic compounds in the sense of chemistry (such as mellite). Moreover, living beings often synthesize inorganic minerals (such as hydroxylapatite) that also occur in rocks.\\nIn geology and mineralogy, the term \"mineral\" is usually reserved for mineral species: crystalline compounds with a fairly well-defined chemical composition and a specific crystal structure. Minerals without a definite crystalline structure, such as opal or obsidian, are then more properly called mineraloids.  If a chemical compound may occur naturally with different crystal structures, each structure is considered different mineral species.  Thus, for example, quartz and stishovite are two different minerals consisting of the same compound, silicon dioxide.\\nThe International Mineralogical Association (IMA) is the world\\'s premier standard body for the definition and nomenclature of mineral species. As of November 2018, the IMA recognizes 5,413 official mineral species. out of more than 5,500 proposed or traditional ones.The chemical composition of a named mineral species may vary somewhat by the inclusion of small amounts of impurities.  Specific varieties of a species sometimes have conventional or official names of their own. For example, amethyst is a purple variety of the mineral species quartz.  Some mineral species can have variable proportions of two or more chemical elements that occupy equivalent positions in the mineral\\'s structure; for example, the formula of mackinawite is given as (Fe,Ni)9S8, meaning FexNi9-xS8, wh'"
      ]
     },
     "execution_count": 152,
     "metadata": {},
     "output_type": "execute_result"
    }
   ],
   "source": [
    "mineral"
   ]
  },
  {
   "cell_type": "code",
   "execution_count": 153,
   "metadata": {},
   "outputs": [],
   "source": [
    "mineral_doc_vec = phrase_to_docvec(mineral, doc_embedding)"
   ]
  },
  {
   "cell_type": "code",
   "execution_count": 154,
   "metadata": {},
   "outputs": [],
   "source": [
    "mineral_vec = phrase_to_docvec('mineral', doc_embedding)"
   ]
  },
  {
   "cell_type": "code",
   "execution_count": 155,
   "metadata": {},
   "outputs": [
    {
     "data": {
      "text/plain": [
       "0.4762849807739258"
      ]
     },
     "execution_count": 155,
     "metadata": {},
     "output_type": "execute_result"
    }
   ],
   "source": [
    "cosine_distance(mineral_vec, mineral_doc_vec)"
   ]
  },
  {
   "cell_type": "code",
   "execution_count": 156,
   "metadata": {},
   "outputs": [
    {
     "data": {
      "text/plain": [
       "0.0450669527053833"
      ]
     },
     "execution_count": 156,
     "metadata": {},
     "output_type": "execute_result"
    }
   ],
   "source": [
    "cosine_distance(animal_doc_vec, mineral_doc_vec)"
   ]
  },
  {
   "cell_type": "code",
   "execution_count": 160,
   "metadata": {},
   "outputs": [
    {
     "data": {
      "text/plain": [
       "0.029354989528656006"
      ]
     },
     "execution_count": 160,
     "metadata": {},
     "output_type": "execute_result"
    }
   ],
   "source": [
    "cosine_distance(animal_doc_vec, plant_doc_vec)"
   ]
  },
  {
   "cell_type": "code",
   "execution_count": 161,
   "metadata": {},
   "outputs": [
    {
     "data": {
      "text/plain": [
       "0.04653722047805786"
      ]
     },
     "execution_count": 161,
     "metadata": {},
     "output_type": "execute_result"
    }
   ],
   "source": [
    "cosine_distance(mineral_doc_vec, plant_doc_vec)"
   ]
  },
  {
   "cell_type": "code",
   "execution_count": 157,
   "metadata": {},
   "outputs": [
    {
     "data": {
      "text/plain": [
       "0.36557966470718384"
      ]
     },
     "execution_count": 157,
     "metadata": {},
     "output_type": "execute_result"
    }
   ],
   "source": [
    "cosine_distance(mineral_vec, animal_vec)"
   ]
  },
  {
   "cell_type": "code",
   "execution_count": 158,
   "metadata": {},
   "outputs": [
    {
     "data": {
      "text/plain": [
       "0.3831496834754944"
      ]
     },
     "execution_count": 158,
     "metadata": {},
     "output_type": "execute_result"
    }
   ],
   "source": [
    "cosine_distance(plant_vec, mineral_vec)"
   ]
  },
  {
   "cell_type": "code",
   "execution_count": 159,
   "metadata": {},
   "outputs": [
    {
     "data": {
      "text/plain": [
       "0.3510635495185852"
      ]
     },
     "execution_count": 159,
     "metadata": {},
     "output_type": "execute_result"
    }
   ],
   "source": [
    "cosine_distance(plant_vec, animal_vec)"
   ]
  },
  {
   "cell_type": "code",
   "execution_count": 162,
   "metadata": {},
   "outputs": [],
   "source": [
    "# Okay, so terms are all similar vecors.\n",
    "# But, the distanes seem so small for the doc vectors"
   ]
  },
  {
   "cell_type": "code",
   "execution_count": null,
   "metadata": {},
   "outputs": [],
   "source": []
  },
  {
   "cell_type": "code",
   "execution_count": 163,
   "metadata": {},
   "outputs": [],
   "source": [
    "# Will have to test."
   ]
  },
  {
   "cell_type": "code",
   "execution_count": null,
   "metadata": {},
   "outputs": [],
   "source": []
  }
 ],
 "metadata": {
  "kernelspec": {
   "display_name": "vegan_parser",
   "language": "python",
   "name": "vegan_parser"
  },
  "language_info": {
   "codemirror_mode": {
    "name": "ipython",
    "version": 3
   },
   "file_extension": ".py",
   "mimetype": "text/x-python",
   "name": "python",
   "nbconvert_exporter": "python",
   "pygments_lexer": "ipython3",
   "version": "3.7.4"
  }
 },
 "nbformat": 4,
 "nbformat_minor": 4
}
