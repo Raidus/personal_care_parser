{
 "cells": [
  {
   "cell_type": "code",
   "execution_count": 2,
   "metadata": {},
   "outputs": [
    {
     "name": "stdout",
     "output_type": "stream",
     "text": [
      "/Volumes/ja2/vegan/vegan_parser\n"
     ]
    }
   ],
   "source": [
    "cd .."
   ]
  },
  {
   "cell_type": "code",
   "execution_count": 13,
   "metadata": {},
   "outputs": [],
   "source": [
    "import pickle"
   ]
  },
  {
   "cell_type": "code",
   "execution_count": 19,
   "metadata": {},
   "outputs": [],
   "source": [
    "from parsing import text_only"
   ]
  },
  {
   "cell_type": "code",
   "execution_count": 14,
   "metadata": {},
   "outputs": [],
   "source": [
    "# define ingredient embedddings file\n",
    "ings_dict_fp = '/Volumes/ja2/vegan/vegan_parser/data_source/ingredient_dictionary.p'\n",
    "\n",
    "try:\n",
    "    ings_dict = pickle.load(open(ings_dict_fp, \"rb\"))\n",
    "except FileNotFoundError:\n",
    "    \"Ingredients data not found!\"\n"
   ]
  },
  {
   "cell_type": "code",
   "execution_count": 15,
   "metadata": {},
   "outputs": [],
   "source": [
    "test_str = ' water/aqua, aloe vera barbadensis leaf juice, cetearyl olivate, sorbitan olivate, glycerin, helianthus annuus (sunflower) seed oil, carthamus tinctorius (safflower) seed oil, glyceryl laurate, cocoglycerides, glyceryl stearate se, colloidal oatmeal, limnanthes alba (meadowfoam) seed oil. theobroma cacao (cocoa) seed butter, hippophae rhamnoides (seabuckthorn) seed oil, olea europaea  (olive) fruit oil, squalane, xanthan gum, tocopherol  sodium levulinate, potassium sorbate. 7 a sa'"
   ]
  },
  {
   "cell_type": "code",
   "execution_count": 16,
   "metadata": {},
   "outputs": [
    {
     "data": {
      "text/plain": [
       "' water/aqua, aloe vera barbadensis leaf juice, cetearyl olivate, sorbitan olivate, glycerin, helianthus annuus (sunflower) seed oil, carthamus tinctorius (safflower) seed oil, glyceryl laurate, cocoglycerides, glyceryl stearate se, colloidal oatmeal, limnanthes alba (meadowfoam) seed oil. theobroma cacao (cocoa) seed butter, hippophae rhamnoides (seabuckthorn) seed oil, olea europaea  (olive) fruit oil, squalane, xanthan gum, tocopherol  sodium levulinate, potassium sorbate. 7 a sa'"
      ]
     },
     "execution_count": 16,
     "metadata": {},
     "output_type": "execute_result"
    }
   ],
   "source": [
    "test_str"
   ]
  },
  {
   "cell_type": "code",
   "execution_count": 21,
   "metadata": {},
   "outputs": [
    {
     "name": "stdout",
     "output_type": "stream",
     "text": [
      "cleaned_ings_list: ['aloe vera barbadensis leaf juice', 'cetearyl olivate', 'sorbitan olivate', 'glycerin', 'helianthus annuus (sunflower) seed oil', 'carthamus tinctorius (safflower) seed oil', 'glyceryl laurate', 'cocoglycerides', 'glyceryl stearate se', 'colloidal oatmeal', 'limnanthes alba (meadowfoam) seed oil', 'theobroma cacao (cocoa) seed butter', 'hippophae rhamnoides (seabuckthorn) seed oil', 'olea europaea (olive) fruit oil', 'squalane', 'xanthan gum', 'tocopherol sodium levulinate', 'potassium sorbate', '7 a sa']\n",
      "ings_dict_list: ['DID NOT FIND', {'data_availability': 'Limited', 'chemical_concerns': 'Use restrictions (low)', 'chemical_functions': 'hair conditioning agent and hair conditioning', 'chemical_about': 'cetearyl olivate is composed of cetearyl alcohol and fatty acids derived from olive oil.', 'min_score': 1, 'max_score': 1, 'mean_score': 1.0}, {'data_availability': 'None', 'chemical_concerns': nan, 'chemical_functions': 'surfactant - emulsifying agent and emulsifying', 'chemical_about': 'sorbitan olivate is a surfactant based on olive oil and sorbitol.', 'min_score': 1, 'max_score': 1, 'mean_score': 1.0}, {'data_availability': 'Good', 'chemical_concerns': 'Use restrictions (moderate)', 'chemical_functions': 'denaturant, fragrance ingredient, hair conditioning agent, humectant, oral care agent;oral health care drug, skin-conditioning agent - humectant, skin protectant, viscosity decreasing agent, perfuming, and solvent', 'chemical_about': \"glycerin (also called glycerol) is a naturally occurring alcohol compound and a component of many lipids. glycerin may be of animal or vegetable origin. this ingredient is listed in the peta's caring consumer guide as a byproduct of soap manufacture which typically uses animal fat.\", 'min_score': 1, 'max_score': 2, 'mean_score': 1.5}, {'data_availability': 'Fair', 'chemical_concerns': nan, 'chemical_functions': 'skin-conditioning agent - miscellaneous, skin-conditioning agent - occlusive, and emollient', 'chemical_about': 'sunflower oil is extracted from the seeds of the sunflower, helianthus annuus.', 'min_score': 1, 'max_score': 1, 'mean_score': 1.0}, {'data_availability': 'Fair', 'chemical_concerns': nan, 'chemical_functions': 'fragrance ingredient, skin-conditioning agent - occlusive, masking, and skin conditioning', 'chemical_about': 'safflower seed oil is obtained from the plant carthamus tinctorius; this ingredietn consists primarily of the triglycerides of linoleic acid.', 'min_score': 1, 'max_score': 1, 'mean_score': 1.0}, {'data_availability': 'Limited', 'chemical_concerns': 'Enhanced skin absorption, Use restrictions (moderate), and Contamination concerns (high)', 'chemical_functions': 'skin-conditioning agent - emollient, surfactant - emulsifying agent, emollient, and emulsifying', 'chemical_about': 'glyceryl laurate is a monoester of glycerin and lauric acid.', 'min_score': 1, 'max_score': 3, 'mean_score': 2.0}, {'data_availability': 'None', 'chemical_concerns': nan, 'chemical_functions': 'skin-conditioning agent - emollient, emollient, emulsifying, and skin conditioning', 'chemical_about': 'cocoglycerides is a mixture of mono, di and triglycerides derived from coconut oil.', 'min_score': 1, 'max_score': 1, 'mean_score': 1.0}, {'data_availability': 'Limited', 'chemical_concerns': nan, 'chemical_functions': 'surfactant - emulsifying agent and emulsifying', 'chemical_about': 'glyceryl stearate se (self-emulsifying) is a lipid used as surfactant and emulsifying agent.', 'min_score': 1, 'max_score': 1, 'mean_score': 1.0}, {'data_availability': 'Robust', 'chemical_concerns': nan, 'chemical_functions': 'abrasive, absorbent, bulking agent, skin protectant, bulking, and skin protecting', 'chemical_about': 'colloidal oatmeal is finely ground oatmeal.', 'min_score': 1, 'max_score': 1, 'mean_score': 1.0}, {'data_availability': 'Limited', 'chemical_concerns': nan, 'chemical_functions': 'skin-conditioning agent - occlusive, deodorant, and emollient', 'chemical_about': 'oil extracted from the seeds of the meadowfoam plant, limnanthes alba.', 'min_score': 1, 'max_score': 1, 'mean_score': 1.0}, {'data_availability': 'Limited', 'chemical_concerns': nan, 'chemical_functions': 'fragrance ingredient, skin-conditioning agent - occlusive, skin protectant, emollient, masking, skin conditioning, and skin protecting', 'chemical_about': 'cocoa butter is extracted from the roasted seeds of theobroma cacao, a tree native to the americas.', 'min_score': 1, 'max_score': 1, 'mean_score': 1.0}, 'DID NOT FIND', {'data_availability': 'Fair', 'chemical_concerns': nan, 'chemical_functions': 'fragrance ingredient, skin-conditioning agent - occlusive, and perfuming', 'chemical_about': 'olive oil is extracted from the reipe fruit of olive tree, olea europaea.', 'min_score': 1, 'max_score': 1, 'mean_score': 1.0}, {'data_availability': 'Limited', 'chemical_concerns': nan, 'chemical_functions': 'hair conditioning agent, skin-conditioning agent - occlusive, emollient, hair conditioning, refatting, and skin conditioning', 'chemical_about': \"squalane is a naturally occuring lipid in both plants and animals. this ingredient is listed in the peta's caring consumer guide as primarily derived from animals, especially shark liver oil.\", 'min_score': 1, 'max_score': 1, 'mean_score': 1.0}, {'data_availability': 'Fair', 'chemical_concerns': nan, 'chemical_functions': 'binder, emulsion stabilizer, skin-conditioning agent - miscellaneous, surfactant -emulsifying agent, viscosity increasing agent - aqueous, binding, emulsifying, emulsion stabilising, gel forming, skin conditioning, surfactant, and viscosity controlling', 'chemical_about': 'xanthan gum is a polysaccharide, a sugar-based polymer produced by bacteria; it is used as a viscosity agent in personal care products and foods.', 'min_score': 1, 'max_score': 1, 'mean_score': 1.0}, 'DID NOT FIND', {'data_availability': 'Limited', 'chemical_concerns': 'Non-reproductive organ system toxicity (low)', 'chemical_functions': 'fragrance ingredient and preservative', 'chemical_about': 'potassium sorbate is a potassium salt of sorbic acid, a naturally occuringantimicrobial compound; used as a preservative', 'min_score': 3, 'max_score': 3, 'mean_score': 3.0}, 'DID NOT FIND']\n"
     ]
    }
   ],
   "source": [
    "cleaned_ings_list, ings_dict_list = text_only(test_str, ings_dict)"
   ]
  },
  {
   "cell_type": "code",
   "execution_count": 23,
   "metadata": {},
   "outputs": [
    {
     "data": {
      "text/plain": [
       "[('aloe vera barbadensis leaf juice', 'DID NOT FIND'),\n",
       " ('cetearyl olivate',\n",
       "  {'data_availability': 'Limited',\n",
       "   'chemical_concerns': 'Use restrictions (low)',\n",
       "   'chemical_functions': 'hair conditioning agent and hair conditioning',\n",
       "   'chemical_about': 'cetearyl olivate is composed of cetearyl alcohol and fatty acids derived from olive oil.',\n",
       "   'min_score': 1,\n",
       "   'max_score': 1,\n",
       "   'mean_score': 1.0}),\n",
       " ('sorbitan olivate',\n",
       "  {'data_availability': 'None',\n",
       "   'chemical_concerns': nan,\n",
       "   'chemical_functions': 'surfactant - emulsifying agent and emulsifying',\n",
       "   'chemical_about': 'sorbitan olivate is a surfactant based on olive oil and sorbitol.',\n",
       "   'min_score': 1,\n",
       "   'max_score': 1,\n",
       "   'mean_score': 1.0}),\n",
       " ('glycerin',\n",
       "  {'data_availability': 'Good',\n",
       "   'chemical_concerns': 'Use restrictions (moderate)',\n",
       "   'chemical_functions': 'denaturant, fragrance ingredient, hair conditioning agent, humectant, oral care agent;oral health care drug, skin-conditioning agent - humectant, skin protectant, viscosity decreasing agent, perfuming, and solvent',\n",
       "   'chemical_about': \"glycerin (also called glycerol) is a naturally occurring alcohol compound and a component of many lipids. glycerin may be of animal or vegetable origin. this ingredient is listed in the peta's caring consumer guide as a byproduct of soap manufacture which typically uses animal fat.\",\n",
       "   'min_score': 1,\n",
       "   'max_score': 2,\n",
       "   'mean_score': 1.5}),\n",
       " ('helianthus annuus (sunflower) seed oil',\n",
       "  {'data_availability': 'Fair',\n",
       "   'chemical_concerns': nan,\n",
       "   'chemical_functions': 'skin-conditioning agent - miscellaneous, skin-conditioning agent - occlusive, and emollient',\n",
       "   'chemical_about': 'sunflower oil is extracted from the seeds of the sunflower, helianthus annuus.',\n",
       "   'min_score': 1,\n",
       "   'max_score': 1,\n",
       "   'mean_score': 1.0}),\n",
       " ('carthamus tinctorius (safflower) seed oil',\n",
       "  {'data_availability': 'Fair',\n",
       "   'chemical_concerns': nan,\n",
       "   'chemical_functions': 'fragrance ingredient, skin-conditioning agent - occlusive, masking, and skin conditioning',\n",
       "   'chemical_about': 'safflower seed oil is obtained from the plant carthamus tinctorius; this ingredietn consists primarily of the triglycerides of linoleic acid.',\n",
       "   'min_score': 1,\n",
       "   'max_score': 1,\n",
       "   'mean_score': 1.0}),\n",
       " ('glyceryl laurate',\n",
       "  {'data_availability': 'Limited',\n",
       "   'chemical_concerns': 'Enhanced skin absorption, Use restrictions (moderate), and Contamination concerns (high)',\n",
       "   'chemical_functions': 'skin-conditioning agent - emollient, surfactant - emulsifying agent, emollient, and emulsifying',\n",
       "   'chemical_about': 'glyceryl laurate is a monoester of glycerin and lauric acid.',\n",
       "   'min_score': 1,\n",
       "   'max_score': 3,\n",
       "   'mean_score': 2.0}),\n",
       " ('cocoglycerides',\n",
       "  {'data_availability': 'None',\n",
       "   'chemical_concerns': nan,\n",
       "   'chemical_functions': 'skin-conditioning agent - emollient, emollient, emulsifying, and skin conditioning',\n",
       "   'chemical_about': 'cocoglycerides is a mixture of mono, di and triglycerides derived from coconut oil.',\n",
       "   'min_score': 1,\n",
       "   'max_score': 1,\n",
       "   'mean_score': 1.0}),\n",
       " ('glyceryl stearate se',\n",
       "  {'data_availability': 'Limited',\n",
       "   'chemical_concerns': nan,\n",
       "   'chemical_functions': 'surfactant - emulsifying agent and emulsifying',\n",
       "   'chemical_about': 'glyceryl stearate se (self-emulsifying) is a lipid used as surfactant and emulsifying agent.',\n",
       "   'min_score': 1,\n",
       "   'max_score': 1,\n",
       "   'mean_score': 1.0}),\n",
       " ('colloidal oatmeal',\n",
       "  {'data_availability': 'Robust',\n",
       "   'chemical_concerns': nan,\n",
       "   'chemical_functions': 'abrasive, absorbent, bulking agent, skin protectant, bulking, and skin protecting',\n",
       "   'chemical_about': 'colloidal oatmeal is finely ground oatmeal.',\n",
       "   'min_score': 1,\n",
       "   'max_score': 1,\n",
       "   'mean_score': 1.0}),\n",
       " ('limnanthes alba (meadowfoam) seed oil',\n",
       "  {'data_availability': 'Limited',\n",
       "   'chemical_concerns': nan,\n",
       "   'chemical_functions': 'skin-conditioning agent - occlusive, deodorant, and emollient',\n",
       "   'chemical_about': 'oil extracted from the seeds of the meadowfoam plant, limnanthes alba.',\n",
       "   'min_score': 1,\n",
       "   'max_score': 1,\n",
       "   'mean_score': 1.0}),\n",
       " ('theobroma cacao (cocoa) seed butter',\n",
       "  {'data_availability': 'Limited',\n",
       "   'chemical_concerns': nan,\n",
       "   'chemical_functions': 'fragrance ingredient, skin-conditioning agent - occlusive, skin protectant, emollient, masking, skin conditioning, and skin protecting',\n",
       "   'chemical_about': 'cocoa butter is extracted from the roasted seeds of theobroma cacao, a tree native to the americas.',\n",
       "   'min_score': 1,\n",
       "   'max_score': 1,\n",
       "   'mean_score': 1.0}),\n",
       " ('hippophae rhamnoides (seabuckthorn) seed oil', 'DID NOT FIND'),\n",
       " ('olea europaea (olive) fruit oil',\n",
       "  {'data_availability': 'Fair',\n",
       "   'chemical_concerns': nan,\n",
       "   'chemical_functions': 'fragrance ingredient, skin-conditioning agent - occlusive, and perfuming',\n",
       "   'chemical_about': 'olive oil is extracted from the reipe fruit of olive tree, olea europaea.',\n",
       "   'min_score': 1,\n",
       "   'max_score': 1,\n",
       "   'mean_score': 1.0}),\n",
       " ('squalane',\n",
       "  {'data_availability': 'Limited',\n",
       "   'chemical_concerns': nan,\n",
       "   'chemical_functions': 'hair conditioning agent, skin-conditioning agent - occlusive, emollient, hair conditioning, refatting, and skin conditioning',\n",
       "   'chemical_about': \"squalane is a naturally occuring lipid in both plants and animals. this ingredient is listed in the peta's caring consumer guide as primarily derived from animals, especially shark liver oil.\",\n",
       "   'min_score': 1,\n",
       "   'max_score': 1,\n",
       "   'mean_score': 1.0}),\n",
       " ('xanthan gum',\n",
       "  {'data_availability': 'Fair',\n",
       "   'chemical_concerns': nan,\n",
       "   'chemical_functions': 'binder, emulsion stabilizer, skin-conditioning agent - miscellaneous, surfactant -emulsifying agent, viscosity increasing agent - aqueous, binding, emulsifying, emulsion stabilising, gel forming, skin conditioning, surfactant, and viscosity controlling',\n",
       "   'chemical_about': 'xanthan gum is a polysaccharide, a sugar-based polymer produced by bacteria; it is used as a viscosity agent in personal care products and foods.',\n",
       "   'min_score': 1,\n",
       "   'max_score': 1,\n",
       "   'mean_score': 1.0}),\n",
       " ('tocopherol sodium levulinate', 'DID NOT FIND'),\n",
       " ('potassium sorbate',\n",
       "  {'data_availability': 'Limited',\n",
       "   'chemical_concerns': 'Non-reproductive organ system toxicity (low)',\n",
       "   'chemical_functions': 'fragrance ingredient and preservative',\n",
       "   'chemical_about': 'potassium sorbate is a potassium salt of sorbic acid, a naturally occuringantimicrobial compound; used as a preservative',\n",
       "   'min_score': 3,\n",
       "   'max_score': 3,\n",
       "   'mean_score': 3.0}),\n",
       " ('7 a sa', 'DID NOT FIND')]"
      ]
     },
     "execution_count": 23,
     "metadata": {},
     "output_type": "execute_result"
    }
   ],
   "source": [
    "list(zip(cleaned_ings_list, ings_dict_list))"
   ]
  },
  {
   "cell_type": "code",
   "execution_count": null,
   "metadata": {},
   "outputs": [],
   "source": []
  }
 ],
 "metadata": {
  "kernelspec": {
   "display_name": "vegan_parser",
   "language": "python",
   "name": "vegan_parser"
  },
  "language_info": {
   "codemirror_mode": {
    "name": "ipython",
    "version": 3
   },
   "file_extension": ".py",
   "mimetype": "text/x-python",
   "name": "python",
   "nbconvert_exporter": "python",
   "pygments_lexer": "ipython3",
   "version": "3.7.4"
  }
 },
 "nbformat": 4,
 "nbformat_minor": 4
}
