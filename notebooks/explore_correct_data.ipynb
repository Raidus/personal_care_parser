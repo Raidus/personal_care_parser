{
 "cells": [
  {
   "cell_type": "code",
   "execution_count": 1,
   "metadata": {},
   "outputs": [],
   "source": [
    "import pandas as pd"
   ]
  },
  {
   "cell_type": "code",
   "execution_count": 2,
   "metadata": {},
   "outputs": [],
   "source": [
    "ingredient_data_fp = '/Volumes/ja2/vegan/vegan_parser/data_source/dataframe_with_syns.csv'"
   ]
  },
  {
   "cell_type": "code",
   "execution_count": 4,
   "metadata": {},
   "outputs": [],
   "source": [
    "df = pd.read_csv(ingredient_data_fp)"
   ]
  },
  {
   "cell_type": "code",
   "execution_count": null,
   "metadata": {},
   "outputs": [],
   "source": [
    "df[df['chemical_name']=='GLYCERIN']"
   ]
  },
  {
   "cell_type": "code",
   "execution_count": 9,
   "metadata": {},
   "outputs": [
    {
     "data": {
      "text/plain": [
       "array([\"Glycerin (also called glycerol) is a naturally occurring alcohol compound and a component of many lipids. Glycerin may be of animal or vegetable origin. This ingredient is listed in the PETA's Caring Consumer guide as a byproduct of soap manufacture which typically uses animal fat.\"],\n",
       "      dtype=object)"
      ]
     },
     "execution_count": 9,
     "metadata": {},
     "output_type": "execute_result"
    }
   ],
   "source": [
    "df[df['chemical_name']=='GLYCERIN'].chemical_about.values"
   ]
  },
  {
   "cell_type": "code",
   "execution_count": 10,
   "metadata": {},
   "outputs": [
    {
     "data": {
      "text/plain": [
       "array(['1,2,3-PROPANETRIOL, 1,2,3-TRIHYDROXYPROPANE, 1,2,3PROPANETRIOL, CONCENTRATED GLYCERIN, GLYCERIN, GLYCERINE, GLYCEROL, GLYCYL ALCOHOL, and VEGETABLE GLYCERIN'],\n",
       "      dtype=object)"
      ]
     },
     "execution_count": 10,
     "metadata": {},
     "output_type": "execute_result"
    }
   ],
   "source": [
    "df[df['chemical_name']=='GLYCERIN'].chemical_synonyms.values"
   ]
  },
  {
   "cell_type": "code",
   "execution_count": 11,
   "metadata": {},
   "outputs": [],
   "source": [
    "def extract_synonymns_list(str1):\n",
    "    if pd.isna(str1):\n",
    "        return []\n",
    "    \n",
    "    split_and_list = str1.split('and')\n",
    "    split_and_comma_list_in_list = [string.split(',') for string in split_and_list]\n",
    "    split_and_comma_semi_list_in_list = [item.strip().split(';') for sublist in split_and_comma_list_in_list for item in sublist]\n",
    "\n",
    "    intermediate_list = [item for sublist in split_and_comma_semi_list_in_list for item in sublist if item!='']\n",
    "   \n",
    "    # also need to filter out numbers in the ingredients due to odd splitting\n",
    "    \n",
    "    return [item for item in intermediate_list if not item.isdigit()]"
   ]
  },
  {
   "cell_type": "code",
   "execution_count": 15,
   "metadata": {},
   "outputs": [
    {
     "data": {
      "text/plain": [
       "['3-PROPANETRIOL',\n",
       " '3-TRIHYDROXYPROPANE',\n",
       " '3PROPANETRIOL',\n",
       " 'CONCENTRATED GLYCERIN',\n",
       " 'GLYCERIN',\n",
       " 'GLYCERINE',\n",
       " 'GLYCEROL',\n",
       " 'GLYCYL ALCOHOL',\n",
       " 'VEGETABLE GLYCERIN']"
      ]
     },
     "execution_count": 15,
     "metadata": {},
     "output_type": "execute_result"
    }
   ],
   "source": [
    "extract_synonymns_list(df[df['chemical_name']=='GLYCERIN'].chemical_synonyms.values[0])"
   ]
  },
  {
   "cell_type": "code",
   "execution_count": null,
   "metadata": {},
   "outputs": [],
   "source": []
  },
  {
   "cell_type": "code",
   "execution_count": null,
   "metadata": {},
   "outputs": [],
   "source": [
    "# I'd like to lowercase the chemical_name, and the chemical_synonyms."
   ]
  },
  {
   "cell_type": "code",
   "execution_count": 16,
   "metadata": {},
   "outputs": [
    {
     "data": {
      "text/html": [
       "<div>\n",
       "<style scoped>\n",
       "    .dataframe tbody tr th:only-of-type {\n",
       "        vertical-align: middle;\n",
       "    }\n",
       "\n",
       "    .dataframe tbody tr th {\n",
       "        vertical-align: top;\n",
       "    }\n",
       "\n",
       "    .dataframe thead th {\n",
       "        text-align: right;\n",
       "    }\n",
       "</style>\n",
       "<table border=\"1\" class=\"dataframe\">\n",
       "  <thead>\n",
       "    <tr style=\"text-align: right;\">\n",
       "      <th></th>\n",
       "      <th>datetime_pulled</th>\n",
       "      <th>search_page_num</th>\n",
       "      <th>chemical_name</th>\n",
       "      <th>score_url</th>\n",
       "      <th>data_availability</th>\n",
       "      <th>chemical_concerns</th>\n",
       "      <th>chemical_functions</th>\n",
       "      <th>chemical_about</th>\n",
       "      <th>chemical_synonyms</th>\n",
       "      <th>min_score</th>\n",
       "      <th>max_score</th>\n",
       "      <th>mean_score</th>\n",
       "      <th>is_syn</th>\n",
       "    </tr>\n",
       "  </thead>\n",
       "  <tbody>\n",
       "    <tr>\n",
       "      <th>19946</th>\n",
       "      <td>2019-12-11 05:48:39.204634</td>\n",
       "      <td>239</td>\n",
       "      <td>GLYCERYL ABIETATE</td>\n",
       "      <td>https://www.ewg.org/skindeep/squircle/show.svg...</td>\n",
       "      <td>Data: Limited</td>\n",
       "      <td>NaN</td>\n",
       "      <td>skin-conditioning agent - emollient, viscosity...</td>\n",
       "      <td>Glyceryl Abietate is a monoester of Glycerin (...</td>\n",
       "      <td>1-PHENANTHRENECARBOXYLIC ACID, 1,2,3,4,4A,4B,5...</td>\n",
       "      <td>1</td>\n",
       "      <td>1</td>\n",
       "      <td>1.0</td>\n",
       "      <td>False</td>\n",
       "    </tr>\n",
       "    <tr>\n",
       "      <th>16234</th>\n",
       "      <td>2019-12-10 17:16:15.993267</td>\n",
       "      <td>207</td>\n",
       "      <td>SLIPPERY ELM (ULMUS FULVA) BARK</td>\n",
       "      <td>https://www.ewg.org/skindeep/squircle/show.svg...</td>\n",
       "      <td>Data: Limited</td>\n",
       "      <td>NaN</td>\n",
       "      <td>not reported and moisturising</td>\n",
       "      <td>Ulmus Fulva Bark is a dried inner bark of the ...</td>\n",
       "      <td>BARK, SLIPPERY ELM, SLIPPERY ELM (ULMUS FULVA)...</td>\n",
       "      <td>1</td>\n",
       "      <td>1</td>\n",
       "      <td>1.0</td>\n",
       "      <td>True</td>\n",
       "    </tr>\n",
       "    <tr>\n",
       "      <th>18527</th>\n",
       "      <td>2019-12-11 00:43:55.017105</td>\n",
       "      <td>226</td>\n",
       "      <td>SODIUM PATENT BLUE VF</td>\n",
       "      <td>https://www.ewg.org/skindeep/squircle/show.svg...</td>\n",
       "      <td>Data: Limited</td>\n",
       "      <td>Use restrictions (high)</td>\n",
       "      <td>colorant</td>\n",
       "      <td>CI 42045 is classed chemically as a triphenylm...</td>\n",
       "      <td>ACID BLUE 1, SODIUM SALT, CI 42045, N-[4-[[4-(...</td>\n",
       "      <td>1</td>\n",
       "      <td>3</td>\n",
       "      <td>2.0</td>\n",
       "      <td>True</td>\n",
       "    </tr>\n",
       "  </tbody>\n",
       "</table>\n",
       "</div>"
      ],
      "text/plain": [
       "                  datetime_pulled  search_page_num  \\\n",
       "19946  2019-12-11 05:48:39.204634              239   \n",
       "16234  2019-12-10 17:16:15.993267              207   \n",
       "18527  2019-12-11 00:43:55.017105              226   \n",
       "\n",
       "                         chemical_name  \\\n",
       "19946                GLYCERYL ABIETATE   \n",
       "16234  SLIPPERY ELM (ULMUS FULVA) BARK   \n",
       "18527            SODIUM PATENT BLUE VF   \n",
       "\n",
       "                                               score_url data_availability  \\\n",
       "19946  https://www.ewg.org/skindeep/squircle/show.svg...     Data: Limited   \n",
       "16234  https://www.ewg.org/skindeep/squircle/show.svg...     Data: Limited   \n",
       "18527  https://www.ewg.org/skindeep/squircle/show.svg...     Data: Limited   \n",
       "\n",
       "             chemical_concerns  \\\n",
       "19946                      NaN   \n",
       "16234                      NaN   \n",
       "18527  Use restrictions (high)   \n",
       "\n",
       "                                      chemical_functions  \\\n",
       "19946  skin-conditioning agent - emollient, viscosity...   \n",
       "16234                      not reported and moisturising   \n",
       "18527                                           colorant   \n",
       "\n",
       "                                          chemical_about  \\\n",
       "19946  Glyceryl Abietate is a monoester of Glycerin (...   \n",
       "16234  Ulmus Fulva Bark is a dried inner bark of the ...   \n",
       "18527  CI 42045 is classed chemically as a triphenylm...   \n",
       "\n",
       "                                       chemical_synonyms  min_score  \\\n",
       "19946  1-PHENANTHRENECARBOXYLIC ACID, 1,2,3,4,4A,4B,5...          1   \n",
       "16234  BARK, SLIPPERY ELM, SLIPPERY ELM (ULMUS FULVA)...          1   \n",
       "18527  ACID BLUE 1, SODIUM SALT, CI 42045, N-[4-[[4-(...          1   \n",
       "\n",
       "       max_score  mean_score  is_syn  \n",
       "19946          1         1.0   False  \n",
       "16234          1         1.0    True  \n",
       "18527          3         2.0    True  "
      ]
     },
     "execution_count": 16,
     "metadata": {},
     "output_type": "execute_result"
    }
   ],
   "source": [
    "df.sample(3)"
   ]
  },
  {
   "cell_type": "code",
   "execution_count": 19,
   "metadata": {},
   "outputs": [
    {
     "data": {
      "text/html": [
       "<div>\n",
       "<style scoped>\n",
       "    .dataframe tbody tr th:only-of-type {\n",
       "        vertical-align: middle;\n",
       "    }\n",
       "\n",
       "    .dataframe tbody tr th {\n",
       "        vertical-align: top;\n",
       "    }\n",
       "\n",
       "    .dataframe thead th {\n",
       "        text-align: right;\n",
       "    }\n",
       "</style>\n",
       "<table border=\"1\" class=\"dataframe\">\n",
       "  <thead>\n",
       "    <tr style=\"text-align: right;\">\n",
       "      <th></th>\n",
       "      <th>datetime_pulled</th>\n",
       "      <th>search_page_num</th>\n",
       "      <th>chemical_name</th>\n",
       "      <th>score_url</th>\n",
       "      <th>data_availability</th>\n",
       "      <th>chemical_concerns</th>\n",
       "      <th>chemical_functions</th>\n",
       "      <th>chemical_about</th>\n",
       "      <th>chemical_synonyms</th>\n",
       "      <th>min_score</th>\n",
       "      <th>max_score</th>\n",
       "      <th>mean_score</th>\n",
       "      <th>is_syn</th>\n",
       "    </tr>\n",
       "  </thead>\n",
       "  <tbody>\n",
       "    <tr>\n",
       "      <th>24449</th>\n",
       "      <td>2019-12-07 12:51:56.320718</td>\n",
       "      <td>4</td>\n",
       "      <td>SQUALANE</td>\n",
       "      <td>https://www.ewg.org/skindeep/squircle/show.svg...</td>\n",
       "      <td>Data: Limited</td>\n",
       "      <td>NaN</td>\n",
       "      <td>hair conditioning agent, skin-conditioning age...</td>\n",
       "      <td>Squalane is a naturally occuring lipid in both...</td>\n",
       "      <td>2,6,10,15,19,23-HEXAMETHYLTETRACOSANE, SQUALAN...</td>\n",
       "      <td>1</td>\n",
       "      <td>1</td>\n",
       "      <td>1.0</td>\n",
       "      <td>False</td>\n",
       "    </tr>\n",
       "  </tbody>\n",
       "</table>\n",
       "</div>"
      ],
      "text/plain": [
       "                  datetime_pulled  search_page_num chemical_name  \\\n",
       "24449  2019-12-07 12:51:56.320718                4      SQUALANE   \n",
       "\n",
       "                                               score_url data_availability  \\\n",
       "24449  https://www.ewg.org/skindeep/squircle/show.svg...     Data: Limited   \n",
       "\n",
       "      chemical_concerns                                 chemical_functions  \\\n",
       "24449               NaN  hair conditioning agent, skin-conditioning age...   \n",
       "\n",
       "                                          chemical_about  \\\n",
       "24449  Squalane is a naturally occuring lipid in both...   \n",
       "\n",
       "                                       chemical_synonyms  min_score  \\\n",
       "24449  2,6,10,15,19,23-HEXAMETHYLTETRACOSANE, SQUALAN...          1   \n",
       "\n",
       "       max_score  mean_score  is_syn  \n",
       "24449          1         1.0   False  "
      ]
     },
     "execution_count": 19,
     "metadata": {},
     "output_type": "execute_result"
    }
   ],
   "source": [
    "df[df['chemical_name']=='SQUALANE']"
   ]
  },
  {
   "cell_type": "code",
   "execution_count": 20,
   "metadata": {},
   "outputs": [
    {
     "name": "stdout",
     "output_type": "stream",
     "text": [
      "[\"Squalane is a naturally occuring lipid in both plants and animals. This ingredient is listed in the PETA's Caring Consumer guide as primarily derived from animals, especially shark liver oil.\"]\n",
      "['2,6,10,15,19,23-HEXAMETHYLTETRACOSANE, SQUALANE, TETRACOSANE, 2,6,10,15,19,23HEXAMETHYL, and VEGETABLE SQUALANE']\n"
     ]
    }
   ],
   "source": [
    "print(df[df['chemical_name']=='SQUALANE'].chemical_about.values)\n",
    "print(df[df['chemical_name']=='SQUALANE'].chemical_synonyms.values)"
   ]
  },
  {
   "cell_type": "code",
   "execution_count": 23,
   "metadata": {},
   "outputs": [
    {
     "data": {
      "text/plain": [
       "array(['WATER', 'AQUA', 'DEIONIZED WATER', ..., 'SOPHORA JAPONICA',\n",
       "       'BARIUM', 'BA'], dtype=object)"
      ]
     },
     "execution_count": 23,
     "metadata": {},
     "output_type": "execute_result"
    }
   ],
   "source": [
    "df['chemical_name'].values"
   ]
  },
  {
   "cell_type": "code",
   "execution_count": null,
   "metadata": {},
   "outputs": [],
   "source": []
  },
  {
   "cell_type": "code",
   "execution_count": null,
   "metadata": {},
   "outputs": [],
   "source": [
    "# Let's clean up the data a little bit more. I really don't like these uppercases in the chemical_name and chemical_synonyms.\n"
   ]
  },
  {
   "cell_type": "code",
   "execution_count": 28,
   "metadata": {},
   "outputs": [
    {
     "ename": "AttributeError",
     "evalue": "'float' object has no attribute 'lower'",
     "output_type": "error",
     "traceback": [
      "\u001b[0;31m---------------------------------------------------------------------------\u001b[0m",
      "\u001b[0;31mAttributeError\u001b[0m                            Traceback (most recent call last)",
      "\u001b[0;32m<ipython-input-28-600de02bf4be>\u001b[0m in \u001b[0;36m<module>\u001b[0;34m\u001b[0m\n\u001b[0;32m----> 1\u001b[0;31m \u001b[0mdf\u001b[0m\u001b[0;34m[\u001b[0m\u001b[0;34m'chemical_name'\u001b[0m\u001b[0;34m]\u001b[0m\u001b[0;34m.\u001b[0m\u001b[0mapply\u001b[0m\u001b[0;34m(\u001b[0m\u001b[0;32mlambda\u001b[0m \u001b[0mx\u001b[0m\u001b[0;34m:\u001b[0m \u001b[0mx\u001b[0m\u001b[0;34m.\u001b[0m\u001b[0mlower\u001b[0m\u001b[0;34m(\u001b[0m\u001b[0;34m)\u001b[0m\u001b[0;34m)\u001b[0m\u001b[0;34m\u001b[0m\u001b[0;34m\u001b[0m\u001b[0m\n\u001b[0m",
      "\u001b[0;32m~/.local/share/virtualenvs/vegan_parser-ujjCMVkc/lib/python3.7/site-packages/pandas/core/series.py\u001b[0m in \u001b[0;36mapply\u001b[0;34m(self, func, convert_dtype, args, **kwds)\u001b[0m\n\u001b[1;32m   4043\u001b[0m             \u001b[0;32melse\u001b[0m\u001b[0;34m:\u001b[0m\u001b[0;34m\u001b[0m\u001b[0;34m\u001b[0m\u001b[0m\n\u001b[1;32m   4044\u001b[0m                 \u001b[0mvalues\u001b[0m \u001b[0;34m=\u001b[0m \u001b[0mself\u001b[0m\u001b[0;34m.\u001b[0m\u001b[0mastype\u001b[0m\u001b[0;34m(\u001b[0m\u001b[0mobject\u001b[0m\u001b[0;34m)\u001b[0m\u001b[0;34m.\u001b[0m\u001b[0mvalues\u001b[0m\u001b[0;34m\u001b[0m\u001b[0;34m\u001b[0m\u001b[0m\n\u001b[0;32m-> 4045\u001b[0;31m                 \u001b[0mmapped\u001b[0m \u001b[0;34m=\u001b[0m \u001b[0mlib\u001b[0m\u001b[0;34m.\u001b[0m\u001b[0mmap_infer\u001b[0m\u001b[0;34m(\u001b[0m\u001b[0mvalues\u001b[0m\u001b[0;34m,\u001b[0m \u001b[0mf\u001b[0m\u001b[0;34m,\u001b[0m \u001b[0mconvert\u001b[0m\u001b[0;34m=\u001b[0m\u001b[0mconvert_dtype\u001b[0m\u001b[0;34m)\u001b[0m\u001b[0;34m\u001b[0m\u001b[0;34m\u001b[0m\u001b[0m\n\u001b[0m\u001b[1;32m   4046\u001b[0m \u001b[0;34m\u001b[0m\u001b[0m\n\u001b[1;32m   4047\u001b[0m         \u001b[0;32mif\u001b[0m \u001b[0mlen\u001b[0m\u001b[0;34m(\u001b[0m\u001b[0mmapped\u001b[0m\u001b[0;34m)\u001b[0m \u001b[0;32mand\u001b[0m \u001b[0misinstance\u001b[0m\u001b[0;34m(\u001b[0m\u001b[0mmapped\u001b[0m\u001b[0;34m[\u001b[0m\u001b[0;36m0\u001b[0m\u001b[0;34m]\u001b[0m\u001b[0;34m,\u001b[0m \u001b[0mSeries\u001b[0m\u001b[0;34m)\u001b[0m\u001b[0;34m:\u001b[0m\u001b[0;34m\u001b[0m\u001b[0;34m\u001b[0m\u001b[0m\n",
      "\u001b[0;32mpandas/_libs/lib.pyx\u001b[0m in \u001b[0;36mpandas._libs.lib.map_infer\u001b[0;34m()\u001b[0m\n",
      "\u001b[0;32m<ipython-input-28-600de02bf4be>\u001b[0m in \u001b[0;36m<lambda>\u001b[0;34m(x)\u001b[0m\n\u001b[0;32m----> 1\u001b[0;31m \u001b[0mdf\u001b[0m\u001b[0;34m[\u001b[0m\u001b[0;34m'chemical_name'\u001b[0m\u001b[0;34m]\u001b[0m\u001b[0;34m.\u001b[0m\u001b[0mapply\u001b[0m\u001b[0;34m(\u001b[0m\u001b[0;32mlambda\u001b[0m \u001b[0mx\u001b[0m\u001b[0;34m:\u001b[0m \u001b[0mx\u001b[0m\u001b[0;34m.\u001b[0m\u001b[0mlower\u001b[0m\u001b[0;34m(\u001b[0m\u001b[0;34m)\u001b[0m\u001b[0;34m)\u001b[0m\u001b[0;34m\u001b[0m\u001b[0;34m\u001b[0m\u001b[0m\n\u001b[0m",
      "\u001b[0;31mAttributeError\u001b[0m: 'float' object has no attribute 'lower'"
     ]
    }
   ],
   "source": [
    "df['chemical_name'].apply(lambda x: x.lower())"
   ]
  },
  {
   "cell_type": "code",
   "execution_count": 32,
   "metadata": {},
   "outputs": [],
   "source": [
    "df['chemical_name'] = df['chemical_name'].astype(str).apply(lambda x: x.lower())"
   ]
  },
  {
   "cell_type": "code",
   "execution_count": 35,
   "metadata": {},
   "outputs": [],
   "source": [
    "df['chemical_synonyms'] = df['chemical_synonyms'].astype(str).apply(lambda x: x.lower())"
   ]
  },
  {
   "cell_type": "code",
   "execution_count": 37,
   "metadata": {},
   "outputs": [],
   "source": [
    "df['chemical_about'] = df['chemical_about'].astype(str).apply(lambda x: x.lower())"
   ]
  },
  {
   "cell_type": "code",
   "execution_count": 38,
   "metadata": {},
   "outputs": [
    {
     "data": {
      "text/html": [
       "<div>\n",
       "<style scoped>\n",
       "    .dataframe tbody tr th:only-of-type {\n",
       "        vertical-align: middle;\n",
       "    }\n",
       "\n",
       "    .dataframe tbody tr th {\n",
       "        vertical-align: top;\n",
       "    }\n",
       "\n",
       "    .dataframe thead th {\n",
       "        text-align: right;\n",
       "    }\n",
       "</style>\n",
       "<table border=\"1\" class=\"dataframe\">\n",
       "  <thead>\n",
       "    <tr style=\"text-align: right;\">\n",
       "      <th></th>\n",
       "      <th>datetime_pulled</th>\n",
       "      <th>search_page_num</th>\n",
       "      <th>chemical_name</th>\n",
       "      <th>score_url</th>\n",
       "      <th>data_availability</th>\n",
       "      <th>chemical_concerns</th>\n",
       "      <th>chemical_functions</th>\n",
       "      <th>chemical_about</th>\n",
       "      <th>chemical_synonyms</th>\n",
       "      <th>min_score</th>\n",
       "      <th>max_score</th>\n",
       "      <th>mean_score</th>\n",
       "      <th>is_syn</th>\n",
       "    </tr>\n",
       "  </thead>\n",
       "  <tbody>\n",
       "    <tr>\n",
       "      <th>7130</th>\n",
       "      <td>2019-12-07 15:53:32.631769</td>\n",
       "      <td>14</td>\n",
       "      <td>propane</td>\n",
       "      <td>https://www.ewg.org/skindeep/squircle/show.svg...</td>\n",
       "      <td>Data: Fair</td>\n",
       "      <td>Non-reproductive organ system toxicity (modera...</td>\n",
       "      <td>propellant</td>\n",
       "      <td>propane is a hydrocarbon.</td>\n",
       "      <td>propane</td>\n",
       "      <td>4</td>\n",
       "      <td>4</td>\n",
       "      <td>4.0</td>\n",
       "      <td>False</td>\n",
       "    </tr>\n",
       "    <tr>\n",
       "      <th>242</th>\n",
       "      <td>2019-12-07 11:49:04.859957</td>\n",
       "      <td>1</td>\n",
       "      <td>12-trimethyltridecyl)-2h-benzopyran-6-yl acetate</td>\n",
       "      <td>https://www.ewg.org/skindeep/squircle/show.svg...</td>\n",
       "      <td>Data: Fair</td>\n",
       "      <td>Contamination concerns (high)</td>\n",
       "      <td>antioxidant, skin-conditioning agent - miscell...</td>\n",
       "      <td>tocopheryl acetate is a chemical compound that...</td>\n",
       "      <td>2h-1-benzopyran-6-ol, 3,4-dihydro-2,5,7,8-tetr...</td>\n",
       "      <td>3</td>\n",
       "      <td>3</td>\n",
       "      <td>3.0</td>\n",
       "      <td>True</td>\n",
       "    </tr>\n",
       "    <tr>\n",
       "      <th>11440</th>\n",
       "      <td>2019-12-10 03:05:41.340002</td>\n",
       "      <td>170</td>\n",
       "      <td>6-aminopurine</td>\n",
       "      <td>https://www.ewg.org/skindeep/squircle/show.svg...</td>\n",
       "      <td>Data: Fair</td>\n",
       "      <td>NaN</td>\n",
       "      <td>not reported and skin conditioning</td>\n",
       "      <td>adenine is a heterocyclic compound.</td>\n",
       "      <td>1h-purin-6-amine, 1hpurin6amine, 6-aminopurine...</td>\n",
       "      <td>1</td>\n",
       "      <td>1</td>\n",
       "      <td>1.0</td>\n",
       "      <td>True</td>\n",
       "    </tr>\n",
       "    <tr>\n",
       "      <th>10265</th>\n",
       "      <td>2019-12-09 23:48:50.663755</td>\n",
       "      <td>161</td>\n",
       "      <td>triticum vulgare (wheat) germ protein</td>\n",
       "      <td>https://www.ewg.org/skindeep/squircle/show.svg...</td>\n",
       "      <td>Data: Limited</td>\n",
       "      <td>NaN</td>\n",
       "      <td>hair conditioning agent, skin-conditioning age...</td>\n",
       "      <td>triticum vulgare (wheat) germ protein is a pro...</td>\n",
       "      <td>protein, wheat germ, proteins, triticum vulgar...</td>\n",
       "      <td>1</td>\n",
       "      <td>1</td>\n",
       "      <td>1.0</td>\n",
       "      <td>True</td>\n",
       "    </tr>\n",
       "    <tr>\n",
       "      <th>29063</th>\n",
       "      <td>2019-12-08 11:29:16.101224</td>\n",
       "      <td>65</td>\n",
       "      <td>extract of juniperus communis</td>\n",
       "      <td>https://www.ewg.org/skindeep/squircle/show.svg...</td>\n",
       "      <td>Data: Limited</td>\n",
       "      <td>Use restrictions (low) and Multiple, additive ...</td>\n",
       "      <td>fragrance ingredient, skin-conditioning agent ...</td>\n",
       "      <td>juniperus communis fruit extract is an extract...</td>\n",
       "      <td>extract of juniper, extract of juniperus commu...</td>\n",
       "      <td>1</td>\n",
       "      <td>2</td>\n",
       "      <td>1.5</td>\n",
       "      <td>True</td>\n",
       "    </tr>\n",
       "    <tr>\n",
       "      <th>28102</th>\n",
       "      <td>2019-12-07 13:15:47.610043</td>\n",
       "      <td>6</td>\n",
       "      <td>7-dimethyloctanol</td>\n",
       "      <td>https://www.ewg.org/skindeep/squircle/show.svg...</td>\n",
       "      <td>Data: Limited</td>\n",
       "      <td>Use restrictions (high)</td>\n",
       "      <td>fragrance ingredient and masking</td>\n",
       "      <td>hydroxycitronellal is a common scent ingredien...</td>\n",
       "      <td>1,7octanediol, 3,7dimethyl, 3,7-dimethyloctane...</td>\n",
       "      <td>4</td>\n",
       "      <td>7</td>\n",
       "      <td>5.5</td>\n",
       "      <td>True</td>\n",
       "    </tr>\n",
       "    <tr>\n",
       "      <th>20851</th>\n",
       "      <td>2019-12-11 08:58:51.716910</td>\n",
       "      <td>247</td>\n",
       "      <td>1-[2-oxo-2-[[2-[(1-oxododecyl)oxy]ethyl]amino]...</td>\n",
       "      <td>https://www.ewg.org/skindeep/squircle/show.svg...</td>\n",
       "      <td>Data: Limited</td>\n",
       "      <td>NaN</td>\n",
       "      <td>antistatic agent, cosmetic biocide, antimicrob...</td>\n",
       "      <td>lapyrium chloride is a quaternary ammonium salt.</td>\n",
       "      <td>1-(2-hydroxyethyl)carbamoyl methyl pyridinium ...</td>\n",
       "      <td>1</td>\n",
       "      <td>1</td>\n",
       "      <td>1.0</td>\n",
       "      <td>True</td>\n",
       "    </tr>\n",
       "    <tr>\n",
       "      <th>20840</th>\n",
       "      <td>2019-12-11 08:56:17.911379</td>\n",
       "      <td>247</td>\n",
       "      <td>glyceryl olivate</td>\n",
       "      <td>https://www.ewg.org/skindeep/squircle/show.svg...</td>\n",
       "      <td>Data: None</td>\n",
       "      <td>NaN</td>\n",
       "      <td>skin-conditioning agent - emollient, surfactan...</td>\n",
       "      <td>glyceryl olivate is a monoester of glycerin an...</td>\n",
       "      <td>glyceryl monoolivate and glyceryl olivate</td>\n",
       "      <td>1</td>\n",
       "      <td>1</td>\n",
       "      <td>1.0</td>\n",
       "      <td>False</td>\n",
       "    </tr>\n",
       "    <tr>\n",
       "      <th>8109</th>\n",
       "      <td>2019-12-09 18:27:02.283288</td>\n",
       "      <td>147</td>\n",
       "      <td>caprylic/capric/lauric triglyceride</td>\n",
       "      <td>https://www.ewg.org/skindeep/squircle/show.svg...</td>\n",
       "      <td>Data: None</td>\n",
       "      <td>NaN</td>\n",
       "      <td>skin-conditioning agent - occlusive, emollient...</td>\n",
       "      <td>caprylic/capric/lauric triglyceride is a mixed...</td>\n",
       "      <td>caprylic/ capric/ lauric triglyceride and capr...</td>\n",
       "      <td>1</td>\n",
       "      <td>1</td>\n",
       "      <td>1.0</td>\n",
       "      <td>True</td>\n",
       "    </tr>\n",
       "    <tr>\n",
       "      <th>26129</th>\n",
       "      <td>2019-12-08 04:54:18.355318</td>\n",
       "      <td>48</td>\n",
       "      <td>polyethylene glycol 1000 methyl glucose sesqui...</td>\n",
       "      <td>https://www.ewg.org/skindeep/squircle/show.svg...</td>\n",
       "      <td>Data: None</td>\n",
       "      <td>Non-reproductive organ system toxicity (low) a...</td>\n",
       "      <td>skin-conditioning agent - emollient, surfactan...</td>\n",
       "      <td>peg-20 methyl glucose sesquistearate is a poly...</td>\n",
       "      <td>ethoxylated methyl .beta.-d-glucoside sesquist...</td>\n",
       "      <td>1</td>\n",
       "      <td>3</td>\n",
       "      <td>2.0</td>\n",
       "      <td>True</td>\n",
       "    </tr>\n",
       "  </tbody>\n",
       "</table>\n",
       "</div>"
      ],
      "text/plain": [
       "                  datetime_pulled  search_page_num  \\\n",
       "7130   2019-12-07 15:53:32.631769               14   \n",
       "242    2019-12-07 11:49:04.859957                1   \n",
       "11440  2019-12-10 03:05:41.340002              170   \n",
       "10265  2019-12-09 23:48:50.663755              161   \n",
       "29063  2019-12-08 11:29:16.101224               65   \n",
       "28102  2019-12-07 13:15:47.610043                6   \n",
       "20851  2019-12-11 08:58:51.716910              247   \n",
       "20840  2019-12-11 08:56:17.911379              247   \n",
       "8109   2019-12-09 18:27:02.283288              147   \n",
       "26129  2019-12-08 04:54:18.355318               48   \n",
       "\n",
       "                                           chemical_name  \\\n",
       "7130                                             propane   \n",
       "242     12-trimethyltridecyl)-2h-benzopyran-6-yl acetate   \n",
       "11440                                      6-aminopurine   \n",
       "10265              triticum vulgare (wheat) germ protein   \n",
       "29063                      extract of juniperus communis   \n",
       "28102                                  7-dimethyloctanol   \n",
       "20851  1-[2-oxo-2-[[2-[(1-oxododecyl)oxy]ethyl]amino]...   \n",
       "20840                                   glyceryl olivate   \n",
       "8109                 caprylic/capric/lauric triglyceride   \n",
       "26129  polyethylene glycol 1000 methyl glucose sesqui...   \n",
       "\n",
       "                                               score_url data_availability  \\\n",
       "7130   https://www.ewg.org/skindeep/squircle/show.svg...        Data: Fair   \n",
       "242    https://www.ewg.org/skindeep/squircle/show.svg...        Data: Fair   \n",
       "11440  https://www.ewg.org/skindeep/squircle/show.svg...        Data: Fair   \n",
       "10265  https://www.ewg.org/skindeep/squircle/show.svg...     Data: Limited   \n",
       "29063  https://www.ewg.org/skindeep/squircle/show.svg...     Data: Limited   \n",
       "28102  https://www.ewg.org/skindeep/squircle/show.svg...     Data: Limited   \n",
       "20851  https://www.ewg.org/skindeep/squircle/show.svg...     Data: Limited   \n",
       "20840  https://www.ewg.org/skindeep/squircle/show.svg...        Data: None   \n",
       "8109   https://www.ewg.org/skindeep/squircle/show.svg...        Data: None   \n",
       "26129  https://www.ewg.org/skindeep/squircle/show.svg...        Data: None   \n",
       "\n",
       "                                       chemical_concerns  \\\n",
       "7130   Non-reproductive organ system toxicity (modera...   \n",
       "242                        Contamination concerns (high)   \n",
       "11440                                                NaN   \n",
       "10265                                                NaN   \n",
       "29063  Use restrictions (low) and Multiple, additive ...   \n",
       "28102                            Use restrictions (high)   \n",
       "20851                                                NaN   \n",
       "20840                                                NaN   \n",
       "8109                                                 NaN   \n",
       "26129  Non-reproductive organ system toxicity (low) a...   \n",
       "\n",
       "                                      chemical_functions  \\\n",
       "7130                                          propellant   \n",
       "242    antioxidant, skin-conditioning agent - miscell...   \n",
       "11440                 not reported and skin conditioning   \n",
       "10265  hair conditioning agent, skin-conditioning age...   \n",
       "29063  fragrance ingredient, skin-conditioning agent ...   \n",
       "28102                   fragrance ingredient and masking   \n",
       "20851  antistatic agent, cosmetic biocide, antimicrob...   \n",
       "20840  skin-conditioning agent - emollient, surfactan...   \n",
       "8109   skin-conditioning agent - occlusive, emollient...   \n",
       "26129  skin-conditioning agent - emollient, surfactan...   \n",
       "\n",
       "                                          chemical_about  \\\n",
       "7130                           propane is a hydrocarbon.   \n",
       "242    tocopheryl acetate is a chemical compound that...   \n",
       "11440                adenine is a heterocyclic compound.   \n",
       "10265  triticum vulgare (wheat) germ protein is a pro...   \n",
       "29063  juniperus communis fruit extract is an extract...   \n",
       "28102  hydroxycitronellal is a common scent ingredien...   \n",
       "20851   lapyrium chloride is a quaternary ammonium salt.   \n",
       "20840  glyceryl olivate is a monoester of glycerin an...   \n",
       "8109   caprylic/capric/lauric triglyceride is a mixed...   \n",
       "26129  peg-20 methyl glucose sesquistearate is a poly...   \n",
       "\n",
       "                                       chemical_synonyms  min_score  \\\n",
       "7130                                             propane          4   \n",
       "242    2h-1-benzopyran-6-ol, 3,4-dihydro-2,5,7,8-tetr...          3   \n",
       "11440  1h-purin-6-amine, 1hpurin6amine, 6-aminopurine...          1   \n",
       "10265  protein, wheat germ, proteins, triticum vulgar...          1   \n",
       "29063  extract of juniper, extract of juniperus commu...          1   \n",
       "28102  1,7octanediol, 3,7dimethyl, 3,7-dimethyloctane...          4   \n",
       "20851  1-(2-hydroxyethyl)carbamoyl methyl pyridinium ...          1   \n",
       "20840          glyceryl monoolivate and glyceryl olivate          1   \n",
       "8109   caprylic/ capric/ lauric triglyceride and capr...          1   \n",
       "26129  ethoxylated methyl .beta.-d-glucoside sesquist...          1   \n",
       "\n",
       "       max_score  mean_score  is_syn  \n",
       "7130           4         4.0   False  \n",
       "242            3         3.0    True  \n",
       "11440          1         1.0    True  \n",
       "10265          1         1.0    True  \n",
       "29063          2         1.5    True  \n",
       "28102          7         5.5    True  \n",
       "20851          1         1.0    True  \n",
       "20840          1         1.0   False  \n",
       "8109           1         1.0    True  \n",
       "26129          3         2.0    True  "
      ]
     },
     "execution_count": 38,
     "metadata": {},
     "output_type": "execute_result"
    }
   ],
   "source": [
    "df.sample(10)"
   ]
  },
  {
   "cell_type": "code",
   "execution_count": 39,
   "metadata": {},
   "outputs": [],
   "source": [
    "df.to_csv('dataframe_with_syns2.csv', index=False)"
   ]
  },
  {
   "cell_type": "code",
   "execution_count": null,
   "metadata": {},
   "outputs": [],
   "source": []
  }
 ],
 "metadata": {
  "kernelspec": {
   "display_name": "vegan_parser",
   "language": "python",
   "name": "vegan_parser"
  },
  "language_info": {
   "codemirror_mode": {
    "name": "ipython",
    "version": 3
   },
   "file_extension": ".py",
   "mimetype": "text/x-python",
   "name": "python",
   "nbconvert_exporter": "python",
   "pygments_lexer": "ipython3",
   "version": "3.7.4"
  }
 },
 "nbformat": 4,
 "nbformat_minor": 4
}
