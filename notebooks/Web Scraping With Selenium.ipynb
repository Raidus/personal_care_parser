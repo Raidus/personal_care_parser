{
 "cells": [
  {
   "cell_type": "code",
   "execution_count": 1,
   "metadata": {},
   "outputs": [],
   "source": [
    "import time"
   ]
  },
  {
   "cell_type": "code",
   "execution_count": 1,
   "metadata": {},
   "outputs": [],
   "source": [
    "# Because I want to play with selenium a bit\n",
    "# grabbing the webdriver from https://github.com/mozilla/geckodriver/releases\n",
    "# I put that in my user bin: /Users/emily/bin ... nope, needs to be in /usr/local/bin.\n",
    "\n",
    "\n",
    "\n",
    "# And I tried installing chromedriver via brew, but that didn't seem right. \n",
    "# So, I downloaded & that's going in /usr/local/bin as well"
   ]
  },
  {
   "cell_type": "markdown",
   "metadata": {},
   "source": [
    "## Some nice references:\n",
    "    http://www.marinamele.com/selenium-tutorial-web-scraping-with-selenium-and-python"
   ]
  },
  {
   "cell_type": "code",
   "execution_count": 2,
   "metadata": {},
   "outputs": [
    {
     "data": {
      "text/plain": [
       "2.1064814814814814"
      ]
     },
     "execution_count": 2,
     "metadata": {},
     "output_type": "execute_result"
    }
   ],
   "source": [
    "9100*20/(60*60*24)"
   ]
  },
  {
   "cell_type": "markdown",
   "metadata": {},
   "source": [
    "# Examining SkinDeep data.\n",
    "### Let's start exploring the structure of the webpage.\n",
    "* [Starting access point](https://www.ewg.org/skindeep/search?search=%2A&search_type=ingredients)\n",
    "* [The robots.txt file](https://www.ewg.org/robots.txt)\n",
    "    The crawl delay is set to 10.\n",
    "\n",
    "In that page, there are (as of Nov 2019) 9069 ingredients listed in the database.\n",
    "So, it would take a little over a day of straight scraping at that crawl delay.\n",
    "That's fine, I'll just work slowly and make sure to write out the data often.\n",
    "\n",
    "#### Breakdown of ingredient results:\n",
    "section class=\"product-listings\" -> div class=\"product-tile\"\n",
    "    -> a href to the page for that ingredient.\n",
    "\n",
    "#### Navigation of ingredients page\n",
    "div class=\"content\" -> section id=\"chemical\":\n",
    "\n",
    "    To get name:\n",
    "        h2 class=\"chemical-name text-block\"\n",
    "    To get score: will need to parse name of image:\n",
    "        div class=\"chemical-score float-r\"\n",
    "            <p>\"Score:\"</p>\n",
    "                <img>  with class \"squircle\"\n",
    "    To get amount of Data available:\n",
    "        div class=\"chemical-score float-r\"\n",
    "            <p>\"Data: \"</p>\n",
    "                <span> \n",
    "    To get quick details about the ingredient:\n",
    "        section class=\"see-all-chemical\"\n",
    "            a class=\"chemical-concerns\"\n",
    "                (inside a <li>, hidden depends on what's clicked:)\n",
    "                p class=\"chemical-info chemical-concerns-text\"\n",
    "                p class=\"chemical-info chemical-functions-text hidden\"\n",
    "                p class=\"chemical-info chemical-about-text hidden\"\n",
    "                p class=\"chemical-info chemical-synonyms-text hidden\"\n",
    "         \n",
    "    \n",
    " \n",
    "We could either (1) pull off all the links from the search listings, then navigate to all those directly, or (2) go through all the search listings and navigate to links as we go.\n",
    "\n",
    "Not sure which is better yet.\n",
    "As long as I write out all the bits I'm interested in, I think I'll be okay.\n"
   ]
  },
  {
   "cell_type": "code",
   "execution_count": null,
   "metadata": {},
   "outputs": [],
   "source": [
    "# Looking at one of the sample EWG file\n",
    "TODO COPY OVER THOSE THIGNS FROM THE OTHER NOTEBOOK"
   ]
  },
  {
   "cell_type": "code",
   "execution_count": null,
   "metadata": {},
   "outputs": [],
   "source": []
  },
  {
   "cell_type": "code",
   "execution_count": 1,
   "metadata": {},
   "outputs": [],
   "source": [
    "# Okay, lets dig into selenium a bit more\n",
    "\n",
    "from selenium import webdriver \n",
    "from selenium.webdriver.common.by import By \n",
    "from selenium.webdriver.support.ui import WebDriverWait \n",
    "from selenium.webdriver.support import expected_conditions as EC \n",
    "from selenium.common.exceptions import TimeoutException, ElementNotInteractableException, NoSuchElementException\n",
    "\n"
   ]
  },
  {
   "cell_type": "code",
   "execution_count": null,
   "metadata": {},
   "outputs": [],
   "source": []
  },
  {
   "cell_type": "code",
   "execution_count": 2,
   "metadata": {},
   "outputs": [],
   "source": [
    "driver = webdriver.Chrome()\n",
    "driver.implicitly_wait(10)\n",
    "driver.get(\"https://www.ewg.org/skindeep/search?search=*&search_type=ingredients&per_page=36\")"
   ]
  },
  {
   "cell_type": "code",
   "execution_count": null,
   "metadata": {},
   "outputs": [],
   "source": [
    "# Oh look, there's going to be a pop up about donating, that we may have to deal with.\n",
    "# <body> -> div id=\"yeaFixed\" -> a href id=\"yeaClose\""
   ]
  },
  {
   "cell_type": "code",
   "execution_count": 3,
   "metadata": {},
   "outputs": [],
   "source": [
    "driver.find_element_by_id('yeaClose').click() # Click on this yeaClose element in order to get to the new \n",
    "# will want to wrap in a try/except  (ElementNotInteractableException)\n"
   ]
  },
  {
   "cell_type": "code",
   "execution_count": 39,
   "metadata": {},
   "outputs": [],
   "source": [
    "# Get the elements with this class - returns a list.\n",
    "# This will \n",
    "pt = driver.find_elements_by_class_name('product-tile')\n",
    "[elem.text for elem in pt[0].find_elements_by_tag_name(\"a\")]\n",
    "\n",
    "a_tag = pt[0].find_elements_by_tag_name(\"a\")[1]"
   ]
  },
  {
   "cell_type": "code",
   "execution_count": 40,
   "metadata": {},
   "outputs": [
    {
     "data": {
      "text/plain": [
       "'https://www.ewg.org/skindeep/ingredients/861672-HYPOXIS_HEMEROCALLIDEA_AFRICAN_WILD_POTATO_ROOT_EXTRACT'"
      ]
     },
     "execution_count": 40,
     "metadata": {},
     "output_type": "execute_result"
    }
   ],
   "source": [
    "a_tag.get_attribute('href')"
   ]
  },
  {
   "cell_type": "code",
   "execution_count": null,
   "metadata": {},
   "outputs": [],
   "source": []
  },
  {
   "cell_type": "code",
   "execution_count": 4,
   "metadata": {},
   "outputs": [],
   "source": [
    "np = driver.find_element_by_class_name('next_page')"
   ]
  },
  {
   "cell_type": "code",
   "execution_count": 7,
   "metadata": {},
   "outputs": [
    {
     "data": {
      "text/plain": [
       "'https://www.ewg.org/skindeep/search?page=2&per_page=36&search=%2A&search_type=ingredients'"
      ]
     },
     "execution_count": 7,
     "metadata": {},
     "output_type": "execute_result"
    }
   ],
   "source": [
    "driver.find_element_by_class_name('next_page').get_attribute('href')"
   ]
  },
  {
   "cell_type": "code",
   "execution_count": null,
   "metadata": {},
   "outputs": [],
   "source": []
  },
  {
   "cell_type": "code",
   "execution_count": null,
   "metadata": {},
   "outputs": [],
   "source": [
    "# Both \"a\" tags in product-tile link to the same place.\n",
    "# We're going to use the second one so we can pull off this text and record it."
   ]
  },
  {
   "cell_type": "code",
   "execution_count": 121,
   "metadata": {},
   "outputs": [
    {
     "ename": "AttributeError",
     "evalue": "'WebDriver' object has no attribute 'navigate'",
     "output_type": "error",
     "traceback": [
      "\u001b[0;31m---------------------------------------------------------------------------\u001b[0m",
      "\u001b[0;31mAttributeError\u001b[0m                            Traceback (most recent call last)",
      "\u001b[0;32m<ipython-input-121-9c7e56ec7de0>\u001b[0m in \u001b[0;36m<module>\u001b[0;34m\u001b[0m\n\u001b[1;32m      4\u001b[0m         \u001b[0mtest_tag\u001b[0m\u001b[0;34m.\u001b[0m\u001b[0mclick\u001b[0m\u001b[0;34m(\u001b[0m\u001b[0;34m)\u001b[0m\u001b[0;34m\u001b[0m\u001b[0;34m\u001b[0m\u001b[0m\n\u001b[1;32m      5\u001b[0m         \u001b[0mtime\u001b[0m\u001b[0;34m.\u001b[0m\u001b[0msleep\u001b[0m\u001b[0;34m(\u001b[0m\u001b[0;36m10\u001b[0m\u001b[0;34m)\u001b[0m\u001b[0;34m\u001b[0m\u001b[0;34m\u001b[0m\u001b[0m\n\u001b[0;32m----> 6\u001b[0;31m         \u001b[0mdriver\u001b[0m\u001b[0;34m.\u001b[0m\u001b[0mnavigate\u001b[0m\u001b[0;34m.\u001b[0m\u001b[0mback\u001b[0m\u001b[0;34m(\u001b[0m\u001b[0;34m)\u001b[0m\u001b[0;34m\u001b[0m\u001b[0;34m\u001b[0m\u001b[0m\n\u001b[0m",
      "\u001b[0;31mAttributeError\u001b[0m: 'WebDriver' object has no attribute 'navigate'"
     ]
    }
   ],
   "source": [
    "pt = driver.find_elements_by_class_name('product-tile')\n",
    "\n",
    "# To iterate through all the product-tiles:\n",
    "for i, elem in enumerate(pt):\n",
    "    \n",
    "    a_tag = elem.find_elements_by_tag_name(\"a\")[1]\n",
    "    a_tag.click()\n",
    "    time.sleep(10)\n",
    "    driver.back()\n"
   ]
  },
  {
   "cell_type": "code",
   "execution_count": 123,
   "metadata": {},
   "outputs": [],
   "source": [
    "driver.close()"
   ]
  },
  {
   "cell_type": "code",
   "execution_count": null,
   "metadata": {},
   "outputs": [],
   "source": []
  },
  {
   "cell_type": "code",
   "execution_count": null,
   "metadata": {},
   "outputs": [],
   "source": [
    "# Okay, so now on each page, let's figure out the parts we want to pull\n",
    "# from the individual chemical page\n"
   ]
  },
  {
   "cell_type": "code",
   "execution_count": null,
   "metadata": {},
   "outputs": [],
   "source": []
  },
  {
   "cell_type": "code",
   "execution_count": 124,
   "metadata": {},
   "outputs": [],
   "source": [
    "driver = webdriver.Chrome()\n",
    "driver.get(\"https://www.ewg.org/skindeep/ingredients/702620-GLYCERIN\")\n"
   ]
  },
  {
   "cell_type": "code",
   "execution_count": 142,
   "metadata": {},
   "outputs": [],
   "source": [
    "chemical_score_elem = driver.find_element_by_xpath('//*[@id=\"chemical\"]/div[2]/img')\n",
    "image_link_text = chemical_score_elem.get_attribute('src')"
   ]
  },
  {
   "cell_type": "code",
   "execution_count": 143,
   "metadata": {},
   "outputs": [
    {
     "data": {
      "text/plain": [
       "'https://www.ewg.org/skindeep/squircle/show.svg?score=2&score_min=1'"
      ]
     },
     "execution_count": 143,
     "metadata": {},
     "output_type": "execute_result"
    }
   ],
   "source": [
    "image_link_text # success!"
   ]
  },
  {
   "cell_type": "code",
   "execution_count": 145,
   "metadata": {},
   "outputs": [
    {
     "data": {
      "text/plain": [
       "'GLYCERIN'"
      ]
     },
     "execution_count": 145,
     "metadata": {},
     "output_type": "execute_result"
    }
   ],
   "source": [
    "chemical_name = driver.find_element_by_xpath('//*[@id=\"chemical\"]/h2')\n",
    "chemical_name.text # looking good"
   ]
  },
  {
   "cell_type": "code",
   "execution_count": 82,
   "metadata": {},
   "outputs": [],
   "source": [
    "chemical_info = driver.find_elements_by_class_name('chemical-info')"
   ]
  },
  {
   "cell_type": "code",
   "execution_count": 85,
   "metadata": {},
   "outputs": [
    {
     "data": {
      "text/plain": [
       "['',\n",
       " '',\n",
       " '',\n",
       " '1385RN 59, 1700 WHITE, 234DA, 500HD, 63B1 WHITE, A 200 (PIGMENT), A 330 (PIGMENT), A-FIL, A-FIL CREAM, A-FN 3, AEROLYST 7710, AEROSIL P 25, AEROSIL P 25S6, AEROSIL P 27, AEROSIL T 805, AI3-01334, AK 15 (PIGMENT), AMORPHOUS TITANIUM DIOXIDE, AMPERIT 780.0, AMT 100, AMT 600, ATLAS WHITE TITANIUM DIOXIDE, AUF 0015S, AUSTIOX R-CR 3, B 101 (PIGMENT), BAYER R-FD 1, BAYERTITAN A, BAYERTITAN AN 3, BAYERTITAN R-FD 1, BAYERTITAN R-FK 21, BAYERTITAN R-FK-D, BAYERTITAN R-KB 2, BAYERTITAN R-KB 3, BAYERTITAN R-KB 4, BAYERTITAN R-KB 5, BAYERTITAN R-KB 6, BAYERTITAN R-U 2, BAYERTITAN R-U-F, BAYERTITAN R-V-SE 20, BAYERTITAN T, BISTRATER L-NSC 200C, BLEND WHITE 9202, BR 29-7-2, BROOKITE, C 97 (OXIDE), C-WEISS 7, C.I. 77891, C.I. PIGMENT WHITE 6, CAB-O-TI, CALCOTONE WHITE T, CCRIS 590, CG-T, CI 77891, CI PIGMENT WHITE 6, CL 310, COSMETIC HYDROPHOBIC TIO2 9428, COSMETIC MICRO BLEND TIO2 9228, COSMETIC WHITE C47-5175, COSMETIC WHITE C47-9623, E 171, EINECS 236-675-5, FLAMENCO, HOMBITAN, HOMBITAN R 101D, HOMBITAN R 610K, HORSE HEAD A-410, HORSE HEAD A-420, HORSE HEAD R-710, HSDB 869, KH 360, KRONOS, KRONOS 2073, KRONOS CL 220, KRONOS RN 40P, KRONOS RN 56, KRONOS TITANIUM DIOXIDE, LEVANOX WHITE RKB, MICRO PARTICLE TITANIUM DIOXIDE, NCI-C04240, NCI-C0424O, NSC 15204, ORGASOL 1002D WHITE 10 EXTRA COS, P 25 (OXIDE), PIGMENT WHITE 6, R 680, RAYOX, RO 2, RUNA ARH 20, RUNA ARH 200, RUNA RH20, RUTIOX CR, TI-PURE, TI-PURE R 900, TI-PURE R 901, TICHLOR, TIN DIOXIDE DUST, TIO2, TIOFINE, TIONA T.D., TIONA TD, TIOXIDE, TIOXIDE A-DM, TIOXIDE AD-M, TIOXIDE R XL, TIOXIDE R-CR, TIOXIDE R-SM, TIOXIDE R.XL, TIOXIDE RHD, TIOXIDE RSM, TIPAQUE, TIPAQUE R 820, TITAFRANCE, TITAN WHITE, TITANDIOXID, TITANDIOXID (SWEDEN), TITANIA, TITANIC ANHYDRIDE, TITANIC OXIDE, TITANIUM DIOXIDE, TITANIUM DIOXIDE (NON-NANO), TITANIUM DIOXIDE SOL, TITANIUM DIOXIDE; TITANIUM DIOXIDE, TITANIUM OXIDE, TITANIUM OXIDE (TIO2), TITANIUM OXIDE (VAN), TITANIUM PEROXIDE, TITANIUM PEROXIDE (TIO2), TITANIUM WHITE, TITANIUM(IV) OXIDE, TITANOX, TITANOX 2010, TITANOX RANC, TRIOXIDE(S), TRONOX, UNITANE, UNITANE 0-110, UNITANE 0-220, UNITANE O-110, UNITANE O-220, UNITANE OR 450, UNITANE OR 650, UNITANE OR-150, UNITANE OR-340, UNITANE OR-342, UNITANE OR-350, UNITANE OR-540, UNITANE OR-640, UNIWHITE AO, UNIWHITE KO, UNIWHITE OR 450, UNIWHITE OR 650, ZOPAQUE, and ZOPAQUE LDC']"
      ]
     },
     "execution_count": 85,
     "metadata": {},
     "output_type": "execute_result"
    }
   ],
   "source": [
    "[elem.text for elem in chemical_info]"
   ]
  },
  {
   "cell_type": "code",
   "execution_count": 86,
   "metadata": {},
   "outputs": [
    {
     "data": {
      "text/plain": [
       "'1385RN 59, 1700 WHITE, 234DA, 500HD, 63B1 WHITE, A 200 (PIGMENT), A 330 (PIGMENT), A-FIL, A-FIL CREAM, A-FN 3, AEROLYST 7710, AEROSIL P 25, AEROSIL P 25S6, AEROSIL P 27, AEROSIL T 805, AI3-01334, AK 15 (PIGMENT), AMORPHOUS TITANIUM DIOXIDE, AMPERIT 780.0, AMT 100, AMT 600, ATLAS WHITE TITANIUM DIOXIDE, AUF 0015S, AUSTIOX R-CR 3, B 101 (PIGMENT), BAYER R-FD 1, BAYERTITAN A, BAYERTITAN AN 3, BAYERTITAN R-FD 1, BAYERTITAN R-FK 21, BAYERTITAN R-FK-D, BAYERTITAN R-KB 2, BAYERTITAN R-KB 3, BAYERTITAN R-KB 4, BAYERTITAN R-KB 5, BAYERTITAN R-KB 6, BAYERTITAN R-U 2, BAYERTITAN R-U-F, BAYERTITAN R-V-SE 20, BAYERTITAN T, BISTRATER L-NSC 200C, BLEND WHITE 9202, BR 29-7-2, BROOKITE, C 97 (OXIDE), C-WEISS 7, C.I. 77891, C.I. PIGMENT WHITE 6, CAB-O-TI, CALCOTONE WHITE T, CCRIS 590, CG-T, CI 77891, CI PIGMENT WHITE 6, CL 310, COSMETIC HYDROPHOBIC TIO2 9428, COSMETIC MICRO BLEND TIO2 9228, COSMETIC WHITE C47-5175, COSMETIC WHITE C47-9623, E 171, EINECS 236-675-5, FLAMENCO, HOMBITAN, HOMBITAN R 101D, HOMBITAN R 610K, HORSE HEAD A-410, HORSE HEAD A-420, HORSE HEAD R-710, HSDB 869, KH 360, KRONOS, KRONOS 2073, KRONOS CL 220, KRONOS RN 40P, KRONOS RN 56, KRONOS TITANIUM DIOXIDE, LEVANOX WHITE RKB, MICRO PARTICLE TITANIUM DIOXIDE, NCI-C04240, NCI-C0424O, NSC 15204, ORGASOL 1002D WHITE 10 EXTRA COS, P 25 (OXIDE), PIGMENT WHITE 6, R 680, RAYOX, RO 2, RUNA ARH 20, RUNA ARH 200, RUNA RH20, RUTIOX CR, TI-PURE, TI-PURE R 900, TI-PURE R 901, TICHLOR, TIN DIOXIDE DUST, TIO2, TIOFINE, TIONA T.D., TIONA TD, TIOXIDE, TIOXIDE A-DM, TIOXIDE AD-M, TIOXIDE R XL, TIOXIDE R-CR, TIOXIDE R-SM, TIOXIDE R.XL, TIOXIDE RHD, TIOXIDE RSM, TIPAQUE, TIPAQUE R 820, TITAFRANCE, TITAN WHITE, TITANDIOXID, TITANDIOXID (SWEDEN), TITANIA, TITANIC ANHYDRIDE, TITANIC OXIDE, TITANIUM DIOXIDE, TITANIUM DIOXIDE (NON-NANO), TITANIUM DIOXIDE SOL, TITANIUM DIOXIDE; TITANIUM DIOXIDE, TITANIUM OXIDE, TITANIUM OXIDE (TIO2), TITANIUM OXIDE (VAN), TITANIUM PEROXIDE, TITANIUM PEROXIDE (TIO2), TITANIUM WHITE, TITANIUM(IV) OXIDE, TITANOX, TITANOX 2010, TITANOX RANC, TRIOXIDE(S), TRONOX, UNITANE, UNITANE 0-110, UNITANE 0-220, UNITANE O-110, UNITANE O-220, UNITANE OR 450, UNITANE OR 650, UNITANE OR-150, UNITANE OR-340, UNITANE OR-342, UNITANE OR-350, UNITANE OR-540, UNITANE OR-640, UNIWHITE AO, UNIWHITE KO, UNIWHITE OR 450, UNIWHITE OR 650, ZOPAQUE, and ZOPAQUE LDC'"
      ]
     },
     "execution_count": 86,
     "metadata": {},
     "output_type": "execute_result"
    }
   ],
   "source": [
    "chemical_info[3].text"
   ]
  },
  {
   "cell_type": "code",
   "execution_count": null,
   "metadata": {},
   "outputs": [],
   "source": []
  },
  {
   "cell_type": "code",
   "execution_count": 84,
   "metadata": {},
   "outputs": [],
   "source": [
    "driver.find_element_by_class_name('chemical-synonyms').click()"
   ]
  },
  {
   "cell_type": "code",
   "execution_count": 174,
   "metadata": {},
   "outputs": [
    {
     "data": {
      "text/plain": [
       "'Use restrictions (moderate)'"
      ]
     },
     "execution_count": 174,
     "metadata": {},
     "output_type": "execute_result"
    }
   ],
   "source": []
  },
  {
   "cell_type": "code",
   "execution_count": 196,
   "metadata": {},
   "outputs": [],
   "source": [
    "# I'll need to click on the appropriate links to pull up the data to read\n",
    "# And then read using chemical_info = driver.find_elements_by_class_name('chemical-info')"
   ]
  },
  {
   "cell_type": "code",
   "execution_count": null,
   "metadata": {},
   "outputs": [],
   "source": []
  },
  {
   "cell_type": "code",
   "execution_count": null,
   "metadata": {},
   "outputs": [],
   "source": [
    "# And I forgot to look at how to advance pages...\n"
   ]
  },
  {
   "cell_type": "code",
   "execution_count": 6,
   "metadata": {},
   "outputs": [],
   "source": [
    "driver = webdriver.Chrome()\n",
    "driver.get(\"https://www.ewg.org/skindeep/search?search=*&search_type=ingredients&per_page=36\")\n",
    "\n",
    "\n",
    "try:\n",
    "    # If there's a pop-up, let's close it.\n",
    "    driver.find_element_by_id('yeaClose').click()\n",
    "\n",
    "except ElementNotInteractableException:\n",
    "    pass\n",
    "    \n"
   ]
  },
  {
   "cell_type": "code",
   "execution_count": 10,
   "metadata": {},
   "outputs": [],
   "source": [
    "next = driver.find_element_by_class_name('next_page')"
   ]
  },
  {
   "cell_type": "code",
   "execution_count": 17,
   "metadata": {},
   "outputs": [
    {
     "data": {
      "text/plain": [
       "False"
      ]
     },
     "execution_count": 17,
     "metadata": {},
     "output_type": "execute_result"
    }
   ],
   "source": [
    "driver.find_element_by_class_name('next_page').is_displayed()"
   ]
  },
  {
   "cell_type": "code",
   "execution_count": null,
   "metadata": {},
   "outputs": [],
   "source": []
  },
  {
   "cell_type": "code",
   "execution_count": 26,
   "metadata": {},
   "outputs": [],
   "source": [
    "try:\n",
    "    # If there's a pop-up, let's close it.\n",
    "    driver.find_element_by_id('yeaClose').click()\n",
    "\n",
    "except NoSuchElementException:\n",
    "    pass\n",
    "\n",
    "finally:\n",
    "    driver.find_element_by_class_name('previous_page').click()"
   ]
  },
  {
   "cell_type": "code",
   "execution_count": null,
   "metadata": {},
   "outputs": [],
   "source": []
  },
  {
   "cell_type": "code",
   "execution_count": null,
   "metadata": {},
   "outputs": [],
   "source": []
  },
  {
   "cell_type": "code",
   "execution_count": 42,
   "metadata": {},
   "outputs": [],
   "source": [
    "# driver.find_element_by_class_name('next_page').click() \n",
    "# yep, goes to next page.\n",
    "# turns off when "
   ]
  },
  {
   "cell_type": "code",
   "execution_count": null,
   "metadata": {},
   "outputs": [],
   "source": [
    "driver.close()"
   ]
  },
  {
   "cell_type": "code",
   "execution_count": null,
   "metadata": {},
   "outputs": [],
   "source": []
  },
  {
   "cell_type": "code",
   "execution_count": null,
   "metadata": {},
   "outputs": [],
   "source": [
    "### Okay, let's clear up how we can parse out what we want from a product page\n"
   ]
  },
  {
   "cell_type": "code",
   "execution_count": 43,
   "metadata": {},
   "outputs": [],
   "source": [
    "driver = webdriver.Chrome()\n",
    "driver.get(\"https://www.ewg.org/skindeep/ingredients/706561-TITANIUM_DIOXIDE\")"
   ]
  },
  {
   "cell_type": "code",
   "execution_count": 58,
   "metadata": {},
   "outputs": [],
   "source": [
    "name = driver.find_elements_by_class_name('chemical-score')"
   ]
  },
  {
   "cell_type": "code",
   "execution_count": 59,
   "metadata": {},
   "outputs": [
    {
     "data": {
      "text/plain": [
       "[<selenium.webdriver.remote.webelement.WebElement (session=\"98b4b35b65ff7c11ae84a3512dd86b50\", element=\"4d9ee010-2d54-4c1d-ac60-556c39a6188c\")>]"
      ]
     },
     "execution_count": 59,
     "metadata": {},
     "output_type": "execute_result"
    }
   ],
   "source": [
    "name"
   ]
  },
  {
   "cell_type": "code",
   "execution_count": 74,
   "metadata": {},
   "outputs": [
    {
     "data": {
      "text/plain": [
       "'https://www.ewg.org/skindeep/squircle/show.svg?score=3&score_min=1'"
      ]
     },
     "execution_count": 74,
     "metadata": {},
     "output_type": "execute_result"
    }
   ],
   "source": [
    "driver.find_element_by_class_name('squircle').get_attribute('src')"
   ]
  },
  {
   "cell_type": "code",
   "execution_count": null,
   "metadata": {},
   "outputs": [],
   "source": []
  },
  {
   "cell_type": "code",
   "execution_count": null,
   "metadata": {},
   "outputs": [],
   "source": []
  },
  {
   "cell_type": "code",
   "execution_count": null,
   "metadata": {},
   "outputs": [],
   "source": [
    "score = driver.find_elements_by_class_name('')"
   ]
  },
  {
   "cell_type": "code",
   "execution_count": null,
   "metadata": {},
   "outputs": [],
   "source": []
  },
  {
   "cell_type": "code",
   "execution_count": null,
   "metadata": {},
   "outputs": [],
   "source": []
  },
  {
   "cell_type": "code",
   "execution_count": null,
   "metadata": {},
   "outputs": [],
   "source": []
  },
  {
   "cell_type": "code",
   "execution_count": null,
   "metadata": {},
   "outputs": [],
   "source": []
  },
  {
   "cell_type": "code",
   "execution_count": null,
   "metadata": {},
   "outputs": [],
   "source": []
  }
 ],
 "metadata": {
  "kernelspec": {
   "display_name": "vegan_parser",
   "language": "python",
   "name": "vegan_parser"
  },
  "language_info": {
   "codemirror_mode": {
    "name": "ipython",
    "version": 3
   },
   "file_extension": ".py",
   "mimetype": "text/x-python",
   "name": "python",
   "nbconvert_exporter": "python",
   "pygments_lexer": "ipython3",
   "version": "3.7.4"
  }
 },
 "nbformat": 4,
 "nbformat_minor": 4
}
