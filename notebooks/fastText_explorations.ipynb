{
 "cells": [
  {
   "cell_type": "code",
   "execution_count": 1,
   "metadata": {},
   "outputs": [],
   "source": [
    "# helpful reference: https://medium.com/@h_bushroh/text-similarity-with-fasttext-word-embeddings-c765d97df682\n",
    "# a nice writeup about different similarity measures: https://medium.com/@adriensieg/text-similarities-da019229c894"
   ]
  },
  {
   "cell_type": "code",
   "execution_count": 5,
   "metadata": {},
   "outputs": [],
   "source": [
    "import pandas as pd\n",
    "import numpy as np\n",
    "import fasttext"
   ]
  },
  {
   "cell_type": "code",
   "execution_count": 45,
   "metadata": {},
   "outputs": [],
   "source": [
    "from nltk.corpus import stopwords\n",
    "from nltk.tokenize import sent_tokenize, word_tokenize"
   ]
  },
  {
   "cell_type": "code",
   "execution_count": 50,
   "metadata": {},
   "outputs": [],
   "source": [
    "from string import punctuation"
   ]
  },
  {
   "cell_type": "code",
   "execution_count": 13,
   "metadata": {},
   "outputs": [],
   "source": [
    "from scipy.spatial.distance import cosine"
   ]
  },
  {
   "cell_type": "code",
   "execution_count": 6,
   "metadata": {},
   "outputs": [],
   "source": [
    "from datetime import datetime"
   ]
  },
  {
   "cell_type": "code",
   "execution_count": 7,
   "metadata": {},
   "outputs": [],
   "source": [
    "ingredient_data_fp = '/Volumes/ja2/vegan/vegan_parser/data_source/dataframe_with_syns.csv'\n",
    "embedding_model_fp = '/Volumes/ja2/vegan/vegan_parser/fasttext_wiki/wiki.en/wiki.en.bin'"
   ]
  },
  {
   "cell_type": "code",
   "execution_count": 8,
   "metadata": {},
   "outputs": [
    {
     "name": "stderr",
     "output_type": "stream",
     "text": [
      "\n"
     ]
    },
    {
     "name": "stdout",
     "output_type": "stream",
     "text": [
      "It took 0:04:16.532097 to load the model\n"
     ]
    }
   ],
   "source": [
    "t1 = datetime.now()\n",
    "fasttext_model = fasttext.load_model(embedding_model_fp)\n",
    "\n",
    "print(f'It took {datetime.now() - t1} to load the model')"
   ]
  },
  {
   "cell_type": "code",
   "execution_count": 9,
   "metadata": {},
   "outputs": [],
   "source": [
    "# Whoa, it took over 4 min to load the model...to be fair, the model is like, 7 or 8 GB."
   ]
  },
  {
   "cell_type": "code",
   "execution_count": 11,
   "metadata": {},
   "outputs": [],
   "source": [
    "mineral_emb = fasttext_model.get_word_vector('mineral')  # equivalent to fasttext_model['mineral']"
   ]
  },
  {
   "cell_type": "code",
   "execution_count": 18,
   "metadata": {},
   "outputs": [],
   "source": [
    "salt_emb = fasttext_model.get_word_vector('salt')"
   ]
  },
  {
   "cell_type": "code",
   "execution_count": 30,
   "metadata": {},
   "outputs": [
    {
     "data": {
      "text/plain": [
       "0.5615120530128479"
      ]
     },
     "execution_count": 30,
     "metadata": {},
     "output_type": "execute_result"
    }
   ],
   "source": [
    "cosine(mineral_emb, salt_emb)"
   ]
  },
  {
   "cell_type": "code",
   "execution_count": 31,
   "metadata": {},
   "outputs": [
    {
     "name": "stdout",
     "output_type": "stream",
     "text": [
      "0.4364222288131714\n"
     ]
    }
   ],
   "source": [
    "print(cosine(fasttext_model['animal'], fasttext_model['dog']))\n"
   ]
  },
  {
   "cell_type": "code",
   "execution_count": 32,
   "metadata": {},
   "outputs": [
    {
     "name": "stdout",
     "output_type": "stream",
     "text": [
      "0.4459826946258545\n"
     ]
    }
   ],
   "source": [
    "print(cosine(fasttext_model['animal'], fasttext_model['pig']))\n"
   ]
  },
  {
   "cell_type": "code",
   "execution_count": 33,
   "metadata": {},
   "outputs": [
    {
     "data": {
      "text/plain": [
       "0.6285239160060883"
      ]
     },
     "execution_count": 33,
     "metadata": {},
     "output_type": "execute_result"
    }
   ],
   "source": [
    "cosine(fasttext_model['animal'], fasttext_model['plant'])\n"
   ]
  },
  {
   "cell_type": "code",
   "execution_count": 34,
   "metadata": {},
   "outputs": [
    {
     "name": "stdout",
     "output_type": "stream",
     "text": [
      "0.4628000855445862\n"
     ]
    }
   ],
   "source": [
    "print(cosine(fasttext_model['hot'], fasttext_model['cold']))\n"
   ]
  },
  {
   "cell_type": "code",
   "execution_count": 35,
   "metadata": {},
   "outputs": [
    {
     "name": "stdout",
     "output_type": "stream",
     "text": [
      "0.0\n"
     ]
    }
   ],
   "source": [
    "print(cosine(fasttext_model['hot'], fasttext_model['hot']))"
   ]
  },
  {
   "cell_type": "code",
   "execution_count": 39,
   "metadata": {},
   "outputs": [
    {
     "name": "stdout",
     "output_type": "stream",
     "text": [
      "0.6746916174888611\n",
      "0.6110290884971619\n",
      "0.754726842045784\n"
     ]
    }
   ],
   "source": [
    "# Boo...glycerin, from wiki: \"Glycerol is generally obtained from plant and animal sources...\"\n",
    "print(cosine(fasttext_model['glycerin'], fasttext_model['plant']))\n",
    "print(cosine(fasttext_model['glycerin'], fasttext_model['mineral']))\n",
    "print(cosine(fasttext_model['glycerin'], fasttext_model['animal']))"
   ]
  },
  {
   "cell_type": "code",
   "execution_count": 40,
   "metadata": {},
   "outputs": [],
   "source": [
    "# but, what if we combine all the synonyms for glycerin?\n",
    "# Note, the `1,2,` in front of the 3 in the names is concerning, but we'll see.\n",
    "syns = ['3-PROPANETRIOL',\n",
    " '3-TRIHYDROXYPROPANE',\n",
    " '3PROPANETRIOL',\n",
    " 'CONCENTRATED GLYCERIN',\n",
    " 'GLYCERIN',\n",
    " 'GLYCERINE',\n",
    " 'GLYCEROL',\n",
    " 'GLYCYL ALCOHOL',\n",
    " 'VEGETABLE GLYCERIN']\n",
    "\n",
    "syns = [item.lower() for item in syns]"
   ]
  },
  {
   "cell_type": "code",
   "execution_count": 41,
   "metadata": {},
   "outputs": [
    {
     "data": {
      "text/plain": [
       "['3-propanetriol',\n",
       " '3-trihydroxypropane',\n",
       " '3propanetriol',\n",
       " 'concentrated glycerin',\n",
       " 'glycerin',\n",
       " 'glycerine',\n",
       " 'glycerol',\n",
       " 'glycyl alcohol',\n",
       " 'vegetable glycerin']"
      ]
     },
     "execution_count": 41,
     "metadata": {},
     "output_type": "execute_result"
    }
   ],
   "source": [
    "syns"
   ]
  },
  {
   "cell_type": "code",
   "execution_count": null,
   "metadata": {},
   "outputs": [],
   "source": []
  },
  {
   "cell_type": "code",
   "execution_count": null,
   "metadata": {},
   "outputs": [],
   "source": []
  },
  {
   "cell_type": "code",
   "execution_count": 43,
   "metadata": {},
   "outputs": [
    {
     "name": "stdout",
     "output_type": "stream",
     "text": [
      "0.5996586084365845\n",
      "0.7843036502599716\n",
      "0.6257796585559845\n"
     ]
    }
   ],
   "source": [
    "# Okay, so this one works with this method (fasttext cosine sim)\n",
    "print(cosine(fasttext_model['green tea extract'], fasttext_model['vegetable']))\n",
    "print(cosine(fasttext_model['green tea extract'], fasttext_model['animal']))\n",
    "print(cosine(fasttext_model['green tea extract'], fasttext_model['mineral']))\n"
   ]
  },
  {
   "cell_type": "code",
   "execution_count": null,
   "metadata": {},
   "outputs": [],
   "source": []
  },
  {
   "cell_type": "code",
   "execution_count": 56,
   "metadata": {},
   "outputs": [],
   "source": [
    "stopwords = stopwords.words('english')\n"
   ]
  },
  {
   "cell_type": "code",
   "execution_count": 119,
   "metadata": {
    "collapsed": true,
    "jupyter": {
     "outputs_hidden": true
    }
   },
   "outputs": [
    {
     "data": {
      "text/plain": [
       "['i',\n",
       " 'me',\n",
       " 'my',\n",
       " 'myself',\n",
       " 'we',\n",
       " 'our',\n",
       " 'ours',\n",
       " 'ourselves',\n",
       " 'you',\n",
       " \"you're\",\n",
       " \"you've\",\n",
       " \"you'll\",\n",
       " \"you'd\",\n",
       " 'your',\n",
       " 'yours',\n",
       " 'yourself',\n",
       " 'yourselves',\n",
       " 'he',\n",
       " 'him',\n",
       " 'his',\n",
       " 'himself',\n",
       " 'she',\n",
       " \"she's\",\n",
       " 'her',\n",
       " 'hers',\n",
       " 'herself',\n",
       " 'it',\n",
       " \"it's\",\n",
       " 'its',\n",
       " 'itself',\n",
       " 'they',\n",
       " 'them',\n",
       " 'their',\n",
       " 'theirs',\n",
       " 'themselves',\n",
       " 'what',\n",
       " 'which',\n",
       " 'who',\n",
       " 'whom',\n",
       " 'this',\n",
       " 'that',\n",
       " \"that'll\",\n",
       " 'these',\n",
       " 'those',\n",
       " 'am',\n",
       " 'is',\n",
       " 'are',\n",
       " 'was',\n",
       " 'were',\n",
       " 'be',\n",
       " 'been',\n",
       " 'being',\n",
       " 'have',\n",
       " 'has',\n",
       " 'had',\n",
       " 'having',\n",
       " 'do',\n",
       " 'does',\n",
       " 'did',\n",
       " 'doing',\n",
       " 'a',\n",
       " 'an',\n",
       " 'the',\n",
       " 'and',\n",
       " 'but',\n",
       " 'if',\n",
       " 'or',\n",
       " 'because',\n",
       " 'as',\n",
       " 'until',\n",
       " 'while',\n",
       " 'of',\n",
       " 'at',\n",
       " 'by',\n",
       " 'for',\n",
       " 'with',\n",
       " 'about',\n",
       " 'against',\n",
       " 'between',\n",
       " 'into',\n",
       " 'through',\n",
       " 'during',\n",
       " 'before',\n",
       " 'after',\n",
       " 'above',\n",
       " 'below',\n",
       " 'to',\n",
       " 'from',\n",
       " 'up',\n",
       " 'down',\n",
       " 'in',\n",
       " 'out',\n",
       " 'on',\n",
       " 'off',\n",
       " 'over',\n",
       " 'under',\n",
       " 'again',\n",
       " 'further',\n",
       " 'then',\n",
       " 'once',\n",
       " 'here',\n",
       " 'there',\n",
       " 'when',\n",
       " 'where',\n",
       " 'why',\n",
       " 'how',\n",
       " 'all',\n",
       " 'any',\n",
       " 'both',\n",
       " 'each',\n",
       " 'few',\n",
       " 'more',\n",
       " 'most',\n",
       " 'other',\n",
       " 'some',\n",
       " 'such',\n",
       " 'no',\n",
       " 'nor',\n",
       " 'not',\n",
       " 'only',\n",
       " 'own',\n",
       " 'same',\n",
       " 'so',\n",
       " 'than',\n",
       " 'too',\n",
       " 'very',\n",
       " 's',\n",
       " 't',\n",
       " 'can',\n",
       " 'will',\n",
       " 'just',\n",
       " 'don',\n",
       " \"don't\",\n",
       " 'should',\n",
       " \"should've\",\n",
       " 'now',\n",
       " 'd',\n",
       " 'll',\n",
       " 'm',\n",
       " 'o',\n",
       " 're',\n",
       " 've',\n",
       " 'y',\n",
       " 'ain',\n",
       " 'aren',\n",
       " \"aren't\",\n",
       " 'couldn',\n",
       " \"couldn't\",\n",
       " 'didn',\n",
       " \"didn't\",\n",
       " 'doesn',\n",
       " \"doesn't\",\n",
       " 'hadn',\n",
       " \"hadn't\",\n",
       " 'hasn',\n",
       " \"hasn't\",\n",
       " 'haven',\n",
       " \"haven't\",\n",
       " 'isn',\n",
       " \"isn't\",\n",
       " 'ma',\n",
       " 'mightn',\n",
       " \"mightn't\",\n",
       " 'mustn',\n",
       " \"mustn't\",\n",
       " 'needn',\n",
       " \"needn't\",\n",
       " 'shan',\n",
       " \"shan't\",\n",
       " 'shouldn',\n",
       " \"shouldn't\",\n",
       " 'wasn',\n",
       " \"wasn't\",\n",
       " 'weren',\n",
       " \"weren't\",\n",
       " 'won',\n",
       " \"won't\",\n",
       " 'wouldn',\n",
       " \"wouldn't\"]"
      ]
     },
     "execution_count": 119,
     "metadata": {},
     "output_type": "execute_result"
    }
   ],
   "source": [
    "stopwords"
   ]
  },
  {
   "cell_type": "code",
   "execution_count": null,
   "metadata": {},
   "outputs": [],
   "source": []
  },
  {
   "cell_type": "code",
   "execution_count": null,
   "metadata": {},
   "outputs": [],
   "source": [
    "# We'll need to lowercase the ingredient names before searching."
   ]
  },
  {
   "cell_type": "code",
   "execution_count": 104,
   "metadata": {},
   "outputs": [],
   "source": [
    "def compare_direct(phrase: str):\n",
    "    phrase = phrase.lower()\n",
    "    test_embedding = fasttext_model[phrase]\n",
    "    \n",
    "    print(f\"Comparing directly the words: {phrase}\")\n",
    "    print(f\"Cosine Sim with plant: {cosine(test_embedding, fasttext_model['plant'])}\")\n",
    "    print(f\"Cosine Sim with animal: {cosine(test_embedding, fasttext_model['animal'])}\")\n",
    "    print(f\"Cosine Sim with mineral: {cosine(test_embedding, fasttext_model['mineral'])}\")\n",
    "    print()"
   ]
  },
  {
   "cell_type": "code",
   "execution_count": 109,
   "metadata": {},
   "outputs": [],
   "source": [
    "def compare_phrase(phrase: str, stopwords, punctuation):\n",
    "    \"\"\"\n",
    "    phrase is a string which is an ingredient description.\n",
    "    \"\"\"\n",
    "    phrase = phrase.lower()\n",
    "    \n",
    "    words = word_tokenize(phrase)\n",
    "    words = [word for word in words if word not in punctuation]\n",
    "    words = [word for word in words if word not in stopwords]\n",
    "    \n",
    "    test_embedding = np.mean([fasttext_model[word] for word in words], axis=0)\n",
    "\n",
    "    print(f\"Comparing phrase: {phrase}\")\n",
    "    print(f\"Cosine Sim with plant: {cosine(test_embedding, fasttext_model['plant'])}\")\n",
    "    print(f\"Cosine Sim with animal: {cosine(test_embedding, fasttext_model['animal'])}\")\n",
    "    print(f\"Cosine Sim with mineral: {cosine(test_embedding, fasttext_model['mineral'])}\")\n",
    "    print()\n",
    "    "
   ]
  },
  {
   "cell_type": "code",
   "execution_count": 110,
   "metadata": {},
   "outputs": [],
   "source": [
    "def compare_syn_list(syns, stopwords, punctuation):\n",
    "    \"\"\"\n",
    "    phrase is a string which is an ingredient description.\n",
    "    \"\"\"\n",
    "    \n",
    "    syns = [word.lower() for word in syns]\n",
    "    \n",
    "    test_embedding = np.mean([fasttext_model[word] for word in syns], axis=0)\n",
    "    \n",
    "    print(f\"Comparing synonym list: {syns}\")\n",
    "    print(f\"Cosine Sim with plant: {cosine(test_embedding, fasttext_model['plant'])}\")\n",
    "    print(f\"Cosine Sim with animal: {cosine(test_embedding, fasttext_model['animal'])}\")\n",
    "    print(f\"Cosine Sim with mineral: {cosine(test_embedding, fasttext_model['mineral'])}\")\n",
    "    print()"
   ]
  },
  {
   "cell_type": "code",
   "execution_count": 44,
   "metadata": {},
   "outputs": [
    {
     "data": {
      "text/plain": [
       "['phrase']"
      ]
     },
     "execution_count": 44,
     "metadata": {},
     "output_type": "execute_result"
    }
   ],
   "source": [
    "\"phrase\".split()"
   ]
  },
  {
   "cell_type": "code",
   "execution_count": 75,
   "metadata": {},
   "outputs": [],
   "source": [
    "string = \"Glycerin (also called glycerol) is a naturally occurring alcohol compound and a component of many lipids. Glycerin may be of animal or vegetable origin. This ingredient is listed in the PETA's Caring Consumer guide as a byproduct of soap manufacture which typically uses animal fat.\"\n"
   ]
  },
  {
   "cell_type": "code",
   "execution_count": 111,
   "metadata": {},
   "outputs": [],
   "source": [
    "# EXAMPLE: glycerin. 3 similarities: 1. the chemical_about string 2. the word/phrase direct comparison 3. using avg of syns"
   ]
  },
  {
   "cell_type": "code",
   "execution_count": 112,
   "metadata": {},
   "outputs": [
    {
     "name": "stdout",
     "output_type": "stream",
     "text": [
      "Comparing phrase: glycerin (also called glycerol) is a naturally occurring alcohol compound and a component of many lipids. glycerin may be of animal or vegetable origin. this ingredient is listed in the peta's caring consumer guide as a byproduct of soap manufacture which typically uses animal fat.\n",
      "Cosine Sim with plant: 0.5171853303909302\n",
      "Cosine Sim with animal: 0.41598761081695557\n",
      "Cosine Sim with mineral: 0.49857497215270996\n",
      "\n"
     ]
    }
   ],
   "source": [
    "# Use the \n",
    "compare_phrase(string, stopwords, punctuation) # Hmmm...not quite."
   ]
  },
  {
   "cell_type": "code",
   "execution_count": 113,
   "metadata": {},
   "outputs": [
    {
     "name": "stdout",
     "output_type": "stream",
     "text": [
      "Comparing phrase: glycerin\n",
      "Cosine Sim with plant: 0.6746916174888611\n",
      "Cosine Sim with animal: 0.754726842045784\n",
      "Cosine Sim with mineral: 0.6110290884971619\n",
      "\n"
     ]
    }
   ],
   "source": [
    "compare_phrase(\"glycerin\", stopwords, punctuation)"
   ]
  },
  {
   "cell_type": "code",
   "execution_count": 114,
   "metadata": {},
   "outputs": [
    {
     "name": "stdout",
     "output_type": "stream",
     "text": [
      "Comparing directly the words: glycerin\n",
      "Cosine Sim with plant: 0.6746916174888611\n",
      "Cosine Sim with animal: 0.754726842045784\n",
      "Cosine Sim with mineral: 0.6110290884971619\n",
      "\n"
     ]
    }
   ],
   "source": [
    "compare_direct(\"glycerin\")  # Okay, so it's similar to both animal, and plant, but how to determine a cutoff?"
   ]
  },
  {
   "cell_type": "code",
   "execution_count": 115,
   "metadata": {},
   "outputs": [
    {
     "name": "stdout",
     "output_type": "stream",
     "text": [
      "Comparing synonym list: ['3-propanetriol', '3-trihydroxypropane', '3propanetriol', 'concentrated glycerin', 'glycerin', 'glycerine', 'glycerol', 'glycyl alcohol', 'vegetable glycerin']\n",
      "Cosine Sim with plant: 0.6334622800350189\n",
      "Cosine Sim with animal: 0.7275842130184174\n",
      "Cosine Sim with mineral: 0.573100745677948\n",
      "\n"
     ]
    }
   ],
   "source": [
    "compare_syn_list(['3-propanetriol',\n",
    " '3-trihydroxypropane',\n",
    " '3propanetriol',\n",
    " 'concentrated glycerin',\n",
    " 'glycerin',\n",
    " 'glycerine',\n",
    " 'glycerol',\n",
    " 'glycyl alcohol',\n",
    " 'vegetable glycerin'], stopwords, punctuation)"
   ]
  },
  {
   "cell_type": "code",
   "execution_count": 116,
   "metadata": {},
   "outputs": [],
   "source": [
    "def extract_synonymns_list(str1):\n",
    "    if pd.isna(str1):\n",
    "        return []\n",
    "    \n",
    "    split_and_list = str1.split('and')\n",
    "    split_and_comma_list_in_list = [string.split(',') for string in split_and_list]\n",
    "    split_and_comma_semi_list_in_list = [item.strip().split(';') for sublist in split_and_comma_list_in_list for item in sublist]\n",
    "\n",
    "    intermediate_list = [item for sublist in split_and_comma_semi_list_in_list for item in sublist if item!='']\n",
    "   \n",
    "    # also need to filter out numbers in the ingredients due to odd splitting\n",
    "    \n",
    "    return [item for item in intermediate_list if not item.isdigit()]"
   ]
  },
  {
   "cell_type": "code",
   "execution_count": 117,
   "metadata": {},
   "outputs": [],
   "source": [
    "syns = extract_synonymns_list('2,6,10,15,19,23-HEXAMETHYLTETRACOSANE, SQUALANE, TETRACOSANE, 2,6,10,15,19,23HEXAMETHYL, and VEGETABLE SQUALANE')"
   ]
  },
  {
   "cell_type": "code",
   "execution_count": 118,
   "metadata": {},
   "outputs": [
    {
     "name": "stdout",
     "output_type": "stream",
     "text": [
      "Comparing phrase: squalane\n",
      "Cosine Sim with plant: 0.7363308072090149\n",
      "Cosine Sim with animal: 0.7128980159759521\n",
      "Cosine Sim with mineral: 0.6274028718471527\n",
      "\n",
      "Comparing phrase: squalane is a naturally occuring lipid in both plants and animals. this ingredient is listed in the peta's caring consumer guide as primarily derived from animals, especially shark liver oil.\n",
      "Cosine Sim with plant: 0.4753827452659607\n",
      "Cosine Sim with animal: 0.32949191331863403\n",
      "Cosine Sim with mineral: 0.5269950032234192\n",
      "\n",
      "Comparing synonym list: ['23-hexamethyltetracosane', 'squalane', 'tetracosane', '23hexamethyl', 'vegetable squalane']\n",
      "Cosine Sim with plant: 0.662769615650177\n",
      "Cosine Sim with animal: 0.6928196251392365\n",
      "Cosine Sim with mineral: 0.5563579797744751\n",
      "\n"
     ]
    }
   ],
   "source": [
    "# phrase works for this...\n",
    "\n",
    "compare_phrase(\"squalane\", stopwords, punctuation)\n",
    "compare_phrase(\"Squalane is a naturally occuring lipid in both plants and animals. This ingredient is listed in the PETA's Caring Consumer guide as primarily derived from animals, especially shark liver oil.\", stopwords, punctuation)\n",
    "compare_syn_list(syns, stopwords, punctuation)\n"
   ]
  },
  {
   "cell_type": "code",
   "execution_count": null,
   "metadata": {},
   "outputs": [],
   "source": []
  },
  {
   "cell_type": "code",
   "execution_count": null,
   "metadata": {},
   "outputs": [],
   "source": [
    "# Let's code this up a little better so we can pull random samples and get the phrase.\n",
    "\n"
   ]
  },
  {
   "cell_type": "code",
   "execution_count": null,
   "metadata": {},
   "outputs": [],
   "source": []
  },
  {
   "cell_type": "code",
   "execution_count": null,
   "metadata": {},
   "outputs": [],
   "source": []
  }
 ],
 "metadata": {
  "kernelspec": {
   "display_name": "vegan_parser",
   "language": "python",
   "name": "vegan_parser"
  },
  "language_info": {
   "codemirror_mode": {
    "name": "ipython",
    "version": 3
   },
   "file_extension": ".py",
   "mimetype": "text/x-python",
   "name": "python",
   "nbconvert_exporter": "python",
   "pygments_lexer": "ipython3",
   "version": "3.7.4"
  }
 },
 "nbformat": 4,
 "nbformat_minor": 4
}
