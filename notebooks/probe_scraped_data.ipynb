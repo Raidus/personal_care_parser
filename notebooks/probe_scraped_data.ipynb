{
 "cells": [
  {
   "cell_type": "code",
   "execution_count": 92,
   "metadata": {},
   "outputs": [],
   "source": [
    "import os\n",
    "import pandas as pd\n",
    "import numpy as np\n",
    "from datetime import datetime"
   ]
  },
  {
   "cell_type": "code",
   "execution_count": 93,
   "metadata": {},
   "outputs": [],
   "source": [
    "pd.options.display.max_colwidth = 300"
   ]
  },
  {
   "cell_type": "code",
   "execution_count": 94,
   "metadata": {},
   "outputs": [],
   "source": [
    "data_path = '/Volumes/ja2/vegan/vegan_parser/scraping/ewg_data/'"
   ]
  },
  {
   "cell_type": "code",
   "execution_count": 95,
   "metadata": {},
   "outputs": [],
   "source": [
    "column_names = ['datetime_pulled',\n",
    "               'search_page_num',\n",
    "               'chemical_name',\n",
    "               'score_url',\n",
    "               'data_availability',\n",
    "               'chemical_concerns',\n",
    "               'chemical_functions',\n",
    "               'chemical_about',\n",
    "               'chemical_synonyms']"
   ]
  },
  {
   "cell_type": "code",
   "execution_count": 96,
   "metadata": {},
   "outputs": [],
   "source": [
    "filepaths = [os.path.join(data_path,f) for f in os.listdir(data_path) if f.startswith('chemical_details')]"
   ]
  },
  {
   "cell_type": "code",
   "execution_count": 97,
   "metadata": {},
   "outputs": [
    {
     "data": {
      "text/plain": [
       "252"
      ]
     },
     "execution_count": 97,
     "metadata": {},
     "output_type": "execute_result"
    }
   ],
   "source": [
    "len(filepaths)"
   ]
  },
  {
   "cell_type": "code",
   "execution_count": 98,
   "metadata": {},
   "outputs": [],
   "source": [
    "df = pd.concat([pd.read_csv(f, names=column_names) for f in filepaths], axis=0)"
   ]
  },
  {
   "cell_type": "code",
   "execution_count": 99,
   "metadata": {},
   "outputs": [
    {
     "data": {
      "text/plain": [
       "(9062, 9)"
      ]
     },
     "execution_count": 99,
     "metadata": {},
     "output_type": "execute_result"
    }
   ],
   "source": [
    "df.shape"
   ]
  },
  {
   "cell_type": "code",
   "execution_count": 100,
   "metadata": {},
   "outputs": [
    {
     "data": {
      "text/html": [
       "<div>\n",
       "<style scoped>\n",
       "    .dataframe tbody tr th:only-of-type {\n",
       "        vertical-align: middle;\n",
       "    }\n",
       "\n",
       "    .dataframe tbody tr th {\n",
       "        vertical-align: top;\n",
       "    }\n",
       "\n",
       "    .dataframe thead th {\n",
       "        text-align: right;\n",
       "    }\n",
       "</style>\n",
       "<table border=\"1\" class=\"dataframe\">\n",
       "  <thead>\n",
       "    <tr style=\"text-align: right;\">\n",
       "      <th></th>\n",
       "      <th>datetime_pulled</th>\n",
       "      <th>search_page_num</th>\n",
       "      <th>chemical_name</th>\n",
       "      <th>score_url</th>\n",
       "      <th>data_availability</th>\n",
       "      <th>chemical_concerns</th>\n",
       "      <th>chemical_functions</th>\n",
       "      <th>chemical_about</th>\n",
       "      <th>chemical_synonyms</th>\n",
       "    </tr>\n",
       "  </thead>\n",
       "  <tbody>\n",
       "    <tr>\n",
       "      <th>2</th>\n",
       "      <td>2019-12-09 21:55:34.303180</td>\n",
       "      <td>157</td>\n",
       "      <td>SODIUM RAPESEEDATE</td>\n",
       "      <td>https://www.ewg.org/skindeep/squircle/show.svg?score=1&amp;score_min=1</td>\n",
       "      <td>Data: None</td>\n",
       "      <td>NaN</td>\n",
       "      <td>surfactant - cleansing agent, surfactant - emulsifying agent, viscosity increasing agent -nonaqueous, cleansing, emulsifying, surfactant, and viscosity controlling</td>\n",
       "      <td>Sodium Rapeseedate is a sodium salt of the fatty acids derived from Brassica Campestris(Rapeseed) Oil (q.v.).</td>\n",
       "      <td>FATTY ACIDS, RAPESEED OIL, SODIUM SALT, RAPESEED OIL SODIUM SALT FATTY ACIDS, SODIUM RAPESEEDATE, and SODIUM SALT FATTY ACIDS, RAPESEED OIL</td>\n",
       "    </tr>\n",
       "  </tbody>\n",
       "</table>\n",
       "</div>"
      ],
      "text/plain": [
       "              datetime_pulled  search_page_num       chemical_name  \\\n",
       "2  2019-12-09 21:55:34.303180              157  SODIUM RAPESEEDATE   \n",
       "\n",
       "                                                            score_url  \\\n",
       "2  https://www.ewg.org/skindeep/squircle/show.svg?score=1&score_min=1   \n",
       "\n",
       "  data_availability chemical_concerns  \\\n",
       "2        Data: None               NaN   \n",
       "\n",
       "                                                                                                                                                    chemical_functions  \\\n",
       "2  surfactant - cleansing agent, surfactant - emulsifying agent, viscosity increasing agent -nonaqueous, cleansing, emulsifying, surfactant, and viscosity controlling   \n",
       "\n",
       "                                                                                                  chemical_about  \\\n",
       "2  Sodium Rapeseedate is a sodium salt of the fatty acids derived from Brassica Campestris(Rapeseed) Oil (q.v.).   \n",
       "\n",
       "                                                                                                                             chemical_synonyms  \n",
       "2  FATTY ACIDS, RAPESEED OIL, SODIUM SALT, RAPESEED OIL SODIUM SALT FATTY ACIDS, SODIUM RAPESEEDATE, and SODIUM SALT FATTY ACIDS, RAPESEED OIL  "
      ]
     },
     "execution_count": 100,
     "metadata": {},
     "output_type": "execute_result"
    }
   ],
   "source": [
    "df[df['chemical_name']=='SODIUM RAPESEEDATE']"
   ]
  },
  {
   "cell_type": "code",
   "execution_count": 101,
   "metadata": {},
   "outputs": [
    {
     "data": {
      "text/plain": [
       "array(['FATTY ACIDS, RAPESEED OIL, SODIUM SALT, RAPESEED OIL SODIUM SALT FATTY ACIDS, SODIUM RAPESEEDATE, and SODIUM SALT FATTY ACIDS, RAPESEED OIL'],\n",
       "      dtype=object)"
      ]
     },
     "execution_count": 101,
     "metadata": {},
     "output_type": "execute_result"
    }
   ],
   "source": [
    "df[df['chemical_name']=='SODIUM RAPESEEDATE']['chemical_synonyms'].values"
   ]
  },
  {
   "cell_type": "code",
   "execution_count": null,
   "metadata": {},
   "outputs": [],
   "source": []
  },
  {
   "cell_type": "code",
   "execution_count": 102,
   "metadata": {},
   "outputs": [],
   "source": [
    "# Oh, it's not just a list, there's an \"and\" in there... but if the names are always capitalized, that's a way to deal with it.\n",
    "# Let's look up the alternative names\n"
   ]
  },
  {
   "cell_type": "code",
   "execution_count": 103,
   "metadata": {},
   "outputs": [
    {
     "data": {
      "text/html": [
       "<div>\n",
       "<style scoped>\n",
       "    .dataframe tbody tr th:only-of-type {\n",
       "        vertical-align: middle;\n",
       "    }\n",
       "\n",
       "    .dataframe tbody tr th {\n",
       "        vertical-align: top;\n",
       "    }\n",
       "\n",
       "    .dataframe thead th {\n",
       "        text-align: right;\n",
       "    }\n",
       "</style>\n",
       "<table border=\"1\" class=\"dataframe\">\n",
       "  <thead>\n",
       "    <tr style=\"text-align: right;\">\n",
       "      <th></th>\n",
       "      <th>datetime_pulled</th>\n",
       "      <th>search_page_num</th>\n",
       "      <th>chemical_name</th>\n",
       "      <th>score_url</th>\n",
       "      <th>data_availability</th>\n",
       "      <th>chemical_concerns</th>\n",
       "      <th>chemical_functions</th>\n",
       "      <th>chemical_about</th>\n",
       "      <th>chemical_synonyms</th>\n",
       "    </tr>\n",
       "  </thead>\n",
       "  <tbody>\n",
       "    <tr>\n",
       "      <th>27</th>\n",
       "      <td>2019-12-09 09:41:55.692990</td>\n",
       "      <td>124</td>\n",
       "      <td>FATTY ACIDS</td>\n",
       "      <td>https://www.ewg.org/skindeep/squircle/show.svg?score=1&amp;score_min=1</td>\n",
       "      <td>Data: Fair</td>\n",
       "      <td>Multiple, additive exposure sources (high)</td>\n",
       "      <td>NaN</td>\n",
       "      <td>NaN</td>\n",
       "      <td>FATTY ACIDS</td>\n",
       "    </tr>\n",
       "  </tbody>\n",
       "</table>\n",
       "</div>"
      ],
      "text/plain": [
       "               datetime_pulled  search_page_num chemical_name  \\\n",
       "27  2019-12-09 09:41:55.692990              124   FATTY ACIDS   \n",
       "\n",
       "                                                             score_url  \\\n",
       "27  https://www.ewg.org/skindeep/squircle/show.svg?score=1&score_min=1   \n",
       "\n",
       "   data_availability                           chemical_concerns  \\\n",
       "27        Data: Fair  Multiple, additive exposure sources (high)   \n",
       "\n",
       "   chemical_functions chemical_about chemical_synonyms  \n",
       "27                NaN            NaN       FATTY ACIDS  "
      ]
     },
     "execution_count": 103,
     "metadata": {},
     "output_type": "execute_result"
    }
   ],
   "source": [
    "df[df['chemical_name']=='FATTY ACIDS']"
   ]
  },
  {
   "cell_type": "code",
   "execution_count": 104,
   "metadata": {},
   "outputs": [],
   "source": [
    "# OH COME ON - these data are different!\n",
    "# Because Sodium Rapeseedate is one of many Fatty Acids out there."
   ]
  },
  {
   "cell_type": "code",
   "execution_count": 105,
   "metadata": {},
   "outputs": [
    {
     "data": {
      "text/html": [
       "<div>\n",
       "<style scoped>\n",
       "    .dataframe tbody tr th:only-of-type {\n",
       "        vertical-align: middle;\n",
       "    }\n",
       "\n",
       "    .dataframe tbody tr th {\n",
       "        vertical-align: top;\n",
       "    }\n",
       "\n",
       "    .dataframe thead th {\n",
       "        text-align: right;\n",
       "    }\n",
       "</style>\n",
       "<table border=\"1\" class=\"dataframe\">\n",
       "  <thead>\n",
       "    <tr style=\"text-align: right;\">\n",
       "      <th></th>\n",
       "      <th>datetime_pulled</th>\n",
       "      <th>search_page_num</th>\n",
       "      <th>chemical_name</th>\n",
       "      <th>score_url</th>\n",
       "      <th>data_availability</th>\n",
       "      <th>chemical_concerns</th>\n",
       "      <th>chemical_functions</th>\n",
       "      <th>chemical_about</th>\n",
       "      <th>chemical_synonyms</th>\n",
       "    </tr>\n",
       "  </thead>\n",
       "  <tbody>\n",
       "  </tbody>\n",
       "</table>\n",
       "</div>"
      ],
      "text/plain": [
       "Empty DataFrame\n",
       "Columns: [datetime_pulled, search_page_num, chemical_name, score_url, data_availability, chemical_concerns, chemical_functions, chemical_about, chemical_synonyms]\n",
       "Index: []"
      ]
     },
     "execution_count": 105,
     "metadata": {},
     "output_type": "execute_result"
    }
   ],
   "source": [
    "df[df['chemical_name']=='RAPESEED OIL']"
   ]
  },
  {
   "cell_type": "code",
   "execution_count": 106,
   "metadata": {},
   "outputs": [],
   "source": [
    "# Okay, but it looks like direct synoyms are not in the list."
   ]
  },
  {
   "cell_type": "markdown",
   "metadata": {},
   "source": [
    "### A few things to do:\n",
    "- duplicate rows for all the chemical synonyms, so we can have all the names in a column to look up\n",
    "- translate the score_url to actual scores\n"
   ]
  },
  {
   "cell_type": "code",
   "execution_count": 107,
   "metadata": {},
   "outputs": [
    {
     "data": {
      "text/plain": [
       "array(['https://www.ewg.org/skindeep/squircle/show.svg?score=1&score_min=1',\n",
       "       'https://www.ewg.org/skindeep/squircle/show.svg?score=8&score_min=8',\n",
       "       'https://www.ewg.org/skindeep/squircle/show.svg?score=2&score_min=1',\n",
       "       'https://www.ewg.org/skindeep/squircle/show.svg?score=2&score_min=2',\n",
       "       'https://www.ewg.org/skindeep/squircle/show.svg?score=3&score_min=1',\n",
       "       'https://www.ewg.org/skindeep/squircle/show.svg?score=4&score_min=2',\n",
       "       'https://www.ewg.org/skindeep/squircle/show.svg?score=3&score_min=3',\n",
       "       'https://www.ewg.org/skindeep/squircle/show.svg?score=4&score_min=4',\n",
       "       'https://www.ewg.org/skindeep/squircle/show.svg?score=7&score_min=5',\n",
       "       'https://www.ewg.org/skindeep/squircle/show.svg?score=5&score_min=2',\n",
       "       'https://www.ewg.org/skindeep/squircle/show.svg?score=6&score_min=3',\n",
       "       'https://www.ewg.org/skindeep/squircle/show.svg?score=4&score_min=1',\n",
       "       'https://www.ewg.org/skindeep/squircle/show.svg?score=3&score_min=2',\n",
       "       'https://www.ewg.org/skindeep/squircle/show.svg?score=5&score_min=4',\n",
       "       'https://www.ewg.org/skindeep/squircle/show.svg?score=6&score_min=4',\n",
       "       'https://www.ewg.org/skindeep/squircle/show.svg?score=7&score_min=1',\n",
       "       'https://www.ewg.org/skindeep/squircle/show.svg?score=6&score_min=6',\n",
       "       'https://www.ewg.org/skindeep/squircle/show.svg?score=7&score_min=4',\n",
       "       'https://www.ewg.org/skindeep/squircle/show.svg?score=10&score_min=7',\n",
       "       'https://www.ewg.org/skindeep/squircle/show.svg?score=10&score_min=8',\n",
       "       'https://www.ewg.org/skindeep/squircle/show.svg?score=5&score_min=5',\n",
       "       'https://www.ewg.org/skindeep/squircle/show.svg?score=6&score_min=1',\n",
       "       'https://www.ewg.org/skindeep/squircle/show.svg?score=7&score_min=3',\n",
       "       'https://www.ewg.org/skindeep/squircle/show.svg?score=5&score_min=3',\n",
       "       'https://www.ewg.org/skindeep/squircle/show.svg?score=10&score_min=6',\n",
       "       'https://www.ewg.org/skindeep/squircle/show.svg?score=5&score_min=1',\n",
       "       'https://www.ewg.org/skindeep/squircle/show.svg?score=6&score_min=5',\n",
       "       'https://www.ewg.org/skindeep/squircle/show.svg?score=4&score_min=3',\n",
       "       'https://www.ewg.org/skindeep/squircle/show.svg?score=6&score_min=2',\n",
       "       'https://www.ewg.org/skindeep/squircle/show.svg?score=9&score_min=6',\n",
       "       'https://www.ewg.org/skindeep/squircle/show.svg?score=8&score_min=6',\n",
       "       'https://www.ewg.org/skindeep/squircle/show.svg?score=8&score_min=5',\n",
       "       'https://www.ewg.org/skindeep/squircle/show.svg?score=10&score_min=10',\n",
       "       'https://www.ewg.org/skindeep/squircle/show.svg?score=8&score_min=4',\n",
       "       'https://www.ewg.org/skindeep/squircle/show.svg?score=10&score_min=11',\n",
       "       'https://www.ewg.org/skindeep/squircle/show.svg?score=7&score_min=7',\n",
       "       'https://www.ewg.org/skindeep/squircle/show.svg?score=9&score_min=5',\n",
       "       'https://www.ewg.org/skindeep/squircle/show.svg?score=8&score_min=3',\n",
       "       'https://www.ewg.org/skindeep/squircle/show.svg?score=9&score_min=2',\n",
       "       'https://www.ewg.org/skindeep/squircle/show.svg?score=9&score_min=9',\n",
       "       'https://www.ewg.org/skindeep/squircle/show.svg?score=10&score_min=9',\n",
       "       'https://www.ewg.org/skindeep/squircle/show.svg?score=9&score_min=4',\n",
       "       'https://www.ewg.org/skindeep/squircle/show.svg?score=9&score_min=7'],\n",
       "      dtype=object)"
      ]
     },
     "execution_count": 107,
     "metadata": {},
     "output_type": "execute_result"
    }
   ],
   "source": [
    "# Translating score_url to actual scores.\n",
    "\n",
    "df['score_url'].unique()"
   ]
  },
  {
   "cell_type": "markdown",
   "metadata": {},
   "source": [
    "The scores that have a range means it depends on usage.\n",
    "But, to be fair, water has a value of 1, but if you inhale too much water, or drink way too much of it, you can die. So, we should take these with a grain of salt"
   ]
  },
  {
   "cell_type": "code",
   "execution_count": 108,
   "metadata": {},
   "outputs": [
    {
     "data": {
      "text/html": [
       "<div>\n",
       "<style scoped>\n",
       "    .dataframe tbody tr th:only-of-type {\n",
       "        vertical-align: middle;\n",
       "    }\n",
       "\n",
       "    .dataframe tbody tr th {\n",
       "        vertical-align: top;\n",
       "    }\n",
       "\n",
       "    .dataframe thead th {\n",
       "        text-align: right;\n",
       "    }\n",
       "</style>\n",
       "<table border=\"1\" class=\"dataframe\">\n",
       "  <thead>\n",
       "    <tr style=\"text-align: right;\">\n",
       "      <th></th>\n",
       "      <th>datetime_pulled</th>\n",
       "      <th>search_page_num</th>\n",
       "      <th>chemical_name</th>\n",
       "      <th>score_url</th>\n",
       "      <th>data_availability</th>\n",
       "      <th>chemical_concerns</th>\n",
       "      <th>chemical_functions</th>\n",
       "      <th>chemical_about</th>\n",
       "      <th>chemical_synonyms</th>\n",
       "    </tr>\n",
       "  </thead>\n",
       "  <tbody>\n",
       "    <tr>\n",
       "      <th>0</th>\n",
       "      <td>2019-12-07 11:47:29.665736</td>\n",
       "      <td>1</td>\n",
       "      <td>WATER</td>\n",
       "      <td>https://www.ewg.org/skindeep/squircle/show.svg?score=1&amp;score_min=1</td>\n",
       "      <td>Data: Robust</td>\n",
       "      <td>NaN</td>\n",
       "      <td>solvent</td>\n",
       "      <td>NaN</td>\n",
       "      <td>AQUA, DEIONIZED WATER, DISTILLED WATER, ONSEN-SUI, PURIFIED WATER, and WATER</td>\n",
       "    </tr>\n",
       "  </tbody>\n",
       "</table>\n",
       "</div>"
      ],
      "text/plain": [
       "              datetime_pulled  search_page_num chemical_name  \\\n",
       "0  2019-12-07 11:47:29.665736                1         WATER   \n",
       "\n",
       "                                                            score_url  \\\n",
       "0  https://www.ewg.org/skindeep/squircle/show.svg?score=1&score_min=1   \n",
       "\n",
       "  data_availability chemical_concerns chemical_functions chemical_about  \\\n",
       "0      Data: Robust               NaN            solvent            NaN   \n",
       "\n",
       "                                                              chemical_synonyms  \n",
       "0  AQUA, DEIONIZED WATER, DISTILLED WATER, ONSEN-SUI, PURIFIED WATER, and WATER  "
      ]
     },
     "execution_count": 108,
     "metadata": {},
     "output_type": "execute_result"
    }
   ],
   "source": [
    "df[df['chemical_name']=='WATER']"
   ]
  },
  {
   "cell_type": "code",
   "execution_count": 109,
   "metadata": {},
   "outputs": [
    {
     "data": {
      "text/plain": [
       "'https://www.ewg.org/skindeep/squircle/show.svg?score=1&score_min=1'"
      ]
     },
     "execution_count": 109,
     "metadata": {},
     "output_type": "execute_result"
    }
   ],
   "source": [
    "df.iloc[0,3]"
   ]
  },
  {
   "cell_type": "code",
   "execution_count": 110,
   "metadata": {},
   "outputs": [],
   "source": [
    "# Let's write out the min and max scores to their own columns, and average them to get an average score\n",
    "# we'll need a function to read these out"
   ]
  },
  {
   "cell_type": "code",
   "execution_count": 111,
   "metadata": {},
   "outputs": [],
   "source": [
    "def extract_max(string):\n",
    "    score_range = [int(s) for s in string if s.isdigit()]\n",
    "    return score_range[0]\n",
    "\n",
    "def extract_min(string):\n",
    "    score_range = [int(s) for s in string if s.isdigit()]\n",
    "    return score_range[1]\n",
    "\n",
    "def extract_mean(string):\n",
    "    score_range = [int(s) for s in string if s.isdigit()]\n",
    "    return np.mean(score_range)"
   ]
  },
  {
   "cell_type": "code",
   "execution_count": 112,
   "metadata": {},
   "outputs": [
    {
     "data": {
      "text/plain": [
       "True"
      ]
     },
     "execution_count": 112,
     "metadata": {},
     "output_type": "execute_result"
    }
   ],
   "source": [
    "'111'.isdigit()"
   ]
  },
  {
   "cell_type": "code",
   "execution_count": 113,
   "metadata": {},
   "outputs": [],
   "source": [
    "string = 'https://www.ewg.org/skindeep/squircle/show.svg?score=9&score_min=4'"
   ]
  },
  {
   "cell_type": "code",
   "execution_count": 114,
   "metadata": {},
   "outputs": [
    {
     "data": {
      "text/plain": [
       "[9, 4]"
      ]
     },
     "execution_count": 114,
     "metadata": {},
     "output_type": "execute_result"
    }
   ],
   "source": [
    "[int(s) for s in string if s.isdigit()]"
   ]
  },
  {
   "cell_type": "code",
   "execution_count": 115,
   "metadata": {},
   "outputs": [
    {
     "data": {
      "text/plain": [
       "1.0"
      ]
     },
     "execution_count": 115,
     "metadata": {},
     "output_type": "execute_result"
    }
   ],
   "source": [
    "np.mean([1, 1])"
   ]
  },
  {
   "cell_type": "code",
   "execution_count": 116,
   "metadata": {},
   "outputs": [],
   "source": [
    "df['min_score'] = df['score_url'].apply(lambda x: extract_min(x))\n",
    "df['max_score'] = df['score_url'].apply(lambda x: extract_max(x))\n",
    "df['mean_score'] = df['score_url'].apply(lambda x: extract_mean(x))"
   ]
  },
  {
   "cell_type": "code",
   "execution_count": null,
   "metadata": {},
   "outputs": [],
   "source": []
  },
  {
   "cell_type": "code",
   "execution_count": 117,
   "metadata": {},
   "outputs": [],
   "source": [
    "pd.options.display.max_colwidth = 250"
   ]
  },
  {
   "cell_type": "code",
   "execution_count": 118,
   "metadata": {},
   "outputs": [
    {
     "data": {
      "text/plain": [
       "10                                                                                                                                            2-BUTENEDIOIC ACID (2Z)-, 2BUTENEDIOIC ACID (Z), CIS-1,2-ETHYLENEDICARBOXYLIC ACID, MALEIC ACID, and MALEIC ACID.\n",
       "0                                                                                                                                                                                                                             ADIPIC ACID/DIGLYCOL CROSSPOLYMER\n",
       "29                                                                                                                                               PEG-3 DISTEARATE, POLYETHYLENE GLYCOL (3) DISTEARATE, POLYOXYETHYLENE (3) DISTEARATE, and TRIGLYCOL DISTEARATE\n",
       "4            12-HYDROXY- MONOESTER WITH TRIGLYCEROL 9-OCTADECENOIC ACID, 9-OCTADECENOIC ACID, 12-HYDROXY-, MONOESTER WITH TRIGLYCEROL, MONOESTER WITH TRIGLYCEROL 9-OCTADECENOIC ACID, 12-HYDROXY-, POLYGLYCERYL-3 RICINOLEATE, and TRIGLYCERYL MONORICINOLEATE\n",
       "28    BUTYROSPERMUM PARKII (SHEA BUTTER) UNSAPONIFIABLES, BUTYROSPERMUM PARKII UNSAPONIFIABLES, SHEA BUTTER UNSAPONIFIABLES, SHEA BUTTER, UNSAPONIFIABLE FRACTION, UNSAPONIFIABLE SHEA BUTTER, UNSAPONIFIABLES, BUTYROSPERMUM PARKII, and UNSAPONIFIABLES, S...\n",
       "34                                                                                                                                                                                                                                               OLEYL SARCOSIN\n",
       "12    1,2,3-PROPANETRIOL, MONO(DIHYDROGEN PHOSPHATE), IRON(3+) SALT, 1,2,3PROPANETRIOL, MONO(DIHYDROGEN PHOSPHATE), IRON(3+) SALT (3:2), DIIRON TRIS(GLYCEROPHOSPHATE), FERRIC GLYCEROPHOSPHATE, IRON(3+) SALT 1,2,3-PROPANETRIOL, MONO(DIHYDROGEN PHOSPHATE...\n",
       "23    CHLORIDE ETHANAMINIUM, N,N-DIMETHYL-2-[(1-OXOHEXADECYL)OXY]-N-[2-[(2-OXOHEXADECYL)OXY]ETHYL]-, DIMETHYLBIS[2-[(1-OXOHEXADECYL)OXY]ETHYL]AMMONIUM CHLORIDE, DIPALMITOYLETHYL DIMONIUM CHLORIDE DIPALMITOYLETHYL DIMONIUM CHLORIDE, ETHANAMINIUM, N,N-DI...\n",
       "7                                                                                                                                                            OILS, TARCHONANTHUS CAMPHORATUS, TARCHONANTHUS CAMPHORATUS OIL, and TARCHONANTHUS CAMPHORATUS OILS\n",
       "34                                                                                                                                                                       HEXYLDECYL ESTER STEARIC ACID, HEXYLDECYL STEARATE, and STEARIC ACID, HEXYLDECYL ESTER\n",
       "6                                                                                                                                                                            CITRUS PARADISI (GRAPEFRUIT) EXRACT, CITRUS PARADISI EXRACT, and GRAPEFRUIT EXRACT\n",
       "35                                                                                                                                                            BICYCLO[3.1.1]HEPTANE, 2,6,6TRIMETHYL, DIDEHYDRO DERIV., PINANE, DIDEHYDRO DERIVATIVE, and PINENE\n",
       "33                                                                                                                                    PEG-20 GLYCERYL ISOSTEARATE, POLYETHYLENE GLYCOL 1000 GLYCERYL ISOSTEARATE, and POLYOXYETHYLENE (20) GLYCERYL ISOSTEARATE\n",
       "6                                                                                                                                                                                                                                 CITRUS DEPRESSA FRUIT EXTRACT\n",
       "34                                                                                                                                                                                                                        HYDROGENATED CAMELINA SATIVA SEED OIL\n",
       "16                                                                                                                                                                                                                                      FRUIT STEM CELL COMPLEX\n",
       "22                                                          CARNATION, DIANTHUS CARYOPHYLLUS, EXT., DIANTHUS CARYOPHYLLUS (CARNATION) FLOWER EXTRACT, DIANTHUS CARYOPHYLLUS EXTRACT, DIANTHUS CARYOPHYLLUS FLOWER EXTRACT, and EXTRACT OF DIANTHUS CARYOPHYLLUS\n",
       "28            1,4-DIMETHYL-7-(1-METHYLETHYL)- AZULENE, 1,4-DIMETHYL-7-(1-METHYLETHYL)AZULENE, 1,4-DIMETHYL-7-ISOPROPYL-AZULENE, 7-ISOPROPYL-1,4-DIMETHYLAZULENE, AZULENE, 1,4-DIMETHYL-7-(1-METHYLETHYL)-, AZULENE, 1,4DIMETHYL7(1METHYLETHYL), and GUAIAZULENE\n",
       "7     1-ISOPROPYL-2,2-DIMETHYL-TRIMETHYLENE DIISOBUTYRATE, 1-ISOPROPYL-2,2-DIMETHYLTRIMETHYLENE DIISOBUTYRATE, 2,2,4-TRIMETHYL-1,3-PENTANEDIOL DIISOBUTYRATE, 2,2-DIMETHYL-1-(1-METHYLETHYL)-1,3-PROPANEDIYL ESTER PROPANOIC ACID, 2-METHYL-, 2-METHYL- 2,2-...\n",
       "8                                                                                                     2-FORMYLFURAN, 2-FURALDEHYDE, 2-FURANCARBONAL, 2-FURANCARBOXALDEHYDE, 2FURANCARBOXALDEHYDE, FURALDEHYDE, FURFURAL, FURFURALDEHYDE, and PYROMUCIC ALDEHYDE\n",
       "28                                                                                                              POLYOXYPROPYLENE (9) DIGLYCERYL ETHER, POLYOXYPROPYLENE DIGLYCERYL ETHER, POLYPROPYLENE GLYCOL (9) DIGLYCERYL ETHER, and PPG-9 DIGLYCERYL ETHER\n",
       "21    (Z)-OCTADEC-9-ENYL OLEATE, 9-OCTADECENOIC ACID (9Z)-, (9Z)-9-OCTADECENYL ESTER, 9-OCTADECENOIC ACID, 9-OCTADECENYL ESTER, 9-OCTADECENYL ESTER 9-OCTADECENOIC ACID, 9OCTADECENOIC ACID (Z), 9OCTADECENYL ESTER, (Z), CIS 9,10 OCTADECENYL CIS 9,10 OCTA...\n",
       "28                                                                                                                                                                      HEXAMETHYLENE DIISOCYANATE, HEXAMETHYLENE-1,6-DIISOCYANATE, and HEXANE, 1,6DIISOCYANATO\n",
       "29                                                                                                                                                                                                                                     SODIUM CAPROYL LACTYLATE\n",
       "31                                                                                                                                                                                                                                                   HEXADECANE\n",
       "16                                                                                                                                                                                           FERRATE(4-), HEXAKIS(CYANO-.KAPPA.C)-, (OC-6-11)- and FERROCYANIDE\n",
       "5                                                                                        BETULA PLATYPHYLLA JAPONICA BARK EXTRACT, BETULA PLATYPHYLLA JAPONICA EXTRACT, BIRCH (BETULA PLATYPHYLLA JAPONICA) EXTRACT, and EXTRACT OF BETULA PLATYPHYLLA JAPONICA\n",
       "10                                                                                                                                                                                                                              PYRUS MALUS (APPLE) SACCHARIDES\n",
       "29                                                                                                                                                                                                                                         STEAROXYMETHYLSILANE\n",
       "4                                                                                                                                                                                                                               MORINDA CITRIFOLIA FRUIT POWDER\n",
       "4                                                                                                                                                                                                                               HYDROGENATED CASTOR OIL LAURATE\n",
       "19              CARROT (DAUCUS CAROTA) EXTRACT, CARROT EXTRACT, CARROT ROOT EXTRACT, CARROT, EXT., DAUCUS CAROTA SATIVA (CARROT) ROOT EXTRACT, DAUCUS CAROTA SATIVA EXTRACT, DAUCUS CAROTA SATIVA ROOT EXTRACT, EXTRACT OF CARROT, and EXTRACT OF DAUCUS CAROTA\n",
       "19                                                                                                                                                                                                                                                 METHYL ETHER\n",
       "2                                                                                                                                                                                                   BETA VULGARIS, BETA VULGARIS (COMMON BEET), and COMMON BEET\n",
       "0                                                                                                                                                                MENTHA PIPERITA (PEPPERMINT) LEAF JUICE, MENTHA PIPERITA LEAF JUICE, and PEPPERMINT LEAF JUICE\n",
       "9                                                                                                                                                                                                         FORMALDEHYDE SOLUTION (FORMALIN) and METHYLENE GLYCOL\n",
       "4     1-PROPANAMINIUM, 3-[(12-HYDROXY-1-OXO-9-OCTADECENYL)AMINO]-N,N,N-TRIMETHYL-, METHYL SULFATE, 3-[(12-HYDROXY-1-OXO-9-OCTADECENYL)AMINO]-N,N,N-TRIMETHYL- METHYL SULFATE 1-PROPANAMINIUM, 3-[(12-HYDROXY-1-OXO-9-OCTADECENYL)AMINO]-N,N,N-TRIMETHYL-1-PR...\n",
       "5                                                                                                                                                      CITRUS NOBILIS (MANDARIN) ESSENTIAL OIL, CITRUS NOBILIS (MANDARIN) OIL, and CITRUS NOBILIS ESSENTIAL OIL\n",
       "12                                                                                                                                        LUFFA AEGYPTIACA FRUIT EXTRACT, LUFFA CYLINDRICA (LUFFA AEGYPTIACA) FRUIT EXTRACT, and LUFFA CYLINDRICA FRUIT EXTRACT\n",
       "5                                                                                                                                                                                                                              ETLINGERA ELATIOR FLOWER EXTRACT\n",
       "Name: chemical_synonyms, dtype: object"
      ]
     },
     "execution_count": 118,
     "metadata": {},
     "output_type": "execute_result"
    }
   ],
   "source": [
    "df['chemical_synonyms'].sample(40)"
   ]
  },
  {
   "cell_type": "markdown",
   "metadata": {},
   "source": [
    "# After looking at a bunch of entries, it looks like each ingredient is split by ',' OR \";\" OR \"and\".  (And sometimes, both.)\n",
    "# Also noticed a few instances of spaces where there shouldn't be (e.g. \"DIS ODIUM\" instead of \"DISODIUM\"), but we can't do much about that. \n",
    "# Also, some commas are included where they are part of the name of the chemical: \"1,2,3-PROPANETRIOL, 1,2,3-TRIHYDROXYPROPANE, 1,2,3PROPANETRIOL, ...\"\n",
    "Hopefully, we can do some fuzzy matching and catch any missing text\n",
    "We'll have to ignore any numbers"
   ]
  },
  {
   "cell_type": "code",
   "execution_count": 119,
   "metadata": {},
   "outputs": [
    {
     "data": {
      "text/plain": [
       "False"
      ]
     },
     "execution_count": 119,
     "metadata": {},
     "output_type": "execute_result"
    }
   ],
   "source": [
    "not \"1\".isdigit()"
   ]
  },
  {
   "cell_type": "code",
   "execution_count": 120,
   "metadata": {},
   "outputs": [],
   "source": [
    "def extract_synonymns_list(str1):\n",
    "#     print(str1)\n",
    "    if pd.isna(str1):\n",
    "        return []\n",
    "    \n",
    "    split_and_list = str1.split('and')\n",
    "    split_and_comma_list_in_list = [string.split(',') for string in split_and_list]\n",
    "    split_and_comma_semi_list_in_list = [item.strip().split(';') for sublist in split_and_comma_list_in_list for item in sublist]\n",
    "\n",
    "    intermediate_list = [item for sublist in split_and_comma_semi_list_in_list for item in sublist if item!='']\n",
    "   \n",
    "    # also need to filter out numbers in the ingredients due to odd splitting\n",
    "    \n",
    "    return [item for item in intermediate_list if not item.isdigit()]\n",
    "    "
   ]
  },
  {
   "cell_type": "code",
   "execution_count": 121,
   "metadata": {},
   "outputs": [],
   "source": [
    "str1 = 'PEG-75 MEADOWFOAM OIL, POLYETHYLENE GLYCOL 4000 MEADOWFOAM OIL, and POLYOXYETHYLENE (75) MEADOWFOAM OIL'\n",
    "str2 = 'PEG-75 MEADOWFOAM OIL, POLYETHYLENE GLYCOL 4000 MEADOWFOAM OIL and POLYOXYETHYLENE (75) MEADOWFOAM OIL'\n",
    "str3 = 'PEG-75 MEADOWFOAM OIL, POLYETHYLENE GLYCOL 4000 MEADOWFOAM OIL; and POLYOXYETHYLENE (75) MEADOWFOAM OIL'\n",
    "str4 = '1, 2, 3 SOMETHING OR OTHER, WATER'\n"
   ]
  },
  {
   "cell_type": "code",
   "execution_count": 122,
   "metadata": {},
   "outputs": [
    {
     "data": {
      "text/plain": [
       "['PEG-75 MEADOWFOAM OIL',\n",
       " 'POLYETHYLENE GLYCOL 4000 MEADOWFOAM OIL',\n",
       " 'POLYOXYETHYLENE (75) MEADOWFOAM OIL']"
      ]
     },
     "execution_count": 122,
     "metadata": {},
     "output_type": "execute_result"
    }
   ],
   "source": [
    "extract_synonymns_list(str1)"
   ]
  },
  {
   "cell_type": "code",
   "execution_count": 123,
   "metadata": {},
   "outputs": [
    {
     "data": {
      "text/plain": [
       "['PEG-75 MEADOWFOAM OIL',\n",
       " 'POLYETHYLENE GLYCOL 4000 MEADOWFOAM OIL',\n",
       " 'POLYOXYETHYLENE (75) MEADOWFOAM OIL']"
      ]
     },
     "execution_count": 123,
     "metadata": {},
     "output_type": "execute_result"
    }
   ],
   "source": [
    "extract_synonymns_list(str2)"
   ]
  },
  {
   "cell_type": "code",
   "execution_count": 124,
   "metadata": {},
   "outputs": [
    {
     "data": {
      "text/plain": [
       "['PEG-75 MEADOWFOAM OIL',\n",
       " 'POLYETHYLENE GLYCOL 4000 MEADOWFOAM OIL',\n",
       " 'POLYOXYETHYLENE (75) MEADOWFOAM OIL']"
      ]
     },
     "execution_count": 124,
     "metadata": {},
     "output_type": "execute_result"
    }
   ],
   "source": [
    "extract_synonymns_list(str3)"
   ]
  },
  {
   "cell_type": "code",
   "execution_count": 125,
   "metadata": {},
   "outputs": [
    {
     "data": {
      "text/plain": [
       "['3 SOMETHING OR OTHER', 'WATER']"
      ]
     },
     "execution_count": 125,
     "metadata": {},
     "output_type": "execute_result"
    }
   ],
   "source": [
    "extract_synonymns_list(str4)"
   ]
  },
  {
   "cell_type": "markdown",
   "metadata": {},
   "source": [
    "### Okay, that looks about right... \n",
    "I don't see any way out of iterating through the rows to deal with dupes.\n",
    "We'll make a new dataframe and append to that.\n",
    "I'm not going to bother including a value for the synonym'ed rows\n",
    "\n"
   ]
  },
  {
   "cell_type": "code",
   "execution_count": 126,
   "metadata": {},
   "outputs": [
    {
     "data": {
      "text/plain": [
       "['datetime_pulled',\n",
       " 'search_page_num',\n",
       " 'chemical_name',\n",
       " 'score_url',\n",
       " 'data_availability',\n",
       " 'chemical_concerns',\n",
       " 'chemical_functions',\n",
       " 'chemical_about',\n",
       " 'chemical_synonyms',\n",
       " 'min_score',\n",
       " 'max_score',\n",
       " 'mean_score',\n",
       " 'is_syn']"
      ]
     },
     "execution_count": 126,
     "metadata": {},
     "output_type": "execute_result"
    }
   ],
   "source": [
    "syn_col_names = list(df.columns)+['is_syn']\n",
    "syn_col_names"
   ]
  },
  {
   "cell_type": "code",
   "execution_count": 127,
   "metadata": {},
   "outputs": [],
   "source": [
    "#"
   ]
  },
  {
   "cell_type": "code",
   "execution_count": 132,
   "metadata": {},
   "outputs": [
    {
     "name": "stdout",
     "output_type": "stream",
     "text": [
      "2020-01-05 22:53:48.074892\n"
     ]
    }
   ],
   "source": [
    "print(datetime.now())"
   ]
  },
  {
   "cell_type": "code",
   "execution_count": 133,
   "metadata": {},
   "outputs": [],
   "source": [
    "df_test = df.head(20)"
   ]
  },
  {
   "cell_type": "code",
   "execution_count": 134,
   "metadata": {},
   "outputs": [],
   "source": [
    "df = df.reset_index(drop=True)"
   ]
  },
  {
   "cell_type": "code",
   "execution_count": 135,
   "metadata": {},
   "outputs": [
    {
     "data": {
      "text/html": [
       "<div>\n",
       "<style scoped>\n",
       "    .dataframe tbody tr th:only-of-type {\n",
       "        vertical-align: middle;\n",
       "    }\n",
       "\n",
       "    .dataframe tbody tr th {\n",
       "        vertical-align: top;\n",
       "    }\n",
       "\n",
       "    .dataframe thead th {\n",
       "        text-align: right;\n",
       "    }\n",
       "</style>\n",
       "<table border=\"1\" class=\"dataframe\">\n",
       "  <thead>\n",
       "    <tr style=\"text-align: right;\">\n",
       "      <th></th>\n",
       "      <th>datetime_pulled</th>\n",
       "      <th>search_page_num</th>\n",
       "      <th>chemical_name</th>\n",
       "      <th>score_url</th>\n",
       "      <th>data_availability</th>\n",
       "      <th>chemical_concerns</th>\n",
       "      <th>chemical_functions</th>\n",
       "      <th>chemical_about</th>\n",
       "      <th>chemical_synonyms</th>\n",
       "      <th>min_score</th>\n",
       "      <th>max_score</th>\n",
       "      <th>mean_score</th>\n",
       "    </tr>\n",
       "  </thead>\n",
       "  <tbody>\n",
       "    <tr>\n",
       "      <th>9057</th>\n",
       "      <td>2019-12-09 00:08:43.920780</td>\n",
       "      <td>99</td>\n",
       "      <td>VETIVERIA ZIZANIOIDES (VETIVER)</td>\n",
       "      <td>https://www.ewg.org/skindeep/squircle/show.svg?score=1&amp;score_min=1</td>\n",
       "      <td>Data: Limited</td>\n",
       "      <td>NaN</td>\n",
       "      <td>NaN</td>\n",
       "      <td>NaN</td>\n",
       "      <td>VETIVERIA ZIZANIOIDES and VETIVERIA ZIZANIOIDES (VETIVER)</td>\n",
       "      <td>1</td>\n",
       "      <td>1</td>\n",
       "      <td>1.0</td>\n",
       "    </tr>\n",
       "    <tr>\n",
       "      <th>9058</th>\n",
       "      <td>2019-12-09 00:09:21.984983</td>\n",
       "      <td>99</td>\n",
       "      <td>VIOLA TRICOLOR (HEARTSEASE) FLOWER EXTRACT</td>\n",
       "      <td>https://www.ewg.org/skindeep/squircle/show.svg?score=1&amp;score_min=1</td>\n",
       "      <td>Data: Limited</td>\n",
       "      <td>NaN</td>\n",
       "      <td>NaN</td>\n",
       "      <td>NaN</td>\n",
       "      <td>HEARTSEASE FLOWER EXTRACT, VIOLA TRICOLOR (HEARTSEASE) FLOWER EXTRACT, and VIOLA TRICOLOR FLOWER EXTRACT</td>\n",
       "      <td>1</td>\n",
       "      <td>1</td>\n",
       "      <td>1.0</td>\n",
       "    </tr>\n",
       "    <tr>\n",
       "      <th>9059</th>\n",
       "      <td>2019-12-09 00:09:59.672816</td>\n",
       "      <td>99</td>\n",
       "      <td>RUMEX OCCIDENTALIS EXTRACT</td>\n",
       "      <td>https://www.ewg.org/skindeep/squircle/show.svg?score=1&amp;score_min=1</td>\n",
       "      <td>Data: None</td>\n",
       "      <td>NaN</td>\n",
       "      <td>not reported, skin conditioning, and soothing</td>\n",
       "      <td>Rumex Occidentalis Extract is an extract of the plant Rumex occidentalis.</td>\n",
       "      <td>EXTRACT OF RUMEX OCCIDENTALIS, RUMEX OCCIDENTALIS (RUMEX) EXTRAC, and RUMEX OCCIDENTALIS EXTRACT</td>\n",
       "      <td>1</td>\n",
       "      <td>1</td>\n",
       "      <td>1.0</td>\n",
       "    </tr>\n",
       "    <tr>\n",
       "      <th>9060</th>\n",
       "      <td>2019-12-09 00:10:37.660536</td>\n",
       "      <td>99</td>\n",
       "      <td>SOPHORA JAPONICA BUD EXTRACT</td>\n",
       "      <td>https://www.ewg.org/skindeep/squircle/show.svg?score=1&amp;score_min=1</td>\n",
       "      <td>Data: None</td>\n",
       "      <td>NaN</td>\n",
       "      <td>not reported and skin protecting</td>\n",
       "      <td>Sophora Japonica Bud Extract is an extract of the buds of Sophora japonica.</td>\n",
       "      <td>EXTRACT OF SOPHORA JAPONICA BUD, SOPHORA JAPONICA BUD EXTRACT, and SOPHORA JAPONICA, EXT.</td>\n",
       "      <td>1</td>\n",
       "      <td>1</td>\n",
       "      <td>1.0</td>\n",
       "    </tr>\n",
       "    <tr>\n",
       "      <th>9061</th>\n",
       "      <td>2019-12-09 00:11:16.866515</td>\n",
       "      <td>99</td>\n",
       "      <td>BARIUM</td>\n",
       "      <td>https://www.ewg.org/skindeep/squircle/show.svg?score=3&amp;score_min=1</td>\n",
       "      <td>Data: Fair</td>\n",
       "      <td>Use restrictions (moderate) and Non-reproductive organ system toxicity (low)</td>\n",
       "      <td>NaN</td>\n",
       "      <td>NaN</td>\n",
       "      <td>BA, BARIUM, BARIUM, DISSOLVED, and BARIUM, TOTAL</td>\n",
       "      <td>1</td>\n",
       "      <td>3</td>\n",
       "      <td>2.0</td>\n",
       "    </tr>\n",
       "  </tbody>\n",
       "</table>\n",
       "</div>"
      ],
      "text/plain": [
       "                 datetime_pulled  search_page_num  \\\n",
       "9057  2019-12-09 00:08:43.920780               99   \n",
       "9058  2019-12-09 00:09:21.984983               99   \n",
       "9059  2019-12-09 00:09:59.672816               99   \n",
       "9060  2019-12-09 00:10:37.660536               99   \n",
       "9061  2019-12-09 00:11:16.866515               99   \n",
       "\n",
       "                                   chemical_name  \\\n",
       "9057             VETIVERIA ZIZANIOIDES (VETIVER)   \n",
       "9058  VIOLA TRICOLOR (HEARTSEASE) FLOWER EXTRACT   \n",
       "9059                  RUMEX OCCIDENTALIS EXTRACT   \n",
       "9060                SOPHORA JAPONICA BUD EXTRACT   \n",
       "9061                                      BARIUM   \n",
       "\n",
       "                                                               score_url  \\\n",
       "9057  https://www.ewg.org/skindeep/squircle/show.svg?score=1&score_min=1   \n",
       "9058  https://www.ewg.org/skindeep/squircle/show.svg?score=1&score_min=1   \n",
       "9059  https://www.ewg.org/skindeep/squircle/show.svg?score=1&score_min=1   \n",
       "9060  https://www.ewg.org/skindeep/squircle/show.svg?score=1&score_min=1   \n",
       "9061  https://www.ewg.org/skindeep/squircle/show.svg?score=3&score_min=1   \n",
       "\n",
       "     data_availability  \\\n",
       "9057     Data: Limited   \n",
       "9058     Data: Limited   \n",
       "9059        Data: None   \n",
       "9060        Data: None   \n",
       "9061        Data: Fair   \n",
       "\n",
       "                                                                 chemical_concerns  \\\n",
       "9057                                                                           NaN   \n",
       "9058                                                                           NaN   \n",
       "9059                                                                           NaN   \n",
       "9060                                                                           NaN   \n",
       "9061  Use restrictions (moderate) and Non-reproductive organ system toxicity (low)   \n",
       "\n",
       "                                 chemical_functions  \\\n",
       "9057                                            NaN   \n",
       "9058                                            NaN   \n",
       "9059  not reported, skin conditioning, and soothing   \n",
       "9060               not reported and skin protecting   \n",
       "9061                                            NaN   \n",
       "\n",
       "                                                                   chemical_about  \\\n",
       "9057                                                                          NaN   \n",
       "9058                                                                          NaN   \n",
       "9059    Rumex Occidentalis Extract is an extract of the plant Rumex occidentalis.   \n",
       "9060  Sophora Japonica Bud Extract is an extract of the buds of Sophora japonica.   \n",
       "9061                                                                          NaN   \n",
       "\n",
       "                                                                                             chemical_synonyms  \\\n",
       "9057                                                 VETIVERIA ZIZANIOIDES and VETIVERIA ZIZANIOIDES (VETIVER)   \n",
       "9058  HEARTSEASE FLOWER EXTRACT, VIOLA TRICOLOR (HEARTSEASE) FLOWER EXTRACT, and VIOLA TRICOLOR FLOWER EXTRACT   \n",
       "9059          EXTRACT OF RUMEX OCCIDENTALIS, RUMEX OCCIDENTALIS (RUMEX) EXTRAC, and RUMEX OCCIDENTALIS EXTRACT   \n",
       "9060                 EXTRACT OF SOPHORA JAPONICA BUD, SOPHORA JAPONICA BUD EXTRACT, and SOPHORA JAPONICA, EXT.   \n",
       "9061                                                          BA, BARIUM, BARIUM, DISSOLVED, and BARIUM, TOTAL   \n",
       "\n",
       "      min_score  max_score  mean_score  \n",
       "9057          1          1         1.0  \n",
       "9058          1          1         1.0  \n",
       "9059          1          1         1.0  \n",
       "9060          1          1         1.0  \n",
       "9061          1          3         2.0  "
      ]
     },
     "execution_count": 135,
     "metadata": {},
     "output_type": "execute_result"
    }
   ],
   "source": [
    "df.tail()"
   ]
  },
  {
   "cell_type": "code",
   "execution_count": null,
   "metadata": {},
   "outputs": [],
   "source": [
    "# Note - it looks like the synonyms list in the scraped data includes the main chemical.\n",
    "# So we don't have to worry about bringing that along"
   ]
  },
  {
   "cell_type": "code",
   "execution_count": 136,
   "metadata": {
    "collapsed": true,
    "jupyter": {
     "outputs_hidden": true
    }
   },
   "outputs": [
    {
     "name": "stdout",
     "output_type": "stream",
     "text": [
      "2020-01-05 22:54:11.748538\n",
      "index: 0 of 9062 rows\n",
      "index: 100 of 9062 rows\n",
      "index: 200 of 9062 rows\n",
      "index: 300 of 9062 rows\n",
      "index: 400 of 9062 rows\n",
      "index: 500 of 9062 rows\n",
      "index: 600 of 9062 rows\n",
      "index: 700 of 9062 rows\n",
      "index: 800 of 9062 rows\n",
      "index: 900 of 9062 rows\n",
      "index: 1000 of 9062 rows\n",
      "index: 1100 of 9062 rows\n",
      "index: 1200 of 9062 rows\n",
      "index: 1300 of 9062 rows\n",
      "index: 1400 of 9062 rows\n",
      "index: 1500 of 9062 rows\n",
      "index: 1600 of 9062 rows\n",
      "index: 1700 of 9062 rows\n",
      "index: 1800 of 9062 rows\n",
      "index: 1900 of 9062 rows\n",
      "index: 2000 of 9062 rows\n",
      "index: 2100 of 9062 rows\n",
      "index: 2200 of 9062 rows\n",
      "index: 2300 of 9062 rows\n",
      "index: 2400 of 9062 rows\n",
      "index: 2500 of 9062 rows\n",
      "index: 2600 of 9062 rows\n",
      "index: 2700 of 9062 rows\n",
      "index: 2800 of 9062 rows\n",
      "index: 2900 of 9062 rows\n",
      "index: 3000 of 9062 rows\n",
      "index: 3100 of 9062 rows\n",
      "index: 3200 of 9062 rows\n",
      "index: 3300 of 9062 rows\n",
      "index: 3400 of 9062 rows\n",
      "index: 3500 of 9062 rows\n",
      "index: 3600 of 9062 rows\n",
      "index: 3700 of 9062 rows\n",
      "index: 3800 of 9062 rows\n",
      "index: 3900 of 9062 rows\n",
      "index: 4000 of 9062 rows\n",
      "index: 4100 of 9062 rows\n",
      "index: 4200 of 9062 rows\n",
      "index: 4300 of 9062 rows\n",
      "index: 4400 of 9062 rows\n",
      "index: 4500 of 9062 rows\n",
      "index: 4600 of 9062 rows\n",
      "index: 4700 of 9062 rows\n",
      "index: 4800 of 9062 rows\n",
      "index: 4900 of 9062 rows\n",
      "index: 5000 of 9062 rows\n",
      "index: 5100 of 9062 rows\n",
      "index: 5200 of 9062 rows\n",
      "index: 5300 of 9062 rows\n",
      "index: 5400 of 9062 rows\n",
      "index: 5500 of 9062 rows\n",
      "index: 5600 of 9062 rows\n",
      "index: 5700 of 9062 rows\n",
      "index: 5800 of 9062 rows\n",
      "index: 5900 of 9062 rows\n",
      "index: 6000 of 9062 rows\n",
      "index: 6100 of 9062 rows\n",
      "index: 6200 of 9062 rows\n",
      "index: 6300 of 9062 rows\n",
      "index: 6400 of 9062 rows\n",
      "index: 6500 of 9062 rows\n",
      "index: 6600 of 9062 rows\n",
      "index: 6700 of 9062 rows\n",
      "index: 6800 of 9062 rows\n",
      "index: 6900 of 9062 rows\n",
      "index: 7000 of 9062 rows\n",
      "index: 7100 of 9062 rows\n",
      "index: 7200 of 9062 rows\n",
      "index: 7300 of 9062 rows\n",
      "index: 7400 of 9062 rows\n",
      "index: 7500 of 9062 rows\n",
      "index: 7600 of 9062 rows\n",
      "index: 7700 of 9062 rows\n",
      "index: 7800 of 9062 rows\n",
      "index: 7900 of 9062 rows\n",
      "index: 8000 of 9062 rows\n",
      "index: 8100 of 9062 rows\n",
      "index: 8200 of 9062 rows\n",
      "index: 8300 of 9062 rows\n",
      "index: 8400 of 9062 rows\n",
      "index: 8500 of 9062 rows\n",
      "index: 8600 of 9062 rows\n",
      "index: 8700 of 9062 rows\n",
      "index: 8800 of 9062 rows\n",
      "index: 8900 of 9062 rows\n",
      "index: 9000 of 9062 rows\n",
      "2020-01-05 23:06:50.296385\n"
     ]
    }
   ],
   "source": [
    "# OH man this is going to be SLOW AF. But, I don't care if it takes a long time (like, under an hour)\n",
    "\n",
    "df_wsyns = pd.DataFrame([],columns=syn_col_names)  # DataFrame WithSYNonymS\n",
    "print(datetime.now())\n",
    "\n",
    "for index, row in df.iterrows():\n",
    "    \n",
    "    if index%100==0:\n",
    "        print(f'index: {index} of {len(df)} rows')\n",
    "    \n",
    "    syn_list = extract_synonymns_list(row['chemical_synonyms'])\n",
    "    \n",
    "    if syn_list!=[]:\n",
    "\n",
    "        # append the original\n",
    "        row['is_syn'] = False\n",
    "        df_wsyns = df_wsyns.append(row, ignore_index=True)\n",
    "                        \n",
    "        for syn in syn_list:\n",
    "            row['chemical_name'] = syn        \n",
    "            row['is_syn'] = True\n",
    "            if syn not in df_wsyns['chemical_name'].values:\n",
    "                df_wsyns = df_wsyns.append(row, ignore_index=True)\n",
    "\n",
    "    else:\n",
    "        row['is_syn'] = False\n",
    "        df_wsyns = df_wsyns.append(row, ignore_index=True)\n",
    "    \n",
    "print(datetime.now())\n",
    "df_wsyns.to_csv('dataframe_with_syns.csv', index=False)\n",
    "            "
   ]
  },
  {
   "cell_type": "code",
   "execution_count": 137,
   "metadata": {},
   "outputs": [
    {
     "data": {
      "text/html": [
       "<div>\n",
       "<style scoped>\n",
       "    .dataframe tbody tr th:only-of-type {\n",
       "        vertical-align: middle;\n",
       "    }\n",
       "\n",
       "    .dataframe tbody tr th {\n",
       "        vertical-align: top;\n",
       "    }\n",
       "\n",
       "    .dataframe thead th {\n",
       "        text-align: right;\n",
       "    }\n",
       "</style>\n",
       "<table border=\"1\" class=\"dataframe\">\n",
       "  <thead>\n",
       "    <tr style=\"text-align: right;\">\n",
       "      <th></th>\n",
       "      <th>datetime_pulled</th>\n",
       "      <th>search_page_num</th>\n",
       "      <th>chemical_name</th>\n",
       "      <th>score_url</th>\n",
       "      <th>data_availability</th>\n",
       "      <th>chemical_concerns</th>\n",
       "      <th>chemical_functions</th>\n",
       "      <th>chemical_about</th>\n",
       "      <th>chemical_synonyms</th>\n",
       "      <th>min_score</th>\n",
       "      <th>max_score</th>\n",
       "      <th>mean_score</th>\n",
       "      <th>is_syn</th>\n",
       "    </tr>\n",
       "  </thead>\n",
       "  <tbody>\n",
       "    <tr>\n",
       "      <th>34226</th>\n",
       "      <td>2019-12-09 00:10:37.660536</td>\n",
       "      <td>99</td>\n",
       "      <td>SOPHORA JAPONICA BUD EXTRACT</td>\n",
       "      <td>https://www.ewg.org/skindeep/squircle/show.svg?score=1&amp;score_min=1</td>\n",
       "      <td>Data: None</td>\n",
       "      <td>NaN</td>\n",
       "      <td>not reported and skin protecting</td>\n",
       "      <td>Sophora Japonica Bud Extract is an extract of the buds of Sophora japonica.</td>\n",
       "      <td>EXTRACT OF SOPHORA JAPONICA BUD, SOPHORA JAPONICA BUD EXTRACT, and SOPHORA JAPONICA, EXT.</td>\n",
       "      <td>1</td>\n",
       "      <td>1</td>\n",
       "      <td>1.0</td>\n",
       "      <td>False</td>\n",
       "    </tr>\n",
       "    <tr>\n",
       "      <th>34227</th>\n",
       "      <td>2019-12-09 00:10:37.660536</td>\n",
       "      <td>99</td>\n",
       "      <td>EXTRACT OF SOPHORA JAPONICA BUD</td>\n",
       "      <td>https://www.ewg.org/skindeep/squircle/show.svg?score=1&amp;score_min=1</td>\n",
       "      <td>Data: None</td>\n",
       "      <td>NaN</td>\n",
       "      <td>not reported and skin protecting</td>\n",
       "      <td>Sophora Japonica Bud Extract is an extract of the buds of Sophora japonica.</td>\n",
       "      <td>EXTRACT OF SOPHORA JAPONICA BUD, SOPHORA JAPONICA BUD EXTRACT, and SOPHORA JAPONICA, EXT.</td>\n",
       "      <td>1</td>\n",
       "      <td>1</td>\n",
       "      <td>1.0</td>\n",
       "      <td>True</td>\n",
       "    </tr>\n",
       "    <tr>\n",
       "      <th>34228</th>\n",
       "      <td>2019-12-09 00:10:37.660536</td>\n",
       "      <td>99</td>\n",
       "      <td>SOPHORA JAPONICA</td>\n",
       "      <td>https://www.ewg.org/skindeep/squircle/show.svg?score=1&amp;score_min=1</td>\n",
       "      <td>Data: None</td>\n",
       "      <td>NaN</td>\n",
       "      <td>not reported and skin protecting</td>\n",
       "      <td>Sophora Japonica Bud Extract is an extract of the buds of Sophora japonica.</td>\n",
       "      <td>EXTRACT OF SOPHORA JAPONICA BUD, SOPHORA JAPONICA BUD EXTRACT, and SOPHORA JAPONICA, EXT.</td>\n",
       "      <td>1</td>\n",
       "      <td>1</td>\n",
       "      <td>1.0</td>\n",
       "      <td>True</td>\n",
       "    </tr>\n",
       "    <tr>\n",
       "      <th>34229</th>\n",
       "      <td>2019-12-09 00:11:16.866515</td>\n",
       "      <td>99</td>\n",
       "      <td>BARIUM</td>\n",
       "      <td>https://www.ewg.org/skindeep/squircle/show.svg?score=3&amp;score_min=1</td>\n",
       "      <td>Data: Fair</td>\n",
       "      <td>Use restrictions (moderate) and Non-reproductive organ system toxicity (low)</td>\n",
       "      <td>NaN</td>\n",
       "      <td>NaN</td>\n",
       "      <td>BA, BARIUM, BARIUM, DISSOLVED, and BARIUM, TOTAL</td>\n",
       "      <td>1</td>\n",
       "      <td>3</td>\n",
       "      <td>2.0</td>\n",
       "      <td>False</td>\n",
       "    </tr>\n",
       "    <tr>\n",
       "      <th>34230</th>\n",
       "      <td>2019-12-09 00:11:16.866515</td>\n",
       "      <td>99</td>\n",
       "      <td>BA</td>\n",
       "      <td>https://www.ewg.org/skindeep/squircle/show.svg?score=3&amp;score_min=1</td>\n",
       "      <td>Data: Fair</td>\n",
       "      <td>Use restrictions (moderate) and Non-reproductive organ system toxicity (low)</td>\n",
       "      <td>NaN</td>\n",
       "      <td>NaN</td>\n",
       "      <td>BA, BARIUM, BARIUM, DISSOLVED, and BARIUM, TOTAL</td>\n",
       "      <td>1</td>\n",
       "      <td>3</td>\n",
       "      <td>2.0</td>\n",
       "      <td>True</td>\n",
       "    </tr>\n",
       "  </tbody>\n",
       "</table>\n",
       "</div>"
      ],
      "text/plain": [
       "                  datetime_pulled search_page_num  \\\n",
       "34226  2019-12-09 00:10:37.660536              99   \n",
       "34227  2019-12-09 00:10:37.660536              99   \n",
       "34228  2019-12-09 00:10:37.660536              99   \n",
       "34229  2019-12-09 00:11:16.866515              99   \n",
       "34230  2019-12-09 00:11:16.866515              99   \n",
       "\n",
       "                         chemical_name  \\\n",
       "34226     SOPHORA JAPONICA BUD EXTRACT   \n",
       "34227  EXTRACT OF SOPHORA JAPONICA BUD   \n",
       "34228                 SOPHORA JAPONICA   \n",
       "34229                           BARIUM   \n",
       "34230                               BA   \n",
       "\n",
       "                                                                score_url  \\\n",
       "34226  https://www.ewg.org/skindeep/squircle/show.svg?score=1&score_min=1   \n",
       "34227  https://www.ewg.org/skindeep/squircle/show.svg?score=1&score_min=1   \n",
       "34228  https://www.ewg.org/skindeep/squircle/show.svg?score=1&score_min=1   \n",
       "34229  https://www.ewg.org/skindeep/squircle/show.svg?score=3&score_min=1   \n",
       "34230  https://www.ewg.org/skindeep/squircle/show.svg?score=3&score_min=1   \n",
       "\n",
       "      data_availability  \\\n",
       "34226        Data: None   \n",
       "34227        Data: None   \n",
       "34228        Data: None   \n",
       "34229        Data: Fair   \n",
       "34230        Data: Fair   \n",
       "\n",
       "                                                                  chemical_concerns  \\\n",
       "34226                                                                           NaN   \n",
       "34227                                                                           NaN   \n",
       "34228                                                                           NaN   \n",
       "34229  Use restrictions (moderate) and Non-reproductive organ system toxicity (low)   \n",
       "34230  Use restrictions (moderate) and Non-reproductive organ system toxicity (low)   \n",
       "\n",
       "                     chemical_functions  \\\n",
       "34226  not reported and skin protecting   \n",
       "34227  not reported and skin protecting   \n",
       "34228  not reported and skin protecting   \n",
       "34229                               NaN   \n",
       "34230                               NaN   \n",
       "\n",
       "                                                                    chemical_about  \\\n",
       "34226  Sophora Japonica Bud Extract is an extract of the buds of Sophora japonica.   \n",
       "34227  Sophora Japonica Bud Extract is an extract of the buds of Sophora japonica.   \n",
       "34228  Sophora Japonica Bud Extract is an extract of the buds of Sophora japonica.   \n",
       "34229                                                                          NaN   \n",
       "34230                                                                          NaN   \n",
       "\n",
       "                                                                               chemical_synonyms  \\\n",
       "34226  EXTRACT OF SOPHORA JAPONICA BUD, SOPHORA JAPONICA BUD EXTRACT, and SOPHORA JAPONICA, EXT.   \n",
       "34227  EXTRACT OF SOPHORA JAPONICA BUD, SOPHORA JAPONICA BUD EXTRACT, and SOPHORA JAPONICA, EXT.   \n",
       "34228  EXTRACT OF SOPHORA JAPONICA BUD, SOPHORA JAPONICA BUD EXTRACT, and SOPHORA JAPONICA, EXT.   \n",
       "34229                                           BA, BARIUM, BARIUM, DISSOLVED, and BARIUM, TOTAL   \n",
       "34230                                           BA, BARIUM, BARIUM, DISSOLVED, and BARIUM, TOTAL   \n",
       "\n",
       "      min_score max_score  mean_score is_syn  \n",
       "34226         1         1         1.0  False  \n",
       "34227         1         1         1.0   True  \n",
       "34228         1         1         1.0   True  \n",
       "34229         1         3         2.0  False  \n",
       "34230         1         3         2.0   True  "
      ]
     },
     "execution_count": 137,
     "metadata": {},
     "output_type": "execute_result"
    }
   ],
   "source": [
    "df_wsyns.tail()"
   ]
  },
  {
   "cell_type": "code",
   "execution_count": null,
   "metadata": {},
   "outputs": [],
   "source": [
    "# Took <15 min, that's fine.\n",
    "# 34230 entries, 20MB. "
   ]
  },
  {
   "cell_type": "code",
   "execution_count": 138,
   "metadata": {},
   "outputs": [
    {
     "name": "stdout",
     "output_type": "stream",
     "text": [
      "2019-12-09 00:09:21.984983,99,HEARTSEASE FLOWER EXTRACT,https://www.ewg.org/skindeep/squircle/show.svg?score=1&score_min=1,Data: Limited,,,,\"HEARTSEASE FLOWER EXTRACT, VIOLA TRICOLOR (HEARTSEASE) FLOWER EXTRACT, and VIOLA TRICOLOR FLOWER EXTRACT\",1,1,1.0,True\n",
      "2019-12-09 00:09:21.984983,99,VIOLA TRICOLOR FLOWER EXTRACT,https://www.ewg.org/skindeep/squircle/show.svg?score=1&score_min=1,Data: Limited,,,,\"HEARTSEASE FLOWER EXTRACT, VIOLA TRICOLOR (HEARTSEASE) FLOWER EXTRACT, and VIOLA TRICOLOR FLOWER EXTRACT\",1,1,1.0,True\n",
      "2019-12-09 00:09:59.672816,99,RUMEX OCCIDENTALIS EXTRACT,https://www.ewg.org/skindeep/squircle/show.svg?score=1&score_min=1,Data: None,,\"not reported, skin conditioning, and soothing\",Rumex Occidentalis Extract is an extract of the plant Rumex occidentalis.,\"EXTRACT OF RUMEX OCCIDENTALIS, RUMEX OCCIDENTALIS (RUMEX) EXTRAC, and RUMEX OCCIDENTALIS EXTRACT\",1,1,1.0,False\n",
      "2019-12-09 00:09:59.672816,99,EXTRACT OF RUMEX OCCIDENTALIS,https://www.ewg.org/skindeep/squircle/show.svg?score=1&score_min=1,Data: None,,\"not reported, skin conditioning, and soothing\",Rumex Occidentalis Extract is an extract of the plant Rumex occidentalis.,\"EXTRACT OF RUMEX OCCIDENTALIS, RUMEX OCCIDENTALIS (RUMEX) EXTRAC, and RUMEX OCCIDENTALIS EXTRACT\",1,1,1.0,True\n",
      "2019-12-09 00:09:59.672816,99,RUMEX OCCIDENTALIS (RUMEX) EXTRAC,https://www.ewg.org/skindeep/squircle/show.svg?score=1&score_min=1,Data: None,,\"not reported, skin conditioning, and soothing\",Rumex Occidentalis Extract is an extract of the plant Rumex occidentalis.,\"EXTRACT OF RUMEX OCCIDENTALIS, RUMEX OCCIDENTALIS (RUMEX) EXTRAC, and RUMEX OCCIDENTALIS EXTRACT\",1,1,1.0,True\n",
      "2019-12-09 00:10:37.660536,99,SOPHORA JAPONICA BUD EXTRACT,https://www.ewg.org/skindeep/squircle/show.svg?score=1&score_min=1,Data: None,,not reported and skin protecting,Sophora Japonica Bud Extract is an extract of the buds of Sophora japonica.,\"EXTRACT OF SOPHORA JAPONICA BUD, SOPHORA JAPONICA BUD EXTRACT, and SOPHORA JAPONICA, EXT.\",1,1,1.0,False\n",
      "2019-12-09 00:10:37.660536,99,EXTRACT OF SOPHORA JAPONICA BUD,https://www.ewg.org/skindeep/squircle/show.svg?score=1&score_min=1,Data: None,,not reported and skin protecting,Sophora Japonica Bud Extract is an extract of the buds of Sophora japonica.,\"EXTRACT OF SOPHORA JAPONICA BUD, SOPHORA JAPONICA BUD EXTRACT, and SOPHORA JAPONICA, EXT.\",1,1,1.0,True\n",
      "2019-12-09 00:10:37.660536,99,SOPHORA JAPONICA,https://www.ewg.org/skindeep/squircle/show.svg?score=1&score_min=1,Data: None,,not reported and skin protecting,Sophora Japonica Bud Extract is an extract of the buds of Sophora japonica.,\"EXTRACT OF SOPHORA JAPONICA BUD, SOPHORA JAPONICA BUD EXTRACT, and SOPHORA JAPONICA, EXT.\",1,1,1.0,True\n",
      "2019-12-09 00:11:16.866515,99,BARIUM,https://www.ewg.org/skindeep/squircle/show.svg?score=3&score_min=1,Data: Fair,Use restrictions (moderate) and Non-reproductive organ system toxicity (low),,,\"BA, BARIUM, BARIUM, DISSOLVED, and BARIUM, TOTAL\",1,3,2.0,False\n",
      "2019-12-09 00:11:16.866515,99,BA,https://www.ewg.org/skindeep/squircle/show.svg?score=3&score_min=1,Data: Fair,Use restrictions (moderate) and Non-reproductive organ system toxicity (low),,,\"BA, BARIUM, BARIUM, DISSOLVED, and BARIUM, TOTAL\",1,3,2.0,True\n"
     ]
    }
   ],
   "source": [
    "!tail dataframe_with_syns.csv"
   ]
  },
  {
   "cell_type": "code",
   "execution_count": null,
   "metadata": {},
   "outputs": [],
   "source": []
  }
 ],
 "metadata": {
  "kernelspec": {
   "display_name": "vegan_parser",
   "language": "python",
   "name": "vegan_parser"
  },
  "language_info": {
   "codemirror_mode": {
    "name": "ipython",
    "version": 3
   },
   "file_extension": ".py",
   "mimetype": "text/x-python",
   "name": "python",
   "nbconvert_exporter": "python",
   "pygments_lexer": "ipython3",
   "version": "3.7.4"
  }
 },
 "nbformat": 4,
 "nbformat_minor": 4
}
