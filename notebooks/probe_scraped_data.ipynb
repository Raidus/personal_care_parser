{
 "cells": [
  {
   "cell_type": "code",
   "execution_count": 2,
   "metadata": {},
   "outputs": [],
   "source": [
    "import os\n",
    "import pandas as pd\n",
    "import numpy as np\n",
    "from datetime import datetime"
   ]
  },
  {
   "cell_type": "code",
   "execution_count": 3,
   "metadata": {},
   "outputs": [],
   "source": [
    "pd.options.display.max_colwidth = 100"
   ]
  },
  {
   "cell_type": "code",
   "execution_count": 4,
   "metadata": {},
   "outputs": [],
   "source": [
    "data_path = '/Volumes/ja2/vegan/vegan_parser/scraping/ewg_data/'"
   ]
  },
  {
   "cell_type": "code",
   "execution_count": 5,
   "metadata": {},
   "outputs": [],
   "source": [
    "column_names = ['datetime_pulled',\n",
    "               'search_page_num',\n",
    "               'chemical_name',\n",
    "               'score_url',\n",
    "               'data_availability',\n",
    "               'chemical_concerns',\n",
    "               'chemical_functions',\n",
    "               'chemical_about',\n",
    "               'chemical_synonyms']"
   ]
  },
  {
   "cell_type": "code",
   "execution_count": 6,
   "metadata": {},
   "outputs": [],
   "source": [
    "filepaths = [os.path.join(data_path,f) for f in os.listdir(data_path) if f.startswith('chemical_details')]"
   ]
  },
  {
   "cell_type": "code",
   "execution_count": 7,
   "metadata": {},
   "outputs": [
    {
     "data": {
      "text/plain": [
       "252"
      ]
     },
     "execution_count": 7,
     "metadata": {},
     "output_type": "execute_result"
    }
   ],
   "source": [
    "len(filepaths)"
   ]
  },
  {
   "cell_type": "code",
   "execution_count": 8,
   "metadata": {},
   "outputs": [],
   "source": [
    "df = pd.concat([pd.read_csv(f, names=column_names) for f in filepaths], axis=0)"
   ]
  },
  {
   "cell_type": "code",
   "execution_count": 9,
   "metadata": {},
   "outputs": [
    {
     "data": {
      "text/plain": [
       "(9062, 9)"
      ]
     },
     "execution_count": 9,
     "metadata": {},
     "output_type": "execute_result"
    }
   ],
   "source": [
    "df.shape"
   ]
  },
  {
   "cell_type": "code",
   "execution_count": 10,
   "metadata": {},
   "outputs": [
    {
     "data": {
      "text/html": [
       "<div>\n",
       "<style scoped>\n",
       "    .dataframe tbody tr th:only-of-type {\n",
       "        vertical-align: middle;\n",
       "    }\n",
       "\n",
       "    .dataframe tbody tr th {\n",
       "        vertical-align: top;\n",
       "    }\n",
       "\n",
       "    .dataframe thead th {\n",
       "        text-align: right;\n",
       "    }\n",
       "</style>\n",
       "<table border=\"1\" class=\"dataframe\">\n",
       "  <thead>\n",
       "    <tr style=\"text-align: right;\">\n",
       "      <th></th>\n",
       "      <th>datetime_pulled</th>\n",
       "      <th>search_page_num</th>\n",
       "      <th>chemical_name</th>\n",
       "      <th>score_url</th>\n",
       "      <th>data_availability</th>\n",
       "      <th>chemical_concerns</th>\n",
       "      <th>chemical_functions</th>\n",
       "      <th>chemical_about</th>\n",
       "      <th>chemical_synonyms</th>\n",
       "    </tr>\n",
       "  </thead>\n",
       "  <tbody>\n",
       "    <tr>\n",
       "      <th>2</th>\n",
       "      <td>2019-12-09 21:55:34.303180</td>\n",
       "      <td>157</td>\n",
       "      <td>SODIUM RAPESEEDATE</td>\n",
       "      <td>https://www.ewg.org/skindeep/squircle/show.svg?score=1&amp;score_min=1</td>\n",
       "      <td>Data: None</td>\n",
       "      <td>NaN</td>\n",
       "      <td>surfactant - cleansing agent, surfactant - emulsifying agent, viscosity increasing agent -nonaqu...</td>\n",
       "      <td>Sodium Rapeseedate is a sodium salt of the fatty acids derived from Brassica Campestris(Rapeseed...</td>\n",
       "      <td>FATTY ACIDS, RAPESEED OIL, SODIUM SALT, RAPESEED OIL SODIUM SALT FATTY ACIDS, SODIUM RAPESEEDATE...</td>\n",
       "    </tr>\n",
       "  </tbody>\n",
       "</table>\n",
       "</div>"
      ],
      "text/plain": [
       "              datetime_pulled  search_page_num       chemical_name  \\\n",
       "2  2019-12-09 21:55:34.303180              157  SODIUM RAPESEEDATE   \n",
       "\n",
       "                                                            score_url  \\\n",
       "2  https://www.ewg.org/skindeep/squircle/show.svg?score=1&score_min=1   \n",
       "\n",
       "  data_availability chemical_concerns  \\\n",
       "2        Data: None               NaN   \n",
       "\n",
       "                                                                                    chemical_functions  \\\n",
       "2  surfactant - cleansing agent, surfactant - emulsifying agent, viscosity increasing agent -nonaqu...   \n",
       "\n",
       "                                                                                        chemical_about  \\\n",
       "2  Sodium Rapeseedate is a sodium salt of the fatty acids derived from Brassica Campestris(Rapeseed...   \n",
       "\n",
       "                                                                                     chemical_synonyms  \n",
       "2  FATTY ACIDS, RAPESEED OIL, SODIUM SALT, RAPESEED OIL SODIUM SALT FATTY ACIDS, SODIUM RAPESEEDATE...  "
      ]
     },
     "execution_count": 10,
     "metadata": {},
     "output_type": "execute_result"
    }
   ],
   "source": [
    "df[df['chemical_name']=='SODIUM RAPESEEDATE']"
   ]
  },
  {
   "cell_type": "code",
   "execution_count": 11,
   "metadata": {},
   "outputs": [
    {
     "data": {
      "text/plain": [
       "array(['FATTY ACIDS, RAPESEED OIL, SODIUM SALT, RAPESEED OIL SODIUM SALT FATTY ACIDS, SODIUM RAPESEEDATE, and SODIUM SALT FATTY ACIDS, RAPESEED OIL'],\n",
       "      dtype=object)"
      ]
     },
     "execution_count": 11,
     "metadata": {},
     "output_type": "execute_result"
    }
   ],
   "source": [
    "df[df['chemical_name']=='SODIUM RAPESEEDATE']['chemical_synonyms'].values"
   ]
  },
  {
   "cell_type": "code",
   "execution_count": null,
   "metadata": {},
   "outputs": [],
   "source": []
  },
  {
   "cell_type": "code",
   "execution_count": 12,
   "metadata": {},
   "outputs": [],
   "source": [
    "# Oh, it's not just a list, there's an \"and\" in there... but if the names are always capitalized, that's a way to deal with it.\n",
    "# Let's look up the alternative names\n"
   ]
  },
  {
   "cell_type": "code",
   "execution_count": 13,
   "metadata": {},
   "outputs": [
    {
     "data": {
      "text/html": [
       "<div>\n",
       "<style scoped>\n",
       "    .dataframe tbody tr th:only-of-type {\n",
       "        vertical-align: middle;\n",
       "    }\n",
       "\n",
       "    .dataframe tbody tr th {\n",
       "        vertical-align: top;\n",
       "    }\n",
       "\n",
       "    .dataframe thead th {\n",
       "        text-align: right;\n",
       "    }\n",
       "</style>\n",
       "<table border=\"1\" class=\"dataframe\">\n",
       "  <thead>\n",
       "    <tr style=\"text-align: right;\">\n",
       "      <th></th>\n",
       "      <th>datetime_pulled</th>\n",
       "      <th>search_page_num</th>\n",
       "      <th>chemical_name</th>\n",
       "      <th>score_url</th>\n",
       "      <th>data_availability</th>\n",
       "      <th>chemical_concerns</th>\n",
       "      <th>chemical_functions</th>\n",
       "      <th>chemical_about</th>\n",
       "      <th>chemical_synonyms</th>\n",
       "    </tr>\n",
       "  </thead>\n",
       "  <tbody>\n",
       "    <tr>\n",
       "      <th>27</th>\n",
       "      <td>2019-12-09 09:41:55.692990</td>\n",
       "      <td>124</td>\n",
       "      <td>FATTY ACIDS</td>\n",
       "      <td>https://www.ewg.org/skindeep/squircle/show.svg?score=1&amp;score_min=1</td>\n",
       "      <td>Data: Fair</td>\n",
       "      <td>Multiple, additive exposure sources (high)</td>\n",
       "      <td>NaN</td>\n",
       "      <td>NaN</td>\n",
       "      <td>FATTY ACIDS</td>\n",
       "    </tr>\n",
       "  </tbody>\n",
       "</table>\n",
       "</div>"
      ],
      "text/plain": [
       "               datetime_pulled  search_page_num chemical_name  \\\n",
       "27  2019-12-09 09:41:55.692990              124   FATTY ACIDS   \n",
       "\n",
       "                                                             score_url  \\\n",
       "27  https://www.ewg.org/skindeep/squircle/show.svg?score=1&score_min=1   \n",
       "\n",
       "   data_availability                           chemical_concerns  \\\n",
       "27        Data: Fair  Multiple, additive exposure sources (high)   \n",
       "\n",
       "   chemical_functions chemical_about chemical_synonyms  \n",
       "27                NaN            NaN       FATTY ACIDS  "
      ]
     },
     "execution_count": 13,
     "metadata": {},
     "output_type": "execute_result"
    }
   ],
   "source": [
    "df[df['chemical_name']=='FATTY ACIDS']"
   ]
  },
  {
   "cell_type": "code",
   "execution_count": 14,
   "metadata": {},
   "outputs": [],
   "source": [
    "# OH COME ON - these data are different!\n",
    "# Because Sodium Rapeseedate is one of many Fatty Acids out there."
   ]
  },
  {
   "cell_type": "code",
   "execution_count": 15,
   "metadata": {},
   "outputs": [
    {
     "data": {
      "text/html": [
       "<div>\n",
       "<style scoped>\n",
       "    .dataframe tbody tr th:only-of-type {\n",
       "        vertical-align: middle;\n",
       "    }\n",
       "\n",
       "    .dataframe tbody tr th {\n",
       "        vertical-align: top;\n",
       "    }\n",
       "\n",
       "    .dataframe thead th {\n",
       "        text-align: right;\n",
       "    }\n",
       "</style>\n",
       "<table border=\"1\" class=\"dataframe\">\n",
       "  <thead>\n",
       "    <tr style=\"text-align: right;\">\n",
       "      <th></th>\n",
       "      <th>datetime_pulled</th>\n",
       "      <th>search_page_num</th>\n",
       "      <th>chemical_name</th>\n",
       "      <th>score_url</th>\n",
       "      <th>data_availability</th>\n",
       "      <th>chemical_concerns</th>\n",
       "      <th>chemical_functions</th>\n",
       "      <th>chemical_about</th>\n",
       "      <th>chemical_synonyms</th>\n",
       "    </tr>\n",
       "  </thead>\n",
       "  <tbody>\n",
       "  </tbody>\n",
       "</table>\n",
       "</div>"
      ],
      "text/plain": [
       "Empty DataFrame\n",
       "Columns: [datetime_pulled, search_page_num, chemical_name, score_url, data_availability, chemical_concerns, chemical_functions, chemical_about, chemical_synonyms]\n",
       "Index: []"
      ]
     },
     "execution_count": 15,
     "metadata": {},
     "output_type": "execute_result"
    }
   ],
   "source": [
    "df[df['chemical_name']=='RAPESEED OIL']"
   ]
  },
  {
   "cell_type": "code",
   "execution_count": 16,
   "metadata": {},
   "outputs": [],
   "source": [
    "# Okay, but it looks like direct synoyms are not in the list."
   ]
  },
  {
   "cell_type": "markdown",
   "metadata": {},
   "source": [
    "### A few things to do:\n",
    "- duplicate rows for all the chemical synonyms, so we can have all the names in a column to look up\n",
    "- translate the score_url to actual scores\n"
   ]
  },
  {
   "cell_type": "code",
   "execution_count": 17,
   "metadata": {},
   "outputs": [
    {
     "data": {
      "text/plain": [
       "array(['https://www.ewg.org/skindeep/squircle/show.svg?score=1&score_min=1',\n",
       "       'https://www.ewg.org/skindeep/squircle/show.svg?score=8&score_min=8',\n",
       "       'https://www.ewg.org/skindeep/squircle/show.svg?score=2&score_min=1',\n",
       "       'https://www.ewg.org/skindeep/squircle/show.svg?score=2&score_min=2',\n",
       "       'https://www.ewg.org/skindeep/squircle/show.svg?score=3&score_min=1',\n",
       "       'https://www.ewg.org/skindeep/squircle/show.svg?score=4&score_min=2',\n",
       "       'https://www.ewg.org/skindeep/squircle/show.svg?score=3&score_min=3',\n",
       "       'https://www.ewg.org/skindeep/squircle/show.svg?score=4&score_min=4',\n",
       "       'https://www.ewg.org/skindeep/squircle/show.svg?score=7&score_min=5',\n",
       "       'https://www.ewg.org/skindeep/squircle/show.svg?score=5&score_min=2',\n",
       "       'https://www.ewg.org/skindeep/squircle/show.svg?score=6&score_min=3',\n",
       "       'https://www.ewg.org/skindeep/squircle/show.svg?score=4&score_min=1',\n",
       "       'https://www.ewg.org/skindeep/squircle/show.svg?score=3&score_min=2',\n",
       "       'https://www.ewg.org/skindeep/squircle/show.svg?score=5&score_min=4',\n",
       "       'https://www.ewg.org/skindeep/squircle/show.svg?score=6&score_min=4',\n",
       "       'https://www.ewg.org/skindeep/squircle/show.svg?score=7&score_min=1',\n",
       "       'https://www.ewg.org/skindeep/squircle/show.svg?score=6&score_min=6',\n",
       "       'https://www.ewg.org/skindeep/squircle/show.svg?score=7&score_min=4',\n",
       "       'https://www.ewg.org/skindeep/squircle/show.svg?score=10&score_min=7',\n",
       "       'https://www.ewg.org/skindeep/squircle/show.svg?score=10&score_min=8',\n",
       "       'https://www.ewg.org/skindeep/squircle/show.svg?score=5&score_min=5',\n",
       "       'https://www.ewg.org/skindeep/squircle/show.svg?score=6&score_min=1',\n",
       "       'https://www.ewg.org/skindeep/squircle/show.svg?score=7&score_min=3',\n",
       "       'https://www.ewg.org/skindeep/squircle/show.svg?score=5&score_min=3',\n",
       "       'https://www.ewg.org/skindeep/squircle/show.svg?score=10&score_min=6',\n",
       "       'https://www.ewg.org/skindeep/squircle/show.svg?score=5&score_min=1',\n",
       "       'https://www.ewg.org/skindeep/squircle/show.svg?score=6&score_min=5',\n",
       "       'https://www.ewg.org/skindeep/squircle/show.svg?score=4&score_min=3',\n",
       "       'https://www.ewg.org/skindeep/squircle/show.svg?score=6&score_min=2',\n",
       "       'https://www.ewg.org/skindeep/squircle/show.svg?score=9&score_min=6',\n",
       "       'https://www.ewg.org/skindeep/squircle/show.svg?score=8&score_min=6',\n",
       "       'https://www.ewg.org/skindeep/squircle/show.svg?score=8&score_min=5',\n",
       "       'https://www.ewg.org/skindeep/squircle/show.svg?score=10&score_min=10',\n",
       "       'https://www.ewg.org/skindeep/squircle/show.svg?score=8&score_min=4',\n",
       "       'https://www.ewg.org/skindeep/squircle/show.svg?score=10&score_min=11',\n",
       "       'https://www.ewg.org/skindeep/squircle/show.svg?score=7&score_min=7',\n",
       "       'https://www.ewg.org/skindeep/squircle/show.svg?score=9&score_min=5',\n",
       "       'https://www.ewg.org/skindeep/squircle/show.svg?score=8&score_min=3',\n",
       "       'https://www.ewg.org/skindeep/squircle/show.svg?score=9&score_min=2',\n",
       "       'https://www.ewg.org/skindeep/squircle/show.svg?score=9&score_min=9',\n",
       "       'https://www.ewg.org/skindeep/squircle/show.svg?score=10&score_min=9',\n",
       "       'https://www.ewg.org/skindeep/squircle/show.svg?score=9&score_min=4',\n",
       "       'https://www.ewg.org/skindeep/squircle/show.svg?score=9&score_min=7'],\n",
       "      dtype=object)"
      ]
     },
     "execution_count": 17,
     "metadata": {},
     "output_type": "execute_result"
    }
   ],
   "source": [
    "# Translating score_url to actual scores.\n",
    "\n",
    "df['score_url'].unique()"
   ]
  },
  {
   "cell_type": "markdown",
   "metadata": {},
   "source": [
    "The scores that have a range means it depends on usage.\n",
    "But, to be fair, water has a value of 1, but if you inhale too much water, or drink way too much of it, you can die. So, we should take these with a grain of salt"
   ]
  },
  {
   "cell_type": "code",
   "execution_count": 18,
   "metadata": {},
   "outputs": [
    {
     "data": {
      "text/html": [
       "<div>\n",
       "<style scoped>\n",
       "    .dataframe tbody tr th:only-of-type {\n",
       "        vertical-align: middle;\n",
       "    }\n",
       "\n",
       "    .dataframe tbody tr th {\n",
       "        vertical-align: top;\n",
       "    }\n",
       "\n",
       "    .dataframe thead th {\n",
       "        text-align: right;\n",
       "    }\n",
       "</style>\n",
       "<table border=\"1\" class=\"dataframe\">\n",
       "  <thead>\n",
       "    <tr style=\"text-align: right;\">\n",
       "      <th></th>\n",
       "      <th>datetime_pulled</th>\n",
       "      <th>search_page_num</th>\n",
       "      <th>chemical_name</th>\n",
       "      <th>score_url</th>\n",
       "      <th>data_availability</th>\n",
       "      <th>chemical_concerns</th>\n",
       "      <th>chemical_functions</th>\n",
       "      <th>chemical_about</th>\n",
       "      <th>chemical_synonyms</th>\n",
       "    </tr>\n",
       "  </thead>\n",
       "  <tbody>\n",
       "    <tr>\n",
       "      <th>0</th>\n",
       "      <td>2019-12-07 11:47:29.665736</td>\n",
       "      <td>1</td>\n",
       "      <td>WATER</td>\n",
       "      <td>https://www.ewg.org/skindeep/squircle/show.svg?score=1&amp;score_min=1</td>\n",
       "      <td>Data: Robust</td>\n",
       "      <td>NaN</td>\n",
       "      <td>solvent</td>\n",
       "      <td>NaN</td>\n",
       "      <td>AQUA, DEIONIZED WATER, DISTILLED WATER, ONSEN-SUI, PURIFIED WATER, and WATER</td>\n",
       "    </tr>\n",
       "  </tbody>\n",
       "</table>\n",
       "</div>"
      ],
      "text/plain": [
       "              datetime_pulled  search_page_num chemical_name  \\\n",
       "0  2019-12-07 11:47:29.665736                1         WATER   \n",
       "\n",
       "                                                            score_url  \\\n",
       "0  https://www.ewg.org/skindeep/squircle/show.svg?score=1&score_min=1   \n",
       "\n",
       "  data_availability chemical_concerns chemical_functions chemical_about  \\\n",
       "0      Data: Robust               NaN            solvent            NaN   \n",
       "\n",
       "                                                              chemical_synonyms  \n",
       "0  AQUA, DEIONIZED WATER, DISTILLED WATER, ONSEN-SUI, PURIFIED WATER, and WATER  "
      ]
     },
     "execution_count": 18,
     "metadata": {},
     "output_type": "execute_result"
    }
   ],
   "source": [
    "df[df['chemical_name']=='WATER']"
   ]
  },
  {
   "cell_type": "code",
   "execution_count": 19,
   "metadata": {},
   "outputs": [
    {
     "data": {
      "text/plain": [
       "'https://www.ewg.org/skindeep/squircle/show.svg?score=1&score_min=1'"
      ]
     },
     "execution_count": 19,
     "metadata": {},
     "output_type": "execute_result"
    }
   ],
   "source": [
    "df.iloc[0,3]"
   ]
  },
  {
   "cell_type": "code",
   "execution_count": 20,
   "metadata": {},
   "outputs": [],
   "source": [
    "# Let's write out the min and max scores to their own columns, and average them to get an average score\n",
    "# we'll need a function to read these out"
   ]
  },
  {
   "cell_type": "code",
   "execution_count": 21,
   "metadata": {},
   "outputs": [],
   "source": [
    "def extract_max(string):\n",
    "    score_range = [int(s) for s in string if s.isdigit()]\n",
    "    return score_range[0]\n",
    "\n",
    "def extract_min(string):\n",
    "    score_range = [int(s) for s in string if s.isdigit()]\n",
    "    return score_range[1]\n",
    "\n",
    "def extract_mean(string):\n",
    "    score_range = [int(s) for s in string if s.isdigit()]\n",
    "    return np.mean(score_range)"
   ]
  },
  {
   "cell_type": "code",
   "execution_count": 22,
   "metadata": {},
   "outputs": [
    {
     "data": {
      "text/plain": [
       "True"
      ]
     },
     "execution_count": 22,
     "metadata": {},
     "output_type": "execute_result"
    }
   ],
   "source": [
    "'111'.isdigit()"
   ]
  },
  {
   "cell_type": "code",
   "execution_count": 23,
   "metadata": {},
   "outputs": [],
   "source": [
    "string = 'https://www.ewg.org/skindeep/squircle/show.svg?score=9&score_min=4'"
   ]
  },
  {
   "cell_type": "code",
   "execution_count": 24,
   "metadata": {},
   "outputs": [
    {
     "data": {
      "text/plain": [
       "[9, 4]"
      ]
     },
     "execution_count": 24,
     "metadata": {},
     "output_type": "execute_result"
    }
   ],
   "source": [
    "[int(s) for s in string if s.isdigit()]"
   ]
  },
  {
   "cell_type": "code",
   "execution_count": 25,
   "metadata": {},
   "outputs": [
    {
     "data": {
      "text/plain": [
       "1.0"
      ]
     },
     "execution_count": 25,
     "metadata": {},
     "output_type": "execute_result"
    }
   ],
   "source": [
    "np.mean([1, 1])"
   ]
  },
  {
   "cell_type": "code",
   "execution_count": 26,
   "metadata": {},
   "outputs": [],
   "source": [
    "df['min_score'] = df['score_url'].apply(lambda x: extract_min(x))\n",
    "df['max_score'] = df['score_url'].apply(lambda x: extract_max(x))\n",
    "df['mean_score'] = df['score_url'].apply(lambda x: extract_mean(x))"
   ]
  },
  {
   "cell_type": "code",
   "execution_count": null,
   "metadata": {},
   "outputs": [],
   "source": []
  },
  {
   "cell_type": "code",
   "execution_count": 27,
   "metadata": {},
   "outputs": [
    {
     "data": {
      "text/html": [
       "<div>\n",
       "<style scoped>\n",
       "    .dataframe tbody tr th:only-of-type {\n",
       "        vertical-align: middle;\n",
       "    }\n",
       "\n",
       "    .dataframe tbody tr th {\n",
       "        vertical-align: top;\n",
       "    }\n",
       "\n",
       "    .dataframe thead th {\n",
       "        text-align: right;\n",
       "    }\n",
       "</style>\n",
       "<table border=\"1\" class=\"dataframe\">\n",
       "  <thead>\n",
       "    <tr style=\"text-align: right;\">\n",
       "      <th></th>\n",
       "      <th>datetime_pulled</th>\n",
       "      <th>search_page_num</th>\n",
       "      <th>chemical_name</th>\n",
       "      <th>score_url</th>\n",
       "      <th>data_availability</th>\n",
       "      <th>chemical_concerns</th>\n",
       "      <th>chemical_functions</th>\n",
       "      <th>chemical_about</th>\n",
       "      <th>chemical_synonyms</th>\n",
       "      <th>min_score</th>\n",
       "      <th>max_score</th>\n",
       "      <th>mean_score</th>\n",
       "    </tr>\n",
       "  </thead>\n",
       "  <tbody>\n",
       "    <tr>\n",
       "      <th>0</th>\n",
       "      <td>2019-12-07 11:47:29.665736</td>\n",
       "      <td>1</td>\n",
       "      <td>WATER</td>\n",
       "      <td>https://www.ewg.org/skindeep/squircle/show.svg?score=1&amp;score_min=1</td>\n",
       "      <td>Data: Robust</td>\n",
       "      <td>NaN</td>\n",
       "      <td>solvent</td>\n",
       "      <td>NaN</td>\n",
       "      <td>AQUA, DEIONIZED WATER, DISTILLED WATER, ONSEN-SUI, PURIFIED WATER, and WATER</td>\n",
       "      <td>1</td>\n",
       "      <td>1</td>\n",
       "      <td>1.0</td>\n",
       "    </tr>\n",
       "    <tr>\n",
       "      <th>1</th>\n",
       "      <td>2019-12-07 11:47:43.295987</td>\n",
       "      <td>1</td>\n",
       "      <td>FRAGRANCE</td>\n",
       "      <td>https://www.ewg.org/skindeep/squircle/show.svg?score=8&amp;score_min=8</td>\n",
       "      <td>Data: Fair</td>\n",
       "      <td>Non-reproductive organ system toxicity (moderate), Ecotoxicology (low), and Irritation (skin, ey...</td>\n",
       "      <td>deodorant, masking, and perfuming</td>\n",
       "      <td>The word \"fragrance\" or \"parfum\" on the product label represents an undisclosed mixture of vario...</td>\n",
       "      <td>AROMA, FRAGRANCE, and PARFUM</td>\n",
       "      <td>8</td>\n",
       "      <td>8</td>\n",
       "      <td>8.0</td>\n",
       "    </tr>\n",
       "    <tr>\n",
       "      <th>2</th>\n",
       "      <td>2019-12-07 11:47:56.948139</td>\n",
       "      <td>1</td>\n",
       "      <td>GLYCERIN</td>\n",
       "      <td>https://www.ewg.org/skindeep/squircle/show.svg?score=2&amp;score_min=1</td>\n",
       "      <td>Data: Good</td>\n",
       "      <td>Use restrictions (moderate)</td>\n",
       "      <td>denaturant, fragrance ingredient, hair conditioning agent, humectant, oral care agent;oral healt...</td>\n",
       "      <td>Glycerin (also called glycerol) is a naturally occurring alcohol compound and a component of man...</td>\n",
       "      <td>1,2,3-PROPANETRIOL, 1,2,3-TRIHYDROXYPROPANE, 1,2,3PROPANETRIOL, CONCENTRATED GLYCERIN, GLYCERIN,...</td>\n",
       "      <td>1</td>\n",
       "      <td>2</td>\n",
       "      <td>1.5</td>\n",
       "    </tr>\n",
       "    <tr>\n",
       "      <th>3</th>\n",
       "      <td>2019-12-07 11:48:10.616512</td>\n",
       "      <td>1</td>\n",
       "      <td>IRON OXIDES</td>\n",
       "      <td>https://www.ewg.org/skindeep/squircle/show.svg?score=2&amp;score_min=2</td>\n",
       "      <td>Data: Fair</td>\n",
       "      <td>Enhanced skin absorption, Persistence and bioaccumulation (high), and Non-reproductive organ sys...</td>\n",
       "      <td>colorant and cosmetic colorant</td>\n",
       "      <td>Iron oxides are inorganic chemicals used as colorants.</td>\n",
       "      <td>BLACK IRON OXIDE, BLACK OXIDE OF IRON, BROWN IRON OXIDE, C.I. PIGMENT BROWN 7, CI 77489, CI 7749...</td>\n",
       "      <td>2</td>\n",
       "      <td>2</td>\n",
       "      <td>2.0</td>\n",
       "    </tr>\n",
       "    <tr>\n",
       "      <th>4</th>\n",
       "      <td>2019-12-07 11:48:24.130988</td>\n",
       "      <td>1</td>\n",
       "      <td>TITANIUM DIOXIDE</td>\n",
       "      <td>https://www.ewg.org/skindeep/squircle/show.svg?score=3&amp;score_min=1</td>\n",
       "      <td>Data: Good</td>\n",
       "      <td>Non-reproductive organ system toxicity (moderate) and Occupational hazards (high)</td>\n",
       "      <td>colorant, opacifying agent, sunscreen agent, and ultraviolet light absorber</td>\n",
       "      <td>Titanium dioxide is an inorganic compound used in a range of body care products such as sunscree...</td>\n",
       "      <td>1385RN 59, 1700 WHITE, 234DA, 500HD, 63B1 WHITE, A 200 (PIGMENT), A 330 (PIGMENT), A-FIL, A-FIL ...</td>\n",
       "      <td>1</td>\n",
       "      <td>3</td>\n",
       "      <td>2.0</td>\n",
       "    </tr>\n",
       "  </tbody>\n",
       "</table>\n",
       "</div>"
      ],
      "text/plain": [
       "              datetime_pulled  search_page_num     chemical_name  \\\n",
       "0  2019-12-07 11:47:29.665736                1             WATER   \n",
       "1  2019-12-07 11:47:43.295987                1         FRAGRANCE   \n",
       "2  2019-12-07 11:47:56.948139                1          GLYCERIN   \n",
       "3  2019-12-07 11:48:10.616512                1       IRON OXIDES   \n",
       "4  2019-12-07 11:48:24.130988                1  TITANIUM DIOXIDE   \n",
       "\n",
       "                                                            score_url  \\\n",
       "0  https://www.ewg.org/skindeep/squircle/show.svg?score=1&score_min=1   \n",
       "1  https://www.ewg.org/skindeep/squircle/show.svg?score=8&score_min=8   \n",
       "2  https://www.ewg.org/skindeep/squircle/show.svg?score=2&score_min=1   \n",
       "3  https://www.ewg.org/skindeep/squircle/show.svg?score=2&score_min=2   \n",
       "4  https://www.ewg.org/skindeep/squircle/show.svg?score=3&score_min=1   \n",
       "\n",
       "  data_availability  \\\n",
       "0      Data: Robust   \n",
       "1        Data: Fair   \n",
       "2        Data: Good   \n",
       "3        Data: Fair   \n",
       "4        Data: Good   \n",
       "\n",
       "                                                                                     chemical_concerns  \\\n",
       "0                                                                                                  NaN   \n",
       "1  Non-reproductive organ system toxicity (moderate), Ecotoxicology (low), and Irritation (skin, ey...   \n",
       "2                                                                          Use restrictions (moderate)   \n",
       "3  Enhanced skin absorption, Persistence and bioaccumulation (high), and Non-reproductive organ sys...   \n",
       "4                    Non-reproductive organ system toxicity (moderate) and Occupational hazards (high)   \n",
       "\n",
       "                                                                                    chemical_functions  \\\n",
       "0                                                                                              solvent   \n",
       "1                                                                    deodorant, masking, and perfuming   \n",
       "2  denaturant, fragrance ingredient, hair conditioning agent, humectant, oral care agent;oral healt...   \n",
       "3                                                                       colorant and cosmetic colorant   \n",
       "4                          colorant, opacifying agent, sunscreen agent, and ultraviolet light absorber   \n",
       "\n",
       "                                                                                        chemical_about  \\\n",
       "0                                                                                                  NaN   \n",
       "1  The word \"fragrance\" or \"parfum\" on the product label represents an undisclosed mixture of vario...   \n",
       "2  Glycerin (also called glycerol) is a naturally occurring alcohol compound and a component of man...   \n",
       "3                                               Iron oxides are inorganic chemicals used as colorants.   \n",
       "4  Titanium dioxide is an inorganic compound used in a range of body care products such as sunscree...   \n",
       "\n",
       "                                                                                     chemical_synonyms  \\\n",
       "0                         AQUA, DEIONIZED WATER, DISTILLED WATER, ONSEN-SUI, PURIFIED WATER, and WATER   \n",
       "1                                                                         AROMA, FRAGRANCE, and PARFUM   \n",
       "2  1,2,3-PROPANETRIOL, 1,2,3-TRIHYDROXYPROPANE, 1,2,3PROPANETRIOL, CONCENTRATED GLYCERIN, GLYCERIN,...   \n",
       "3  BLACK IRON OXIDE, BLACK OXIDE OF IRON, BROWN IRON OXIDE, C.I. PIGMENT BROWN 7, CI 77489, CI 7749...   \n",
       "4  1385RN 59, 1700 WHITE, 234DA, 500HD, 63B1 WHITE, A 200 (PIGMENT), A 330 (PIGMENT), A-FIL, A-FIL ...   \n",
       "\n",
       "   min_score  max_score  mean_score  \n",
       "0          1          1         1.0  \n",
       "1          8          8         8.0  \n",
       "2          1          2         1.5  \n",
       "3          2          2         2.0  \n",
       "4          1          3         2.0  "
      ]
     },
     "execution_count": 27,
     "metadata": {},
     "output_type": "execute_result"
    }
   ],
   "source": [
    "df.head()"
   ]
  },
  {
   "cell_type": "code",
   "execution_count": null,
   "metadata": {},
   "outputs": [],
   "source": []
  },
  {
   "cell_type": "code",
   "execution_count": null,
   "metadata": {},
   "outputs": [],
   "source": []
  },
  {
   "cell_type": "code",
   "execution_count": 28,
   "metadata": {},
   "outputs": [],
   "source": [
    "pd.options.display.max_colwidth = 250"
   ]
  },
  {
   "cell_type": "code",
   "execution_count": 29,
   "metadata": {},
   "outputs": [
    {
     "data": {
      "text/plain": [
       "21                                                                                                                                                                   BRAN, ORYZA SATIVA, BRAN, RICE, ORYZA SATIVA (RICE) BRAN, ORYZA SATIVA BRAN, and RICE BRAN\n",
       "12                                                                                                       SILANE, TRIMETHYL(OCTADECYLOXY)-, STEAROXYTRIMETHYLSILANE, TRIMETHYL(OCTADECYLOXY)- SILANE, TRIMETHYL(OCTADECYLOXY)SILANE, and TRIMETHYLSILYL STEARATE\n",
       "7                                                                                                                                                                                                                                         LINUM ALPINUM EXTRACT\n",
       "10                                                                                          BENZIMIDAZOLE DIAMOND AMINOETHYL UREA CARBAMOYL PROPYL POLYMETHYLSILSESQUIOXANE and BENZIMIDAZOLE DIAMOND AMIDOETHYL UREA CARBAMOYL PROPYL POLYMETHYLSILSESQUIOXANE\n",
       "16                                                                                                                                                                                                                             AQUILARIA AGALLOCHA STEM EXTRACT\n",
       "28                                                                                                                                                                                                                  LUPINUS (LUPIN) EXTRACT and LUPINUS EXTRACT\n",
       "12                                                                                                                                                                                                                                    SODIUM METHYL ISETHIONATE\n",
       "8                                                                                                   ORIGANUM MAJORANA (SWEET MARJORAM) ESSENTIAL OIL, ORIGANUM MAJORANA (SWEET MARJORAM) OIL, ORIGANUM MAJORANA ESSENTIAL OIL, and SWEET MARJORAM ESSENTIAL OIL\n",
       "34                                                                                                                                                                                                                            DAVIDSONIA PRURIENS FRUIT EXTRACT\n",
       "28                                                CYPRIPEDIUM CALCEOLUS PUBESCENS, EXT., CYPRIPEDIUM PUBESCENS EXTRACT, EXTRACT OF CYPRIPEDIUM PUBESCENS, EXTRACT OF LADY'S SLIPPER, LADY'S SLIPPER (CYPRIPEDIUM PUBESCENS) EXTRACT, and LADY'S SLIPPER EXTRACT\n",
       "35                                                                                                                             FLUORPHLOGOPITE, FLUORPHLOGOPITE (MG3K[ALF2O(SIO3)3]), SYNTHETIC FLUORPHILOGOPITE, SYNTHETIC FLUORPHLOGOPITE, and SYNTHETIC MICA\n",
       "15                                                                                                                                                                                                           EXTRACT OF VIGNA RADIATA and VIGNA RADIATA EXTRACT\n",
       "25                                                                                                                                                                                                     DIMER DILINOLEAMIDOPROPYL PG-DIMONIUM CHLORIDE PHOSPHATE\n",
       "34                                                                                                                                                                                    MACADAMIA TERNIFOLIA (MACADAMIA) NUT OIL and MACADAMIA TERNIFOLIA NUT OIL\n",
       "28                                                             MYRETH-3 MYRISTATE, PEG-3 MYRISTYL ETHER MYRISTATE, POLYETHYLENE GLYCOL (3) MYRISTYL ETHER MYRISTATE, POLYOXYETHYLENE (3) MRYISTYL ETHER MYRISTATE, and POLYOXYETHYLENE MYRISTYL ETHER MYRISTATE\n",
       "2                                                                                                                                                                                                                    WINTERGREEN OIL (GAULTHERIA PROCUMBENS L.)\n",
       "7                                                                                                                                                                    COLTSFOOT INFUSION, TUSSILAGO FARFARA (COLTSFOOT) INFUSION, and TUSSILAGO FARFARA INFUSION\n",
       "25                                                                                                                            CUCUMIS MELO (MELON) JUICE, CUCUMIS MELO JUICE, HONEYDEW MELON JUICE, JUICE, CUCUMIS MELO, JUICE, HONEYDEW MELON, and MELON JUICE\n",
       "0                                                                                                                                                                                      CITRUS AURANTIFOLIA (LIME) PEEL, CITRUS AURANTIFOLIA PEEL, and LIME PEEL\n",
       "17                                                                                                          ET ESTERS FATTY ACIDS, MACADAMIA NUT OIL, ETHYL MACADAMIATE, FATTY ACIDS, MACADAMIA NUT OIL, ET ESTERS, and MACADAMIA NUT OIL ET ESTERS FATTY ACIDS\n",
       "22                                                                                                                                                                                                                              PFAFFIA PANICULATA ROOT EXTRACT\n",
       "27                                                                           BLUE TANSY ESSENTIAL OIL, BLUE TANSY OIL, TANACETUM ANNUUM (BLUE TANSY) ESSENTIAL OIL, TANACETUM ANNUUM (BLUE TANSY) OIL, TANACETUM ANNUUM ESSENTIAL OIL, and TANACETUM ANNUUM OIL\n",
       "25    .ALPHA.-(CARBOXYMETHYL)-.OMEGA.-(DODECYLOXY)POLY(OXY-1,2-ETHANEDIYL), SODIUM SALT; DODECYLOXYPOLY(ETHYLENEOXY) ACETIC ACID SODIUM SALT, LAURETH-13 CARBOXYLIC ACID, SODIUM SALT, PEG-13 LAURYL ETHER CARBOXYLIC ACID, SODIUM SALT, POLY(OXY-1,2-ETHANE...\n",
       "29                                                                                                                                                                                                        D&C RED 36 LAKE, D&C RED NO. 36 LAKE, and RED 36 LAKE\n",
       "4                                                                                                                                                                                  WASABIA JAPONICA (JAPANESE HORSERADISH) EXTRACT and WASABIA JAPONICA EXTRACT\n",
       "31                                                                                                                                                                                                                                     ACER RUBRUM BARK EXTRACT\n",
       "33                                                                                                                                                                                                            PICEA MARIANA ESSENTIAL OIL and PICEA MARIANA OIL\n",
       "1                                                BLADDERWRACK (FUCUS VESICULOSUS) EXTRACT, BLADDERWRACK EXTRACT, EXTRACT OF BLADDERWRACK, EXTRACT OF FUCUS VESICULOSUS, FUCUS EXTRACT, FUCUS VESICULOSUS EXTRACT, FUCUS VESICULOSUS, EXT., and SEAWEED ABSOLUTE\n",
       "5                                                                                                                                                                                                                                             TETRACOSENIC ACID\n",
       "26                                                                                                                                                                                                                                              POLYURETHANE-14\n",
       "22                                                                                                                                                              STREPTOCOCCUS THERMOPHILUS/CYCLOPIA INTERMEDIA LEAF/STEM EXTRACT/LACTOSE/WHOLE DRY MILK FERMENT\n",
       "14                                                                                                                                                                                                     BIS-DIVINYL DIMETHICONE/ PEG-10 DIMETHICONE CROSSPOLYMER\n",
       "21                                         EXTRACT OF GLYCINE SOJA GERM, EXTRACT OF SOY, EXTRACT OF SOY GERM, GLYCINE MAX GERM EXTRACT, GLYCINE SOJA (SOYBEAN) GERM EXTRACT, GLYCINE SOJA GERM EXTRACT, SOY EXTRACT, SOY GERM EXTRACT, and SOYBEAN GERM EXTRACT\n",
       "18                                                                                                                                                                                                                               MILK PROTEINS and MILK PROTEIN\n",
       "17                                                                                                                                                                                                     DVB/ISOBORNYL METHACRYLATE/LAURYL METHACRYLATE COPOLYMER\n",
       "11                                                                                                                                                                                                                                                C15-23 ALKANE\n",
       "13                                                                                                                                                                                                                                                    ALEURITES\n",
       "1                                                                                                                                                                                      CORNUS OFFICINALIS FRUIT EXTRACT and EXTRACT OF CORNUS OFFICINALIS FRUIT\n",
       "28                                                                                                                                                                                                     HYDROLYZED LUPINE PROTEIN and LUPINE PROTEIN HYDROLYSATE\n",
       "24                                                                                                                                                                                               EXTRACT OF HALOPTERIS SCOPARIA and HALOPTERIS SCOPARIA EXTRACT\n",
       "Name: chemical_synonyms, dtype: object"
      ]
     },
     "execution_count": 29,
     "metadata": {},
     "output_type": "execute_result"
    }
   ],
   "source": [
    "df['chemical_synonyms'].sample(40)"
   ]
  },
  {
   "cell_type": "markdown",
   "metadata": {},
   "source": [
    "# After looking at a bunch of entries, it looks like each ingredient is split by ',' OR \";\" OR \"and\".  (And sometimes, both.)\n",
    "# Also noticed a few instances of spaces where there shouldn't be (e.g. \"DIS ODIUM\" instead of \"DISODIUM\"), but we can't do much about that. \n",
    "# Also, some commas are included where they are part of the name of the chemical: \"1,2,3-PROPANETRIOL, 1,2,3-TRIHYDROXYPROPANE, 1,2,3PROPANETRIOL, ...\"\n",
    "Hopefully, we can do some fuzzy matching and catch any missing text\n",
    "We'll have to ignore any numbers"
   ]
  },
  {
   "cell_type": "code",
   "execution_count": 85,
   "metadata": {},
   "outputs": [
    {
     "data": {
      "text/plain": [
       "False"
      ]
     },
     "execution_count": 85,
     "metadata": {},
     "output_type": "execute_result"
    }
   ],
   "source": [
    "not \"1\".isdigit()"
   ]
  },
  {
   "cell_type": "code",
   "execution_count": 86,
   "metadata": {},
   "outputs": [],
   "source": [
    "def extract_synonymns_list(str1):\n",
    "#     print(str1)\n",
    "    if pd.isna(str1):\n",
    "        return []\n",
    "    \n",
    "    split_and_list = str1.split('and')\n",
    "    split_and_comma_list_in_list = [string.split(',') for string in split_and_list]\n",
    "    split_and_comma_semi_list_in_list = [item.strip().split(';') for sublist in split_and_comma_list_in_list for item in sublist]\n",
    "\n",
    "    intermediate_list = [item for sublist in split_and_comma_semi_list_in_list for item in sublist if item!='']\n",
    "   \n",
    "    # also need to filter out numbers in the ingredients due to odd splitting\n",
    "    \n",
    "    return [item for item in intermediate_list if not item.isdigit()]\n",
    "    "
   ]
  },
  {
   "cell_type": "code",
   "execution_count": 91,
   "metadata": {},
   "outputs": [],
   "source": [
    "str1 = 'PEG-75 MEADOWFOAM OIL, POLYETHYLENE GLYCOL 4000 MEADOWFOAM OIL, and POLYOXYETHYLENE (75) MEADOWFOAM OIL'\n",
    "str2 = 'PEG-75 MEADOWFOAM OIL, POLYETHYLENE GLYCOL 4000 MEADOWFOAM OIL and POLYOXYETHYLENE (75) MEADOWFOAM OIL'\n",
    "str3 = 'PEG-75 MEADOWFOAM OIL, POLYETHYLENE GLYCOL 4000 MEADOWFOAM OIL; and POLYOXYETHYLENE (75) MEADOWFOAM OIL'\n",
    "str4 = '1, 2, 3 SOMETHING OR OTHER, WATER'\n"
   ]
  },
  {
   "cell_type": "code",
   "execution_count": 92,
   "metadata": {},
   "outputs": [
    {
     "data": {
      "text/plain": [
       "['PEG-75 MEADOWFOAM OIL',\n",
       " 'POLYETHYLENE GLYCOL 4000 MEADOWFOAM OIL',\n",
       " 'POLYOXYETHYLENE (75) MEADOWFOAM OIL']"
      ]
     },
     "execution_count": 92,
     "metadata": {},
     "output_type": "execute_result"
    }
   ],
   "source": [
    "extract_synonymns_list(str1)"
   ]
  },
  {
   "cell_type": "code",
   "execution_count": 93,
   "metadata": {},
   "outputs": [
    {
     "data": {
      "text/plain": [
       "['PEG-75 MEADOWFOAM OIL',\n",
       " 'POLYETHYLENE GLYCOL 4000 MEADOWFOAM OIL',\n",
       " 'POLYOXYETHYLENE (75) MEADOWFOAM OIL']"
      ]
     },
     "execution_count": 93,
     "metadata": {},
     "output_type": "execute_result"
    }
   ],
   "source": [
    "extract_synonymns_list(str2)"
   ]
  },
  {
   "cell_type": "code",
   "execution_count": 94,
   "metadata": {},
   "outputs": [
    {
     "data": {
      "text/plain": [
       "['PEG-75 MEADOWFOAM OIL',\n",
       " 'POLYETHYLENE GLYCOL 4000 MEADOWFOAM OIL',\n",
       " 'POLYOXYETHYLENE (75) MEADOWFOAM OIL']"
      ]
     },
     "execution_count": 94,
     "metadata": {},
     "output_type": "execute_result"
    }
   ],
   "source": [
    "extract_synonymns_list(str3)"
   ]
  },
  {
   "cell_type": "code",
   "execution_count": 95,
   "metadata": {},
   "outputs": [
    {
     "data": {
      "text/plain": [
       "['3 SOMETHING OR OTHER', 'WATER']"
      ]
     },
     "execution_count": 95,
     "metadata": {},
     "output_type": "execute_result"
    }
   ],
   "source": [
    "extract_synonymns_list(str4)"
   ]
  },
  {
   "cell_type": "markdown",
   "metadata": {},
   "source": [
    "### Okay, that looks about right... \n",
    "I don't see any way out of iterating through the rows to deal with dupes.\n",
    "We'll make a new dataframe and append to that.\n",
    "I'm not going to bother including a value for the synonym'ed rows\n",
    "\n"
   ]
  },
  {
   "cell_type": "code",
   "execution_count": 96,
   "metadata": {},
   "outputs": [
    {
     "data": {
      "text/plain": [
       "['datetime_pulled',\n",
       " 'search_page_num',\n",
       " 'chemical_name',\n",
       " 'score_url',\n",
       " 'data_availability',\n",
       " 'chemical_concerns',\n",
       " 'chemical_functions',\n",
       " 'chemical_about',\n",
       " 'chemical_synonyms',\n",
       " 'min_score',\n",
       " 'max_score',\n",
       " 'mean_score',\n",
       " 'is_syn']"
      ]
     },
     "execution_count": 96,
     "metadata": {},
     "output_type": "execute_result"
    }
   ],
   "source": [
    "syn_col_names = list(df.columns)+['is_syn']\n",
    "syn_col_names"
   ]
  },
  {
   "cell_type": "code",
   "execution_count": null,
   "metadata": {},
   "outputs": [],
   "source": []
  },
  {
   "cell_type": "code",
   "execution_count": 97,
   "metadata": {},
   "outputs": [
    {
     "name": "stdout",
     "output_type": "stream",
     "text": [
      "2020-01-05 22:07:01.504249\n"
     ]
    }
   ],
   "source": [
    "print(datetime.now())"
   ]
  },
  {
   "cell_type": "code",
   "execution_count": 98,
   "metadata": {},
   "outputs": [],
   "source": [
    "df_test = df.head(20)"
   ]
  },
  {
   "cell_type": "code",
   "execution_count": null,
   "metadata": {},
   "outputs": [],
   "source": []
  },
  {
   "cell_type": "code",
   "execution_count": 99,
   "metadata": {},
   "outputs": [
    {
     "name": "stdout",
     "output_type": "stream",
     "text": [
      "2020-01-05 22:07:03.119859\n",
      "index: 0\n",
      "2020-01-05 22:07:07.984080\n"
     ]
    }
   ],
   "source": [
    "# OH man this is going to be SLOW AF\n",
    "df_wsyns = pd.DataFrame([],columns=syn_col_names)  # DataFrame WithSYNonymS\n",
    "print(datetime.now())\n",
    "\n",
    "for index, row in df_test.iterrows():\n",
    "    \n",
    "    if index%100==0:\n",
    "        print(f'index: {index}')\n",
    "    \n",
    "    syn_list = extract_synonymns_list(row[8])\n",
    "    \n",
    "    if syn_list!=[]:\n",
    "\n",
    "        # append the original\n",
    "        row['is_syn'] = False\n",
    "        df_wsyns = df_wsyns.append(row, ignore_index=True)\n",
    "    \n",
    "        for syn in syn_list:\n",
    "            row['chemical_name'] = syn\n",
    "            row['chemical_synonyms'] = np.nan\n",
    "            row['is_syn'] = True\n",
    "            df_wsyns = df_wsyns.append(row, ignore_index=True)\n",
    "\n",
    "    else:\n",
    "        row['is_syn'] = False\n",
    "        df_wsyns = df_wsyns.append(row, ignore_index=True)\n",
    "    \n",
    "print(datetime.now())\n",
    "df_wsyns.to_csv('dataframe_with_syns.csv', index=False)\n",
    "            "
   ]
  },
  {
   "cell_type": "code",
   "execution_count": 100,
   "metadata": {},
   "outputs": [
    {
     "data": {
      "text/html": [
       "<div>\n",
       "<style scoped>\n",
       "    .dataframe tbody tr th:only-of-type {\n",
       "        vertical-align: middle;\n",
       "    }\n",
       "\n",
       "    .dataframe tbody tr th {\n",
       "        vertical-align: top;\n",
       "    }\n",
       "\n",
       "    .dataframe thead th {\n",
       "        text-align: right;\n",
       "    }\n",
       "</style>\n",
       "<table border=\"1\" class=\"dataframe\">\n",
       "  <thead>\n",
       "    <tr style=\"text-align: right;\">\n",
       "      <th></th>\n",
       "      <th>datetime_pulled</th>\n",
       "      <th>search_page_num</th>\n",
       "      <th>chemical_name</th>\n",
       "      <th>score_url</th>\n",
       "      <th>data_availability</th>\n",
       "      <th>chemical_concerns</th>\n",
       "      <th>chemical_functions</th>\n",
       "      <th>chemical_about</th>\n",
       "      <th>chemical_synonyms</th>\n",
       "      <th>min_score</th>\n",
       "      <th>max_score</th>\n",
       "      <th>mean_score</th>\n",
       "      <th>is_syn</th>\n",
       "    </tr>\n",
       "  </thead>\n",
       "  <tbody>\n",
       "    <tr>\n",
       "      <th>0</th>\n",
       "      <td>2019-12-07 11:47:29.665736</td>\n",
       "      <td>1</td>\n",
       "      <td>WATER</td>\n",
       "      <td>https://www.ewg.org/skindeep/squircle/show.svg?score=1&amp;score_min=1</td>\n",
       "      <td>Data: Robust</td>\n",
       "      <td>NaN</td>\n",
       "      <td>solvent</td>\n",
       "      <td>NaN</td>\n",
       "      <td>AQUA, DEIONIZED WATER, DISTILLED WATER, ONSEN-SUI, PURIFIED WATER, and WATER</td>\n",
       "      <td>1</td>\n",
       "      <td>1</td>\n",
       "      <td>1.0</td>\n",
       "      <td>False</td>\n",
       "    </tr>\n",
       "    <tr>\n",
       "      <th>1</th>\n",
       "      <td>2019-12-07 11:47:29.665736</td>\n",
       "      <td>1</td>\n",
       "      <td>AQUA</td>\n",
       "      <td>https://www.ewg.org/skindeep/squircle/show.svg?score=1&amp;score_min=1</td>\n",
       "      <td>Data: Robust</td>\n",
       "      <td>NaN</td>\n",
       "      <td>solvent</td>\n",
       "      <td>NaN</td>\n",
       "      <td>NaN</td>\n",
       "      <td>1</td>\n",
       "      <td>1</td>\n",
       "      <td>1.0</td>\n",
       "      <td>True</td>\n",
       "    </tr>\n",
       "    <tr>\n",
       "      <th>2</th>\n",
       "      <td>2019-12-07 11:47:29.665736</td>\n",
       "      <td>1</td>\n",
       "      <td>DEIONIZED WATER</td>\n",
       "      <td>https://www.ewg.org/skindeep/squircle/show.svg?score=1&amp;score_min=1</td>\n",
       "      <td>Data: Robust</td>\n",
       "      <td>NaN</td>\n",
       "      <td>solvent</td>\n",
       "      <td>NaN</td>\n",
       "      <td>NaN</td>\n",
       "      <td>1</td>\n",
       "      <td>1</td>\n",
       "      <td>1.0</td>\n",
       "      <td>True</td>\n",
       "    </tr>\n",
       "    <tr>\n",
       "      <th>3</th>\n",
       "      <td>2019-12-07 11:47:29.665736</td>\n",
       "      <td>1</td>\n",
       "      <td>DISTILLED WATER</td>\n",
       "      <td>https://www.ewg.org/skindeep/squircle/show.svg?score=1&amp;score_min=1</td>\n",
       "      <td>Data: Robust</td>\n",
       "      <td>NaN</td>\n",
       "      <td>solvent</td>\n",
       "      <td>NaN</td>\n",
       "      <td>NaN</td>\n",
       "      <td>1</td>\n",
       "      <td>1</td>\n",
       "      <td>1.0</td>\n",
       "      <td>True</td>\n",
       "    </tr>\n",
       "    <tr>\n",
       "      <th>4</th>\n",
       "      <td>2019-12-07 11:47:29.665736</td>\n",
       "      <td>1</td>\n",
       "      <td>ONSEN-SUI</td>\n",
       "      <td>https://www.ewg.org/skindeep/squircle/show.svg?score=1&amp;score_min=1</td>\n",
       "      <td>Data: Robust</td>\n",
       "      <td>NaN</td>\n",
       "      <td>solvent</td>\n",
       "      <td>NaN</td>\n",
       "      <td>NaN</td>\n",
       "      <td>1</td>\n",
       "      <td>1</td>\n",
       "      <td>1.0</td>\n",
       "      <td>True</td>\n",
       "    </tr>\n",
       "    <tr>\n",
       "      <th>...</th>\n",
       "      <td>...</td>\n",
       "      <td>...</td>\n",
       "      <td>...</td>\n",
       "      <td>...</td>\n",
       "      <td>...</td>\n",
       "      <td>...</td>\n",
       "      <td>...</td>\n",
       "      <td>...</td>\n",
       "      <td>...</td>\n",
       "      <td>...</td>\n",
       "      <td>...</td>\n",
       "      <td>...</td>\n",
       "      <td>...</td>\n",
       "    </tr>\n",
       "    <tr>\n",
       "      <th>593</th>\n",
       "      <td>2019-12-07 11:51:48.394000</td>\n",
       "      <td>1</td>\n",
       "      <td>ESTER WITH 1</td>\n",
       "      <td>https://www.ewg.org/skindeep/squircle/show.svg?score=1&amp;score_min=1</td>\n",
       "      <td>Data: Limited</td>\n",
       "      <td>NaN</td>\n",
       "      <td>fragrance ingredient and skin-conditioning agent - occlusive</td>\n",
       "      <td>Caprylic/Capric Triglyceride is a mixed triester of glycerin and caprylic and capric acids.</td>\n",
       "      <td>NaN</td>\n",
       "      <td>1</td>\n",
       "      <td>1</td>\n",
       "      <td>1.0</td>\n",
       "      <td>True</td>\n",
       "    </tr>\n",
       "    <tr>\n",
       "      <th>594</th>\n",
       "      <td>2019-12-07 11:51:48.394000</td>\n",
       "      <td>1</td>\n",
       "      <td>3-PRPANETRIOL OCTANOATE DECANOIC ACID</td>\n",
       "      <td>https://www.ewg.org/skindeep/squircle/show.svg?score=1&amp;score_min=1</td>\n",
       "      <td>Data: Limited</td>\n",
       "      <td>NaN</td>\n",
       "      <td>fragrance ingredient and skin-conditioning agent - occlusive</td>\n",
       "      <td>Caprylic/Capric Triglyceride is a mixed triester of glycerin and caprylic and capric acids.</td>\n",
       "      <td>NaN</td>\n",
       "      <td>1</td>\n",
       "      <td>1</td>\n",
       "      <td>1.0</td>\n",
       "      <td>True</td>\n",
       "    </tr>\n",
       "    <tr>\n",
       "      <th>595</th>\n",
       "      <td>2019-12-07 11:51:48.394000</td>\n",
       "      <td>1</td>\n",
       "      <td>GLYCEROL CALRYLATE CAPRINATE</td>\n",
       "      <td>https://www.ewg.org/skindeep/squircle/show.svg?score=1&amp;score_min=1</td>\n",
       "      <td>Data: Limited</td>\n",
       "      <td>NaN</td>\n",
       "      <td>fragrance ingredient and skin-conditioning agent - occlusive</td>\n",
       "      <td>Caprylic/Capric Triglyceride is a mixed triester of glycerin and caprylic and capric acids.</td>\n",
       "      <td>NaN</td>\n",
       "      <td>1</td>\n",
       "      <td>1</td>\n",
       "      <td>1.0</td>\n",
       "      <td>True</td>\n",
       "    </tr>\n",
       "    <tr>\n",
       "      <th>596</th>\n",
       "      <td>2019-12-07 11:51:48.394000</td>\n",
       "      <td>1</td>\n",
       "      <td>GLYCEROL CAPRYLATE CAPRINATE</td>\n",
       "      <td>https://www.ewg.org/skindeep/squircle/show.svg?score=1&amp;score_min=1</td>\n",
       "      <td>Data: Limited</td>\n",
       "      <td>NaN</td>\n",
       "      <td>fragrance ingredient and skin-conditioning agent - occlusive</td>\n",
       "      <td>Caprylic/Capric Triglyceride is a mixed triester of glycerin and caprylic and capric acids.</td>\n",
       "      <td>NaN</td>\n",
       "      <td>1</td>\n",
       "      <td>1</td>\n",
       "      <td>1.0</td>\n",
       "      <td>True</td>\n",
       "    </tr>\n",
       "    <tr>\n",
       "      <th>597</th>\n",
       "      <td>2019-12-07 11:51:48.394000</td>\n",
       "      <td>1</td>\n",
       "      <td>OCTANOIC/DECANOIC ACID TRIGLYCERIDE</td>\n",
       "      <td>https://www.ewg.org/skindeep/squircle/show.svg?score=1&amp;score_min=1</td>\n",
       "      <td>Data: Limited</td>\n",
       "      <td>NaN</td>\n",
       "      <td>fragrance ingredient and skin-conditioning agent - occlusive</td>\n",
       "      <td>Caprylic/Capric Triglyceride is a mixed triester of glycerin and caprylic and capric acids.</td>\n",
       "      <td>NaN</td>\n",
       "      <td>1</td>\n",
       "      <td>1</td>\n",
       "      <td>1.0</td>\n",
       "      <td>True</td>\n",
       "    </tr>\n",
       "  </tbody>\n",
       "</table>\n",
       "<p>598 rows × 13 columns</p>\n",
       "</div>"
      ],
      "text/plain": [
       "                datetime_pulled search_page_num  \\\n",
       "0    2019-12-07 11:47:29.665736               1   \n",
       "1    2019-12-07 11:47:29.665736               1   \n",
       "2    2019-12-07 11:47:29.665736               1   \n",
       "3    2019-12-07 11:47:29.665736               1   \n",
       "4    2019-12-07 11:47:29.665736               1   \n",
       "..                          ...             ...   \n",
       "593  2019-12-07 11:51:48.394000               1   \n",
       "594  2019-12-07 11:51:48.394000               1   \n",
       "595  2019-12-07 11:51:48.394000               1   \n",
       "596  2019-12-07 11:51:48.394000               1   \n",
       "597  2019-12-07 11:51:48.394000               1   \n",
       "\n",
       "                             chemical_name  \\\n",
       "0                                    WATER   \n",
       "1                                     AQUA   \n",
       "2                          DEIONIZED WATER   \n",
       "3                          DISTILLED WATER   \n",
       "4                                ONSEN-SUI   \n",
       "..                                     ...   \n",
       "593                           ESTER WITH 1   \n",
       "594  3-PRPANETRIOL OCTANOATE DECANOIC ACID   \n",
       "595           GLYCEROL CALRYLATE CAPRINATE   \n",
       "596           GLYCEROL CAPRYLATE CAPRINATE   \n",
       "597    OCTANOIC/DECANOIC ACID TRIGLYCERIDE   \n",
       "\n",
       "                                                              score_url  \\\n",
       "0    https://www.ewg.org/skindeep/squircle/show.svg?score=1&score_min=1   \n",
       "1    https://www.ewg.org/skindeep/squircle/show.svg?score=1&score_min=1   \n",
       "2    https://www.ewg.org/skindeep/squircle/show.svg?score=1&score_min=1   \n",
       "3    https://www.ewg.org/skindeep/squircle/show.svg?score=1&score_min=1   \n",
       "4    https://www.ewg.org/skindeep/squircle/show.svg?score=1&score_min=1   \n",
       "..                                                                  ...   \n",
       "593  https://www.ewg.org/skindeep/squircle/show.svg?score=1&score_min=1   \n",
       "594  https://www.ewg.org/skindeep/squircle/show.svg?score=1&score_min=1   \n",
       "595  https://www.ewg.org/skindeep/squircle/show.svg?score=1&score_min=1   \n",
       "596  https://www.ewg.org/skindeep/squircle/show.svg?score=1&score_min=1   \n",
       "597  https://www.ewg.org/skindeep/squircle/show.svg?score=1&score_min=1   \n",
       "\n",
       "    data_availability chemical_concerns  \\\n",
       "0        Data: Robust               NaN   \n",
       "1        Data: Robust               NaN   \n",
       "2        Data: Robust               NaN   \n",
       "3        Data: Robust               NaN   \n",
       "4        Data: Robust               NaN   \n",
       "..                ...               ...   \n",
       "593     Data: Limited               NaN   \n",
       "594     Data: Limited               NaN   \n",
       "595     Data: Limited               NaN   \n",
       "596     Data: Limited               NaN   \n",
       "597     Data: Limited               NaN   \n",
       "\n",
       "                                               chemical_functions  \\\n",
       "0                                                         solvent   \n",
       "1                                                         solvent   \n",
       "2                                                         solvent   \n",
       "3                                                         solvent   \n",
       "4                                                         solvent   \n",
       "..                                                            ...   \n",
       "593  fragrance ingredient and skin-conditioning agent - occlusive   \n",
       "594  fragrance ingredient and skin-conditioning agent - occlusive   \n",
       "595  fragrance ingredient and skin-conditioning agent - occlusive   \n",
       "596  fragrance ingredient and skin-conditioning agent - occlusive   \n",
       "597  fragrance ingredient and skin-conditioning agent - occlusive   \n",
       "\n",
       "                                                                                  chemical_about  \\\n",
       "0                                                                                            NaN   \n",
       "1                                                                                            NaN   \n",
       "2                                                                                            NaN   \n",
       "3                                                                                            NaN   \n",
       "4                                                                                            NaN   \n",
       "..                                                                                           ...   \n",
       "593  Caprylic/Capric Triglyceride is a mixed triester of glycerin and caprylic and capric acids.   \n",
       "594  Caprylic/Capric Triglyceride is a mixed triester of glycerin and caprylic and capric acids.   \n",
       "595  Caprylic/Capric Triglyceride is a mixed triester of glycerin and caprylic and capric acids.   \n",
       "596  Caprylic/Capric Triglyceride is a mixed triester of glycerin and caprylic and capric acids.   \n",
       "597  Caprylic/Capric Triglyceride is a mixed triester of glycerin and caprylic and capric acids.   \n",
       "\n",
       "                                                                chemical_synonyms  \\\n",
       "0    AQUA, DEIONIZED WATER, DISTILLED WATER, ONSEN-SUI, PURIFIED WATER, and WATER   \n",
       "1                                                                             NaN   \n",
       "2                                                                             NaN   \n",
       "3                                                                             NaN   \n",
       "4                                                                             NaN   \n",
       "..                                                                            ...   \n",
       "593                                                                           NaN   \n",
       "594                                                                           NaN   \n",
       "595                                                                           NaN   \n",
       "596                                                                           NaN   \n",
       "597                                                                           NaN   \n",
       "\n",
       "    min_score max_score  mean_score is_syn  \n",
       "0           1         1         1.0  False  \n",
       "1           1         1         1.0   True  \n",
       "2           1         1         1.0   True  \n",
       "3           1         1         1.0   True  \n",
       "4           1         1         1.0   True  \n",
       "..        ...       ...         ...    ...  \n",
       "593         1         1         1.0   True  \n",
       "594         1         1         1.0   True  \n",
       "595         1         1         1.0   True  \n",
       "596         1         1         1.0   True  \n",
       "597         1         1         1.0   True  \n",
       "\n",
       "[598 rows x 13 columns]"
      ]
     },
     "execution_count": 100,
     "metadata": {},
     "output_type": "execute_result"
    }
   ],
   "source": [
    "df_wsyns"
   ]
  },
  {
   "cell_type": "code",
   "execution_count": 79,
   "metadata": {},
   "outputs": [
    {
     "data": {
      "text/plain": [
       "'/Volumes/ja2/vegan/vegan_parser/notebooks'"
      ]
     },
     "execution_count": 79,
     "metadata": {},
     "output_type": "execute_result"
    }
   ],
   "source": [
    "\n",
    "pwd"
   ]
  },
  {
   "cell_type": "code",
   "execution_count": null,
   "metadata": {},
   "outputs": [],
   "source": []
  },
  {
   "cell_type": "code",
   "execution_count": 72,
   "metadata": {},
   "outputs": [
    {
     "data": {
      "text/html": [
       "<div>\n",
       "<style scoped>\n",
       "    .dataframe tbody tr th:only-of-type {\n",
       "        vertical-align: middle;\n",
       "    }\n",
       "\n",
       "    .dataframe tbody tr th {\n",
       "        vertical-align: top;\n",
       "    }\n",
       "\n",
       "    .dataframe thead th {\n",
       "        text-align: right;\n",
       "    }\n",
       "</style>\n",
       "<table border=\"1\" class=\"dataframe\">\n",
       "  <thead>\n",
       "    <tr style=\"text-align: right;\">\n",
       "      <th></th>\n",
       "      <th>datetime_pulled</th>\n",
       "      <th>search_page_num</th>\n",
       "      <th>chemical_name</th>\n",
       "      <th>score_url</th>\n",
       "      <th>data_availability</th>\n",
       "      <th>chemical_concerns</th>\n",
       "      <th>chemical_functions</th>\n",
       "      <th>chemical_about</th>\n",
       "      <th>chemical_synonyms</th>\n",
       "      <th>min_score</th>\n",
       "      <th>max_score</th>\n",
       "      <th>mean_score</th>\n",
       "      <th>is_syn</th>\n",
       "    </tr>\n",
       "  </thead>\n",
       "  <tbody>\n",
       "    <tr>\n",
       "      <th>0</th>\n",
       "      <td>2019-12-07 11:51:48.394000</td>\n",
       "      <td>1</td>\n",
       "      <td>OCTANOIC/DECANOIC ACID TRIGLYCERIDE</td>\n",
       "      <td>https://www.ewg.org/skindeep/squircle/show.svg?score=1&amp;score_min=1</td>\n",
       "      <td>Data: Limited</td>\n",
       "      <td>NaN</td>\n",
       "      <td>fragrance ingredient and skin-conditioning agent - occlusive</td>\n",
       "      <td>Caprylic/Capric Triglyceride is a mixed triester of glycerin and caprylic and capric acids.</td>\n",
       "      <td>NaN</td>\n",
       "      <td>1</td>\n",
       "      <td>1</td>\n",
       "      <td>1.0</td>\n",
       "      <td>True</td>\n",
       "    </tr>\n",
       "  </tbody>\n",
       "</table>\n",
       "</div>"
      ],
      "text/plain": [
       "              datetime_pulled search_page_num  \\\n",
       "0  2019-12-07 11:51:48.394000               1   \n",
       "\n",
       "                         chemical_name  \\\n",
       "0  OCTANOIC/DECANOIC ACID TRIGLYCERIDE   \n",
       "\n",
       "                                                            score_url  \\\n",
       "0  https://www.ewg.org/skindeep/squircle/show.svg?score=1&score_min=1   \n",
       "\n",
       "  data_availability  chemical_concerns  \\\n",
       "0     Data: Limited                NaN   \n",
       "\n",
       "                                             chemical_functions  \\\n",
       "0  fragrance ingredient and skin-conditioning agent - occlusive   \n",
       "\n",
       "                                                                                chemical_about  \\\n",
       "0  Caprylic/Capric Triglyceride is a mixed triester of glycerin and caprylic and capric acids.   \n",
       "\n",
       "   chemical_synonyms min_score max_score  mean_score is_syn  \n",
       "0                NaN         1         1         1.0   True  "
      ]
     },
     "execution_count": 72,
     "metadata": {},
     "output_type": "execute_result"
    }
   ],
   "source": [
    "df_wsyns.append(row, ignore_index=True)"
   ]
  },
  {
   "cell_type": "code",
   "execution_count": 73,
   "metadata": {},
   "outputs": [
    {
     "data": {
      "text/html": [
       "<div>\n",
       "<style scoped>\n",
       "    .dataframe tbody tr th:only-of-type {\n",
       "        vertical-align: middle;\n",
       "    }\n",
       "\n",
       "    .dataframe tbody tr th {\n",
       "        vertical-align: top;\n",
       "    }\n",
       "\n",
       "    .dataframe thead th {\n",
       "        text-align: right;\n",
       "    }\n",
       "</style>\n",
       "<table border=\"1\" class=\"dataframe\">\n",
       "  <thead>\n",
       "    <tr style=\"text-align: right;\">\n",
       "      <th></th>\n",
       "      <th>datetime_pulled</th>\n",
       "      <th>search_page_num</th>\n",
       "      <th>chemical_name</th>\n",
       "      <th>score_url</th>\n",
       "      <th>data_availability</th>\n",
       "      <th>chemical_concerns</th>\n",
       "      <th>chemical_functions</th>\n",
       "      <th>chemical_about</th>\n",
       "      <th>chemical_synonyms</th>\n",
       "      <th>min_score</th>\n",
       "      <th>max_score</th>\n",
       "      <th>mean_score</th>\n",
       "      <th>is_syn</th>\n",
       "    </tr>\n",
       "  </thead>\n",
       "  <tbody>\n",
       "  </tbody>\n",
       "</table>\n",
       "</div>"
      ],
      "text/plain": [
       "Empty DataFrame\n",
       "Columns: [datetime_pulled, search_page_num, chemical_name, score_url, data_availability, chemical_concerns, chemical_functions, chemical_about, chemical_synonyms, min_score, max_score, mean_score, is_syn]\n",
       "Index: []"
      ]
     },
     "execution_count": 73,
     "metadata": {},
     "output_type": "execute_result"
    }
   ],
   "source": [
    "df_wsyns"
   ]
  },
  {
   "cell_type": "code",
   "execution_count": 170,
   "metadata": {},
   "outputs": [
    {
     "data": {
      "text/plain": [
       "datetime_pulled                                                         2019-12-07 11:47:29.665736\n",
       "search_page_num                                                                                  1\n",
       "chemical_name                                                                                WATER\n",
       "score_url                       https://www.ewg.org/skindeep/squircle/show.svg?score=1&score_min=1\n",
       "data_availability                                                                     Data: Robust\n",
       "chemical_concerns                                                                              NaN\n",
       "chemical_functions                                                                         solvent\n",
       "chemical_about                                                                                 NaN\n",
       "chemical_synonyms     AQUA, DEIONIZED WATER, DISTILLED WATER, ONSEN-SUI, PURIFIED WATER, and WATER\n",
       "min_score                                                                                        1\n",
       "max_score                                                                                        1\n",
       "mean_score                                                                                       1\n",
       "Name: 0, dtype: object"
      ]
     },
     "execution_count": 170,
     "metadata": {},
     "output_type": "execute_result"
    }
   ],
   "source": [
    "df.iloc[0,:]"
   ]
  },
  {
   "cell_type": "code",
   "execution_count": 178,
   "metadata": {},
   "outputs": [],
   "source": [
    "testrow = df.iloc[110,:]"
   ]
  },
  {
   "cell_type": "code",
   "execution_count": 182,
   "metadata": {},
   "outputs": [
    {
     "data": {
      "text/plain": [
       "datetime_pulled                                                                                                                                            2019-12-09 00:36:55.835887\n",
       "search_page_num                                                                                                                                                                   101\n",
       "chemical_name                                                                                                                                                        SODIUM BISULFATE\n",
       "score_url                                                                                                          https://www.ewg.org/skindeep/squircle/show.svg?score=1&score_min=1\n",
       "data_availability                                                                                                                                                          Data: Fair\n",
       "chemical_concerns                                                                                                                            Irritation (skin, eyes, or lungs) (high)\n",
       "chemical_functions                                                                                                                                          ph adjuster and buffering\n",
       "chemical_about                                                                                                                                 Sodium Bisulfate is an inorganic salt.\n",
       "chemical_synonyms     MONOBASIC SODIUM SULFATE, MONOSODIUM SALT SULFURIC ACID, SODIUM BISULFATE, SODIUM HYDROGEN SULFATE, SODIUM HYDROGENSULPHATE, and SULFURIC ACID, MONOSODIUM SALT\n",
       "min_score                                                                                                                                                                           1\n",
       "max_score                                                                                                                                                                           1\n",
       "mean_score                                                                                                                                                                          1\n",
       "Name: 2, dtype: object"
      ]
     },
     "execution_count": 182,
     "metadata": {},
     "output_type": "execute_result"
    }
   ],
   "source": [
    "testrow\n",
    "# we'll leave these the same, exept we'll change testrow['chemical_name'] = first chemical synonym  & testrow['chemical_synonyms'] = np.nan\n",
    "# and so on, for all the chemical synonyms"
   ]
  },
  {
   "cell_type": "code",
   "execution_count": 183,
   "metadata": {},
   "outputs": [
    {
     "data": {
      "text/plain": [
       "nan"
      ]
     },
     "execution_count": 183,
     "metadata": {},
     "output_type": "execute_result"
    }
   ],
   "source": []
  },
  {
   "cell_type": "code",
   "execution_count": null,
   "metadata": {},
   "outputs": [],
   "source": []
  },
  {
   "cell_type": "code",
   "execution_count": 121,
   "metadata": {},
   "outputs": [
    {
     "data": {
      "text/plain": [
       "['PEG-75 MEADOWFOAM OIL, POLYETHYLENE GLYCOL 4000 MEADOWFOAM OIL, ',\n",
       " ' POLYOXYETHYLENE (75) MEADOWFOAM OIL']"
      ]
     },
     "execution_count": 121,
     "metadata": {},
     "output_type": "execute_result"
    }
   ],
   "source": [
    "split_and_list = str1.split('and')\n",
    "split_and_list"
   ]
  },
  {
   "cell_type": "code",
   "execution_count": 123,
   "metadata": {},
   "outputs": [
    {
     "data": {
      "text/plain": [
       "[['PEG-75 MEADOWFOAM OIL', ' POLYETHYLENE GLYCOL 4000 MEADOWFOAM OIL', ' '],\n",
       " [' POLYOXYETHYLENE (75) MEADOWFOAM OIL']]"
      ]
     },
     "execution_count": 123,
     "metadata": {},
     "output_type": "execute_result"
    }
   ],
   "source": [
    "split_and_comma_list = [string.split(',') for string in split_and_list]\n",
    "split_and_comma_list"
   ]
  },
  {
   "cell_type": "code",
   "execution_count": 127,
   "metadata": {},
   "outputs": [
    {
     "data": {
      "text/plain": [
       "[['PEG-75 MEADOWFOAM OIL'],\n",
       " ['POLYETHYLENE GLYCOL 4000 MEADOWFOAM OIL'],\n",
       " [''],\n",
       " ['POLYOXYETHYLENE (75) MEADOWFOAM OIL']]"
      ]
     },
     "execution_count": 127,
     "metadata": {},
     "output_type": "execute_result"
    }
   ],
   "source": [
    "parsed_list_of_list = [item.strip().split(';') for sublist in split_and_comma_list for item in sublist]\n",
    "parsed_list_of_list"
   ]
  },
  {
   "cell_type": "code",
   "execution_count": 128,
   "metadata": {},
   "outputs": [
    {
     "data": {
      "text/plain": [
       "['PEG-75 MEADOWFOAM OIL',\n",
       " 'POLYETHYLENE GLYCOL 4000 MEADOWFOAM OIL',\n",
       " 'POLYOXYETHYLENE (75) MEADOWFOAM OIL']"
      ]
     },
     "execution_count": 128,
     "metadata": {},
     "output_type": "execute_result"
    }
   ],
   "source": [
    "[item for sublist in parsed_list_of_list for item in sublist if item!='']"
   ]
  },
  {
   "cell_type": "code",
   "execution_count": null,
   "metadata": {},
   "outputs": [],
   "source": [
    "#"
   ]
  }
 ],
 "metadata": {
  "kernelspec": {
   "display_name": "vegan_parser",
   "language": "python",
   "name": "vegan_parser"
  },
  "language_info": {
   "codemirror_mode": {
    "name": "ipython",
    "version": 3
   },
   "file_extension": ".py",
   "mimetype": "text/x-python",
   "name": "python",
   "nbconvert_exporter": "python",
   "pygments_lexer": "ipython3",
   "version": "3.7.4"
  }
 },
 "nbformat": 4,
 "nbformat_minor": 4
}
