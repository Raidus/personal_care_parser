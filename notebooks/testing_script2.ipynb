{
 "cells": [
  {
   "cell_type": "code",
   "execution_count": 1,
   "metadata": {},
   "outputs": [],
   "source": [
    "# continue with checking script, that it will pull info.\n",
    "# Create new categorization for petroleum, which will encompass all petroleum/oil-derived products\n"
   ]
  },
  {
   "cell_type": "code",
   "execution_count": 244,
   "metadata": {},
   "outputs": [
    {
     "data": {
      "text/plain": [
       "'/Volumes/ja2/vegan/vegan_parser'"
      ]
     },
     "execution_count": 244,
     "metadata": {},
     "output_type": "execute_result"
    }
   ],
   "source": [
    "pwd"
   ]
  },
  {
   "cell_type": "code",
   "execution_count": 3,
   "metadata": {},
   "outputs": [
    {
     "name": "stdout",
     "output_type": "stream",
     "text": [
      "/Volumes/ja2/vegan/vegan_parser\n"
     ]
    }
   ],
   "source": [
    "cd .."
   ]
  },
  {
   "cell_type": "code",
   "execution_count": 26,
   "metadata": {},
   "outputs": [],
   "source": [
    "from scipy.spatial.distance import cosine as cosine_distance"
   ]
  },
  {
   "cell_type": "code",
   "execution_count": 263,
   "metadata": {},
   "outputs": [],
   "source": [
    "import pickle\n",
    "from parsing import *  # only importing all for testing!  # text_only_main"
   ]
  },
  {
   "cell_type": "code",
   "execution_count": 95,
   "metadata": {},
   "outputs": [],
   "source": [
    "from flair.embeddings import BertEmbeddings\n",
    "from flair.embeddings import DocumentPoolEmbeddings\n",
    "\n",
    "# load embedding frameworks\n",
    "bert_embedding = BertEmbeddings(\"bert-base-uncased\")  # takes a long time to import!\n",
    "doc_embedding = DocumentPoolEmbeddings([bert_embedding], fine_tune_mode='nonlinear')\n",
    "\n"
   ]
  },
  {
   "cell_type": "code",
   "execution_count": 245,
   "metadata": {},
   "outputs": [],
   "source": [
    "# ingredient dictionary file\n",
    "ings_dict_fp = '/Volumes/ja2/vegan/vegan_parser/data_source/ingredient_dictionary.p'\n",
    "\n",
    "try:\n",
    "    ings_dict = pickle.load(open(ings_dict_fp, \"rb\"))\n",
    "except FileNotFoundError:\n",
    "    \"Ingredients data not found!\"\n"
   ]
  },
  {
   "cell_type": "code",
   "execution_count": 246,
   "metadata": {},
   "outputs": [],
   "source": [
    "# definitions embedddings file\n",
    "definitions_dict_fp = '/Volumes/ja2/vegan/vegan_parser/data_source/definition_vectors.p'\n",
    "\n",
    "try:\n",
    "    definitions_dict = pickle.load(open(definitions_dict_fp, \"rb\"))\n",
    "except FileNotFoundError:\n",
    "    print('Data not found!')"
   ]
  },
  {
   "cell_type": "code",
   "execution_count": 41,
   "metadata": {},
   "outputs": [],
   "source": [
    "ing = 'glycerin'"
   ]
  },
  {
   "cell_type": "code",
   "execution_count": 39,
   "metadata": {},
   "outputs": [
    {
     "name": "stderr",
     "output_type": "stream",
     "text": [
      "[autoreload of parsing failed: Traceback (most recent call last):\n",
      "  File \"/Users/emily/.local/share/virtualenvs/vegan_parser-ujjCMVkc/lib/python3.7/site-packages/IPython/extensions/autoreload.py\", line 245, in check\n",
      "    superreload(m, reload, self.old_objects)\n",
      "  File \"/Users/emily/.local/share/virtualenvs/vegan_parser-ujjCMVkc/lib/python3.7/site-packages/IPython/extensions/autoreload.py\", line 434, in superreload\n",
      "    module = reload(module)\n",
      "  File \"/Users/emily/.local/share/virtualenvs/vegan_parser-ujjCMVkc/lib/python3.7/imp.py\", line 314, in reload\n",
      "    return importlib.reload(module)\n",
      "  File \"/Users/emily/.local/share/virtualenvs/vegan_parser-ujjCMVkc/lib/python3.7/importlib/__init__.py\", line 169, in reload\n",
      "    _bootstrap._exec(spec, module)\n",
      "  File \"<frozen importlib._bootstrap>\", line 630, in _exec\n",
      "  File \"<frozen importlib._bootstrap_external>\", line 724, in exec_module\n",
      "  File \"<frozen importlib._bootstrap_external>\", line 860, in get_code\n",
      "  File \"<frozen importlib._bootstrap_external>\", line 791, in source_to_code\n",
      "  File \"<frozen importlib._bootstrap>\", line 219, in _call_with_frames_removed\n",
      "  File \"/Volumes/ja2/vegan/vegan_parser/parsing.py\", line 169\n",
      "    phrase = ings_dict[ing].get(['chemical_about'])\n",
      "         ^\n",
      "IndentationError: expected an indented block\n",
      "]\n"
     ]
    },
    {
     "data": {
      "text/plain": [
       "array([ 0.11312754, -0.04119314, -0.00609429, ..., -0.02175807,\n",
       "       -0.31495023,  0.17520998], dtype=float32)"
      ]
     },
     "execution_count": 39,
     "metadata": {},
     "output_type": "execute_result"
    }
   ],
   "source": [
    "ings_dict['glycerin'].get('ewg_vector')"
   ]
  },
  {
   "cell_type": "code",
   "execution_count": 42,
   "metadata": {},
   "outputs": [
    {
     "ename": "TypeError",
     "evalue": "unhashable type: 'list'",
     "output_type": "error",
     "traceback": [
      "\u001b[0;31m---------------------------------------------------------------------------\u001b[0m",
      "\u001b[0;31mTypeError\u001b[0m                                 Traceback (most recent call last)",
      "\u001b[0;32m<ipython-input-42-ac2b18bec74b>\u001b[0m in \u001b[0;36m<module>\u001b[0;34m\u001b[0m\n\u001b[0;32m----> 1\u001b[0;31m \u001b[0;32mif\u001b[0m \u001b[0mings_dict\u001b[0m\u001b[0;34m[\u001b[0m\u001b[0ming\u001b[0m\u001b[0;34m]\u001b[0m\u001b[0;34m.\u001b[0m\u001b[0mget\u001b[0m\u001b[0;34m(\u001b[0m\u001b[0;34m[\u001b[0m\u001b[0;34m'ewg_vector'\u001b[0m\u001b[0;34m]\u001b[0m\u001b[0;34m)\u001b[0m \u001b[0;32mis\u001b[0m \u001b[0;32mnot\u001b[0m \u001b[0;32mNone\u001b[0m\u001b[0;34m:\u001b[0m\u001b[0;34m\u001b[0m\u001b[0;34m\u001b[0m\u001b[0m\n\u001b[0m\u001b[1;32m      2\u001b[0m     \u001b[0mprint\u001b[0m\u001b[0;34m(\u001b[0m\u001b[0;34m'hi'\u001b[0m\u001b[0;34m)\u001b[0m\u001b[0;34m\u001b[0m\u001b[0;34m\u001b[0m\u001b[0m\n",
      "\u001b[0;31mTypeError\u001b[0m: unhashable type: 'list'"
     ]
    }
   ],
   "source": [
    "if ings_dict[ing].get('ewg_vector']) is not None:\n",
    "    print('hi')"
   ]
  },
  {
   "cell_type": "code",
   "execution_count": null,
   "metadata": {},
   "outputs": [],
   "source": [
    "ing_dict[ing].get()"
   ]
  },
  {
   "cell_type": "code",
   "execution_count": null,
   "metadata": {},
   "outputs": [],
   "source": []
  },
  {
   "cell_type": "code",
   "execution_count": 24,
   "metadata": {},
   "outputs": [
    {
     "data": {
      "text/plain": [
       "{'plant_document_vector': array([ 0.42165664, -0.03444572,  0.1117222 , ..., -0.02542319,\n",
       "         0.02556573, -0.27067873], dtype=float32),\n",
       " 'animal_document_vector': array([ 0.44963875, -0.04708562,  0.08392195, ..., -0.05316296,\n",
       "        -0.08842004, -0.28203654], dtype=float32),\n",
       " 'mineral_docuent_vector': array([ 0.43401414, -0.10809737,  0.04234871, ..., -0.0162626 ,\n",
       "        -0.05248479, -0.1796318 ], dtype=float32),\n",
       " 'petroleum_document_vector': array([ 0.02383276,  0.02746209, -0.12766024, ..., -0.12023513,\n",
       "         0.1273311 ,  0.04225999], dtype=float32)}"
      ]
     },
     "execution_count": 24,
     "metadata": {},
     "output_type": "execute_result"
    }
   ],
   "source": [
    "definitions_dict"
   ]
  },
  {
   "cell_type": "code",
   "execution_count": null,
   "metadata": {},
   "outputs": [],
   "source": []
  },
  {
   "cell_type": "code",
   "execution_count": 25,
   "metadata": {},
   "outputs": [],
   "source": [
    "# For now, we'll assign the label of the closest match.\n",
    "# This means these could be supremely wrong!!!"
   ]
  },
  {
   "cell_type": "code",
   "execution_count": 29,
   "metadata": {},
   "outputs": [
    {
     "data": {
      "text/plain": [
       "2.0"
      ]
     },
     "execution_count": 29,
     "metadata": {},
     "output_type": "execute_result"
    }
   ],
   "source": [
    "cosine_distance(np.array([10, -10, 100, 10]),\n",
    "               np.array([-10, 10, -100, -10]))"
   ]
  },
  {
   "cell_type": "code",
   "execution_count": 28,
   "metadata": {},
   "outputs": [
    {
     "data": {
      "text/plain": [
       "0.0"
      ]
     },
     "execution_count": 28,
     "metadata": {},
     "output_type": "execute_result"
    }
   ],
   "source": [
    "cosine_distance(np.array([10, 10, 100]),\n",
    "               np.array([10, 10, 100]))"
   ]
  },
  {
   "cell_type": "code",
   "execution_count": null,
   "metadata": {},
   "outputs": [],
   "source": [
    "# 0 if vectors are the same, 2 if vectors are opposite.\n",
    "# For a given ingredient, identify which cosine distance is smallest."
   ]
  },
  {
   "cell_type": "code",
   "execution_count": null,
   "metadata": {},
   "outputs": [],
   "source": []
  },
  {
   "cell_type": "code",
   "execution_count": 247,
   "metadata": {},
   "outputs": [],
   "source": [
    "# Using test string:\n",
    "test_str = ' water/aqua, aloe vera barbadensis leaf juice, cetearyl olivate, sorbitan olivate, \\\n",
    "glycerin, helianthus annuus (sunflower) seed oil, carthamus tinctorius (safflower) seed oil, \\\n",
    "glyceryl laurate, cocoglycerides, glyceryl stearate se, colloidal oatmeal,\\\n",
    "limnanthes alba (meadowfoam) seed oil. theobroma cacao (cocoa) seed butter, \\\n",
    "hippophae rhamnoides (seabuckthorn) seed oil, olea europaea  (olive) fruit oil, \\\n",
    "squalane, xanthan gum, tocopherol  sodium levulinate, potassium sorbate. 7 a sa'"
   ]
  },
  {
   "cell_type": "code",
   "execution_count": 107,
   "metadata": {},
   "outputs": [
    {
     "name": "stdout",
     "output_type": "stream",
     "text": [
      "cleaned_ings_list: ['aloe vera barbadensis leaf juice', 'cetearyl olivate', 'sorbitan olivate', 'glycerin', 'helianthus annuus (sunflower) seed oil', 'carthamus tinctorius (safflower) seed oil', 'glyceryl laurate', 'cocoglycerides', 'glyceryl stearate se', 'colloidal oatmeal', 'limnanthes alba (meadowfoam) seed oil', 'theobroma cacao (cocoa) seed butter', 'hippophae rhamnoides (seabuckthorn) seed oil', 'olea europaea (olive) fruit oil', 'squalane', 'xanthan gum', 'tocopherol sodium levulinate', 'potassium sorbate', '7 a sa']\n",
      "\n",
      "Working on ingredient: aloe vera barbadensis leaf juice\n",
      "Working on ingredient: cetearyl olivate\n",
      "[]\n",
      "WARNING: cetearyl olivate does not return a valid wiki page! Setting to None.\n",
      "Working on ingredient: sorbitan olivate\n",
      "[]\n",
      "WARNING: sorbitan olivate does not return a valid wiki page! Setting to None.\n",
      "Working on ingredient: glycerin\n",
      "Working on ingredient: helianthus annuus (sunflower) seed oil\n",
      "Working on ingredient: carthamus tinctorius (safflower) seed oil\n",
      "['Safflower', 'Gamma-Linolenic acid', 'Ditaxis heterantha', 'Asteraceae', 'Callosobruchus maculatus', 'Saffron', 'Natural dye', 'List of national capital city name etymologies', 'Nathan ben Abraham I']\n",
      "Working on ingredient: glyceryl laurate\n",
      "Working on ingredient: cocoglycerides\n",
      "[]\n",
      "WARNING: cocoglycerides does not return a valid wiki page! Setting to None.\n",
      "Working on ingredient: glyceryl stearate se\n",
      "Working on ingredient: colloidal oatmeal\n",
      "Working on ingredient: limnanthes alba (meadowfoam) seed oil\n",
      "Working on ingredient: theobroma cacao (cocoa) seed butter\n",
      "['Theobroma cacao', 'Cocoa bean', 'Chocolate', 'Cocoa', 'Theobroma grandiflorum', 'Theobromine', 'Dark chocolate', 'Chocolate industry in the Philippines', 'History of chocolate', 'Health effects of chocolate']\n",
      "Working on ingredient: hippophae rhamnoides (seabuckthorn) seed oil\n",
      "Working on ingredient: olea europaea (olive) fruit oil\n",
      "Working on ingredient: squalane\n",
      "Working on ingredient: xanthan gum\n",
      "Working on ingredient: tocopherol sodium levulinate\n",
      "Working on ingredient: potassium sorbate\n",
      "['Potassium sorbate', 'Sorbic acid', 'Sodium sorbate', 'Campden tablet', 'A.1. Sauce', 'Sodium benzoate', 'Sodium nitrite', 'Sunkist (soft drink)', 'Twizzlers', 'Sting Energy Drink']\n",
      "Working on ingredient: 7 a sa\n"
     ]
    }
   ],
   "source": [
    "cleaned_ings_list, ings_dict_list = text_only(test_str, ings_dict)"
   ]
  },
  {
   "cell_type": "code",
   "execution_count": null,
   "metadata": {},
   "outputs": [],
   "source": [
    "# There was some bug fixing here.\n"
   ]
  },
  {
   "cell_type": "code",
   "execution_count": null,
   "metadata": {},
   "outputs": [],
   "source": []
  },
  {
   "cell_type": "code",
   "execution_count": null,
   "metadata": {},
   "outputs": [],
   "source": [
    "# Okay... I think this is as cleaned up as I'm willing to deal with for now.\n",
    "# "
   ]
  },
  {
   "cell_type": "code",
   "execution_count": 108,
   "metadata": {},
   "outputs": [
    {
     "data": {
      "text/plain": [
       "[None,\n",
       " {'data_availability': 'Limited',\n",
       "  'chemical_concerns': 'Use restrictions (low)',\n",
       "  'chemical_functions': 'hair conditioning agent and hair conditioning',\n",
       "  'chemical_about': 'cetearyl olivate is composed of cetearyl alcohol and fatty acids derived from olive oil.',\n",
       "  'min_score': 1,\n",
       "  'max_score': 1,\n",
       "  'mean_score': 1.0,\n",
       "  'ewg_vector': array([-0.24202943, -0.12898481,  0.05937789, ...,  0.04131439,\n",
       "         -0.13133238,  0.15680204], dtype=float32),\n",
       "  'wiki_vector': None},\n",
       " {'data_availability': 'None',\n",
       "  'chemical_concerns': nan,\n",
       "  'chemical_functions': 'surfactant - emulsifying agent and emulsifying',\n",
       "  'chemical_about': 'sorbitan olivate is a surfactant based on olive oil and sorbitol.',\n",
       "  'min_score': 1,\n",
       "  'max_score': 1,\n",
       "  'mean_score': 1.0,\n",
       "  'ewg_vector': array([-0.11486603,  0.09641117, -0.3026547 , ...,  0.12410742,\n",
       "          0.07305592,  0.255868  ], dtype=float32),\n",
       "  'wiki_vector': None},\n",
       " {'data_availability': 'Good',\n",
       "  'chemical_concerns': 'Use restrictions (moderate)',\n",
       "  'chemical_functions': 'denaturant, fragrance ingredient, hair conditioning agent, humectant, oral care agent;oral health care drug, skin-conditioning agent - humectant, skin protectant, viscosity decreasing agent, perfuming, and solvent',\n",
       "  'chemical_about': \"glycerin (also called glycerol) is a naturally occurring alcohol compound and a component of many lipids. glycerin may be of animal or vegetable origin. this ingredient is listed in the peta's caring consumer guide as a byproduct of soap manufacture which typically uses animal fat.\",\n",
       "  'min_score': 1,\n",
       "  'max_score': 2,\n",
       "  'mean_score': 1.5,\n",
       "  'ewg_vector': array([ 0.11312754, -0.04119314, -0.00609429, ..., -0.02175807,\n",
       "         -0.31495023,  0.17520998], dtype=float32),\n",
       "  'wiki_vector': None},\n",
       " {'data_availability': 'Fair',\n",
       "  'chemical_concerns': nan,\n",
       "  'chemical_functions': 'skin-conditioning agent - miscellaneous, skin-conditioning agent - occlusive, and emollient',\n",
       "  'chemical_about': 'sunflower oil is extracted from the seeds of the sunflower, helianthus annuus.',\n",
       "  'min_score': 1,\n",
       "  'max_score': 1,\n",
       "  'mean_score': 1.0,\n",
       "  'ewg_vector': array([-0.03461527,  0.03688585, -0.28428826, ...,  0.17339337,\n",
       "          0.0298152 ,  0.31319347], dtype=float32),\n",
       "  'wiki_vector': None},\n",
       " {'data_availability': 'Fair',\n",
       "  'chemical_concerns': nan,\n",
       "  'chemical_functions': 'fragrance ingredient, skin-conditioning agent - occlusive, masking, and skin conditioning',\n",
       "  'chemical_about': 'safflower seed oil is obtained from the plant carthamus tinctorius; this ingredietn consists primarily of the triglycerides of linoleic acid.',\n",
       "  'min_score': 1,\n",
       "  'max_score': 1,\n",
       "  'mean_score': 1.0,\n",
       "  'ewg_vector': array([-0.08642299,  0.11119551, -0.33391163, ...,  0.18161775,\n",
       "          0.04681484,  0.24557565], dtype=float32),\n",
       "  'wiki_vector': array([ 0.37754777,  0.09053729,  0.24893075, ..., -0.21058889,\n",
       "         -0.0465758 , -0.1101446 ], dtype=float32)},\n",
       " {'data_availability': 'Limited',\n",
       "  'chemical_concerns': 'Enhanced skin absorption, Use restrictions (moderate), and Contamination concerns (high)',\n",
       "  'chemical_functions': 'skin-conditioning agent - emollient, surfactant - emulsifying agent, emollient, and emulsifying',\n",
       "  'chemical_about': 'glyceryl laurate is a monoester of glycerin and lauric acid.',\n",
       "  'min_score': 1,\n",
       "  'max_score': 3,\n",
       "  'mean_score': 2.0,\n",
       "  'ewg_vector': array([-0.11728396,  0.12138695, -0.43217745, ...,  0.17317645,\n",
       "         -0.11130054,  0.32389805], dtype=float32),\n",
       "  'wiki_vector': None},\n",
       " {'data_availability': 'None',\n",
       "  'chemical_concerns': nan,\n",
       "  'chemical_functions': 'skin-conditioning agent - emollient, emollient, emulsifying, and skin conditioning',\n",
       "  'chemical_about': 'cocoglycerides is a mixture of mono, di and triglycerides derived from coconut oil.',\n",
       "  'min_score': 1,\n",
       "  'max_score': 1,\n",
       "  'mean_score': 1.0,\n",
       "  'ewg_vector': array([-0.09079739,  0.09300967, -0.3170644 , ...,  0.17587511,\n",
       "         -0.04513873,  0.30860862], dtype=float32),\n",
       "  'wiki_vector': None},\n",
       " {'data_availability': 'Limited',\n",
       "  'chemical_concerns': nan,\n",
       "  'chemical_functions': 'surfactant - emulsifying agent and emulsifying',\n",
       "  'chemical_about': 'glyceryl stearate se (self-emulsifying) is a lipid used as surfactant and emulsifying agent.',\n",
       "  'min_score': 1,\n",
       "  'max_score': 1,\n",
       "  'mean_score': 1.0,\n",
       "  'ewg_vector': array([-0.04913396,  0.23998725, -0.39744613, ...,  0.15086761,\n",
       "         -0.02460883,  0.37635127], dtype=float32),\n",
       "  'wiki_vector': None},\n",
       " {'data_availability': 'Robust',\n",
       "  'chemical_concerns': nan,\n",
       "  'chemical_functions': 'abrasive, absorbent, bulking agent, skin protectant, bulking, and skin protecting',\n",
       "  'chemical_about': 'colloidal oatmeal is finely ground oatmeal.',\n",
       "  'min_score': 1,\n",
       "  'max_score': 1,\n",
       "  'mean_score': 1.0,\n",
       "  'ewg_vector': array([ 0.02131186, -0.01523963, -0.32530206, ...,  0.00209128,\n",
       "          0.00214805,  0.37837115], dtype=float32),\n",
       "  'wiki_vector': None},\n",
       " {'data_availability': 'Limited',\n",
       "  'chemical_concerns': nan,\n",
       "  'chemical_functions': 'skin-conditioning agent - occlusive, deodorant, and emollient',\n",
       "  'chemical_about': 'oil extracted from the seeds of the meadowfoam plant, limnanthes alba.',\n",
       "  'min_score': 1,\n",
       "  'max_score': 1,\n",
       "  'mean_score': 1.0,\n",
       "  'ewg_vector': array([ 0.03604814,  0.03055456, -0.32432958, ...,  0.19831163,\n",
       "         -0.00377641,  0.20073126], dtype=float32),\n",
       "  'wiki_vector': None},\n",
       " {'data_availability': 'Limited',\n",
       "  'chemical_concerns': nan,\n",
       "  'chemical_functions': 'fragrance ingredient, skin-conditioning agent - occlusive, skin protectant, emollient, masking, skin conditioning, and skin protecting',\n",
       "  'chemical_about': 'cocoa butter is extracted from the roasted seeds of theobroma cacao, a tree native to the americas.',\n",
       "  'min_score': 1,\n",
       "  'max_score': 1,\n",
       "  'mean_score': 1.0,\n",
       "  'ewg_vector': array([ 0.0268233 ,  0.07063577, -0.25438127, ...,  0.20279731,\n",
       "          0.0526951 ,  0.22054093], dtype=float32),\n",
       "  'wiki_vector': array([ 0.35346013,  0.07100017,  0.19105075, ..., -0.22129877,\n",
       "         -0.07560641, -0.11746781], dtype=float32)},\n",
       " None,\n",
       " {'data_availability': 'Fair',\n",
       "  'chemical_concerns': nan,\n",
       "  'chemical_functions': 'fragrance ingredient, skin-conditioning agent - occlusive, and perfuming',\n",
       "  'chemical_about': 'olive oil is extracted from the reipe fruit of olive tree, olea europaea.',\n",
       "  'min_score': 1,\n",
       "  'max_score': 1,\n",
       "  'mean_score': 1.0,\n",
       "  'ewg_vector': array([-0.01127945,  0.02282245, -0.23340821, ...,  0.14774302,\n",
       "         -0.01506328,  0.256834  ], dtype=float32),\n",
       "  'wiki_vector': None},\n",
       " {'data_availability': 'Limited',\n",
       "  'chemical_concerns': nan,\n",
       "  'chemical_functions': 'hair conditioning agent, skin-conditioning agent - occlusive, emollient, hair conditioning, refatting, and skin conditioning',\n",
       "  'chemical_about': \"squalane is a naturally occuring lipid in both plants and animals. this ingredient is listed in the peta's caring consumer guide as primarily derived from animals, especially shark liver oil.\",\n",
       "  'min_score': 1,\n",
       "  'max_score': 1,\n",
       "  'mean_score': 1.0,\n",
       "  'ewg_vector': array([-0.06197335,  0.0840513 , -0.2024289 , ...,  0.00806192,\n",
       "          0.01378899,  0.17287225], dtype=float32),\n",
       "  'wiki_vector': None},\n",
       " {'data_availability': 'Fair',\n",
       "  'chemical_concerns': nan,\n",
       "  'chemical_functions': 'binder, emulsion stabilizer, skin-conditioning agent - miscellaneous, surfactant -emulsifying agent, viscosity increasing agent - aqueous, binding, emulsifying, emulsion stabilising, gel forming, skin conditioning, surfactant, and viscosity controlling',\n",
       "  'chemical_about': 'xanthan gum is a polysaccharide, a sugar-based polymer produced by bacteria; it is used as a viscosity agent in personal care products and foods.',\n",
       "  'min_score': 1,\n",
       "  'max_score': 1,\n",
       "  'mean_score': 1.0,\n",
       "  'ewg_vector': array([-0.16681424,  0.18034369, -0.27587283, ...,  0.17058697,\n",
       "          0.09762073,  0.24223739], dtype=float32),\n",
       "  'wiki_vector': None},\n",
       " None,\n",
       " {'data_availability': 'Limited',\n",
       "  'chemical_concerns': 'Non-reproductive organ system toxicity (low)',\n",
       "  'chemical_functions': 'fragrance ingredient and preservative',\n",
       "  'chemical_about': 'potassium sorbate is a potassium salt of sorbic acid, a naturally occuringantimicrobial compound; used as a preservative',\n",
       "  'min_score': 3,\n",
       "  'max_score': 3,\n",
       "  'mean_score': 3.0,\n",
       "  'ewg_vector': array([-0.08710599,  0.14269969, -0.28060037, ...,  0.15538   ,\n",
       "         -0.02165867,  0.2612045 ], dtype=float32),\n",
       "  'wiki_vector': array([ 0.36319044,  0.13810776,  0.29757118, ..., -0.26213664,\n",
       "          0.0270202 , -0.18899433], dtype=float32)},\n",
       " None]"
      ]
     },
     "execution_count": 108,
     "metadata": {},
     "output_type": "execute_result"
    }
   ],
   "source": [
    "ings_dict_list"
   ]
  },
  {
   "cell_type": "code",
   "execution_count": null,
   "metadata": {},
   "outputs": [],
   "source": [
    "# Fix the typo i have in mineral_docuent_vector & re-save"
   ]
  },
  {
   "cell_type": "code",
   "execution_count": 110,
   "metadata": {},
   "outputs": [
    {
     "data": {
      "text/plain": [
       "{'plant_document_vector': array([ 0.42165664, -0.03444572,  0.1117222 , ..., -0.02542319,\n",
       "         0.02556573, -0.27067873], dtype=float32),\n",
       " 'animal_document_vector': array([ 0.44963875, -0.04708562,  0.08392195, ..., -0.05316296,\n",
       "        -0.08842004, -0.28203654], dtype=float32),\n",
       " 'mineral_docuent_vector': array([ 0.43401414, -0.10809737,  0.04234871, ..., -0.0162626 ,\n",
       "        -0.05248479, -0.1796318 ], dtype=float32),\n",
       " 'petroleum_document_vector': array([ 0.02383276,  0.02746209, -0.12766024, ..., -0.12023513,\n",
       "         0.1273311 ,  0.04225999], dtype=float32)}"
      ]
     },
     "execution_count": 110,
     "metadata": {},
     "output_type": "execute_result"
    }
   ],
   "source": [
    "definitions_dict"
   ]
  },
  {
   "cell_type": "code",
   "execution_count": 111,
   "metadata": {},
   "outputs": [],
   "source": [
    "definitions_dict['mineral_document_vector'] = definitions_dict['mineral_docuent_vector']"
   ]
  },
  {
   "cell_type": "code",
   "execution_count": 112,
   "metadata": {},
   "outputs": [],
   "source": [
    "del definitions_dict['mineral_docuent_vector']"
   ]
  },
  {
   "cell_type": "code",
   "execution_count": 113,
   "metadata": {},
   "outputs": [
    {
     "data": {
      "text/plain": [
       "{'plant_document_vector': array([ 0.42165664, -0.03444572,  0.1117222 , ..., -0.02542319,\n",
       "         0.02556573, -0.27067873], dtype=float32),\n",
       " 'animal_document_vector': array([ 0.44963875, -0.04708562,  0.08392195, ..., -0.05316296,\n",
       "        -0.08842004, -0.28203654], dtype=float32),\n",
       " 'petroleum_document_vector': array([ 0.02383276,  0.02746209, -0.12766024, ..., -0.12023513,\n",
       "         0.1273311 ,  0.04225999], dtype=float32),\n",
       " 'mineral_document_vector': array([ 0.43401414, -0.10809737,  0.04234871, ..., -0.0162626 ,\n",
       "        -0.05248479, -0.1796318 ], dtype=float32)}"
      ]
     },
     "execution_count": 113,
     "metadata": {},
     "output_type": "execute_result"
    }
   ],
   "source": [
    "definitions_dict"
   ]
  },
  {
   "cell_type": "code",
   "execution_count": 115,
   "metadata": {},
   "outputs": [],
   "source": [
    "# pickle.dump(definitions_dict, open('definition_vectors.p', 'wb'))"
   ]
  },
  {
   "cell_type": "code",
   "execution_count": null,
   "metadata": {},
   "outputs": [],
   "source": []
  },
  {
   "cell_type": "code",
   "execution_count": null,
   "metadata": {},
   "outputs": [],
   "source": []
  },
  {
   "cell_type": "code",
   "execution_count": null,
   "metadata": {},
   "outputs": [],
   "source": [
    "# Now, we need to go from one or two vectors to a similarity evaluation."
   ]
  },
  {
   "cell_type": "code",
   "execution_count": 116,
   "metadata": {},
   "outputs": [],
   "source": [
    "i = 1   # our example"
   ]
  },
  {
   "cell_type": "code",
   "execution_count": 118,
   "metadata": {},
   "outputs": [
    {
     "name": "stdout",
     "output_type": "stream",
     "text": [
      "cetearyl olivate\n",
      "\n",
      "{'data_availability': 'Limited', 'chemical_concerns': 'Use restrictions (low)', 'chemical_functions': 'hair conditioning agent and hair conditioning', 'chemical_about': 'cetearyl olivate is composed of cetearyl alcohol and fatty acids derived from olive oil.', 'min_score': 1, 'max_score': 1, 'mean_score': 1.0, 'ewg_vector': array([-0.24202943, -0.12898481,  0.05937789, ...,  0.04131439,\n",
      "       -0.13133238,  0.15680204], dtype=float32), 'wiki_vector': None}\n"
     ]
    }
   ],
   "source": [
    "print(cleaned_ings_list[1])\n",
    "print()\n",
    "print(ings_dict_list[1])"
   ]
  },
  {
   "cell_type": "code",
   "execution_count": null,
   "metadata": {},
   "outputs": [],
   "source": []
  },
  {
   "cell_type": "code",
   "execution_count": 125,
   "metadata": {},
   "outputs": [],
   "source": [
    "if (ings_dict_list[1].get('ewg_vector') is None) and (ings_dict_list[1].get('wiki_vector') is None):\n",
    "    print('hi')"
   ]
  },
  {
   "cell_type": "code",
   "execution_count": 121,
   "metadata": {},
   "outputs": [],
   "source": [
    "ings_dict_list[1].get('wiki_vector')"
   ]
  },
  {
   "cell_type": "code",
   "execution_count": 126,
   "metadata": {},
   "outputs": [
    {
     "name": "stdout",
     "output_type": "stream",
     "text": [
      "thing\n"
     ]
    }
   ],
   "source": [
    "if (ings_dict_list[1].get('wiki_vector') is None) and (ings_dict_list[1].get('ewg_vector') is not None):\n",
    "    print('thing')"
   ]
  },
  {
   "cell_type": "code",
   "execution_count": 122,
   "metadata": {},
   "outputs": [
    {
     "data": {
      "text/plain": [
       "False"
      ]
     },
     "execution_count": 122,
     "metadata": {},
     "output_type": "execute_result"
    }
   ],
   "source": [
    "([None, None])"
   ]
  },
  {
   "cell_type": "code",
   "execution_count": 136,
   "metadata": {},
   "outputs": [],
   "source": [
    "ing_entry = ings_dict_list[1]"
   ]
  },
  {
   "cell_type": "code",
   "execution_count": 137,
   "metadata": {},
   "outputs": [
    {
     "data": {
      "text/plain": [
       "{'data_availability': 'Limited',\n",
       " 'chemical_concerns': 'Use restrictions (low)',\n",
       " 'chemical_functions': 'hair conditioning agent and hair conditioning',\n",
       " 'chemical_about': 'cetearyl olivate is composed of cetearyl alcohol and fatty acids derived from olive oil.',\n",
       " 'min_score': 1,\n",
       " 'max_score': 1,\n",
       " 'mean_score': 1.0,\n",
       " 'ewg_vector': array([-0.24202943, -0.12898481,  0.05937789, ...,  0.04131439,\n",
       "        -0.13133238,  0.15680204], dtype=float32),\n",
       " 'wiki_vector': None}"
      ]
     },
     "execution_count": 137,
     "metadata": {},
     "output_type": "execute_result"
    }
   ],
   "source": [
    "ing_entry"
   ]
  },
  {
   "cell_type": "code",
   "execution_count": 129,
   "metadata": {},
   "outputs": [],
   "source": [
    "import numpy as np"
   ]
  },
  {
   "cell_type": "code",
   "execution_count": 131,
   "metadata": {},
   "outputs": [
    {
     "data": {
      "text/plain": [
       "array([  3.,  10., 150.])"
      ]
     },
     "execution_count": 131,
     "metadata": {},
     "output_type": "execute_result"
    }
   ],
   "source": [
    "np.mean(np.array([[2, 10, 100], [4, 10, 200]]), axis=0)"
   ]
  },
  {
   "cell_type": "code",
   "execution_count": 132,
   "metadata": {},
   "outputs": [
    {
     "data": {
      "text/plain": [
       "(3072,)"
      ]
     },
     "execution_count": 132,
     "metadata": {},
     "output_type": "execute_result"
    }
   ],
   "source": [
    "ings_dict_list[1].get('ewg_vector').shape"
   ]
  },
  {
   "cell_type": "code",
   "execution_count": 135,
   "metadata": {},
   "outputs": [
    {
     "data": {
      "text/plain": [
       "array([  3.,  10., 150.])"
      ]
     },
     "execution_count": 135,
     "metadata": {},
     "output_type": "execute_result"
    }
   ],
   "source": [
    "np.mean([[2, 10, 100], [4, 10, 200]], axis=0)"
   ]
  },
  {
   "cell_type": "code",
   "execution_count": 138,
   "metadata": {},
   "outputs": [],
   "source": [
    "if (ing_entry.get('wiki_vector') is None) and (ing_entry.get('ewg_vector') is not None):\n",
    "    vector = ing_entry.get('ewg_vector')\n",
    "elif (ing_entry.get('wiki_vector') is not None) and (ing_entry.get('ewg_vector') is None):\n",
    "    vector = ing_entry.get('wiki_vector')\n",
    "elif (ing_entry.get('wiki_vector') is not None) and (ing_entry.get('ewg_vector') is not None):\n",
    "    vector = np.mean(ing_entry.get('wiki_vectir'), ing_entry.get('ewg_vector'), axis=0)\n",
    "else:\n",
    "    vector = None"
   ]
  },
  {
   "cell_type": "code",
   "execution_count": 141,
   "metadata": {},
   "outputs": [
    {
     "data": {
      "text/plain": [
       "(3072,)"
      ]
     },
     "execution_count": 141,
     "metadata": {},
     "output_type": "execute_result"
    }
   ],
   "source": [
    "vector.shape"
   ]
  },
  {
   "cell_type": "code",
   "execution_count": 142,
   "metadata": {},
   "outputs": [
    {
     "data": {
      "text/plain": [
       "array([-0.24202943, -0.12898481,  0.05937789, ...,  0.04131439,\n",
       "       -0.13133238,  0.15680204], dtype=float32)"
      ]
     },
     "execution_count": 142,
     "metadata": {},
     "output_type": "execute_result"
    }
   ],
   "source": [
    "vector"
   ]
  },
  {
   "cell_type": "code",
   "execution_count": null,
   "metadata": {},
   "outputs": [],
   "source": [
    "# okay, so let's compare the cosine similarities with all the values...\n"
   ]
  },
  {
   "cell_type": "code",
   "execution_count": 151,
   "metadata": {},
   "outputs": [
    {
     "name": "stdout",
     "output_type": "stream",
     "text": [
      "plant_document_vector\n",
      "1.0067910980433226\n",
      "animal_document_vector\n",
      "1.0030499820131809\n",
      "petroleum_document_vector\n",
      "1.0207146909087896\n",
      "mineral_document_vector\n",
      "1.0004171206091996\n"
     ]
    }
   ],
   "source": [
    "# ack, so ugly but it works\n",
    "\n",
    "prev_min_key = None\n",
    "prev_min_distance = None\n",
    "\n",
    "for key in definitions_dict.keys():\n",
    "    print(key)\n",
    "    print(cosine_distance(definitions_dict[key], vector))\n",
    "    \n",
    "    if prev_min_key == None:\n",
    "        min_key = key\n",
    "        min_distance = cosine_distance(definitions_dict[key], vector)\n",
    "        prev_min_key = key\n",
    "        prev_min_distance = cosine_distance(definitions_dict[key], vector)\n",
    "\n",
    "    else:\n",
    "        if cosine_distance(definitions_dict[key], vector) < prev_min_distance:\n",
    "            min_key = key\n",
    "            min_dist = cosine_distance(definitions_dict[key], vector)\n",
    "            prev_min_distance = min_dist\n",
    "            prev_min_key = key\n",
    "\n",
    "        \n",
    "    \n",
    "        \n",
    "#     distance = cosine_distance(definitions_dict[key], vector)\n",
    "    \n",
    "    \n",
    "    "
   ]
  },
  {
   "cell_type": "code",
   "execution_count": 152,
   "metadata": {},
   "outputs": [
    {
     "data": {
      "text/plain": [
       "'mineral_document_vector'"
      ]
     },
     "execution_count": 152,
     "metadata": {},
     "output_type": "execute_result"
    }
   ],
   "source": [
    "min_key"
   ]
  },
  {
   "cell_type": "code",
   "execution_count": 153,
   "metadata": {},
   "outputs": [
    {
     "data": {
      "text/plain": [
       "'mineral_document_vector'"
      ]
     },
     "execution_count": 153,
     "metadata": {},
     "output_type": "execute_result"
    }
   ],
   "source": [
    "prev_min_key"
   ]
  },
  {
   "cell_type": "code",
   "execution_count": 144,
   "metadata": {},
   "outputs": [
    {
     "data": {
      "text/plain": [
       "1.0067910980433226"
      ]
     },
     "execution_count": 144,
     "metadata": {},
     "output_type": "execute_result"
    }
   ],
   "source": [
    "cosine_distance(definitions_dict['plant_document_vector'], vector)"
   ]
  },
  {
   "cell_type": "code",
   "execution_count": 145,
   "metadata": {},
   "outputs": [
    {
     "data": {
      "text/plain": [
       "1.0030499820131809"
      ]
     },
     "execution_count": 145,
     "metadata": {},
     "output_type": "execute_result"
    }
   ],
   "source": [
    "cosine_distance(definitions_dict['animal_document_vector'], vector)"
   ]
  },
  {
   "cell_type": "code",
   "execution_count": 146,
   "metadata": {},
   "outputs": [
    {
     "data": {
      "text/plain": [
       "1.0004171206091996"
      ]
     },
     "execution_count": 146,
     "metadata": {},
     "output_type": "execute_result"
    }
   ],
   "source": [
    "cosine_distance(definitions_dict['mineral_document_vector'], vector)"
   ]
  },
  {
   "cell_type": "code",
   "execution_count": 147,
   "metadata": {},
   "outputs": [
    {
     "data": {
      "text/plain": [
       "1.0207146909087896"
      ]
     },
     "execution_count": 147,
     "metadata": {},
     "output_type": "execute_result"
    }
   ],
   "source": [
    "cosine_distance(definitions_dict['petroleum_document_vector'], vector)"
   ]
  },
  {
   "cell_type": "code",
   "execution_count": null,
   "metadata": {},
   "outputs": [],
   "source": [
    "# WOw...this...is a failure. Safflower oil should be a plant. WTF.\n",
    "# Going by the smallest being most similar -- it would evaluate to animal."
   ]
  },
  {
   "cell_type": "code",
   "execution_count": null,
   "metadata": {},
   "outputs": [],
   "source": [
    "# Okay, so even if this is totally wrong, I'm going to keep going...\n",
    "# The biggest thing is that I get some measure of what the ingredient is...\n",
    "# But I'm not confident enough to bother recording this."
   ]
  },
  {
   "cell_type": "code",
   "execution_count": null,
   "metadata": {},
   "outputs": [],
   "source": [
    "# I think I'm done, let's try again..."
   ]
  },
  {
   "cell_type": "code",
   "execution_count": null,
   "metadata": {},
   "outputs": [],
   "source": []
  },
  {
   "cell_type": "code",
   "execution_count": 155,
   "metadata": {},
   "outputs": [],
   "source": [
    "# Using test string:\n",
    "test_str = ' water/aqua, aloe vera barbadensis leaf juice, cetearyl olivate, sorbitan olivate, \\\n",
    "glycerin, helianthus annuus (sunflower) seed oil, carthamus tinctorius (safflower) seed oil, \\\n",
    "glyceryl laurate, cocoglycerides, glyceryl stearate se, colloidal oatmeal,\\\n",
    "limnanthes alba (meadowfoam) seed oil. theobroma cacao (cocoa) seed butter, \\\n",
    "hippophae rhamnoides (seabuckthorn) seed oil, olea europaea  (olive) fruit oil, \\\n",
    "squalane, xanthan gum, tocopherol  sodium levulinate, potassium sorbate. 7 a sa'"
   ]
  },
  {
   "cell_type": "code",
   "execution_count": 159,
   "metadata": {},
   "outputs": [
    {
     "name": "stdout",
     "output_type": "stream",
     "text": [
      "cleaned_ings_list: ['aloe vera barbadensis leaf juice', 'cetearyl olivate', 'sorbitan olivate', 'glycerin', 'helianthus annuus (sunflower) seed oil', 'carthamus tinctorius (safflower) seed oil', 'glyceryl laurate', 'cocoglycerides', 'glyceryl stearate se', 'colloidal oatmeal', 'limnanthes alba (meadowfoam) seed oil', 'theobroma cacao (cocoa) seed butter', 'hippophae rhamnoides (seabuckthorn) seed oil', 'olea europaea (olive) fruit oil', 'squalane', 'xanthan gum', 'tocopherol sodium levulinate', 'potassium sorbate', '7 a sa']\n",
      "\n",
      "Working on ingredient: aloe vera barbadensis leaf juice\n",
      "Working on ingredient: cetearyl olivate\n",
      "[]\n",
      "WARNING: cetearyl olivate does not return a valid wiki page! Setting to None.\n",
      "plant_document_vector\n",
      "1.0067910980433226\n",
      "animal_document_vector\n",
      "1.0030499820131809\n",
      "petroleum_document_vector\n",
      "1.0207146909087896\n",
      "mineral_document_vector\n",
      "1.0004171206091996\n",
      "Working on ingredient: sorbitan olivate\n",
      "[]\n",
      "WARNING: sorbitan olivate does not return a valid wiki page! Setting to None.\n",
      "plant_document_vector\n",
      "0.9995803291967604\n",
      "animal_document_vector\n",
      "0.9994856141856872\n",
      "petroleum_document_vector\n",
      "1.0307102892547846\n",
      "mineral_document_vector\n",
      "1.0011053978232667\n",
      "Working on ingredient: glycerin\n",
      "plant_document_vector\n",
      "0.9976872634142637\n",
      "animal_document_vector\n",
      "0.9974561813287437\n",
      "petroleum_document_vector\n",
      "1.0032719809096307\n",
      "mineral_document_vector\n",
      "1.0001104018083424\n",
      "Working on ingredient: helianthus annuus (sunflower) seed oil\n",
      "['Sunflower oil', 'Helianthus annuus', 'Sunflower seed', 'Perennial sunflower', 'Baby oil', 'Sunflower (disambiguation)', 'Asteraceae', 'Helianthus anomalus', 'Oil body', 'Asteroideae']\n",
      "plant_document_vector\n",
      "1.0072129629552364\n",
      "animal_document_vector\n",
      "1.0091572077944875\n",
      "petroleum_document_vector\n",
      "1.01252971123904\n",
      "mineral_document_vector\n",
      "1.0116319404914975\n",
      "Working on ingredient: carthamus tinctorius (safflower) seed oil\n",
      "plant_document_vector\n",
      "1.0103414850309491\n",
      "animal_document_vector\n",
      "1.0104590095579624\n",
      "petroleum_document_vector\n",
      "1.036763284355402\n",
      "mineral_document_vector\n",
      "1.011860566213727\n",
      "Working on ingredient: glyceryl laurate\n",
      "['Monolaurin', 'Lauric acid', 'List of additives in cigarettes']\n",
      "plant_document_vector\n",
      "0.9955780492164195\n",
      "animal_document_vector\n",
      "1.0013791295932606\n",
      "petroleum_document_vector\n",
      "1.0026962431147695\n",
      "mineral_document_vector\n",
      "1.0011785058304667\n",
      "Working on ingredient: cocoglycerides\n",
      "[]\n",
      "WARNING: cocoglycerides does not return a valid wiki page! Setting to None.\n",
      "plant_document_vector\n",
      "1.0072087766602635\n",
      "animal_document_vector\n",
      "1.0069658043794334\n",
      "petroleum_document_vector\n",
      "1.0290560219436884\n",
      "mineral_document_vector\n",
      "1.006650387775153\n",
      "Working on ingredient: glyceryl stearate se\n",
      "['Lypsyl']\n",
      "plant_document_vector\n",
      "1.0097562232986093\n",
      "animal_document_vector\n",
      "1.0112083526328206\n",
      "petroleum_document_vector\n",
      "1.010961014777422\n",
      "mineral_document_vector\n",
      "1.013014605268836\n",
      "Working on ingredient: colloidal oatmeal\n",
      "['Avenanthramide', 'Shampoo', 'Natural skin care', 'Urushiol-induced contact dermatitis', 'Guar gum', 'Tofu', 'Glyphosate']\n",
      "plant_document_vector\n",
      "1.0040629403665662\n",
      "animal_document_vector\n",
      "1.006793363019824\n",
      "petroleum_document_vector\n",
      "0.9972141929902136\n",
      "mineral_document_vector\n",
      "1.0093345120549202\n",
      "Working on ingredient: limnanthes alba (meadowfoam) seed oil\n",
      "['Meadowfoam seed oil', 'Limnanthes alba', 'Limnanthes floccosa', 'Limnanthaceae']\n",
      "plant_document_vector\n",
      "1.0158802438527346\n",
      "animal_document_vector\n",
      "1.017716659232974\n",
      "petroleum_document_vector\n",
      "1.0164586007595062\n",
      "mineral_document_vector\n",
      "1.01989602483809\n",
      "Working on ingredient: theobroma cacao (cocoa) seed butter\n",
      "plant_document_vector\n",
      "1.004668414592743\n",
      "animal_document_vector\n",
      "1.0042247376404703\n",
      "petroleum_document_vector\n",
      "1.0277802664786577\n",
      "mineral_document_vector\n",
      "1.005199066363275\n",
      "Working on ingredient: hippophae rhamnoides (seabuckthorn) seed oil\n",
      "Working on ingredient: olea europaea (olive) fruit oil\n",
      "['Olive oil', 'Olive', 'Olive leaf', 'Manzanilla olive', 'List of olive cultivars', 'International Nomenclature of Cosmetic Ingredients', 'Cailletier', 'Patrinia olive', 'Olive fruit fly', 'Ascolano (olive)']\n",
      "plant_document_vector\n",
      "1.0092325489968061\n",
      "animal_document_vector\n",
      "1.0101104592904449\n",
      "petroleum_document_vector\n",
      "1.010429361835122\n",
      "mineral_document_vector\n",
      "1.0126745337620378\n",
      "Working on ingredient: squalane\n",
      "['Squalane', 'Squalene', 'C30H62', 'Alkanindiges illinoisensis', 'Terpenoid', 'Terpene', 'Natural rubber', 'Monoterpene', 'Saponin', 'Carotenoid']\n",
      "plant_document_vector\n",
      "0.9981450201012194\n",
      "animal_document_vector\n",
      "0.999288673105184\n",
      "petroleum_document_vector\n",
      "1.0130321932956576\n",
      "mineral_document_vector\n",
      "1.001873467117548\n",
      "Working on ingredient: xanthan gum\n",
      "['Xanthan gum', 'Guar gum', 'Natural gum', 'Stabiliser (food)', 'A.1. Sauce', 'Polysaccharide', 'Parodontax toothpaste', \"Trappey's Hot Sauce\", 'Leavening agent', 'Egg Beaters']\n",
      "plant_document_vector\n",
      "1.0006779305404052\n",
      "animal_document_vector\n",
      "1.0040104617364705\n",
      "petroleum_document_vector\n",
      "1.011897318996489\n",
      "mineral_document_vector\n",
      "1.0040531367994845\n",
      "Working on ingredient: tocopherol sodium levulinate\n",
      "Working on ingredient: potassium sorbate\n",
      "plant_document_vector\n",
      "1.005675733089447\n",
      "animal_document_vector\n",
      "1.006590428762138\n",
      "petroleum_document_vector\n",
      "1.03798196464777\n",
      "mineral_document_vector\n",
      "1.0062301084399223\n",
      "Working on ingredient: 7 a sa\n"
     ]
    }
   ],
   "source": [
    "cleaned_ings_list, ings_dict_list = text_only_main(test_str, ings_dict, definitions_dict)"
   ]
  },
  {
   "cell_type": "code",
   "execution_count": 162,
   "metadata": {
    "collapsed": true,
    "jupyter": {
     "outputs_hidden": true
    }
   },
   "outputs": [
    {
     "data": {
      "text/plain": [
       "[('aloe vera barbadensis leaf juice', None),\n",
       " ('cetearyl olivate',\n",
       "  {'data_availability': 'Limited',\n",
       "   'chemical_concerns': 'Use restrictions (low)',\n",
       "   'chemical_functions': 'hair conditioning agent and hair conditioning',\n",
       "   'chemical_about': 'cetearyl olivate is composed of cetearyl alcohol and fatty acids derived from olive oil.',\n",
       "   'min_score': 1,\n",
       "   'max_score': 1,\n",
       "   'mean_score': 1.0,\n",
       "   'ewg_vector': array([-0.24202943, -0.12898481,  0.05937789, ...,  0.04131439,\n",
       "          -0.13133238,  0.15680204], dtype=float32),\n",
       "   'wiki_vector': None,\n",
       "   'type': 'mineral'}),\n",
       " ('sorbitan olivate',\n",
       "  {'data_availability': 'None',\n",
       "   'chemical_concerns': nan,\n",
       "   'chemical_functions': 'surfactant - emulsifying agent and emulsifying',\n",
       "   'chemical_about': 'sorbitan olivate is a surfactant based on olive oil and sorbitol.',\n",
       "   'min_score': 1,\n",
       "   'max_score': 1,\n",
       "   'mean_score': 1.0,\n",
       "   'ewg_vector': array([-0.11486603,  0.09641117, -0.3026547 , ...,  0.12410742,\n",
       "           0.07305592,  0.255868  ], dtype=float32),\n",
       "   'wiki_vector': None,\n",
       "   'type': 'animal'}),\n",
       " ('glycerin',\n",
       "  {'data_availability': 'Good',\n",
       "   'chemical_concerns': 'Use restrictions (moderate)',\n",
       "   'chemical_functions': 'denaturant, fragrance ingredient, hair conditioning agent, humectant, oral care agent;oral health care drug, skin-conditioning agent - humectant, skin protectant, viscosity decreasing agent, perfuming, and solvent',\n",
       "   'chemical_about': \"glycerin (also called glycerol) is a naturally occurring alcohol compound and a component of many lipids. glycerin may be of animal or vegetable origin. this ingredient is listed in the peta's caring consumer guide as a byproduct of soap manufacture which typically uses animal fat.\",\n",
       "   'min_score': 1,\n",
       "   'max_score': 2,\n",
       "   'mean_score': 1.5,\n",
       "   'ewg_vector': array([ 0.11312754, -0.04119314, -0.00609429, ..., -0.02175807,\n",
       "          -0.31495023,  0.17520998], dtype=float32),\n",
       "   'wiki_vector': None,\n",
       "   'type': 'animal'}),\n",
       " ('helianthus annuus (sunflower) seed oil',\n",
       "  {'data_availability': 'Fair',\n",
       "   'chemical_concerns': nan,\n",
       "   'chemical_functions': 'skin-conditioning agent - miscellaneous, skin-conditioning agent - occlusive, and emollient',\n",
       "   'chemical_about': 'sunflower oil is extracted from the seeds of the sunflower, helianthus annuus.',\n",
       "   'min_score': 1,\n",
       "   'max_score': 1,\n",
       "   'mean_score': 1.0,\n",
       "   'ewg_vector': array([-0.03461527,  0.03688585, -0.28428826, ...,  0.17339337,\n",
       "           0.0298152 ,  0.31319347], dtype=float32),\n",
       "   'wiki_vector': array([ 0.14929363, -0.01216559, -0.14566344, ..., -0.02191145,\n",
       "           0.0273955 , -0.00598374], dtype=float32),\n",
       "   'type': 'plant'}),\n",
       " ('carthamus tinctorius (safflower) seed oil',\n",
       "  {'data_availability': 'Fair',\n",
       "   'chemical_concerns': nan,\n",
       "   'chemical_functions': 'fragrance ingredient, skin-conditioning agent - occlusive, masking, and skin conditioning',\n",
       "   'chemical_about': 'safflower seed oil is obtained from the plant carthamus tinctorius; this ingredietn consists primarily of the triglycerides of linoleic acid.',\n",
       "   'min_score': 1,\n",
       "   'max_score': 1,\n",
       "   'mean_score': 1.0,\n",
       "   'ewg_vector': array([-0.08642299,  0.11119551, -0.33391163, ...,  0.18161775,\n",
       "           0.04681484,  0.24557565], dtype=float32),\n",
       "   'wiki_vector': None,\n",
       "   'type': 'plant'}),\n",
       " ('glyceryl laurate',\n",
       "  {'data_availability': 'Limited',\n",
       "   'chemical_concerns': 'Enhanced skin absorption, Use restrictions (moderate), and Contamination concerns (high)',\n",
       "   'chemical_functions': 'skin-conditioning agent - emollient, surfactant - emulsifying agent, emollient, and emulsifying',\n",
       "   'chemical_about': 'glyceryl laurate is a monoester of glycerin and lauric acid.',\n",
       "   'min_score': 1,\n",
       "   'max_score': 3,\n",
       "   'mean_score': 2.0,\n",
       "   'ewg_vector': array([-0.11728396,  0.12138695, -0.43217745, ...,  0.17317645,\n",
       "          -0.11130054,  0.32389805], dtype=float32),\n",
       "   'wiki_vector': array([ 0.10848632,  0.09731477, -0.1538657 , ..., -0.02296725,\n",
       "           0.11090575, -0.00065999], dtype=float32),\n",
       "   'type': 'plant'}),\n",
       " ('cocoglycerides',\n",
       "  {'data_availability': 'None',\n",
       "   'chemical_concerns': nan,\n",
       "   'chemical_functions': 'skin-conditioning agent - emollient, emollient, emulsifying, and skin conditioning',\n",
       "   'chemical_about': 'cocoglycerides is a mixture of mono, di and triglycerides derived from coconut oil.',\n",
       "   'min_score': 1,\n",
       "   'max_score': 1,\n",
       "   'mean_score': 1.0,\n",
       "   'ewg_vector': array([-0.09079739,  0.09300967, -0.3170644 , ...,  0.17587511,\n",
       "          -0.04513873,  0.30860862], dtype=float32),\n",
       "   'wiki_vector': None,\n",
       "   'type': 'mineral'}),\n",
       " ('glyceryl stearate se',\n",
       "  {'data_availability': 'Limited',\n",
       "   'chemical_concerns': nan,\n",
       "   'chemical_functions': 'surfactant - emulsifying agent and emulsifying',\n",
       "   'chemical_about': 'glyceryl stearate se (self-emulsifying) is a lipid used as surfactant and emulsifying agent.',\n",
       "   'min_score': 1,\n",
       "   'max_score': 1,\n",
       "   'mean_score': 1.0,\n",
       "   'ewg_vector': array([-0.04913396,  0.23998725, -0.39744613, ...,  0.15086761,\n",
       "          -0.02460883,  0.37635127], dtype=float32),\n",
       "   'wiki_vector': array([ 0.07292138,  0.05366694, -0.18153937, ...,  0.02609817,\n",
       "           0.12354611,  0.08535351], dtype=float32),\n",
       "   'type': 'plant'}),\n",
       " ('colloidal oatmeal',\n",
       "  {'data_availability': 'Robust',\n",
       "   'chemical_concerns': nan,\n",
       "   'chemical_functions': 'abrasive, absorbent, bulking agent, skin protectant, bulking, and skin protecting',\n",
       "   'chemical_about': 'colloidal oatmeal is finely ground oatmeal.',\n",
       "   'min_score': 1,\n",
       "   'max_score': 1,\n",
       "   'mean_score': 1.0,\n",
       "   'ewg_vector': array([ 0.02131186, -0.01523963, -0.32530206, ...,  0.00209128,\n",
       "           0.00214805,  0.37837115], dtype=float32),\n",
       "   'wiki_vector': array([ 0.13895823,  0.03475958, -0.18822564, ...,  0.03372373,\n",
       "           0.05171909,  0.01769409], dtype=float32),\n",
       "   'type': 'petroleum'}),\n",
       " ('limnanthes alba (meadowfoam) seed oil',\n",
       "  {'data_availability': 'Limited',\n",
       "   'chemical_concerns': nan,\n",
       "   'chemical_functions': 'skin-conditioning agent - occlusive, deodorant, and emollient',\n",
       "   'chemical_about': 'oil extracted from the seeds of the meadowfoam plant, limnanthes alba.',\n",
       "   'min_score': 1,\n",
       "   'max_score': 1,\n",
       "   'mean_score': 1.0,\n",
       "   'ewg_vector': array([ 0.03604814,  0.03055456, -0.32432958, ...,  0.19831163,\n",
       "          -0.00377641,  0.20073126], dtype=float32),\n",
       "   'wiki_vector': array([ 0.02156021,  0.00857101, -0.17723297, ..., -0.03909972,\n",
       "           0.09726331,  0.06337737], dtype=float32),\n",
       "   'type': 'plant'}),\n",
       " ('theobroma cacao (cocoa) seed butter',\n",
       "  {'data_availability': 'Limited',\n",
       "   'chemical_concerns': nan,\n",
       "   'chemical_functions': 'fragrance ingredient, skin-conditioning agent - occlusive, skin protectant, emollient, masking, skin conditioning, and skin protecting',\n",
       "   'chemical_about': 'cocoa butter is extracted from the roasted seeds of theobroma cacao, a tree native to the americas.',\n",
       "   'min_score': 1,\n",
       "   'max_score': 1,\n",
       "   'mean_score': 1.0,\n",
       "   'ewg_vector': array([ 0.0268233 ,  0.07063577, -0.25438127, ...,  0.20279731,\n",
       "           0.0526951 ,  0.22054093], dtype=float32),\n",
       "   'wiki_vector': None,\n",
       "   'type': 'animal'}),\n",
       " ('hippophae rhamnoides (seabuckthorn) seed oil', None),\n",
       " ('olea europaea (olive) fruit oil',\n",
       "  {'data_availability': 'Fair',\n",
       "   'chemical_concerns': nan,\n",
       "   'chemical_functions': 'fragrance ingredient, skin-conditioning agent - occlusive, and perfuming',\n",
       "   'chemical_about': 'olive oil is extracted from the reipe fruit of olive tree, olea europaea.',\n",
       "   'min_score': 1,\n",
       "   'max_score': 1,\n",
       "   'mean_score': 1.0,\n",
       "   'ewg_vector': array([-0.01127945,  0.02282245, -0.23340821, ...,  0.14774302,\n",
       "          -0.01506328,  0.256834  ], dtype=float32),\n",
       "   'wiki_vector': array([ 0.13665634,  0.01420417, -0.16551328, ..., -0.0712069 ,\n",
       "           0.02597843, -0.03735807], dtype=float32),\n",
       "   'type': 'plant'}),\n",
       " ('squalane',\n",
       "  {'data_availability': 'Limited',\n",
       "   'chemical_concerns': nan,\n",
       "   'chemical_functions': 'hair conditioning agent, skin-conditioning agent - occlusive, emollient, hair conditioning, refatting, and skin conditioning',\n",
       "   'chemical_about': \"squalane is a naturally occuring lipid in both plants and animals. this ingredient is listed in the peta's caring consumer guide as primarily derived from animals, especially shark liver oil.\",\n",
       "   'min_score': 1,\n",
       "   'max_score': 1,\n",
       "   'mean_score': 1.0,\n",
       "   'ewg_vector': array([-0.06197335,  0.0840513 , -0.2024289 , ...,  0.00806192,\n",
       "           0.01378899,  0.17287225], dtype=float32),\n",
       "   'wiki_vector': array([ 0.05378182,  0.01050604, -0.22479776, ..., -0.09713899,\n",
       "           0.13668908,  0.11456531], dtype=float32),\n",
       "   'type': 'plant'}),\n",
       " ('xanthan gum',\n",
       "  {'data_availability': 'Fair',\n",
       "   'chemical_concerns': nan,\n",
       "   'chemical_functions': 'binder, emulsion stabilizer, skin-conditioning agent - miscellaneous, surfactant -emulsifying agent, viscosity increasing agent - aqueous, binding, emulsifying, emulsion stabilising, gel forming, skin conditioning, surfactant, and viscosity controlling',\n",
       "   'chemical_about': 'xanthan gum is a polysaccharide, a sugar-based polymer produced by bacteria; it is used as a viscosity agent in personal care products and foods.',\n",
       "   'min_score': 1,\n",
       "   'max_score': 1,\n",
       "   'mean_score': 1.0,\n",
       "   'ewg_vector': array([-0.16681424,  0.18034369, -0.27587283, ...,  0.17058697,\n",
       "           0.09762073,  0.24223739], dtype=float32),\n",
       "   'wiki_vector': array([ 0.09242726, -0.02241075, -0.18481496, ..., -0.01219616,\n",
       "           0.05537261,  0.0339293 ], dtype=float32),\n",
       "   'type': 'plant'}),\n",
       " ('tocopherol sodium levulinate', None),\n",
       " ('potassium sorbate',\n",
       "  {'data_availability': 'Limited',\n",
       "   'chemical_concerns': 'Non-reproductive organ system toxicity (low)',\n",
       "   'chemical_functions': 'fragrance ingredient and preservative',\n",
       "   'chemical_about': 'potassium sorbate is a potassium salt of sorbic acid, a naturally occuringantimicrobial compound; used as a preservative',\n",
       "   'min_score': 3,\n",
       "   'max_score': 3,\n",
       "   'mean_score': 3.0,\n",
       "   'ewg_vector': array([-0.08710599,  0.14269969, -0.28060037, ...,  0.15538   ,\n",
       "          -0.02165867,  0.2612045 ], dtype=float32),\n",
       "   'wiki_vector': None,\n",
       "   'type': 'plant'}),\n",
       " ('7 a sa', None)]"
      ]
     },
     "execution_count": 162,
     "metadata": {},
     "output_type": "execute_result"
    }
   ],
   "source": [
    "list(zip(cleaned_ings_list, ings_dict_list))"
   ]
  },
  {
   "cell_type": "code",
   "execution_count": 228,
   "metadata": {},
   "outputs": [
    {
     "data": {
      "text/plain": [
       "['aloe vera barbadensis leaf juice',\n",
       " 'cetearyl olivate',\n",
       " 'sorbitan olivate',\n",
       " 'glycerin',\n",
       " 'helianthus annuus (sunflower) seed oil',\n",
       " 'carthamus tinctorius (safflower) seed oil',\n",
       " 'glyceryl laurate',\n",
       " 'cocoglycerides',\n",
       " 'glyceryl stearate se',\n",
       " 'colloidal oatmeal',\n",
       " 'limnanthes alba (meadowfoam) seed oil',\n",
       " 'theobroma cacao (cocoa) seed butter',\n",
       " 'hippophae rhamnoides (seabuckthorn) seed oil',\n",
       " 'olea europaea (olive) fruit oil',\n",
       " 'squalane',\n",
       " 'xanthan gum',\n",
       " 'tocopherol sodium levulinate',\n",
       " 'potassium sorbate',\n",
       " '7 a sa']"
      ]
     },
     "execution_count": 228,
     "metadata": {},
     "output_type": "execute_result"
    }
   ],
   "source": [
    "cleaned_ings_list"
   ]
  },
  {
   "cell_type": "code",
   "execution_count": 239,
   "metadata": {},
   "outputs": [
    {
     "name": "stdout",
     "output_type": "stream",
     "text": [
      "Ingredients Detected:\n",
      "\taloe vera barbadensis leaf juice\n",
      "\tcetearyl olivate\n",
      "\tsorbitan olivate\n",
      "\tglycerin\n",
      "\thelianthus annuus (sunflower) seed oil\n",
      "\tcarthamus tinctorius (safflower) seed oil\n",
      "\tglyceryl laurate\n",
      "\tcocoglycerides\n",
      "\tglyceryl stearate se\n",
      "\tcolloidal oatmeal\n",
      "\tlimnanthes alba (meadowfoam) seed oil\n",
      "\ttheobroma cacao (cocoa) seed butter\n",
      "\thippophae rhamnoides (seabuckthorn) seed oil\n",
      "\tolea europaea (olive) fruit oil\n",
      "\tsqualane\n",
      "\txanthan gum\n",
      "\ttocopherol sodium levulinate\n",
      "\tpotassium sorbate\n",
      "\t7 a sa\n"
     ]
    }
   ],
   "source": [
    "ings_detected_str = \"\\n\\t\".join(cleaned_ings_list)\n",
    "print(f'Ingredients Detected:')\n",
    "print(f'\\t{ings_detected_str}')"
   ]
  },
  {
   "cell_type": "code",
   "execution_count": 163,
   "metadata": {},
   "outputs": [
    {
     "name": "stderr",
     "output_type": "stream",
     "text": [
      "[autoreload of parsing failed: Traceback (most recent call last):\n",
      "  File \"/Users/emily/.local/share/virtualenvs/vegan_parser-ujjCMVkc/lib/python3.7/site-packages/IPython/extensions/autoreload.py\", line 245, in check\n",
      "    superreload(m, reload, self.old_objects)\n",
      "  File \"/Users/emily/.local/share/virtualenvs/vegan_parser-ujjCMVkc/lib/python3.7/site-packages/IPython/extensions/autoreload.py\", line 434, in superreload\n",
      "    module = reload(module)\n",
      "  File \"/Users/emily/.local/share/virtualenvs/vegan_parser-ujjCMVkc/lib/python3.7/imp.py\", line 314, in reload\n",
      "    return importlib.reload(module)\n",
      "  File \"/Users/emily/.local/share/virtualenvs/vegan_parser-ujjCMVkc/lib/python3.7/importlib/__init__.py\", line 169, in reload\n",
      "    _bootstrap._exec(spec, module)\n",
      "  File \"<frozen importlib._bootstrap>\", line 630, in _exec\n",
      "  File \"<frozen importlib._bootstrap_external>\", line 724, in exec_module\n",
      "  File \"<frozen importlib._bootstrap_external>\", line 860, in get_code\n",
      "  File \"<frozen importlib._bootstrap_external>\", line 791, in source_to_code\n",
      "  File \"<frozen importlib._bootstrap>\", line 219, in _call_with_frames_removed\n",
      "  File \"/Volumes/ja2/vegan/vegan_parser/parsing.py\", line 271\n",
      "    print(f\"Info found for {} of {len()} detected ingredients.\")\n",
      "         ^\n",
      "SyntaxError: f-string: empty expression not allowed\n",
      "]\n"
     ]
    },
    {
     "data": {
      "text/plain": [
       "19"
      ]
     },
     "execution_count": 163,
     "metadata": {},
     "output_type": "execute_result"
    }
   ],
   "source": [
    "len(ings_dict_list)"
   ]
  },
  {
   "cell_type": "code",
   "execution_count": 180,
   "metadata": {},
   "outputs": [],
   "source": [
    "none_count = 0\n",
    "for entry in ings_dict_list:\n",
    "    if entry is not None:\n",
    "#         print(entry)\n",
    "        none_count+=1\n",
    "        "
   ]
  },
  {
   "cell_type": "code",
   "execution_count": 182,
   "metadata": {},
   "outputs": [
    {
     "data": {
      "text/plain": [
       "15"
      ]
     },
     "execution_count": 182,
     "metadata": {},
     "output_type": "execute_result"
    }
   ],
   "source": [
    "none_count"
   ]
  },
  {
   "cell_type": "code",
   "execution_count": 175,
   "metadata": {},
   "outputs": [
    {
     "ename": "TypeError",
     "evalue": "unsupported operand type(s) for +: 'int' and 'NoneType'",
     "output_type": "error",
     "traceback": [
      "\u001b[0;31m---------------------------------------------------------------------------\u001b[0m",
      "\u001b[0;31mTypeError\u001b[0m                                 Traceback (most recent call last)",
      "\u001b[0;32m<ipython-input-175-1b31c0ac8027>\u001b[0m in \u001b[0;36m<module>\u001b[0;34m\u001b[0m\n\u001b[1;32m      1\u001b[0m \u001b[0mi\u001b[0m\u001b[0;34m=\u001b[0m\u001b[0;36m0\u001b[0m\u001b[0;34m\u001b[0m\u001b[0;34m\u001b[0m\u001b[0m\n\u001b[0;32m----> 2\u001b[0;31m \u001b[0msum\u001b[0m\u001b[0;34m(\u001b[0m\u001b[0;34m[\u001b[0m\u001b[0mentry\u001b[0m \u001b[0;32mfor\u001b[0m \u001b[0mentry\u001b[0m \u001b[0;32min\u001b[0m \u001b[0mings_dict_list\u001b[0m \u001b[0;32mif\u001b[0m \u001b[0mentry\u001b[0m \u001b[0;32mis\u001b[0m \u001b[0;32mNone\u001b[0m\u001b[0;34m]\u001b[0m\u001b[0;34m)\u001b[0m\u001b[0;34m\u001b[0m\u001b[0;34m\u001b[0m\u001b[0m\n\u001b[0m",
      "\u001b[0;31mTypeError\u001b[0m: unsupported operand type(s) for +: 'int' and 'NoneType'"
     ]
    }
   ],
   "source": [
    "i=0\n",
    "sum([entry for entry in ings_dict_list if entry is None])"
   ]
  },
  {
   "cell_type": "code",
   "execution_count": 173,
   "metadata": {},
   "outputs": [
    {
     "data": {
      "text/plain": [
       "6"
      ]
     },
     "execution_count": 173,
     "metadata": {},
     "output_type": "execute_result"
    }
   ],
   "source": [
    "sum([1,2,3])"
   ]
  },
  {
   "cell_type": "code",
   "execution_count": 183,
   "metadata": {},
   "outputs": [],
   "source": [
    "detected_indices = []\n",
    "for ind, entry in enumerate(ings_dict_list):\n",
    "    if entry is not None:\n",
    "        detected_indices.append(ind)"
   ]
  },
  {
   "cell_type": "code",
   "execution_count": 184,
   "metadata": {},
   "outputs": [
    {
     "data": {
      "text/plain": [
       "[1, 2, 3, 4, 5, 6, 7, 8, 9, 10, 11, 13, 14, 15, 17]"
      ]
     },
     "execution_count": 184,
     "metadata": {},
     "output_type": "execute_result"
    }
   ],
   "source": [
    "detected_indices # so missing a few..."
   ]
  },
  {
   "cell_type": "code",
   "execution_count": 187,
   "metadata": {},
   "outputs": [],
   "source": [
    "detected_ings_dict_list = [ ings_dict_list[detected_index] for detected_index in detected_indices]"
   ]
  },
  {
   "cell_type": "code",
   "execution_count": 189,
   "metadata": {},
   "outputs": [
    {
     "data": {
      "text/plain": [
       "{'data_availability': 'Limited',\n",
       " 'chemical_concerns': 'Use restrictions (low)',\n",
       " 'chemical_functions': 'hair conditioning agent and hair conditioning',\n",
       " 'chemical_about': 'cetearyl olivate is composed of cetearyl alcohol and fatty acids derived from olive oil.',\n",
       " 'min_score': 1,\n",
       " 'max_score': 1,\n",
       " 'mean_score': 1.0,\n",
       " 'ewg_vector': array([-0.24202943, -0.12898481,  0.05937789, ...,  0.04131439,\n",
       "        -0.13133238,  0.15680204], dtype=float32),\n",
       " 'wiki_vector': None,\n",
       " 'type': 'mineral'}"
      ]
     },
     "execution_count": 189,
     "metadata": {},
     "output_type": "execute_result"
    }
   ],
   "source": [
    "detected_ings_dict_list[0]"
   ]
  },
  {
   "cell_type": "code",
   "execution_count": 188,
   "metadata": {},
   "outputs": [],
   "source": [
    "# So now, we need to find the weighing factor to determine proportion."
   ]
  },
  {
   "cell_type": "code",
   "execution_count": 196,
   "metadata": {},
   "outputs": [],
   "source": [
    "raw_counts = [len(detected_ings_dict_list) - i for i, ing in enumerate(detected_ings_dict_list)]\n",
    "    \n",
    "total_counts = sum(raw_counts)\n",
    "ing_fractions = np.array(raw_counts)/total_counts"
   ]
  },
  {
   "cell_type": "code",
   "execution_count": 240,
   "metadata": {},
   "outputs": [
    {
     "data": {
      "text/plain": [
       "array([0.125     , 0.11666667, 0.10833333, 0.1       , 0.09166667,\n",
       "       0.08333333, 0.075     , 0.06666667, 0.05833333, 0.05      ,\n",
       "       0.04166667, 0.03333333, 0.025     , 0.01666667, 0.00833333])"
      ]
     },
     "execution_count": 240,
     "metadata": {},
     "output_type": "execute_result"
    }
   ],
   "source": [
    "np.array(raw_counts) / sum(raw_counts)"
   ]
  },
  {
   "cell_type": "code",
   "execution_count": 197,
   "metadata": {},
   "outputs": [
    {
     "data": {
      "text/plain": [
       "array([0.125     , 0.11666667, 0.10833333, 0.1       , 0.09166667,\n",
       "       0.08333333, 0.075     , 0.06666667, 0.05833333, 0.05      ,\n",
       "       0.04166667, 0.03333333, 0.025     , 0.01666667, 0.00833333])"
      ]
     },
     "execution_count": 197,
     "metadata": {},
     "output_type": "execute_result"
    }
   ],
   "source": [
    "ing_fractions"
   ]
  },
  {
   "cell_type": "code",
   "execution_count": 194,
   "metadata": {},
   "outputs": [],
   "source": [
    "import matplotlib.pyplot as plt\n",
    "%notebook inline"
   ]
  },
  {
   "cell_type": "code",
   "execution_count": null,
   "metadata": {},
   "outputs": [],
   "source": [
    "\n",
    "plt.plot(ing_fractions)  # linear, as we would expect.\n",
    "plt.title('Decreasing proportion of ingredients')\n"
   ]
  },
  {
   "cell_type": "code",
   "execution_count": 205,
   "metadata": {},
   "outputs": [
    {
     "data": {
      "text/plain": [
       "[(0.125, 'mineral', 1.0),\n",
       " (0.11666666666666667, 'animal', 1.0),\n",
       " (0.10833333333333334, 'animal', 1.5),\n",
       " (0.1, 'plant', 1.0),\n",
       " (0.09166666666666666, 'plant', 1.0),\n",
       " (0.08333333333333333, 'plant', 2.0),\n",
       " (0.075, 'mineral', 1.0),\n",
       " (0.06666666666666667, 'plant', 1.0),\n",
       " (0.058333333333333334, 'petroleum', 1.0),\n",
       " (0.05, 'plant', 1.0),\n",
       " (0.041666666666666664, 'animal', 1.0),\n",
       " (0.03333333333333333, 'plant', 1.0),\n",
       " (0.025, 'plant', 1.0),\n",
       " (0.016666666666666666, 'plant', 1.0),\n",
       " (0.008333333333333333, 'plant', 3.0)]"
      ]
     },
     "execution_count": 205,
     "metadata": {},
     "output_type": "execute_result"
    }
   ],
   "source": [
    "list(zip(ing_fractions, [d['type'] for d in detected_ings_dict_list],[d['mean_score'] for d in detected_ings_dict_list]))"
   ]
  },
  {
   "cell_type": "code",
   "execution_count": 206,
   "metadata": {},
   "outputs": [],
   "source": [
    "substance_weights = list(zip(ing_fractions, [d['type'] for d in detected_ings_dict_list]))\n",
    "                "
   ]
  },
  {
   "cell_type": "code",
   "execution_count": 208,
   "metadata": {},
   "outputs": [
    {
     "data": {
      "text/plain": [
       "[(0.125, 'mineral'),\n",
       " (0.11666666666666667, 'animal'),\n",
       " (0.10833333333333334, 'animal'),\n",
       " (0.1, 'plant'),\n",
       " (0.09166666666666666, 'plant'),\n",
       " (0.08333333333333333, 'plant'),\n",
       " (0.075, 'mineral'),\n",
       " (0.06666666666666667, 'plant'),\n",
       " (0.058333333333333334, 'petroleum'),\n",
       " (0.05, 'plant'),\n",
       " (0.041666666666666664, 'animal'),\n",
       " (0.03333333333333333, 'plant'),\n",
       " (0.025, 'plant'),\n",
       " (0.016666666666666666, 'plant'),\n",
       " (0.008333333333333333, 'plant')]"
      ]
     },
     "execution_count": 208,
     "metadata": {},
     "output_type": "execute_result"
    }
   ],
   "source": [
    "substance_weights"
   ]
  },
  {
   "cell_type": "code",
   "execution_count": 212,
   "metadata": {},
   "outputs": [],
   "source": [
    "# Calculate fractions from each subtance contributing to the final item. Should sum to ~1.\n",
    "mi = 0\n",
    "pl = 0\n",
    "pe = 0\n",
    "an = 0\n",
    "\n",
    "for item in substance_weights:\n",
    "    if item[1].startswith('mi'):\n",
    "        mi+=item[0]\n",
    "    elif item[1].startswith('pl'):\n",
    "        pl+=item[0]\n",
    "    elif item[1].startswith('pe'):\n",
    "        pe+=item[0]\n",
    "    else:\n",
    "        an+=item[0]"
   ]
  },
  {
   "cell_type": "code",
   "execution_count": 241,
   "metadata": {},
   "outputs": [
    {
     "name": "stdout",
     "output_type": "stream",
     "text": [
      "\tmineral: 0.2, plant: 0.475, petroleum: 0.058333333333333334, animal: 0.26666666666666666\n"
     ]
    }
   ],
   "source": [
    "# Fractions making up the subtance\n",
    "print(f'\\tmineral: {mi}, plant: {pl}, petroleum: {pe}, animal: {an}')"
   ]
  },
  {
   "cell_type": "code",
   "execution_count": 217,
   "metadata": {},
   "outputs": [
    {
     "data": {
      "text/plain": [
       "1.01"
      ]
     },
     "execution_count": 217,
     "metadata": {},
     "output_type": "execute_result"
    }
   ],
   "source": [
    "0.2+0.48+0.06+.27  # very close to 1."
   ]
  },
  {
   "cell_type": "code",
   "execution_count": null,
   "metadata": {},
   "outputs": [],
   "source": []
  },
  {
   "cell_type": "code",
   "execution_count": 218,
   "metadata": {},
   "outputs": [],
   "source": [
    "# Now, develop weighting for safety:"
   ]
  },
  {
   "cell_type": "code",
   "execution_count": 219,
   "metadata": {},
   "outputs": [
    {
     "data": {
      "text/plain": [
       "[1.0, 1.0, 1.5, 1.0, 1.0, 2.0, 1.0, 1.0, 1.0, 1.0, 1.0, 1.0, 1.0, 1.0, 3.0]"
      ]
     },
     "execution_count": 219,
     "metadata": {},
     "output_type": "execute_result"
    }
   ],
   "source": [
    "[d['mean_score'] for d in detected_ings_dict_list]"
   ]
  },
  {
   "cell_type": "code",
   "execution_count": 225,
   "metadata": {},
   "outputs": [
    {
     "data": {
      "text/plain": [
       "1.1541666666666666"
      ]
     },
     "execution_count": 225,
     "metadata": {},
     "output_type": "execute_result"
    }
   ],
   "source": [
    "score = 0\n",
    "for elem in zip([d['mean_score'] for d in detected_ings_dict_list], ing_fractions):\n",
    "    score += elem[0]*elem[1]\n",
    "score"
   ]
  },
  {
   "cell_type": "code",
   "execution_count": 242,
   "metadata": {},
   "outputs": [
    {
     "data": {
      "text/plain": [
       "10.0"
      ]
     },
     "execution_count": 242,
     "metadata": {},
     "output_type": "execute_result"
    }
   ],
   "source": [
    "round(score, 1)"
   ]
  },
  {
   "cell_type": "code",
   "execution_count": null,
   "metadata": {},
   "outputs": [],
   "source": []
  },
  {
   "cell_type": "code",
   "execution_count": null,
   "metadata": {},
   "outputs": [],
   "source": [
    "# Okay, let's finish putting this into the script, then get back to testing the ingredient model"
   ]
  },
  {
   "cell_type": "code",
   "execution_count": 243,
   "metadata": {},
   "outputs": [],
   "source": [
    "# Let's reimport and try the two scripts, going from text -> ingredients"
   ]
  },
  {
   "cell_type": "markdown",
   "metadata": {},
   "source": [
    "# Testing Script, text to parsed info"
   ]
  },
  {
   "cell_type": "code",
   "execution_count": 273,
   "metadata": {},
   "outputs": [],
   "source": [
    "from parsing import *  # only importing all for testing!  # text_only_main"
   ]
  },
  {
   "cell_type": "code",
   "execution_count": 274,
   "metadata": {},
   "outputs": [],
   "source": [
    "# Using test string:\n",
    "test_str = ' water/aqua, aloe vera barbadensis leaf juice, cetearyl olivate, sorbitan olivate, \\\n",
    "glycerin, helianthus annuus (sunflower) seed oil, carthamus tinctorius (safflower) seed oil, \\\n",
    "glyceryl laurate, cocoglycerides, glyceryl stearate se, colloidal oatmeal,\\\n",
    "limnanthes alba (meadowfoam) seed oil. theobroma cacao (cocoa) seed butter, \\\n",
    "hippophae rhamnoides (seabuckthorn) seed oil, olea europaea  (olive) fruit oil, \\\n",
    "squalane, xanthan gum, tocopherol  sodium levulinate, potassium sorbate. 7 a sa'"
   ]
  },
  {
   "cell_type": "code",
   "execution_count": 275,
   "metadata": {},
   "outputs": [
    {
     "name": "stdout",
     "output_type": "stream",
     "text": [
      "cleaned_ings_list: ['aloe vera barbadensis leaf juice', 'cetearyl olivate', 'sorbitan olivate', 'glycerin', 'helianthus annuus (sunflower) seed oil', 'carthamus tinctorius (safflower) seed oil', 'glyceryl laurate', 'cocoglycerides', 'glyceryl stearate se', 'colloidal oatmeal', 'limnanthes alba (meadowfoam) seed oil', 'theobroma cacao (cocoa) seed butter', 'hippophae rhamnoides (seabuckthorn) seed oil', 'olea europaea (olive) fruit oil', 'squalane', 'xanthan gum', 'tocopherol sodium levulinate', 'potassium sorbate', '7 a sa']\n",
      "\n",
      "Working on ingredient: aloe vera barbadensis leaf juice\n",
      "Working on ingredient: cetearyl olivate\n",
      "[]\n",
      "WARNING: cetearyl olivate does not return a valid wiki page! Setting to None.\n",
      "plant_document_vector\n",
      "1.0067910980433226\n",
      "animal_document_vector\n",
      "1.0030499820131809\n",
      "mineral_docuent_vector\n",
      "1.0004171206091996\n",
      "Working on ingredient: sorbitan olivate\n",
      "[]\n",
      "WARNING: sorbitan olivate does not return a valid wiki page! Setting to None.\n",
      "plant_document_vector\n",
      "0.9995803291967604\n",
      "animal_document_vector\n",
      "0.9994856141856872\n",
      "mineral_docuent_vector\n",
      "1.0011053978232667\n",
      "Working on ingredient: glycerin\n",
      "plant_document_vector\n",
      "0.9976872634142637\n",
      "animal_document_vector\n",
      "0.9974561813287437\n",
      "mineral_docuent_vector\n",
      "1.0001104018083424\n",
      "Working on ingredient: helianthus annuus (sunflower) seed oil\n",
      "['Sunflower oil', 'Helianthus annuus', 'Sunflower seed', 'Perennial sunflower', 'Baby oil', 'Sunflower (disambiguation)', 'Asteraceae', 'Helianthus anomalus', 'Oil body', 'Asteroideae']\n",
      "plant_document_vector\n",
      "1.0138608803972602\n",
      "animal_document_vector\n",
      "1.0083228070288897\n",
      "mineral_docuent_vector\n",
      "1.0085729826241732\n",
      "Working on ingredient: carthamus tinctorius (safflower) seed oil\n",
      "plant_document_vector\n",
      "1.0103414850309491\n",
      "animal_document_vector\n",
      "1.0104590095579624\n",
      "mineral_docuent_vector\n",
      "1.011860566213727\n",
      "Working on ingredient: glyceryl laurate\n",
      "['Monolaurin', 'Lauric acid', 'List of additives in cigarettes']\n",
      "plant_document_vector\n",
      "1.0075856242328882\n",
      "animal_document_vector\n",
      "1.0051713101565838\n",
      "mineral_docuent_vector\n",
      "1.0059637185186148\n",
      "Working on ingredient: cocoglycerides\n",
      "[]\n",
      "WARNING: cocoglycerides does not return a valid wiki page! Setting to None.\n",
      "plant_document_vector\n",
      "1.0072087766602635\n",
      "animal_document_vector\n",
      "1.0069658043794334\n",
      "mineral_docuent_vector\n",
      "1.006650387775153\n",
      "Working on ingredient: glyceryl stearate se\n",
      "['Lypsyl']\n",
      "plant_document_vector\n",
      "1.0065107685513794\n",
      "animal_document_vector\n",
      "1.001738889142871\n",
      "mineral_docuent_vector\n",
      "1.001412900397554\n",
      "Working on ingredient: colloidal oatmeal\n",
      "['Avenanthramide', 'Shampoo', 'Natural skin care', 'Urushiol-induced contact dermatitis', 'Guar gum', 'Tofu', 'Glyphosate']\n",
      "plant_document_vector\n",
      "1.0132661275565624\n",
      "animal_document_vector\n",
      "1.009347327053547\n",
      "mineral_docuent_vector\n",
      "1.011351932771504\n",
      "Working on ingredient: limnanthes alba (meadowfoam) seed oil\n",
      "['Meadowfoam seed oil', 'Limnanthes alba', 'Limnanthes floccosa', 'Limnanthaceae']\n",
      "plant_document_vector\n",
      "1.0171244721859694\n",
      "animal_document_vector\n",
      "1.0107944421470165\n",
      "mineral_docuent_vector\n",
      "1.011867580935359\n",
      "Working on ingredient: theobroma cacao (cocoa) seed butter\n",
      "plant_document_vector\n",
      "1.004668414592743\n",
      "animal_document_vector\n",
      "1.0042247376404703\n",
      "mineral_docuent_vector\n",
      "1.005199066363275\n",
      "Working on ingredient: hippophae rhamnoides (seabuckthorn) seed oil\n",
      "Working on ingredient: olea europaea (olive) fruit oil\n",
      "['Olive oil', 'Olive', 'Olive leaf', 'Manzanilla olive', 'List of olive cultivars', 'International Nomenclature of Cosmetic Ingredients', 'Cailletier', 'Patrinia olive', 'Olive fruit fly', 'Ascolano (olive)']\n",
      "plant_document_vector\n",
      "1.0195234697312117\n",
      "animal_document_vector\n",
      "1.0144917014986277\n",
      "mineral_docuent_vector\n",
      "1.0150689985603094\n",
      "Working on ingredient: squalane\n",
      "['Squalane', 'Squalene', 'C30H62', 'Alkanindiges illinoisensis', 'Terpenoid', 'Terpene', 'Natural rubber', 'Monoterpene', 'Saponin', 'Carotenoid']\n",
      "plant_document_vector\n",
      "1.0097369700670242\n",
      "animal_document_vector\n",
      "1.0035625016316772\n",
      "mineral_docuent_vector\n",
      "1.0058586653321981\n",
      "Working on ingredient: xanthan gum\n",
      "['Xanthan gum', 'Guar gum', 'Natural gum', 'Stabiliser (food)', 'A.1. Sauce', 'Polysaccharide', 'Parodontax toothpaste', \"Trappey's Hot Sauce\", 'Leavening agent', 'Egg Beaters']\n",
      "plant_document_vector\n",
      "1.0147501369938254\n",
      "animal_document_vector\n",
      "1.0088661340996623\n",
      "mineral_docuent_vector\n",
      "1.0093364901840687\n",
      "Working on ingredient: tocopherol sodium levulinate\n",
      "Working on ingredient: potassium sorbate\n",
      "['Potassium sorbate', 'Sorbic acid', 'Sodium sorbate', 'Campden tablet', 'A.1. Sauce', 'Sodium benzoate', 'Sodium nitrite', 'Sunkist (soft drink)', 'Twizzlers', 'Sting Energy Drink']\n",
      "plant_document_vector\n",
      "1.0099299903959036\n",
      "animal_document_vector\n",
      "1.006630309857428\n",
      "mineral_docuent_vector\n",
      "1.0055404822342098\n",
      "Working on ingredient: 7 a sa\n"
     ]
    }
   ],
   "source": [
    "cleaned_ings_list, ings_dict_list = text_only_main(test_str, ings_dict, definitions_dict)"
   ]
  },
  {
   "cell_type": "code",
   "execution_count": 267,
   "metadata": {
    "collapsed": true,
    "jupyter": {
     "outputs_hidden": true
    }
   },
   "outputs": [
    {
     "name": "stderr",
     "output_type": "stream",
     "text": [
      "[autoreload of parsing failed: Traceback (most recent call last):\n",
      "  File \"/Users/emily/.local/share/virtualenvs/vegan_parser-ujjCMVkc/lib/python3.7/site-packages/IPython/extensions/autoreload.py\", line 245, in check\n",
      "    superreload(m, reload, self.old_objects)\n",
      "  File \"/Users/emily/.local/share/virtualenvs/vegan_parser-ujjCMVkc/lib/python3.7/site-packages/IPython/extensions/autoreload.py\", line 434, in superreload\n",
      "    module = reload(module)\n",
      "  File \"/Users/emily/.local/share/virtualenvs/vegan_parser-ujjCMVkc/lib/python3.7/imp.py\", line 314, in reload\n",
      "    return importlib.reload(module)\n",
      "  File \"/Users/emily/.local/share/virtualenvs/vegan_parser-ujjCMVkc/lib/python3.7/importlib/__init__.py\", line 169, in reload\n",
      "    _bootstrap._exec(spec, module)\n",
      "  File \"<frozen importlib._bootstrap>\", line 630, in _exec\n",
      "  File \"<frozen importlib._bootstrap_external>\", line 724, in exec_module\n",
      "  File \"<frozen importlib._bootstrap_external>\", line 860, in get_code\n",
      "  File \"<frozen importlib._bootstrap_external>\", line 791, in source_to_code\n",
      "  File \"<frozen importlib._bootstrap>\", line 219, in _call_with_frames_removed\n",
      "  File \"/Volumes/ja2/vegan/vegan_parser/parsing.py\", line 288\n",
      "    all_entries_with_status.append(ing_name + f' - {entry['type']}')\n",
      "                                                              ^\n",
      "SyntaxError: invalid syntax\n",
      "]\n"
     ]
    },
    {
     "data": {
      "text/plain": [
       "[None,\n",
       " {'data_availability': 'Limited',\n",
       "  'chemical_concerns': 'Use restrictions (low)',\n",
       "  'chemical_functions': 'hair conditioning agent and hair conditioning',\n",
       "  'chemical_about': 'cetearyl olivate is composed of cetearyl alcohol and fatty acids derived from olive oil.',\n",
       "  'min_score': 1,\n",
       "  'max_score': 1,\n",
       "  'mean_score': 1.0,\n",
       "  'ewg_vector': array([-0.24202943, -0.12898481,  0.05937789, ...,  0.04131439,\n",
       "         -0.13133238,  0.15680204], dtype=float32),\n",
       "  'wiki_vector': None,\n",
       "  'type': 'mineral'},\n",
       " {'data_availability': 'None',\n",
       "  'chemical_concerns': nan,\n",
       "  'chemical_functions': 'surfactant - emulsifying agent and emulsifying',\n",
       "  'chemical_about': 'sorbitan olivate is a surfactant based on olive oil and sorbitol.',\n",
       "  'min_score': 1,\n",
       "  'max_score': 1,\n",
       "  'mean_score': 1.0,\n",
       "  'ewg_vector': array([-0.11486603,  0.09641117, -0.3026547 , ...,  0.12410742,\n",
       "          0.07305592,  0.255868  ], dtype=float32),\n",
       "  'wiki_vector': None,\n",
       "  'type': 'animal'},\n",
       " {'data_availability': 'Good',\n",
       "  'chemical_concerns': 'Use restrictions (moderate)',\n",
       "  'chemical_functions': 'denaturant, fragrance ingredient, hair conditioning agent, humectant, oral care agent;oral health care drug, skin-conditioning agent - humectant, skin protectant, viscosity decreasing agent, perfuming, and solvent',\n",
       "  'chemical_about': \"glycerin (also called glycerol) is a naturally occurring alcohol compound and a component of many lipids. glycerin may be of animal or vegetable origin. this ingredient is listed in the peta's caring consumer guide as a byproduct of soap manufacture which typically uses animal fat.\",\n",
       "  'min_score': 1,\n",
       "  'max_score': 2,\n",
       "  'mean_score': 1.5,\n",
       "  'ewg_vector': array([ 0.11312754, -0.04119314, -0.00609429, ..., -0.02175807,\n",
       "         -0.31495023,  0.17520998], dtype=float32),\n",
       "  'wiki_vector': array([ 0.11312458, -0.31840393,  0.03406752, ...,  0.12885074,\n",
       "          0.00163399,  0.06867034], dtype=float32),\n",
       "  'type': 'plant'},\n",
       " {'data_availability': 'Fair',\n",
       "  'chemical_concerns': nan,\n",
       "  'chemical_functions': 'skin-conditioning agent - miscellaneous, skin-conditioning agent - occlusive, and emollient',\n",
       "  'chemical_about': 'sunflower oil is extracted from the seeds of the sunflower, helianthus annuus.',\n",
       "  'min_score': 1,\n",
       "  'max_score': 1,\n",
       "  'mean_score': 1.0,\n",
       "  'ewg_vector': array([-0.03461527,  0.03688585, -0.28428826, ...,  0.17339337,\n",
       "          0.0298152 ,  0.31319347], dtype=float32),\n",
       "  'wiki_vector': None,\n",
       "  'type': 'animal'},\n",
       " {'data_availability': 'Fair',\n",
       "  'chemical_concerns': nan,\n",
       "  'chemical_functions': 'fragrance ingredient, skin-conditioning agent - occlusive, masking, and skin conditioning',\n",
       "  'chemical_about': 'safflower seed oil is obtained from the plant carthamus tinctorius; this ingredietn consists primarily of the triglycerides of linoleic acid.',\n",
       "  'min_score': 1,\n",
       "  'max_score': 1,\n",
       "  'mean_score': 1.0,\n",
       "  'ewg_vector': array([-0.08642299,  0.11119551, -0.33391163, ...,  0.18161775,\n",
       "          0.04681484,  0.24557565], dtype=float32),\n",
       "  'wiki_vector': array([ 0.19988522, -0.304045  , -0.07855091, ...,  0.20508553,\n",
       "         -0.03268326,  0.07334486], dtype=float32),\n",
       "  'type': 'plant'},\n",
       " {'data_availability': 'Limited',\n",
       "  'chemical_concerns': 'Enhanced skin absorption, Use restrictions (moderate), and Contamination concerns (high)',\n",
       "  'chemical_functions': 'skin-conditioning agent - emollient, surfactant - emulsifying agent, emollient, and emulsifying',\n",
       "  'chemical_about': 'glyceryl laurate is a monoester of glycerin and lauric acid.',\n",
       "  'min_score': 1,\n",
       "  'max_score': 3,\n",
       "  'mean_score': 2.0,\n",
       "  'ewg_vector': array([-0.11728396,  0.12138695, -0.43217745, ...,  0.17317645,\n",
       "         -0.11130054,  0.32389805], dtype=float32),\n",
       "  'wiki_vector': None,\n",
       "  'type': 'plant'},\n",
       " {'data_availability': 'None',\n",
       "  'chemical_concerns': nan,\n",
       "  'chemical_functions': 'skin-conditioning agent - emollient, emollient, emulsifying, and skin conditioning',\n",
       "  'chemical_about': 'cocoglycerides is a mixture of mono, di and triglycerides derived from coconut oil.',\n",
       "  'min_score': 1,\n",
       "  'max_score': 1,\n",
       "  'mean_score': 1.0,\n",
       "  'ewg_vector': array([-0.09079739,  0.09300967, -0.3170644 , ...,  0.17587511,\n",
       "         -0.04513873,  0.30860862], dtype=float32),\n",
       "  'wiki_vector': None,\n",
       "  'type': 'mineral'},\n",
       " {'data_availability': 'Limited',\n",
       "  'chemical_concerns': nan,\n",
       "  'chemical_functions': 'surfactant - emulsifying agent and emulsifying',\n",
       "  'chemical_about': 'glyceryl stearate se (self-emulsifying) is a lipid used as surfactant and emulsifying agent.',\n",
       "  'min_score': 1,\n",
       "  'max_score': 1,\n",
       "  'mean_score': 1.0,\n",
       "  'ewg_vector': array([-0.04913396,  0.23998725, -0.39744613, ...,  0.15086761,\n",
       "         -0.02460883,  0.37635127], dtype=float32),\n",
       "  'wiki_vector': None,\n",
       "  'type': 'mineral'},\n",
       " {'data_availability': 'Robust',\n",
       "  'chemical_concerns': nan,\n",
       "  'chemical_functions': 'abrasive, absorbent, bulking agent, skin protectant, bulking, and skin protecting',\n",
       "  'chemical_about': 'colloidal oatmeal is finely ground oatmeal.',\n",
       "  'min_score': 1,\n",
       "  'max_score': 1,\n",
       "  'mean_score': 1.0,\n",
       "  'ewg_vector': array([ 0.02131186, -0.01523963, -0.32530206, ...,  0.00209128,\n",
       "          0.00214805,  0.37837115], dtype=float32),\n",
       "  'wiki_vector': None,\n",
       "  'type': 'plant'},\n",
       " {'data_availability': 'Limited',\n",
       "  'chemical_concerns': nan,\n",
       "  'chemical_functions': 'skin-conditioning agent - occlusive, deodorant, and emollient',\n",
       "  'chemical_about': 'oil extracted from the seeds of the meadowfoam plant, limnanthes alba.',\n",
       "  'min_score': 1,\n",
       "  'max_score': 1,\n",
       "  'mean_score': 1.0,\n",
       "  'ewg_vector': array([ 0.03604814,  0.03055456, -0.32432958, ...,  0.19831163,\n",
       "         -0.00377641,  0.20073126], dtype=float32),\n",
       "  'wiki_vector': None,\n",
       "  'type': 'animal'},\n",
       " {'data_availability': 'Limited',\n",
       "  'chemical_concerns': nan,\n",
       "  'chemical_functions': 'fragrance ingredient, skin-conditioning agent - occlusive, skin protectant, emollient, masking, skin conditioning, and skin protecting',\n",
       "  'chemical_about': 'cocoa butter is extracted from the roasted seeds of theobroma cacao, a tree native to the americas.',\n",
       "  'min_score': 1,\n",
       "  'max_score': 1,\n",
       "  'mean_score': 1.0,\n",
       "  'ewg_vector': array([ 0.0268233 ,  0.07063577, -0.25438127, ...,  0.20279731,\n",
       "          0.0526951 ,  0.22054093], dtype=float32),\n",
       "  'wiki_vector': array([ 0.19957474, -0.22283481, -0.02388698, ...,  0.16801205,\n",
       "          0.04028833,  0.09521379], dtype=float32),\n",
       "  'type': 'plant'},\n",
       " None,\n",
       " {'data_availability': 'Fair',\n",
       "  'chemical_concerns': nan,\n",
       "  'chemical_functions': 'fragrance ingredient, skin-conditioning agent - occlusive, and perfuming',\n",
       "  'chemical_about': 'olive oil is extracted from the reipe fruit of olive tree, olea europaea.',\n",
       "  'min_score': 1,\n",
       "  'max_score': 1,\n",
       "  'mean_score': 1.0,\n",
       "  'ewg_vector': array([-0.01127945,  0.02282245, -0.23340821, ...,  0.14774302,\n",
       "         -0.01506328,  0.256834  ], dtype=float32),\n",
       "  'wiki_vector': None,\n",
       "  'type': 'plant'},\n",
       " {'data_availability': 'Limited',\n",
       "  'chemical_concerns': nan,\n",
       "  'chemical_functions': 'hair conditioning agent, skin-conditioning agent - occlusive, emollient, hair conditioning, refatting, and skin conditioning',\n",
       "  'chemical_about': \"squalane is a naturally occuring lipid in both plants and animals. this ingredient is listed in the peta's caring consumer guide as primarily derived from animals, especially shark liver oil.\",\n",
       "  'min_score': 1,\n",
       "  'max_score': 1,\n",
       "  'mean_score': 1.0,\n",
       "  'ewg_vector': array([-0.06197335,  0.0840513 , -0.2024289 , ...,  0.00806192,\n",
       "          0.01378899,  0.17287225], dtype=float32),\n",
       "  'wiki_vector': None,\n",
       "  'type': 'animal'},\n",
       " {'data_availability': 'Fair',\n",
       "  'chemical_concerns': nan,\n",
       "  'chemical_functions': 'binder, emulsion stabilizer, skin-conditioning agent - miscellaneous, surfactant -emulsifying agent, viscosity increasing agent - aqueous, binding, emulsifying, emulsion stabilising, gel forming, skin conditioning, surfactant, and viscosity controlling',\n",
       "  'chemical_about': 'xanthan gum is a polysaccharide, a sugar-based polymer produced by bacteria; it is used as a viscosity agent in personal care products and foods.',\n",
       "  'min_score': 1,\n",
       "  'max_score': 1,\n",
       "  'mean_score': 1.0,\n",
       "  'ewg_vector': array([-0.16681424,  0.18034369, -0.27587283, ...,  0.17058697,\n",
       "          0.09762073,  0.24223739], dtype=float32),\n",
       "  'wiki_vector': None,\n",
       "  'type': 'animal'},\n",
       " None,\n",
       " {'data_availability': 'Limited',\n",
       "  'chemical_concerns': 'Non-reproductive organ system toxicity (low)',\n",
       "  'chemical_functions': 'fragrance ingredient and preservative',\n",
       "  'chemical_about': 'potassium sorbate is a potassium salt of sorbic acid, a naturally occuringantimicrobial compound; used as a preservative',\n",
       "  'min_score': 3,\n",
       "  'max_score': 3,\n",
       "  'mean_score': 3.0,\n",
       "  'ewg_vector': array([-0.08710599,  0.14269969, -0.28060037, ...,  0.15538   ,\n",
       "         -0.02165867,  0.2612045 ], dtype=float32),\n",
       "  'wiki_vector': None,\n",
       "  'type': 'plant'},\n",
       " None]"
      ]
     },
     "execution_count": 267,
     "metadata": {},
     "output_type": "execute_result"
    }
   ],
   "source": [
    "ings_dict_list"
   ]
  },
  {
   "cell_type": "code",
   "execution_count": 276,
   "metadata": {},
   "outputs": [
    {
     "name": "stdout",
     "output_type": "stream",
     "text": [
      "\n",
      "---Compiled Results----\n",
      "Info found for 15 of 19 detected ingredients.\n",
      "Ingredients detected:\n",
      "\taloe vera barbadensis leaf juice - not found in database!\n",
      "\tcetearyl olivate - estimated mineral\n",
      "\tsorbitan olivate - estimated animal\n",
      "\tglycerin - estimated animal\n",
      "\thelianthus annuus (sunflower) seed oil - estimated animal\n",
      "\tcarthamus tinctorius (safflower) seed oil - estimated plant\n",
      "\tglyceryl laurate - estimated animal\n",
      "\tcocoglycerides - estimated mineral\n",
      "\tglyceryl stearate se - estimated mineral\n",
      "\tcolloidal oatmeal - estimated animal\n",
      "\tlimnanthes alba (meadowfoam) seed oil - estimated animal\n",
      "\ttheobroma cacao (cocoa) seed butter - estimated animal\n",
      "\thippophae rhamnoides (seabuckthorn) seed oil - not found in database!\n",
      "\tolea europaea (olive) fruit oil - estimated animal\n",
      "\tsqualane - estimated animal\n",
      "\txanthan gum - estimated animal\n",
      "\ttocopherol sodium levulinate - not found in database!\n",
      "\tpotassium sorbate - estimated mineral\n",
      "\t7 a sa - not found in database!\n",
      "\n",
      "Estimated composition:\n",
      "\tmineral: 27.5%, plant: 9.2%, petroleum: 0%, animal: 63.3%\n",
      "Estimated Safety Score:\n",
      "\t1.2\n"
     ]
    }
   ],
   "source": [
    "compile_detected_results(cleaned_ings_list, ings_dict_list)"
   ]
  },
  {
   "cell_type": "code",
   "execution_count": null,
   "metadata": {},
   "outputs": [],
   "source": []
  },
  {
   "cell_type": "code",
   "execution_count": 252,
   "metadata": {
    "collapsed": true,
    "jupyter": {
     "outputs_hidden": true
    }
   },
   "outputs": [
    {
     "data": {
      "text/plain": [
       "[None,\n",
       " {'data_availability': 'Limited',\n",
       "  'chemical_concerns': 'Use restrictions (low)',\n",
       "  'chemical_functions': 'hair conditioning agent and hair conditioning',\n",
       "  'chemical_about': 'cetearyl olivate is composed of cetearyl alcohol and fatty acids derived from olive oil.',\n",
       "  'min_score': 1,\n",
       "  'max_score': 1,\n",
       "  'mean_score': 1.0,\n",
       "  'ewg_vector': array([-0.24202943, -0.12898481,  0.05937789, ...,  0.04131439,\n",
       "         -0.13133238,  0.15680204], dtype=float32),\n",
       "  'wiki_vector': None,\n",
       "  'type': 'mineral'},\n",
       " {'data_availability': 'None',\n",
       "  'chemical_concerns': nan,\n",
       "  'chemical_functions': 'surfactant - emulsifying agent and emulsifying',\n",
       "  'chemical_about': 'sorbitan olivate is a surfactant based on olive oil and sorbitol.',\n",
       "  'min_score': 1,\n",
       "  'max_score': 1,\n",
       "  'mean_score': 1.0,\n",
       "  'ewg_vector': array([-0.11486603,  0.09641117, -0.3026547 , ...,  0.12410742,\n",
       "          0.07305592,  0.255868  ], dtype=float32),\n",
       "  'wiki_vector': None,\n",
       "  'type': 'animal'},\n",
       " {'data_availability': 'Good',\n",
       "  'chemical_concerns': 'Use restrictions (moderate)',\n",
       "  'chemical_functions': 'denaturant, fragrance ingredient, hair conditioning agent, humectant, oral care agent;oral health care drug, skin-conditioning agent - humectant, skin protectant, viscosity decreasing agent, perfuming, and solvent',\n",
       "  'chemical_about': \"glycerin (also called glycerol) is a naturally occurring alcohol compound and a component of many lipids. glycerin may be of animal or vegetable origin. this ingredient is listed in the peta's caring consumer guide as a byproduct of soap manufacture which typically uses animal fat.\",\n",
       "  'min_score': 1,\n",
       "  'max_score': 2,\n",
       "  'mean_score': 1.5,\n",
       "  'ewg_vector': array([ 0.11312754, -0.04119314, -0.00609429, ..., -0.02175807,\n",
       "         -0.31495023,  0.17520998], dtype=float32),\n",
       "  'wiki_vector': array([-0.2059727 , -0.06744175, -0.18008903, ..., -0.04109388,\n",
       "         -0.18040113,  0.10834178], dtype=float32),\n",
       "  'type': 'animal'},\n",
       " {'data_availability': 'Fair',\n",
       "  'chemical_concerns': nan,\n",
       "  'chemical_functions': 'skin-conditioning agent - miscellaneous, skin-conditioning agent - occlusive, and emollient',\n",
       "  'chemical_about': 'sunflower oil is extracted from the seeds of the sunflower, helianthus annuus.',\n",
       "  'min_score': 1,\n",
       "  'max_score': 1,\n",
       "  'mean_score': 1.0,\n",
       "  'ewg_vector': array([-0.03461527,  0.03688585, -0.28428826, ...,  0.17339337,\n",
       "          0.0298152 ,  0.31319347], dtype=float32),\n",
       "  'wiki_vector': None,\n",
       "  'type': 'plant'},\n",
       " {'data_availability': 'Fair',\n",
       "  'chemical_concerns': nan,\n",
       "  'chemical_functions': 'fragrance ingredient, skin-conditioning agent - occlusive, masking, and skin conditioning',\n",
       "  'chemical_about': 'safflower seed oil is obtained from the plant carthamus tinctorius; this ingredietn consists primarily of the triglycerides of linoleic acid.',\n",
       "  'min_score': 1,\n",
       "  'max_score': 1,\n",
       "  'mean_score': 1.0,\n",
       "  'ewg_vector': array([-0.08642299,  0.11119551, -0.33391163, ...,  0.18161775,\n",
       "          0.04681484,  0.24557565], dtype=float32),\n",
       "  'wiki_vector': array([-0.21049207, -0.15386075, -0.10313506, ..., -0.10669831,\n",
       "         -0.22385104,  0.22075468], dtype=float32),\n",
       "  'type': 'plant'},\n",
       " {'data_availability': 'Limited',\n",
       "  'chemical_concerns': 'Enhanced skin absorption, Use restrictions (moderate), and Contamination concerns (high)',\n",
       "  'chemical_functions': 'skin-conditioning agent - emollient, surfactant - emulsifying agent, emollient, and emulsifying',\n",
       "  'chemical_about': 'glyceryl laurate is a monoester of glycerin and lauric acid.',\n",
       "  'min_score': 1,\n",
       "  'max_score': 3,\n",
       "  'mean_score': 2.0,\n",
       "  'ewg_vector': array([-0.11728396,  0.12138695, -0.43217745, ...,  0.17317645,\n",
       "         -0.11130054,  0.32389805], dtype=float32),\n",
       "  'wiki_vector': None,\n",
       "  'type': 'plant'},\n",
       " {'data_availability': 'None',\n",
       "  'chemical_concerns': nan,\n",
       "  'chemical_functions': 'skin-conditioning agent - emollient, emollient, emulsifying, and skin conditioning',\n",
       "  'chemical_about': 'cocoglycerides is a mixture of mono, di and triglycerides derived from coconut oil.',\n",
       "  'min_score': 1,\n",
       "  'max_score': 1,\n",
       "  'mean_score': 1.0,\n",
       "  'ewg_vector': array([-0.09079739,  0.09300967, -0.3170644 , ...,  0.17587511,\n",
       "         -0.04513873,  0.30860862], dtype=float32),\n",
       "  'wiki_vector': None,\n",
       "  'type': 'mineral'},\n",
       " {'data_availability': 'Limited',\n",
       "  'chemical_concerns': nan,\n",
       "  'chemical_functions': 'surfactant - emulsifying agent and emulsifying',\n",
       "  'chemical_about': 'glyceryl stearate se (self-emulsifying) is a lipid used as surfactant and emulsifying agent.',\n",
       "  'min_score': 1,\n",
       "  'max_score': 1,\n",
       "  'mean_score': 1.0,\n",
       "  'ewg_vector': array([-0.04913396,  0.23998725, -0.39744613, ...,  0.15086761,\n",
       "         -0.02460883,  0.37635127], dtype=float32),\n",
       "  'wiki_vector': None,\n",
       "  'type': 'plant'},\n",
       " {'data_availability': 'Robust',\n",
       "  'chemical_concerns': nan,\n",
       "  'chemical_functions': 'abrasive, absorbent, bulking agent, skin protectant, bulking, and skin protecting',\n",
       "  'chemical_about': 'colloidal oatmeal is finely ground oatmeal.',\n",
       "  'min_score': 1,\n",
       "  'max_score': 1,\n",
       "  'mean_score': 1.0,\n",
       "  'ewg_vector': array([ 0.02131186, -0.01523963, -0.32530206, ...,  0.00209128,\n",
       "          0.00214805,  0.37837115], dtype=float32),\n",
       "  'wiki_vector': None,\n",
       "  'type': 'petroleum'},\n",
       " {'data_availability': 'Limited',\n",
       "  'chemical_concerns': nan,\n",
       "  'chemical_functions': 'skin-conditioning agent - occlusive, deodorant, and emollient',\n",
       "  'chemical_about': 'oil extracted from the seeds of the meadowfoam plant, limnanthes alba.',\n",
       "  'min_score': 1,\n",
       "  'max_score': 1,\n",
       "  'mean_score': 1.0,\n",
       "  'ewg_vector': array([ 0.03604814,  0.03055456, -0.32432958, ...,  0.19831163,\n",
       "         -0.00377641,  0.20073126], dtype=float32),\n",
       "  'wiki_vector': None,\n",
       "  'type': 'plant'},\n",
       " {'data_availability': 'Limited',\n",
       "  'chemical_concerns': nan,\n",
       "  'chemical_functions': 'fragrance ingredient, skin-conditioning agent - occlusive, skin protectant, emollient, masking, skin conditioning, and skin protecting',\n",
       "  'chemical_about': 'cocoa butter is extracted from the roasted seeds of theobroma cacao, a tree native to the americas.',\n",
       "  'min_score': 1,\n",
       "  'max_score': 1,\n",
       "  'mean_score': 1.0,\n",
       "  'ewg_vector': array([ 0.0268233 ,  0.07063577, -0.25438127, ...,  0.20279731,\n",
       "          0.0526951 ,  0.22054093], dtype=float32),\n",
       "  'wiki_vector': array([-0.21343675,  0.04172613, -0.13525066, ..., -0.11307299,\n",
       "         -0.20820472,  0.2880932 ], dtype=float32),\n",
       "  'type': 'animal'},\n",
       " None,\n",
       " {'data_availability': 'Fair',\n",
       "  'chemical_concerns': nan,\n",
       "  'chemical_functions': 'fragrance ingredient, skin-conditioning agent - occlusive, and perfuming',\n",
       "  'chemical_about': 'olive oil is extracted from the reipe fruit of olive tree, olea europaea.',\n",
       "  'min_score': 1,\n",
       "  'max_score': 1,\n",
       "  'mean_score': 1.0,\n",
       "  'ewg_vector': array([-0.01127945,  0.02282245, -0.23340821, ...,  0.14774302,\n",
       "         -0.01506328,  0.256834  ], dtype=float32),\n",
       "  'wiki_vector': None,\n",
       "  'type': 'plant'},\n",
       " {'data_availability': 'Limited',\n",
       "  'chemical_concerns': nan,\n",
       "  'chemical_functions': 'hair conditioning agent, skin-conditioning agent - occlusive, emollient, hair conditioning, refatting, and skin conditioning',\n",
       "  'chemical_about': \"squalane is a naturally occuring lipid in both plants and animals. this ingredient is listed in the peta's caring consumer guide as primarily derived from animals, especially shark liver oil.\",\n",
       "  'min_score': 1,\n",
       "  'max_score': 1,\n",
       "  'mean_score': 1.0,\n",
       "  'ewg_vector': array([-0.06197335,  0.0840513 , -0.2024289 , ...,  0.00806192,\n",
       "          0.01378899,  0.17287225], dtype=float32),\n",
       "  'wiki_vector': None,\n",
       "  'type': 'plant'},\n",
       " {'data_availability': 'Fair',\n",
       "  'chemical_concerns': nan,\n",
       "  'chemical_functions': 'binder, emulsion stabilizer, skin-conditioning agent - miscellaneous, surfactant -emulsifying agent, viscosity increasing agent - aqueous, binding, emulsifying, emulsion stabilising, gel forming, skin conditioning, surfactant, and viscosity controlling',\n",
       "  'chemical_about': 'xanthan gum is a polysaccharide, a sugar-based polymer produced by bacteria; it is used as a viscosity agent in personal care products and foods.',\n",
       "  'min_score': 1,\n",
       "  'max_score': 1,\n",
       "  'mean_score': 1.0,\n",
       "  'ewg_vector': array([-0.16681424,  0.18034369, -0.27587283, ...,  0.17058697,\n",
       "          0.09762073,  0.24223739], dtype=float32),\n",
       "  'wiki_vector': None},\n",
       " None,\n",
       " {'data_availability': 'Limited',\n",
       "  'chemical_concerns': 'Non-reproductive organ system toxicity (low)',\n",
       "  'chemical_functions': 'fragrance ingredient and preservative',\n",
       "  'chemical_about': 'potassium sorbate is a potassium salt of sorbic acid, a naturally occuringantimicrobial compound; used as a preservative',\n",
       "  'min_score': 3,\n",
       "  'max_score': 3,\n",
       "  'mean_score': 3.0,\n",
       "  'ewg_vector': array([-0.08710599,  0.14269969, -0.28060037, ...,  0.15538   ,\n",
       "         -0.02165867,  0.2612045 ], dtype=float32),\n",
       "  'wiki_vector': None},\n",
       " None]"
      ]
     },
     "execution_count": 252,
     "metadata": {},
     "output_type": "execute_result"
    }
   ],
   "source": [
    "ings_dict_list"
   ]
  },
  {
   "cell_type": "code",
   "execution_count": 279,
   "metadata": {},
   "outputs": [
    {
     "data": {
      "text/plain": [
       "['water',\n",
       " 'aqua',\n",
       " 'deionized water',\n",
       " 'distilled water',\n",
       " 'onsen-sui',\n",
       " 'purified water',\n",
       " 'fragrance',\n",
       " 'aroma',\n",
       " 'parfum',\n",
       " 'glycerin']"
      ]
     },
     "execution_count": 279,
     "metadata": {},
     "output_type": "execute_result"
    }
   ],
   "source": [
    "list(ings_dict.keys())[:10]"
   ]
  },
  {
   "cell_type": "code",
   "execution_count": 286,
   "metadata": {},
   "outputs": [
    {
     "data": {
      "text/plain": [
       "'lactobacillus/aloe barbadensis ferment filtrate, aloe andongensis extract, aloe extract, aloe, extract of aloe andongensis, aloe yohju matsu ekisu, aloesin, aloe barbadensis (aloe vera) butter, aloe barbadensis butter, aloe vera butter, aloe barbadensis distillate, aloe barbadensis (aloe vera) concentrated, aloe barbadensis concentrated, aloe vera concentrated, aloe barbadensis leaf polysaccharides, aloe barbadensis (aloe vera) leaf juice powder, aloe barbadensis leaf juice powder, aloe ferox leaf juice powder, aloe vera leaf juice powder, aloe barbadensis (aloe vera) gel, aloe barbadensis gel, aloe barbadensis leaf juice, aloe gel, aloe juice, aloe vera gel, aloe barbadensis (aloe vera) leaf extract, aloe barbadensis leaf extract, aloe leaves extract, aloe vera leaf extract, barbados aloe extract, curacao aloe extract, extract of aloe, extract of aloe barbadensis, extract of aloe leaves, aloe barbadensis (aloe vera) leaf juice extract, aloe barbadensis leaf juice extract, aloe vera leaf juice extract, aloe arborescens leaf extract, caraloe snow & sun lip balm, aloe barbadensis (aloe vera) oil, aloe barbadensis oil, aloe vera oil, aloe barbadensis (aloe vera) leaf gel, aloe barbadensis leaf gel, aloe vera leaf gel, aloe barbadensis (aloe vera) extract, aloe barbadensis (aloe vera) juice, aloe barbadensis juice, aloe vera juice, aloe barbadensis (aloe vera) powder, aloe barbadensis leaf powder, aloe barbadensis powder, aloe vera powder, aloe barbadensis (aloe vera), aloe barbadensis, aloe barbadensis leaf, aloe extract (aloe spp.), aloe leaf powder, aloe vera, aloe maculata leaf extract, aloe barbadensis (aloe vera) leaf water, aloe barbadensis leaf water, aloe vera leaf water, aloe ferox (cape aloe) leaf extract, aloe ferox extract, aloe ferox leaf extract, aloe ferox, cape aloe leaf extract, extract of aloe ferox, aloe barbadensis (aloe vera) flower extract, aloe barbadensis extract, aloe barbadensis flower extract, aloe flower extract, aloe flowers extract, aloe vera flower extract, extract of aloe barbadensis flower, extract of aloe flowers, aloe barbadensis (aloe vera) juice extract, aloe barbadensis juice extract, aloe vera juice extract'"
      ]
     },
     "execution_count": 286,
     "metadata": {},
     "output_type": "execute_result"
    }
   ],
   "source": [
    "', '.join([key for key in ings_dict.keys() if 'aloe' in str(key)])"
   ]
  },
  {
   "cell_type": "code",
   "execution_count": 287,
   "metadata": {},
   "outputs": [
    {
     "data": {
      "text/plain": [
       "['lactobacillus/aloe barbadensis ferment filtrate',\n",
       " 'aloe andongensis extract',\n",
       " 'aloe extract',\n",
       " 'aloe',\n",
       " 'extract of aloe andongensis',\n",
       " 'aloe yohju matsu ekisu',\n",
       " 'aloesin',\n",
       " 'aloe barbadensis (aloe vera) butter',\n",
       " 'aloe barbadensis butter',\n",
       " 'aloe vera butter',\n",
       " 'aloe barbadensis distillate',\n",
       " 'aloe barbadensis (aloe vera) concentrated',\n",
       " 'aloe barbadensis concentrated',\n",
       " 'aloe vera concentrated',\n",
       " 'aloe barbadensis leaf polysaccharides',\n",
       " 'aloe barbadensis (aloe vera) leaf juice powder',\n",
       " 'aloe barbadensis leaf juice powder',\n",
       " 'aloe ferox leaf juice powder',\n",
       " 'aloe vera leaf juice powder',\n",
       " 'aloe barbadensis (aloe vera) gel',\n",
       " 'aloe barbadensis gel',\n",
       " 'aloe barbadensis leaf juice',\n",
       " 'aloe gel',\n",
       " 'aloe juice',\n",
       " 'aloe vera gel',\n",
       " 'aloe barbadensis (aloe vera) leaf extract',\n",
       " 'aloe barbadensis leaf extract',\n",
       " 'aloe leaves extract',\n",
       " 'aloe vera leaf extract',\n",
       " 'barbados aloe extract',\n",
       " 'curacao aloe extract',\n",
       " 'extract of aloe',\n",
       " 'extract of aloe barbadensis',\n",
       " 'extract of aloe leaves',\n",
       " 'aloe barbadensis (aloe vera) leaf juice extract',\n",
       " 'aloe barbadensis leaf juice extract',\n",
       " 'aloe vera leaf juice extract',\n",
       " 'aloe arborescens leaf extract',\n",
       " 'caraloe snow & sun lip balm',\n",
       " 'aloe barbadensis (aloe vera) oil',\n",
       " 'aloe barbadensis oil',\n",
       " 'aloe vera oil',\n",
       " 'aloe barbadensis (aloe vera) leaf gel',\n",
       " 'aloe barbadensis leaf gel',\n",
       " 'aloe vera leaf gel',\n",
       " 'aloe barbadensis (aloe vera) extract',\n",
       " 'aloe barbadensis (aloe vera) juice',\n",
       " 'aloe barbadensis juice',\n",
       " 'aloe vera juice',\n",
       " 'aloe barbadensis (aloe vera) powder',\n",
       " 'aloe barbadensis leaf powder',\n",
       " 'aloe barbadensis powder',\n",
       " 'aloe vera powder',\n",
       " 'aloe barbadensis (aloe vera)',\n",
       " 'aloe barbadensis',\n",
       " 'aloe barbadensis leaf',\n",
       " 'aloe extract (aloe spp.)',\n",
       " 'aloe leaf powder',\n",
       " 'aloe vera',\n",
       " 'aloe maculata leaf extract',\n",
       " 'aloe barbadensis (aloe vera) leaf water',\n",
       " 'aloe barbadensis leaf water',\n",
       " 'aloe vera leaf water',\n",
       " 'aloe ferox (cape aloe) leaf extract',\n",
       " 'aloe ferox extract',\n",
       " 'aloe ferox leaf extract',\n",
       " 'aloe ferox',\n",
       " 'cape aloe leaf extract',\n",
       " 'extract of aloe ferox',\n",
       " 'aloe barbadensis (aloe vera) flower extract',\n",
       " 'aloe barbadensis extract',\n",
       " 'aloe barbadensis flower extract',\n",
       " 'aloe flower extract',\n",
       " 'aloe flowers extract',\n",
       " 'aloe vera flower extract',\n",
       " 'extract of aloe barbadensis flower',\n",
       " 'extract of aloe flowers',\n",
       " 'aloe barbadensis (aloe vera) juice extract',\n",
       " 'aloe barbadensis juice extract',\n",
       " 'aloe vera juice extract']"
      ]
     },
     "execution_count": 287,
     "metadata": {},
     "output_type": "execute_result"
    }
   ],
   "source": [
    "[key for key in ings_dict.keys() if 'aloe' in str(key)]"
   ]
  },
  {
   "cell_type": "code",
   "execution_count": null,
   "metadata": {},
   "outputs": [],
   "source": []
  }
 ],
 "metadata": {
  "kernelspec": {
   "display_name": "vegan_parser",
   "language": "python",
   "name": "vegan_parser"
  },
  "language_info": {
   "codemirror_mode": {
    "name": "ipython",
    "version": 3
   },
   "file_extension": ".py",
   "mimetype": "text/x-python",
   "name": "python",
   "nbconvert_exporter": "python",
   "pygments_lexer": "ipython3",
   "version": "3.7.4"
  }
 },
 "nbformat": 4,
 "nbformat_minor": 4
}
